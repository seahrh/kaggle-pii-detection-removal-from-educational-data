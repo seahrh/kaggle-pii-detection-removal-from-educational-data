{
 "cells": [
  {
   "cell_type": "code",
   "execution_count": 10,
   "id": "7b4d1d55",
   "metadata": {},
   "outputs": [
    {
     "name": "stdout",
     "output_type": "stream",
     "text": [
      "accelerate=0.29.2, bitsandbytes=0.43.1\n"
     ]
    }
   ],
   "source": [
    "from pathlib import Path\n",
    "import os\n",
    "import sys\n",
    "import gc\n",
    "import shutil\n",
    "import json\n",
    "import math\n",
    "from collections import defaultdict\n",
    "import numpy as np\n",
    "import pandas as pd\n",
    "import bitsandbytes\n",
    "import accelerate\n",
    "import torch\n",
    "from torch.utils.data import Dataset, DataLoader\n",
    "from transformers import AutoTokenizer, AutoModelForCausalLM, BitsAndBytesConfig\n",
    "from tqdm import tqdm\n",
    "import matplotlib.pyplot as plt\n",
    "from typing import Dict, List, Tuple, NamedTuple, Callable, Iterable, Set, Optional, Any\n",
    "import scml\n",
    "from mylib.datageneration import Prompter\n",
    "print(f\"accelerate={accelerate.__version__}, bitsandbytes={bitsandbytes.__version__}\")"
   ]
  },
  {
   "cell_type": "code",
   "execution_count": 2,
   "id": "e197c9ae",
   "metadata": {},
   "outputs": [
    {
     "name": "stdout",
     "output_type": "stream",
     "text": [
      "device=0, NVIDIA GeForce RTX 4070 Ti SUPER\n",
      "Mem Allocated: 0.0 GB\n",
      "Mem Cached:    0.0 GB\n",
      "device=1, NVIDIA GeForce RTX 4070 Ti SUPER\n",
      "Mem Allocated: 0.0 GB\n",
      "Mem Cached:    0.0 GB\n"
     ]
    }
   ],
   "source": [
    "tim = scml.Timer()\n",
    "tim.start()\n",
    "percentiles=[.01, .05, .1, .2, .3, .4, .5, .6, .7, .8, .9, .95, .99]\n",
    "os.environ[\"TOKENIZERS_PARALLELISM\"] = \"false\"\n",
    "pd.set_option(\"max_info_columns\", 9999)\n",
    "pd.set_option(\"display.max_columns\", 9999)\n",
    "pd.set_option(\"display.max_rows\", 9999)\n",
    "pd.set_option('max_colwidth', 9999)\n",
    "tqdm.pandas()\n",
    "device = torch.device(\"cpu\")\n",
    "if torch.cuda.is_available():\n",
    "    device = torch.device(\"cuda\")\n",
    "    for i in range(torch.cuda.device_count()):\n",
    "        print(f\"device={i}, {torch.cuda.get_device_name(i)}\")\n",
    "        print('Mem Allocated:', round(torch.cuda.memory_allocated(i)/1024**3,1), 'GB')\n",
    "        print('Mem Cached:   ', round(torch.cuda.memory_reserved(i)/1024**3,1), 'GB')\n",
    "else:\n",
    "    print(\"cpu\")"
   ]
  },
  {
   "cell_type": "code",
   "execution_count": 16,
   "id": "75a2772b",
   "metadata": {},
   "outputs": [],
   "source": [
    "target_size = 100\n",
    "model_dir = Path(\"/mnt/c/huggingface/mistralai/Mixtral-8x7B-Instruct-v0.1\")"
   ]
  },
  {
   "cell_type": "code",
   "execution_count": 4,
   "id": "17d5b87a",
   "metadata": {},
   "outputs": [
    {
     "name": "stdout",
     "output_type": "stream",
     "text": [
      "LlamaTokenizerFast(name_or_path='/mnt/c/huggingface/mistralai/Mixtral-8x7B-Instruct-v0.1', vocab_size=32000, model_max_length=4096, is_fast=True, padding_side='left', truncation_side='right', special_tokens={'bos_token': '<s>', 'eos_token': '</s>', 'unk_token': '<unk>', 'pad_token': '</s>'}, clean_up_tokenization_spaces=False),  added_tokens_decoder={\n",
      "\t0: AddedToken(\"<unk>\", rstrip=False, lstrip=False, single_word=False, normalized=False, special=True),\n",
      "\t1: AddedToken(\"<s>\", rstrip=False, lstrip=False, single_word=False, normalized=False, special=True),\n",
      "\t2: AddedToken(\"</s>\", rstrip=False, lstrip=False, single_word=False, normalized=False, special=True),\n",
      "}\n",
      "model_input_names=['input_ids', 'attention_mask']\n",
      "pad_token_id=2\n"
     ]
    }
   ],
   "source": [
    "tokenizer = AutoTokenizer.from_pretrained(str(model_dir), model_max_length=4096)\n",
    "tokenizer.pad_token = tokenizer.eos_token\n",
    "print(f\"{repr(tokenizer)}\\nmodel_input_names={tokenizer.model_input_names}\")\n",
    "print(f\"pad_token_id={tokenizer.pad_token_id}\")"
   ]
  },
  {
   "cell_type": "code",
   "execution_count": 5,
   "id": "f6e82067",
   "metadata": {},
   "outputs": [
    {
     "data": {
      "application/vnd.jupyter.widget-view+json": {
       "model_id": "a75cd87c81eb4a9dbe57be0a44157afc",
       "version_major": 2,
       "version_minor": 0
      },
      "text/plain": [
       "Loading checkpoint shards:   0%|          | 0/19 [00:00<?, ?it/s]"
      ]
     },
     "metadata": {},
     "output_type": "display_data"
    },
    {
     "name": "stdout",
     "output_type": "stream",
     "text": [
      "CPU times: user 4min 4s, sys: 3min 45s, total: 7min 49s\n",
      "Wall time: 14min 2s\n"
     ]
    }
   ],
   "source": [
    "%%time\n",
    "quantization_config = BitsAndBytesConfig(\n",
    "    load_in_4bit=True,\n",
    "    bnb_4bit_quant_type=\"nf4\",\n",
    "    bnb_4bit_compute_dtype=torch.bfloat16,\n",
    "    bnb_4bit_use_double_quant=True,\n",
    ")\n",
    "model = AutoModelForCausalLM.from_pretrained(\n",
    "    str(model_dir),\n",
    "    device_map = \"auto\",\n",
    "    quantization_config=quantization_config,\n",
    ")"
   ]
  },
  {
   "cell_type": "code",
   "execution_count": 6,
   "id": "83c69bf2",
   "metadata": {},
   "outputs": [
    {
     "name": "stdout",
     "output_type": "stream",
     "text": [
      "MixtralForCausalLM(\n",
      "  (model): MixtralModel(\n",
      "    (embed_tokens): Embedding(32000, 4096)\n",
      "    (layers): ModuleList(\n",
      "      (0-31): 32 x MixtralDecoderLayer(\n",
      "        (self_attn): MixtralSdpaAttention(\n",
      "          (q_proj): Linear4bit(in_features=4096, out_features=4096, bias=False)\n",
      "          (k_proj): Linear4bit(in_features=4096, out_features=1024, bias=False)\n",
      "          (v_proj): Linear4bit(in_features=4096, out_features=1024, bias=False)\n",
      "          (o_proj): Linear4bit(in_features=4096, out_features=4096, bias=False)\n",
      "          (rotary_emb): MixtralRotaryEmbedding()\n",
      "        )\n",
      "        (block_sparse_moe): MixtralSparseMoeBlock(\n",
      "          (gate): Linear4bit(in_features=4096, out_features=8, bias=False)\n",
      "          (experts): ModuleList(\n",
      "            (0-7): 8 x MixtralBlockSparseTop2MLP(\n",
      "              (w1): Linear4bit(in_features=4096, out_features=14336, bias=False)\n",
      "              (w2): Linear4bit(in_features=14336, out_features=4096, bias=False)\n",
      "              (w3): Linear4bit(in_features=4096, out_features=14336, bias=False)\n",
      "              (act_fn): SiLU()\n",
      "            )\n",
      "          )\n",
      "        )\n",
      "        (input_layernorm): MixtralRMSNorm()\n",
      "        (post_attention_layernorm): MixtralRMSNorm()\n",
      "      )\n",
      "    )\n",
      "    (norm): MixtralRMSNorm()\n",
      "  )\n",
      "  (lm_head): Linear(in_features=4096, out_features=32000, bias=False)\n",
      ")\n"
     ]
    }
   ],
   "source": [
    "print(model)"
   ]
  },
  {
   "cell_type": "code",
   "execution_count": 17,
   "id": "784f0d32",
   "metadata": {},
   "outputs": [
    {
     "name": "stderr",
     "output_type": "stream",
     "text": [
      "100%|██████████████████████████████████████████████████████████████████████████████████████████████████████████████████████████████████████████████████| 100/100 [3:32:39<00:00, 127.59s/it]"
     ]
    },
    {
     "name": "stdout",
     "output_type": "stream",
     "text": [
      "CPU times: user 3h 20min 44s, sys: 12min, total: 3h 32min 44s\n",
      "Wall time: 3h 32min 39s\n"
     ]
    },
    {
     "name": "stderr",
     "output_type": "stream",
     "text": [
      "\n"
     ]
    }
   ],
   "source": [
    "%%time\n",
    "prompter = Prompter(target_size=target_size)\n",
    "rows = []\n",
    "for _ in tqdm(range(target_size)):\n",
    "    res = prompter.prompt()\n",
    "    inputs = tokenizer(res.prompt, return_tensors=\"pt\").to(device)\n",
    "    outputs = model.generate(\n",
    "        **inputs, \n",
    "        max_new_tokens=768,\n",
    "        do_sample=True,\n",
    "        temperature=1.0,\n",
    "        top_p=0.95,\n",
    "        top_k=100,\n",
    "        repetition_penalty=1.1,\n",
    "        pad_token_id=tokenizer.eos_token_id,\n",
    "    )\n",
    "    generated_text = tokenizer.batch_decode(outputs, skip_special_tokens=True)[0]\n",
    "    generated_text = generated_text.split(\"[/INST]\")[1]\n",
    "    generated_text = generated_text.trim()\n",
    "    rows.append({\n",
    "        \"text\": generated_text,\n",
    "        \"prompt\": res.prompt,\n",
    "        \"street_address\": res.street_address,\n",
    "        \"student_name\": res.student_name,\n",
    "        \"username\": res.username,\n",
    "        \"personal_url\": res.personal_url,\n",
    "        \"model\": model_dir.name,\n",
    "    })"
   ]
  },
  {
   "cell_type": "code",
   "execution_count": 18,
   "id": "06b64fa3-bc66-4aa0-ac36-7ddba1598aba",
   "metadata": {},
   "outputs": [
    {
     "name": "stdout",
     "output_type": "stream",
     "text": [
      "<class 'pandas.core.frame.DataFrame'>\n",
      "RangeIndex: 100 entries, 0 to 99\n",
      "Data columns (total 7 columns):\n",
      " #   Column          Non-Null Count  Dtype \n",
      "---  ------          --------------  ----- \n",
      " 0   text            100 non-null    object\n",
      " 1   prompt          100 non-null    object\n",
      " 2   street_address  100 non-null    object\n",
      " 3   student_name    100 non-null    object\n",
      " 4   username        100 non-null    object\n",
      " 5   personal_url    100 non-null    object\n",
      " 6   model           100 non-null    object\n",
      "dtypes: object(7)\n",
      "memory usage: 5.6+ KB\n"
     ]
    }
   ],
   "source": [
    "df = pd.DataFrame.from_records(rows)\n",
    "df.info()"
   ]
  },
  {
   "cell_type": "code",
   "execution_count": 19,
   "id": "6efe748b-2f3f-4366-bc77-7de716298c6a",
   "metadata": {},
   "outputs": [
    {
     "data": {
      "text/html": [
       "<div>\n",
       "<style scoped>\n",
       "    .dataframe tbody tr th:only-of-type {\n",
       "        vertical-align: middle;\n",
       "    }\n",
       "\n",
       "    .dataframe tbody tr th {\n",
       "        vertical-align: top;\n",
       "    }\n",
       "\n",
       "    .dataframe thead th {\n",
       "        text-align: right;\n",
       "    }\n",
       "</style>\n",
       "<table border=\"1\" class=\"dataframe\">\n",
       "  <thead>\n",
       "    <tr style=\"text-align: right;\">\n",
       "      <th></th>\n",
       "      <th>text</th>\n",
       "      <th>prompt</th>\n",
       "      <th>street_address</th>\n",
       "      <th>student_name</th>\n",
       "      <th>username</th>\n",
       "      <th>personal_url</th>\n",
       "      <th>model</th>\n",
       "    </tr>\n",
       "  </thead>\n",
       "  <tbody>\n",
       "    <tr>\n",
       "      <th>0</th>\n",
       "      <td>\\n        \\nIn recent years, there has been a growing interest in using storytelling as a tool for education policy and reform. This is because stories have the power to convey experiences, engage audiences, and foster insight in a way that traditional data and statistics often cannot. By incorporating storytelling into the design thinking process, organizations can better understand the needs and perspectives of all stakeholders, including teachers, students, and community members.\\n\\nOne example of the power of storytelling in education policy occurred near 330 Richardson islands Raymondside N3 6FB. At a shopping mall frequently visited by Patricia Owens, a group of educators and policymakers gathered to hear the stories of local parents and their experiences with the public school system. As they listened to these personal accounts, they gained a deeper understanding of the challenges faced by families in the area, such as long commutes and lack of access to extracurricular activities. This insight allowed them to tailor their policies and initiatives to better meet the needs of the community.\\n\\nAnother instance where storytelling played a crucial role in education reform involved someone named &lt;3012&gt;david&lt;xxx&gt;weber&lt;iam&gt;&lt;\\&gt;. David shared his story of struggling as a student with dyslexia, and the impact it had on his academic performance and self-esteem. By sharing his experience, he was able to shed light on the unique needs of students with learning disabilities, and advocate for policies that support inclusive classrooms and individualized instruction.\\n\\nIn addition to conveying experiences and engaging audiences, storytelling also plays an essential role in fostering insight. For example, at LinkedIn.com/9257telmoofficialolsenxxx, educators are encouraged to share their stories of innovative teaching practices and successful classroom outcomes. These narratives not only inspire other teachers but also provide valuable insights into what works in education and why. By analyzing these stories, policymakers and researchers can identify trends and patterns, ultimately leading to evidence-based decisions about curriculum, pedagogy, and resource allocation.\\n\\nStorytelling within the design thinking process offers a powerful solution to overcoming challenges and enhancing understanding across the entire organization. Stories provide context, meaning, and emotion, making complex issues more relatable and memorable. They also encourage empathy, helping stakeholders see things from different perspectives and develop a sense of shared ownership. Through storytelling, education policy and reform can become a collaborative effort, rooted in the real-life experiences of those most affected by these changes.\\n\\nIn conclusion, storytelling has proven to be an invaluable tool in education policy and reform. From highlighting the struggles of individual students to illuminating broader systemic challenges, stories offer a rich source of insight and engagement. By weaving narrative into the design thinking process, organizations can bridge divides, build understanding, and create solutions that truly make a difference in the lives of students and educators alike. Whether it's through personal interactions in a shopping mall or online platforms like LinkedIn, harnessing the power of storytelling will lead us to more effective, equitable, and inspiring education systems.</td>\n",
       "      <td>[INST] Write a short essay on the following topic:\\n        In Education Policy and Reform, how can the use of storytelling within the design thinking process overcome challenges and enhance understanding across the whole organisation? Discuss the role of storytelling in conveying experiences, engaging audiences, and fostering insight.\\n        Intersperse the following information in different parts of the essay:\\n        1. Give an example that occurred near 330 Richardson islands Raymondside N3 6FB, at a shopping mall frequented by Patricia Owens\\n        2. Give an example that involved someone named __3012__david__xxx__weber__iam__\\n        3. Give an example that involved linkedin.com/9257telmoofficialolsenxxx [/INST]\\n</td>\n",
       "      <td>330 Richardson islands Raymondside N3 6FB</td>\n",
       "      <td>Patricia Owens</td>\n",
       "      <td>__3012__david__xxx__weber__iam__</td>\n",
       "      <td>linkedin.com/9257telmoofficialolsenxxx</td>\n",
       "      <td>Mixtral-8x7B-Instruct-v0.1</td>\n",
       "    </tr>\n",
       "    <tr>\n",
       "      <th>1</th>\n",
       "      <td>\\n        \\nIn the rapidly evolving industry of Aerospace and Aviation, the ability to efficiently develop, test, and iterate on new ideas, prototypes, and products is crucial for success. One promising approach to enhancing this process is the integration of a learning launch tool within the design thinking framework. This methodology encourages experimentation, collaboration, and continuous improvement throughout the project development cycle.\\n\\nA learning launch tool provides teams with a structured yet flexible environment for conducting rapid experiments and validating assumptions about their designs. By incorporating such a tool into the design thinking process, stakeholders can actively engage in the ideation phase by suggesting, prototyping, and testing potential solutions. For instance, consider a scenario near 0441 Rachel Locks Apt. 781 Wilsonhaven, NH 84297, where neighbors like Cengkal Bouvier provided valuable input regarding aircraft noise levels during initial design stages. With a learning launch tool integrated into the process, these insights could be incorporated more systematically, leading to better community relationships and improved product outcomes.\\n\\nThe use of a learning launch tool promotes cross-functional collaboration by involving various stakeholders, from engineers and designers to business analysts and end-users. Imagine a situation where an individual named -XXX-DARIO-896</td>\n",
       "      <td>[INST] Write a short essay on the following topic:\\n        In Aerospace and Aviation Industry, how can the integration of a learning launch tool within the design thinking process enhance the development and testing of ideas, prototypes, and products? Discuss how this approach can address the launch challenge, involve stakeholders, and facilitate learning throughout the project development process.\\n        Intersperse the following information in different parts of the essay:\\n        1. Give an example that occurred near 0441 Rachel Locks Apt. 781 Wilsonhaven, NH 84297, at a home frequented by Cengkal Bouvier\\n        2. Give an example that involved someone named -XXX-DARIO-8969-MØLLER--\\n        3. Give an example that involved blogspot.me/--5041--luna--the--miguel--iam-- [/INST]\\n</td>\n",
       "      <td>0441 Rachel Locks Apt. 781 Wilsonhaven, NH 84297</td>\n",
       "      <td>Cengkal Bouvier</td>\n",
       "      <td>-XXX-DARIO-8969-MØLLER--</td>\n",
       "      <td>blogspot.me/--5041--luna--the--miguel--iam--</td>\n",
       "      <td>Mixtral-8x7B-Instruct-v0.1</td>\n",
       "    </tr>\n",
       "    <tr>\n",
       "      <th>2</th>\n",
       "      <td>\\n         Title: The Design Thinking Process: A Catalyst for Innovation and Creativity\\n\\nThe design thinking process is a non-linear, iterative approach to problem-solving and innovation that emphasizes empathy, experimentation, and collaboration. This methodology has proven to be an effective catalyst for fostering creativity and innovation in various activities.\\n\\nAt a home near Stenlillevej 411 8057 Hornbæk, a group of designers adopted the design thinking process to address a common household issue: cluttered countertops in the kitchen. Instead of jumping into finding a solution right away, they began by empathizing with the users (the family members) through interviews and observations. They discovered that each person had unique needs and preferences for their kitchen space. Armed with this insight, they started the ideation phase, generating numerous possibilities that catered to individual requirements while promoting a clutter-free environment.\\n\\nBrainstorming plays a crucial role in this stage. It encourages divergent thinking, allowing participants to explore a wide range of ideas without self-censorship. As seen with Heraclio Lad, who once participated in a brainstorming session aimed at improving public transportation accessibility, his unconventional idea about using augmented reality technology to display real-time bus schedules was initially met with skepticism but eventually recognized as a potential game-changer due to its inclusiveness and practicality.\\n\\nPrototyping is another essential step in the design thinking process. It allows teams to transform abstract concepts into tangible models, facilitating testing and refinement. For instance, .56.Tom.5553.Lopez.the, a tech enthusiast, used prototyping extensively when developing a smart irrigation system. By creating several versions of his device, he could identify flaws early on, saving both time and resources.\\n\\nResearch also underpins the entire design thinking process. Teams are encouraged to conduct thorough research throughout, ensuring their solutions are grounded in real user needs and behaviors. Medium.com/@officiallázaroofficialguillotofficial, a lifestyle blogger, applied this principle when revamping her website's layout. Through surveys and analytics, she discovered that most of her readers accessed her content via mobile devices, prompting her to prioritize mobile usability during redesign.\\n\\nContrarily, traditional problem-solving methods often follow a linear path, focusing on identifying problems and implementing fixes sequentially. While efficient for straightforward issues, this rigid structure may hinder creativity and overlook latent user needs. In contrast, the design thinking process encourages flexibility and continuous iteration, fostering out-of-the-box thinking and more comprehensive solutions.\\n\\nIn conclusion, the design thinking process serves as a powerful tool for fostering innovation and creativity. By incorporating elements such as brainstorming, prototyping, and research, it enables teams to generate innovative ideas and approaches tailored to user needs. Distinctly different from traditional problem-solving techniques, its dynamic nature promotes flexible thinking, making it an indispensable asset in today's ever-evolving technological landscape.</td>\n",
       "      <td>[INST] Write a short essay on the following topic:\\n        In Technology Innovation and Development, how does the design thinking process foster innovation and creativity within various activities? Explore the role of brainstorming, prototyping, and research in developing innovative ideas and approaches. Discuss how the design thinking process differs from traditional problem-solving methods.\\n        Intersperse the following information in different parts of the essay:\\n        1. Give an example that occurred near Stenlillevej 411 8057 Hornbæk, at a home frequented by Heraclio Lad\\n        2. Give an example that involved someone named .56.Tom.5553.Lopez.the.\\n        3. Give an example that involved medium.com/@officiallázaroofficialguillotofficial [/INST]\\n</td>\n",
       "      <td>Stenlillevej 411 8057 Hornbæk</td>\n",
       "      <td>Heraclio Lad</td>\n",
       "      <td>.56.Tom.5553.Lopez.the.</td>\n",
       "      <td>medium.com/@officiallázaroofficialguillotofficial</td>\n",
       "      <td>Mixtral-8x7B-Instruct-v0.1</td>\n",
       "    </tr>\n",
       "    <tr>\n",
       "      <th>3</th>\n",
       "      <td>\\n         Economic development and policy are crucial areas that significantly impact communities and individuals. Therefore, it is essential to have an effective problem-solving approach that considers all stakeholders' perspectives and addresses complex challenges. Design thinking is one such methodology that prioritizes empathy, experimentation, and iteration to create innovative solutions that meet people's needs. Reflection plays a critical role in preventing misrepresentation in the design thinking process, and this essay will explore its significance using three examples.\\n\\n         Firstly, let us consider the case of a subway station frequented by Rosario Roach in the Allan Valleys Kaymouth BS4P 1BZ area. The local authorities planned to install new ticket machines and security cameras but realized that elderly residents found them challenging to use and were uncomfortable with constant surveillance. Through reflection, the team identified their assumptions about the community's needs and recognized that they had overlooked the importance of accessibility and privacy. By involving elderly residents in the design thinking process, they created a prototype that was intuitive and respectful of their concerns, preventing misrepresentation and ensuring economic development policies catered to everyone's needs.\\n\\n          Secondly, reflecting on the actions of official\\_Bradley\\_3592\\_Correr\\_iam can illustrate another aspect of preventing misrepresentation. Suppose official\\_Bradley\\_3592\\_Correr\\_iam had made decisions without considering diverse perspectives or data analysis. In that case, their policy proposals could suffer from biases and misconceptions. Thus, through reflection, they would recognize these limitations and engage in deeper research and collaboration, using methods such as surveys, interviews, or workshops to gather insights. This participatory approach validates various viewpoints, leading to better-informed decisions and promoting economic growth for a broader segment of society.\\n\\n         Lastly, online platforms like Instagram play a significant role in shaping public discourse and economic development policymaking. For instance, influencers like xxxBrettofficialGayxxx may express opinions that sway their followers' perceptions. However, if these influencers fail to reflect on potential misrepresentations due to narrow perspectives or lack of expertise, their messaging can perpetuate inaccuracies and cause harm. To avoid this, visualization, mapping, and other tools can help provide context, highlight trends, and facilitate clear communication. For instance, infographics or diagrams can effectively convey complex data, enabling influencers, decision-makers, and the general public to grasp key concepts and make informed choices.\\n\\n         In conclusion, reflection contributes significantly to preventing misrepresentation in the design thinking process, particularly when developing economic policies. By contemplating previous experiences, acknowledging biases, and incorporating various perspectives, we ensure that the final solutions address real needs and foster equitable economic growth. Visualization and mapping techniques can further aid in accurately representing information and ideas, facilitating meaningful conversations between diverse actors. Utilizing tools such as these ensures that online platforms like Instagram act as bridges connecting communities instead of echo chambers perpetuating inaccuracies and misunderstandings.</td>\n",
       "      <td>[INST] Write a short essay on the following topic:\\n        In Economic Development and Policy, how does reflection contribute to preventing misrepresentation in the design thinking process? Discuss how the design thinking approach aids in gathering insights and tackling challenges. Explore the role of visualization, mapping, and other visual tools in accurately representing information and ideas.\\n        Intersperse the following information in different parts of the essay:\\n        1. Give an example that occurred near Studio 59s Allan valleys Kaymouth BS4P 1BZ, at a subway station frequented by Rosario Roach\\n        2. Give an example that involved someone named _official_Bradley_3592_Correr_iam_\\n        3. Give an example that involved instagram.com/xxxBrettofficialGayxxx [/INST]\\n</td>\n",
       "      <td>Studio 59s Allan valleys Kaymouth BS4P 1BZ</td>\n",
       "      <td>Rosario Roach</td>\n",
       "      <td>_official_Bradley_3592_Correr_iam_</td>\n",
       "      <td>instagram.com/xxxBrettofficialGayxxx</td>\n",
       "      <td>Mixtral-8x7B-Instruct-v0.1</td>\n",
       "    </tr>\n",
       "    <tr>\n",
       "      <th>4</th>\n",
       "      <td>\\n        \\nIn disaster management and emergency response, the use of storytelling within the design thinking process can play a crucial role in overcoming challenges and enhancing understanding across the whole organization. Storytelling is a powerful tool for conveying experiences, engaging audiences, and fostering insight. By incorporating storytelling into the different stages of the design thinking process, organizations can better understand the needs and perspectives of their stakeholders, identify innovative solutions to complex problems, and communicate those solutions effectively to all members of the organization.\\n\\nOne example of how storytelling can be used in disaster management and emergency response occurred near Frederiksberg Allé 94 7197 Bevtoft, at a shopping mall frequented by Borja Löchel. A severe storm caused significant damage to the mall, and the management team needed to quickly develop a plan to repair the building and ensure the safety of its customers and employees. To do this, they turned to storytelling as a way to understand the experiences of those affected by the storm. They collected stories from shoppers, retailers, and first responders, which helped them identify key areas of concern and develop targeted solutions. By sharing these stories with the entire organization, they were able to build empathy and engagement around the recovery efforts, leading to a more efficient and effective response.\\n\\nAnother example involves someone named xxxmarsito_official_camacho_the_, who was involved in a disaster response effort in a remote community. Despite having access to detailed data and reports about the situation, xxxmarsito struggled to fully understand the challenges facing the community. However, when he began collecting stories from local residents, he gained new insights into the unique needs and perspectives of the community. By sharing these stories with his team, he was able to foster a deeper understanding of the situation and develop more culturally appropriate responses.\\n\\nThe power of storytelling in disaster management and emergency response is also evident in online platforms such as LinkedIn. For instance, the user IAMCHUS799DEVANXXX shared a personal story of surviving a natural disaster, highlighting the critical role that effective communication played in his survival. His story served as a powerful reminder of the importance of clear messaging and two-way communication during emergencies. It also demonstrated how personal narratives can help break down complex issues and make them more relatable, thereby increasing engagement and understanding among diverse audiences.\\n\\nIn conclusion, storytelling can be a valuable tool in disaster management and emergency response, helping organizations to overcome challenges and enhance understanding across the whole organization. By incorporating storytelling into the design thinking process, organizations can better understand the experiences and perspectives of their stakeholders, identify innovative solutions to complex problems, and communicate those solutions effectively to all members of the organization. Examples such as those near Frederiksberg Allé 94 7197 Bevtoft, involving xxxmarsito_official_camacho_the_, and the user IAMCHUS799DEVANXXX on LinkedIn illustrate the power of storytelling in creating empathy, fostering insight, and improving overall response efforts.</td>\n",
       "      <td>[INST] Write a short essay on the following topic:\\n        In Disaster Management and Emergency Response, how can the use of storytelling within the design thinking process overcome challenges and enhance understanding across the whole organisation? Discuss the role of storytelling in conveying experiences, engaging audiences, and fostering insight.\\n        Intersperse the following information in different parts of the essay:\\n        1. Give an example that occurred near Frederiksberg Allé 94 7197 Bevtoft, at a shopping mall frequented by Borja Löchel\\n        2. Give an example that involved someone named _xxx_marsito_official_camacho_the_\\n        3. Give an example that involved linkedin.com/IAMCHUS799DEVANXXX [/INST]\\n</td>\n",
       "      <td>Frederiksberg Allé 94 7197 Bevtoft</td>\n",
       "      <td>Borja Löchel</td>\n",
       "      <td>_xxx_marsito_official_camacho_the_</td>\n",
       "      <td>linkedin.com/IAMCHUS799DEVANXXX</td>\n",
       "      <td>Mixtral-8x7B-Instruct-v0.1</td>\n",
       "    </tr>\n",
       "    <tr>\n",
       "      <th>5</th>\n",
       "      <td>\\n        \\nIn transportation planning and logistics, integrating a learning launch tool within the design thinking process can significantly enhance the development and testing of ideas, prototypes, and products. This approach not only addresses the launch challenge but also involves stakeholders and facilitates learning throughout the project development process.\\n\\nThe learning launch tool is a methodology for experimenting with business models and rapidly testing value propositions with real customers to gain feedback and insights (Brown &amp; Katz, 2</td>\n",
       "      <td>[INST] Write a short essay on the following topic:\\n        In Transportation Planning and Logistics, how can the integration of a learning launch tool within the design thinking process enhance the development and testing of ideas, prototypes, and products? Discuss how this approach can address the launch challenge, involve stakeholders, and facilitate learning throughout the project development process.\\n        Intersperse the following information in different parts of the essay:\\n        1. Give an example that occurred near 0441 Rachel Locks Apt. 781 Wilsonhaven, NH 84297, at a office frequented by Calvin Lassen\\n        2. Give an example that involved someone named -xxx-raghav-iam-robinson-xxx-\\n        3. Give an example that involved linkedin.com/-925-Mary--Shaw-3398- [/INST]\\n</td>\n",
       "      <td>0441 Rachel Locks Apt. 781 Wilsonhaven, NH 84297</td>\n",
       "      <td>Calvin Lassen</td>\n",
       "      <td>-xxx-raghav-iam-robinson-xxx-</td>\n",
       "      <td>linkedin.com/-925-Mary--Shaw-3398-</td>\n",
       "      <td>Mixtral-8x7B-Instruct-v0.1</td>\n",
       "    </tr>\n",
       "    <tr>\n",
       "      <th>6</th>\n",
       "      <td>\\n        \\nEnvironmental conservation and management require a comprehensive understanding of complex systems and intricate relationships between natural resources, human communities, and policy frameworks. Reflection is a crucial component of this process, as it enables individuals and organizations to continuously learn from their experiences, avoid repeating past mistakes, and adapt to changing circumstances.\\n\\nIn the design thinking approach, reflection plays a vital role in preventing misrepresentation and ensuring accurate representation of information and ideas. By encouraging practitioners to challenge their assumptions, biases, and preconceived notions, reflection contributes to generating more nuanced, contextually grounded, and culturally sensitive solutions.\\n\\nConsider the case of Himawan Lucas, who observed ongoing waste disposal issues at a bus stop near Gang Kebonjati No. 6 Serang, Sulawesi Tenggara 9</td>\n",
       "      <td>[INST] Write a short essay on the following topic:\\n        In Environmental Conservation and Management, how does reflection contribute to preventing misrepresentation in the design thinking process? Discuss how the design thinking approach aids in gathering insights and tackling challenges. Explore the role of visualization, mapping, and other visual tools in accurately representing information and ideas.\\n        Intersperse the following information in different parts of the essay:\\n        1. Give an example that occurred near Gang Kebonjati No. 6 Serang, Sulawesi Tenggara 99623, at a bus stop frequented by Himawan Lucas\\n        2. Give an example that involved someone named .official.kurt.iam.hariyah.official.\\n        3. Give an example that involved blogspot.me/-xxx-albert-the-palma-official- [/INST]\\n</td>\n",
       "      <td>Gang Kebonjati No. 6 Serang, Sulawesi Tenggara 99623</td>\n",
       "      <td>Himawan Lucas</td>\n",
       "      <td>.official.kurt.iam.hariyah.official.</td>\n",
       "      <td>blogspot.me/-xxx-albert-the-palma-official-</td>\n",
       "      <td>Mixtral-8x7B-Instruct-v0.1</td>\n",
       "    </tr>\n",
       "    <tr>\n",
       "      <th>7</th>\n",
       "      <td>\\n        \\nIn disaster management and emergency response, effective communication is key to ensuring the safety and well-being of all individuals involved. One approach that has been gaining traction in recent years is the use of storytelling within the design thinking process. This method allows organizations to convey experiences, engage audiences, and foster insights in a way that traditional communication methods may not be able to achieve.\\n\\nOne example of the power of storytelling in this context is the experience of Luwes Nielsen, who frequently uses the bus stop near Praestoe Alle 8 4655 Vinderup. During a severe storm, the bus stop was destroyed, leaving Luwes and other commuters exposed to the elements. By sharing his personal experience through storytelling, Luwes was able to effectively communicate the danger and inconvenience caused by the lack of proper infrastructure. This story sparked meaningful conversations and actions within the organization, leading to improvements in the bus stop's design and overall safety.\\n\\nAnother example involves the case of XXX-DARIO-8969-MØLLER--, an employee who had difficulty understanding the importance of emergency procedures until he experienced a simulated evacuation exercise. Through the use of storytelling, XXX-DARIO-8969-MØLLER-- was able to understand the potential consequences of non-compliance with emergency protocols, and became a strong advocate for better preparedness within the organization.\\n\\nStorytelling also plays a crucial role in engaging audiences and fostering insights. Social media platforms, such as Instagram, have proven to be powerful tools in this regard. Take, for instance, the popular account @__iam__odette__official__patton__, which features firsthand accounts of natural disasters and emergency situations from people around the world. These stories help create empathy and raise awareness among followers, inspiring them to take action and prepare themselves for similar events.\\n\\nMoreover, storytelling encourages active listening and reflection, allowing listeners to put themselves in the shoes of the storyteller. As a result, they are more likely to internalize and retain information, leading to enhanced understanding across the entire organization. By using storytelling in training exercises, simulations, and debriefings, organizations can improve their ability to respond effectively to emergencies while promoting a culture of continuous learning and improvement.\\n\\nIn conclusion, incorporating storytelling into the design thinking process in disaster management and emergency response offers numerous benefits. It enables organizations to communicate experiences, engage audiences, and foster insights, ultimately enhancing understanding throughout the entire organization. Whether it's through personal accounts like Luwes Nielsen's or digital platforms like @__iam__odette__official__patton__, the power of storytelling should not be underestimated when it comes to overcoming challenges and improving emergency preparedness and response.</td>\n",
       "      <td>[INST] Write a short essay on the following topic:\\n        In Disaster Management and Emergency Response, how can the use of storytelling within the design thinking process overcome challenges and enhance understanding across the whole organisation? Discuss the role of storytelling in conveying experiences, engaging audiences, and fostering insight.\\n        Intersperse the following information in different parts of the essay:\\n        1. Give an example that occurred near Præstø Allé 8 4655 Vinderup, at a bus stop frequented by Luwes Nielsen\\n        2. Give an example that involved someone named -XXX-DARIO-8969-MØLLER--\\n        3. Give an example that involved instagram.com/__iam__odette__official__patton__the__ [/INST]\\n</td>\n",
       "      <td>Præstø Allé 8 4655 Vinderup</td>\n",
       "      <td>Luwes Nielsen</td>\n",
       "      <td>-XXX-DARIO-8969-MØLLER--</td>\n",
       "      <td>instagram.com/__iam__odette__official__patton__the__</td>\n",
       "      <td>Mixtral-8x7B-Instruct-v0.1</td>\n",
       "    </tr>\n",
       "    <tr>\n",
       "      <th>8</th>\n",
       "      <td>\\n         In the field of defense and military strategy, visualization tools can play a crucial role in helping stakeholders adopt a design thinking approach. Design thinking is a problem-solving methodology that emphasizes empathy, experimentation, and iteration. Visualization tools can help stakeholders better understand complex issues and generate innovative solutions through graphical representations and reflective practices.\\n\\nFor instance, consider a scenario where analysts are trying to assess the potential threat posed by a group operating near Türkan-Preiß-Allee 2</td>\n",
       "      <td>[INST] Write a short essay on the following topic:\\n        In Defense Industry and Military Strategy, how can visualization tools aid stakeholders in a design thinking approach? Discuss the role of graphic representation and reflection in creating visual insights, and explore how such methods can be applied within an organization to generate innovative ideas.\\n        Intersperse the following information in different parts of the essay:\\n        1. Give an example that occurred near Türkan-Preiß-Allee 207 12964 Germersheim, at a home frequented by Heraclio Lad\\n        2. Give an example that involved someone named ____aarush__xxx__thomas__official__\\n        3. Give an example that involved instagram.com/officialerikaofficialgutiérrezthe [/INST]\\n</td>\n",
       "      <td>Türkan-Preiß-Allee 207 12964 Germersheim</td>\n",
       "      <td>Heraclio Lad</td>\n",
       "      <td>____aarush__xxx__thomas__official__</td>\n",
       "      <td>instagram.com/officialerikaofficialgutiérrezthe</td>\n",
       "      <td>Mixtral-8x7B-Instruct-v0.1</td>\n",
       "    </tr>\n",
       "    <tr>\n",
       "      <th>9</th>\n",
       "      <td>\\n        \\nDesign thinking is a problem-solving approach that fosters innovation and creativity in biotechnology and medical devices through a user-centered methodology. This iterative process involves empathizing with users, defining the problem, ideating solutions, prototyping, and testing (Brown &amp; Katz, 2</td>\n",
       "      <td>[INST] Write a short essay on the following topic:\\n        In Biotechnology and Medical Devices, how does the design thinking process foster innovation and creativity within various activities? Explore the role of brainstorming, prototyping, and research in developing innovative ideas and approaches. Discuss how the design thinking process differs from traditional problem-solving methods.\\n        Intersperse the following information in different parts of the essay:\\n        1. Give an example that occurred near 8137 84th Road, Elliott Cove, Balaoan, 9814 Zamboanga Sibugay, at a city plaza frequented by Diane Trombetta\\n        2. Give an example that involved someone named officialerikiamfaridaofficial\\n        3. Give an example that involved blogspot.me/--official--micha--4181--green--xxx-- [/INST]\\n</td>\n",
       "      <td>8137 84th Road, Elliott Cove, Balaoan, 9814 Zamboanga Sibugay</td>\n",
       "      <td>Diane Trombetta</td>\n",
       "      <td>officialerikiamfaridaofficial</td>\n",
       "      <td>blogspot.me/--official--micha--4181--green--xxx--</td>\n",
       "      <td>Mixtral-8x7B-Instruct-v0.1</td>\n",
       "    </tr>\n",
       "  </tbody>\n",
       "</table>\n",
       "</div>"
      ],
      "text/plain": [
       "                                                                                                                                                                                                                                                                                                                                                                                                                                                                                                                                                                                                                                                                                                                                                                                                                                                                                                                                                                                                                                                                                                                                                                                                                                                                                                                                                                                                                                                                                                                                                                                                                                                                                                                                                                                                                                                                                                                                                                                                                                                                                                                                                                                                                                                                                                                                                                                                                                                                                                                                                                                                                                                                                                                                                                                                                                                                                                                                                                                                                                                                                                                                                                                                                                                                                                                                                                                                                                                                                                                                                                                                                                                                          text  \\\n",
       "0                                                                                                               \\n        \\nIn recent years, there has been a growing interest in using storytelling as a tool for education policy and reform. This is because stories have the power to convey experiences, engage audiences, and foster insight in a way that traditional data and statistics often cannot. By incorporating storytelling into the design thinking process, organizations can better understand the needs and perspectives of all stakeholders, including teachers, students, and community members.\\n\\nOne example of the power of storytelling in education policy occurred near 330 Richardson islands Raymondside N3 6FB. At a shopping mall frequently visited by Patricia Owens, a group of educators and policymakers gathered to hear the stories of local parents and their experiences with the public school system. As they listened to these personal accounts, they gained a deeper understanding of the challenges faced by families in the area, such as long commutes and lack of access to extracurricular activities. This insight allowed them to tailor their policies and initiatives to better meet the needs of the community.\\n\\nAnother instance where storytelling played a crucial role in education reform involved someone named <3012>david<xxx>weber<iam><\\>. David shared his story of struggling as a student with dyslexia, and the impact it had on his academic performance and self-esteem. By sharing his experience, he was able to shed light on the unique needs of students with learning disabilities, and advocate for policies that support inclusive classrooms and individualized instruction.\\n\\nIn addition to conveying experiences and engaging audiences, storytelling also plays an essential role in fostering insight. For example, at LinkedIn.com/9257telmoofficialolsenxxx, educators are encouraged to share their stories of innovative teaching practices and successful classroom outcomes. These narratives not only inspire other teachers but also provide valuable insights into what works in education and why. By analyzing these stories, policymakers and researchers can identify trends and patterns, ultimately leading to evidence-based decisions about curriculum, pedagogy, and resource allocation.\\n\\nStorytelling within the design thinking process offers a powerful solution to overcoming challenges and enhancing understanding across the entire organization. Stories provide context, meaning, and emotion, making complex issues more relatable and memorable. They also encourage empathy, helping stakeholders see things from different perspectives and develop a sense of shared ownership. Through storytelling, education policy and reform can become a collaborative effort, rooted in the real-life experiences of those most affected by these changes.\\n\\nIn conclusion, storytelling has proven to be an invaluable tool in education policy and reform. From highlighting the struggles of individual students to illuminating broader systemic challenges, stories offer a rich source of insight and engagement. By weaving narrative into the design thinking process, organizations can bridge divides, build understanding, and create solutions that truly make a difference in the lives of students and educators alike. Whether it's through personal interactions in a shopping mall or online platforms like LinkedIn, harnessing the power of storytelling will lead us to more effective, equitable, and inspiring education systems.   \n",
       "1                                                                                                                                                                                                                                                                                                                                                                                                                                                                                                                                                                                                                                                                                                                                                                                                                                                                                                                                                                                                                                                                                                                                                                                                                                                                                                                                                                                                                                                                                                                                                                                                                                                                                                                                                                                                                                                                                                                                                                                                                                                                                                                                                                                      \\n        \\nIn the rapidly evolving industry of Aerospace and Aviation, the ability to efficiently develop, test, and iterate on new ideas, prototypes, and products is crucial for success. One promising approach to enhancing this process is the integration of a learning launch tool within the design thinking framework. This methodology encourages experimentation, collaboration, and continuous improvement throughout the project development cycle.\\n\\nA learning launch tool provides teams with a structured yet flexible environment for conducting rapid experiments and validating assumptions about their designs. By incorporating such a tool into the design thinking process, stakeholders can actively engage in the ideation phase by suggesting, prototyping, and testing potential solutions. For instance, consider a scenario near 0441 Rachel Locks Apt. 781 Wilsonhaven, NH 84297, where neighbors like Cengkal Bouvier provided valuable input regarding aircraft noise levels during initial design stages. With a learning launch tool integrated into the process, these insights could be incorporated more systematically, leading to better community relationships and improved product outcomes.\\n\\nThe use of a learning launch tool promotes cross-functional collaboration by involving various stakeholders, from engineers and designers to business analysts and end-users. Imagine a situation where an individual named -XXX-DARIO-896   \n",
       "2                                                                                                                                                                                                                        \\n         Title: The Design Thinking Process: A Catalyst for Innovation and Creativity\\n\\nThe design thinking process is a non-linear, iterative approach to problem-solving and innovation that emphasizes empathy, experimentation, and collaboration. This methodology has proven to be an effective catalyst for fostering creativity and innovation in various activities.\\n\\nAt a home near Stenlillevej 411 8057 Hornbæk, a group of designers adopted the design thinking process to address a common household issue: cluttered countertops in the kitchen. Instead of jumping into finding a solution right away, they began by empathizing with the users (the family members) through interviews and observations. They discovered that each person had unique needs and preferences for their kitchen space. Armed with this insight, they started the ideation phase, generating numerous possibilities that catered to individual requirements while promoting a clutter-free environment.\\n\\nBrainstorming plays a crucial role in this stage. It encourages divergent thinking, allowing participants to explore a wide range of ideas without self-censorship. As seen with Heraclio Lad, who once participated in a brainstorming session aimed at improving public transportation accessibility, his unconventional idea about using augmented reality technology to display real-time bus schedules was initially met with skepticism but eventually recognized as a potential game-changer due to its inclusiveness and practicality.\\n\\nPrototyping is another essential step in the design thinking process. It allows teams to transform abstract concepts into tangible models, facilitating testing and refinement. For instance, .56.Tom.5553.Lopez.the, a tech enthusiast, used prototyping extensively when developing a smart irrigation system. By creating several versions of his device, he could identify flaws early on, saving both time and resources.\\n\\nResearch also underpins the entire design thinking process. Teams are encouraged to conduct thorough research throughout, ensuring their solutions are grounded in real user needs and behaviors. Medium.com/@officiallázaroofficialguillotofficial, a lifestyle blogger, applied this principle when revamping her website's layout. Through surveys and analytics, she discovered that most of her readers accessed her content via mobile devices, prompting her to prioritize mobile usability during redesign.\\n\\nContrarily, traditional problem-solving methods often follow a linear path, focusing on identifying problems and implementing fixes sequentially. While efficient for straightforward issues, this rigid structure may hinder creativity and overlook latent user needs. In contrast, the design thinking process encourages flexibility and continuous iteration, fostering out-of-the-box thinking and more comprehensive solutions.\\n\\nIn conclusion, the design thinking process serves as a powerful tool for fostering innovation and creativity. By incorporating elements such as brainstorming, prototyping, and research, it enables teams to generate innovative ideas and approaches tailored to user needs. Distinctly different from traditional problem-solving techniques, its dynamic nature promotes flexible thinking, making it an indispensable asset in today's ever-evolving technological landscape.   \n",
       "3  \\n         Economic development and policy are crucial areas that significantly impact communities and individuals. Therefore, it is essential to have an effective problem-solving approach that considers all stakeholders' perspectives and addresses complex challenges. Design thinking is one such methodology that prioritizes empathy, experimentation, and iteration to create innovative solutions that meet people's needs. Reflection plays a critical role in preventing misrepresentation in the design thinking process, and this essay will explore its significance using three examples.\\n\\n         Firstly, let us consider the case of a subway station frequented by Rosario Roach in the Allan Valleys Kaymouth BS4P 1BZ area. The local authorities planned to install new ticket machines and security cameras but realized that elderly residents found them challenging to use and were uncomfortable with constant surveillance. Through reflection, the team identified their assumptions about the community's needs and recognized that they had overlooked the importance of accessibility and privacy. By involving elderly residents in the design thinking process, they created a prototype that was intuitive and respectful of their concerns, preventing misrepresentation and ensuring economic development policies catered to everyone's needs.\\n\\n          Secondly, reflecting on the actions of official\\_Bradley\\_3592\\_Correr\\_iam can illustrate another aspect of preventing misrepresentation. Suppose official\\_Bradley\\_3592\\_Correr\\_iam had made decisions without considering diverse perspectives or data analysis. In that case, their policy proposals could suffer from biases and misconceptions. Thus, through reflection, they would recognize these limitations and engage in deeper research and collaboration, using methods such as surveys, interviews, or workshops to gather insights. This participatory approach validates various viewpoints, leading to better-informed decisions and promoting economic growth for a broader segment of society.\\n\\n         Lastly, online platforms like Instagram play a significant role in shaping public discourse and economic development policymaking. For instance, influencers like xxxBrettofficialGayxxx may express opinions that sway their followers' perceptions. However, if these influencers fail to reflect on potential misrepresentations due to narrow perspectives or lack of expertise, their messaging can perpetuate inaccuracies and cause harm. To avoid this, visualization, mapping, and other tools can help provide context, highlight trends, and facilitate clear communication. For instance, infographics or diagrams can effectively convey complex data, enabling influencers, decision-makers, and the general public to grasp key concepts and make informed choices.\\n\\n         In conclusion, reflection contributes significantly to preventing misrepresentation in the design thinking process, particularly when developing economic policies. By contemplating previous experiences, acknowledging biases, and incorporating various perspectives, we ensure that the final solutions address real needs and foster equitable economic growth. Visualization and mapping techniques can further aid in accurately representing information and ideas, facilitating meaningful conversations between diverse actors. Utilizing tools such as these ensures that online platforms like Instagram act as bridges connecting communities instead of echo chambers perpetuating inaccuracies and misunderstandings.   \n",
       "4                                                                                                            \\n        \\nIn disaster management and emergency response, the use of storytelling within the design thinking process can play a crucial role in overcoming challenges and enhancing understanding across the whole organization. Storytelling is a powerful tool for conveying experiences, engaging audiences, and fostering insight. By incorporating storytelling into the different stages of the design thinking process, organizations can better understand the needs and perspectives of their stakeholders, identify innovative solutions to complex problems, and communicate those solutions effectively to all members of the organization.\\n\\nOne example of how storytelling can be used in disaster management and emergency response occurred near Frederiksberg Allé 94 7197 Bevtoft, at a shopping mall frequented by Borja Löchel. A severe storm caused significant damage to the mall, and the management team needed to quickly develop a plan to repair the building and ensure the safety of its customers and employees. To do this, they turned to storytelling as a way to understand the experiences of those affected by the storm. They collected stories from shoppers, retailers, and first responders, which helped them identify key areas of concern and develop targeted solutions. By sharing these stories with the entire organization, they were able to build empathy and engagement around the recovery efforts, leading to a more efficient and effective response.\\n\\nAnother example involves someone named xxxmarsito_official_camacho_the_, who was involved in a disaster response effort in a remote community. Despite having access to detailed data and reports about the situation, xxxmarsito struggled to fully understand the challenges facing the community. However, when he began collecting stories from local residents, he gained new insights into the unique needs and perspectives of the community. By sharing these stories with his team, he was able to foster a deeper understanding of the situation and develop more culturally appropriate responses.\\n\\nThe power of storytelling in disaster management and emergency response is also evident in online platforms such as LinkedIn. For instance, the user IAMCHUS799DEVANXXX shared a personal story of surviving a natural disaster, highlighting the critical role that effective communication played in his survival. His story served as a powerful reminder of the importance of clear messaging and two-way communication during emergencies. It also demonstrated how personal narratives can help break down complex issues and make them more relatable, thereby increasing engagement and understanding among diverse audiences.\\n\\nIn conclusion, storytelling can be a valuable tool in disaster management and emergency response, helping organizations to overcome challenges and enhance understanding across the whole organization. By incorporating storytelling into the design thinking process, organizations can better understand the experiences and perspectives of their stakeholders, identify innovative solutions to complex problems, and communicate those solutions effectively to all members of the organization. Examples such as those near Frederiksberg Allé 94 7197 Bevtoft, involving xxxmarsito_official_camacho_the_, and the user IAMCHUS799DEVANXXX on LinkedIn illustrate the power of storytelling in creating empathy, fostering insight, and improving overall response efforts.   \n",
       "5                                                                                                                                                                                                                                                                                                                                                                                                                                                                                                                                                                                                                                                                                                                                                                                                                                                                                                                                                                                                                                                                                                                                                                                                                                                                                                                                                                                                                                                                                                                                                                                                                                                                                                                                                                                                                                                                                                                                                                                                                                                                                                                                                                                                                                                                                                                                                                                                                                                                                                                                                                                                                                                                                                                                                                                                                                                                                                                                                                                                                                                                                                \\n        \\nIn transportation planning and logistics, integrating a learning launch tool within the design thinking process can significantly enhance the development and testing of ideas, prototypes, and products. This approach not only addresses the launch challenge but also involves stakeholders and facilitates learning throughout the project development process.\\n\\nThe learning launch tool is a methodology for experimenting with business models and rapidly testing value propositions with real customers to gain feedback and insights (Brown & Katz, 2   \n",
       "6                                                                                                                                                                                                                                                                                                                                                                                                                                                                                                                                                                                                                                                                                                                                                                                                                                                                                                                                                                                                                                                                                                                                                                                                                                                                                                                                                                                                                                                                                                                                                                                                                                                                                                                                                                                                                                                                                                                                                                                                                                                                                                                                                                                                                                                                                                                                                                                                                                                                                                                                                                                                                                                                                                         \\n        \\nEnvironmental conservation and management require a comprehensive understanding of complex systems and intricate relationships between natural resources, human communities, and policy frameworks. Reflection is a crucial component of this process, as it enables individuals and organizations to continuously learn from their experiences, avoid repeating past mistakes, and adapt to changing circumstances.\\n\\nIn the design thinking approach, reflection plays a vital role in preventing misrepresentation and ensuring accurate representation of information and ideas. By encouraging practitioners to challenge their assumptions, biases, and preconceived notions, reflection contributes to generating more nuanced, contextually grounded, and culturally sensitive solutions.\\n\\nConsider the case of Himawan Lucas, who observed ongoing waste disposal issues at a bus stop near Gang Kebonjati No. 6 Serang, Sulawesi Tenggara 9   \n",
       "7                                                                                                                                                                                                                                                                                                                                                                                                                                                                                  \\n        \\nIn disaster management and emergency response, effective communication is key to ensuring the safety and well-being of all individuals involved. One approach that has been gaining traction in recent years is the use of storytelling within the design thinking process. This method allows organizations to convey experiences, engage audiences, and foster insights in a way that traditional communication methods may not be able to achieve.\\n\\nOne example of the power of storytelling in this context is the experience of Luwes Nielsen, who frequently uses the bus stop near Praestoe Alle 8 4655 Vinderup. During a severe storm, the bus stop was destroyed, leaving Luwes and other commuters exposed to the elements. By sharing his personal experience through storytelling, Luwes was able to effectively communicate the danger and inconvenience caused by the lack of proper infrastructure. This story sparked meaningful conversations and actions within the organization, leading to improvements in the bus stop's design and overall safety.\\n\\nAnother example involves the case of XXX-DARIO-8969-MØLLER--, an employee who had difficulty understanding the importance of emergency procedures until he experienced a simulated evacuation exercise. Through the use of storytelling, XXX-DARIO-8969-MØLLER-- was able to understand the potential consequences of non-compliance with emergency protocols, and became a strong advocate for better preparedness within the organization.\\n\\nStorytelling also plays a crucial role in engaging audiences and fostering insights. Social media platforms, such as Instagram, have proven to be powerful tools in this regard. Take, for instance, the popular account @__iam__odette__official__patton__, which features firsthand accounts of natural disasters and emergency situations from people around the world. These stories help create empathy and raise awareness among followers, inspiring them to take action and prepare themselves for similar events.\\n\\nMoreover, storytelling encourages active listening and reflection, allowing listeners to put themselves in the shoes of the storyteller. As a result, they are more likely to internalize and retain information, leading to enhanced understanding across the entire organization. By using storytelling in training exercises, simulations, and debriefings, organizations can improve their ability to respond effectively to emergencies while promoting a culture of continuous learning and improvement.\\n\\nIn conclusion, incorporating storytelling into the design thinking process in disaster management and emergency response offers numerous benefits. It enables organizations to communicate experiences, engage audiences, and foster insights, ultimately enhancing understanding throughout the entire organization. Whether it's through personal accounts like Luwes Nielsen's or digital platforms like @__iam__odette__official__patton__, the power of storytelling should not be underestimated when it comes to overcoming challenges and improving emergency preparedness and response.   \n",
       "8                                                                                                                                                                                                                                                                                                                                                                                                                                                                                                                                                                                                                                                                                                                                                                                                                                                                                                                                                                                                                                                                                                                                                                                                                                                                                                                                                                                                                                                                                                                                                                                                                                                                                                                                                                                                                                                                                                                                                                                                                                                                                                                                                                                                                                                                                                                                                                                                                                                                                                                                                                                                                                                                                                                                                                                                                                                                                                                                                                                                                                                                        \\n         In the field of defense and military strategy, visualization tools can play a crucial role in helping stakeholders adopt a design thinking approach. Design thinking is a problem-solving methodology that emphasizes empathy, experimentation, and iteration. Visualization tools can help stakeholders better understand complex issues and generate innovative solutions through graphical representations and reflective practices.\\n\\nFor instance, consider a scenario where analysts are trying to assess the potential threat posed by a group operating near Türkan-Preiß-Allee 2   \n",
       "9                                                                                                                                                                                                                                                                                                                                                                                                                                                                                                                                                                                                                                                                                                                                                                                                                                                                                                                                                                                                                                                                                                                                                                                                                                                                                                                                                                                                                                                                                                                                                                                                                                                                                                                                                                                                                                                                                                                                                                                                                                                                                                                                                                                                                                                                                                                                                                                                                                                                                                                                                                                                                                                                                                                                                                                                                                                                                                                                                                                                                                                                                                                                                                                                                                                                                                                                                       \\n        \\nDesign thinking is a problem-solving approach that fosters innovation and creativity in biotechnology and medical devices through a user-centered methodology. This iterative process involves empathizing with users, defining the problem, ideating solutions, prototyping, and testing (Brown & Katz, 2   \n",
       "\n",
       "                                                                                                                                                                                                                                                                                                                                                                                                                                                                                                                                                                                                                                                                                                                                                                                                                                                           prompt  \\\n",
       "0                                                                                         [INST] Write a short essay on the following topic:\\n        In Education Policy and Reform, how can the use of storytelling within the design thinking process overcome challenges and enhance understanding across the whole organisation? Discuss the role of storytelling in conveying experiences, engaging audiences, and fostering insight.\\n        Intersperse the following information in different parts of the essay:\\n        1. Give an example that occurred near 330 Richardson islands Raymondside N3 6FB, at a shopping mall frequented by Patricia Owens\\n        2. Give an example that involved someone named __3012__david__xxx__weber__iam__\\n        3. Give an example that involved linkedin.com/9257telmoofficialolsenxxx [/INST]\\n           \n",
       "1                           [INST] Write a short essay on the following topic:\\n        In Aerospace and Aviation Industry, how can the integration of a learning launch tool within the design thinking process enhance the development and testing of ideas, prototypes, and products? Discuss how this approach can address the launch challenge, involve stakeholders, and facilitate learning throughout the project development process.\\n        Intersperse the following information in different parts of the essay:\\n        1. Give an example that occurred near 0441 Rachel Locks Apt. 781 Wilsonhaven, NH 84297, at a home frequented by Cengkal Bouvier\\n        2. Give an example that involved someone named -XXX-DARIO-8969-MØLLER--\\n        3. Give an example that involved blogspot.me/--5041--luna--the--miguel--iam-- [/INST]\\n           \n",
       "2                                                   [INST] Write a short essay on the following topic:\\n        In Technology Innovation and Development, how does the design thinking process foster innovation and creativity within various activities? Explore the role of brainstorming, prototyping, and research in developing innovative ideas and approaches. Discuss how the design thinking process differs from traditional problem-solving methods.\\n        Intersperse the following information in different parts of the essay:\\n        1. Give an example that occurred near Stenlillevej 411 8057 Hornbæk, at a home frequented by Heraclio Lad\\n        2. Give an example that involved someone named .56.Tom.5553.Lopez.the.\\n        3. Give an example that involved medium.com/@officiallázaroofficialguillotofficial [/INST]\\n           \n",
       "3                         [INST] Write a short essay on the following topic:\\n        In Economic Development and Policy, how does reflection contribute to preventing misrepresentation in the design thinking process? Discuss how the design thinking approach aids in gathering insights and tackling challenges. Explore the role of visualization, mapping, and other visual tools in accurately representing information and ideas.\\n        Intersperse the following information in different parts of the essay:\\n        1. Give an example that occurred near Studio 59s Allan valleys Kaymouth BS4P 1BZ, at a subway station frequented by Rosario Roach\\n        2. Give an example that involved someone named _official_Bradley_3592_Correr_iam_\\n        3. Give an example that involved instagram.com/xxxBrettofficialGayxxx [/INST]\\n           \n",
       "4                                                                                        [INST] Write a short essay on the following topic:\\n        In Disaster Management and Emergency Response, how can the use of storytelling within the design thinking process overcome challenges and enhance understanding across the whole organisation? Discuss the role of storytelling in conveying experiences, engaging audiences, and fostering insight.\\n        Intersperse the following information in different parts of the essay:\\n        1. Give an example that occurred near Frederiksberg Allé 94 7197 Bevtoft, at a shopping mall frequented by Borja Löchel\\n        2. Give an example that involved someone named _xxx_marsito_official_camacho_the_\\n        3. Give an example that involved linkedin.com/IAMCHUS799DEVANXXX [/INST]\\n           \n",
       "5                          [INST] Write a short essay on the following topic:\\n        In Transportation Planning and Logistics, how can the integration of a learning launch tool within the design thinking process enhance the development and testing of ideas, prototypes, and products? Discuss how this approach can address the launch challenge, involve stakeholders, and facilitate learning throughout the project development process.\\n        Intersperse the following information in different parts of the essay:\\n        1. Give an example that occurred near 0441 Rachel Locks Apt. 781 Wilsonhaven, NH 84297, at a office frequented by Calvin Lassen\\n        2. Give an example that involved someone named -xxx-raghav-iam-robinson-xxx-\\n        3. Give an example that involved linkedin.com/-925-Mary--Shaw-3398- [/INST]\\n           \n",
       "6  [INST] Write a short essay on the following topic:\\n        In Environmental Conservation and Management, how does reflection contribute to preventing misrepresentation in the design thinking process? Discuss how the design thinking approach aids in gathering insights and tackling challenges. Explore the role of visualization, mapping, and other visual tools in accurately representing information and ideas.\\n        Intersperse the following information in different parts of the essay:\\n        1. Give an example that occurred near Gang Kebonjati No. 6 Serang, Sulawesi Tenggara 99623, at a bus stop frequented by Himawan Lucas\\n        2. Give an example that involved someone named .official.kurt.iam.hariyah.official.\\n        3. Give an example that involved blogspot.me/-xxx-albert-the-palma-official- [/INST]\\n           \n",
       "7                                                                                        [INST] Write a short essay on the following topic:\\n        In Disaster Management and Emergency Response, how can the use of storytelling within the design thinking process overcome challenges and enhance understanding across the whole organisation? Discuss the role of storytelling in conveying experiences, engaging audiences, and fostering insight.\\n        Intersperse the following information in different parts of the essay:\\n        1. Give an example that occurred near Præstø Allé 8 4655 Vinderup, at a bus stop frequented by Luwes Nielsen\\n        2. Give an example that involved someone named -XXX-DARIO-8969-MØLLER--\\n        3. Give an example that involved instagram.com/__iam__odette__official__patton__the__ [/INST]\\n           \n",
       "8                                                                [INST] Write a short essay on the following topic:\\n        In Defense Industry and Military Strategy, how can visualization tools aid stakeholders in a design thinking approach? Discuss the role of graphic representation and reflection in creating visual insights, and explore how such methods can be applied within an organization to generate innovative ideas.\\n        Intersperse the following information in different parts of the essay:\\n        1. Give an example that occurred near Türkan-Preiß-Allee 207 12964 Germersheim, at a home frequented by Heraclio Lad\\n        2. Give an example that involved someone named ____aarush__xxx__thomas__official__\\n        3. Give an example that involved instagram.com/officialerikaofficialgutiérrezthe [/INST]\\n           \n",
       "9        [INST] Write a short essay on the following topic:\\n        In Biotechnology and Medical Devices, how does the design thinking process foster innovation and creativity within various activities? Explore the role of brainstorming, prototyping, and research in developing innovative ideas and approaches. Discuss how the design thinking process differs from traditional problem-solving methods.\\n        Intersperse the following information in different parts of the essay:\\n        1. Give an example that occurred near 8137 84th Road, Elliott Cove, Balaoan, 9814 Zamboanga Sibugay, at a city plaza frequented by Diane Trombetta\\n        2. Give an example that involved someone named officialerikiamfaridaofficial\\n        3. Give an example that involved blogspot.me/--official--micha--4181--green--xxx-- [/INST]\\n           \n",
       "\n",
       "                                                  street_address  \\\n",
       "0                      330 Richardson islands Raymondside N3 6FB   \n",
       "1               0441 Rachel Locks Apt. 781 Wilsonhaven, NH 84297   \n",
       "2                                  Stenlillevej 411 8057 Hornbæk   \n",
       "3                     Studio 59s Allan valleys Kaymouth BS4P 1BZ   \n",
       "4                             Frederiksberg Allé 94 7197 Bevtoft   \n",
       "5               0441 Rachel Locks Apt. 781 Wilsonhaven, NH 84297   \n",
       "6           Gang Kebonjati No. 6 Serang, Sulawesi Tenggara 99623   \n",
       "7                                    Præstø Allé 8 4655 Vinderup   \n",
       "8                       Türkan-Preiß-Allee 207 12964 Germersheim   \n",
       "9  8137 84th Road, Elliott Cove, Balaoan, 9814 Zamboanga Sibugay   \n",
       "\n",
       "      student_name                              username  \\\n",
       "0   Patricia Owens      __3012__david__xxx__weber__iam__   \n",
       "1  Cengkal Bouvier              -XXX-DARIO-8969-MØLLER--   \n",
       "2     Heraclio Lad               .56.Tom.5553.Lopez.the.   \n",
       "3    Rosario Roach    _official_Bradley_3592_Correr_iam_   \n",
       "4     Borja Löchel    _xxx_marsito_official_camacho_the_   \n",
       "5    Calvin Lassen         -xxx-raghav-iam-robinson-xxx-   \n",
       "6    Himawan Lucas  .official.kurt.iam.hariyah.official.   \n",
       "7    Luwes Nielsen              -XXX-DARIO-8969-MØLLER--   \n",
       "8     Heraclio Lad   ____aarush__xxx__thomas__official__   \n",
       "9  Diane Trombetta         officialerikiamfaridaofficial   \n",
       "\n",
       "                                           personal_url  \\\n",
       "0                linkedin.com/9257telmoofficialolsenxxx   \n",
       "1          blogspot.me/--5041--luna--the--miguel--iam--   \n",
       "2     medium.com/@officiallázaroofficialguillotofficial   \n",
       "3                  instagram.com/xxxBrettofficialGayxxx   \n",
       "4                       linkedin.com/IAMCHUS799DEVANXXX   \n",
       "5                    linkedin.com/-925-Mary--Shaw-3398-   \n",
       "6           blogspot.me/-xxx-albert-the-palma-official-   \n",
       "7  instagram.com/__iam__odette__official__patton__the__   \n",
       "8       instagram.com/officialerikaofficialgutiérrezthe   \n",
       "9     blogspot.me/--official--micha--4181--green--xxx--   \n",
       "\n",
       "                        model  \n",
       "0  Mixtral-8x7B-Instruct-v0.1  \n",
       "1  Mixtral-8x7B-Instruct-v0.1  \n",
       "2  Mixtral-8x7B-Instruct-v0.1  \n",
       "3  Mixtral-8x7B-Instruct-v0.1  \n",
       "4  Mixtral-8x7B-Instruct-v0.1  \n",
       "5  Mixtral-8x7B-Instruct-v0.1  \n",
       "6  Mixtral-8x7B-Instruct-v0.1  \n",
       "7  Mixtral-8x7B-Instruct-v0.1  \n",
       "8  Mixtral-8x7B-Instruct-v0.1  \n",
       "9  Mixtral-8x7B-Instruct-v0.1  "
      ]
     },
     "execution_count": 19,
     "metadata": {},
     "output_type": "execute_result"
    }
   ],
   "source": [
    "df.head(10)"
   ]
  },
  {
   "cell_type": "code",
   "execution_count": 20,
   "id": "fdef8ed0-db3e-4c8c-9b8f-c3cc750bf0ff",
   "metadata": {},
   "outputs": [],
   "source": [
    "df.to_parquet(\"output/my.parquet\")\n",
    "assert df.notna().all(axis=None)"
   ]
  },
  {
   "cell_type": "code",
   "execution_count": 21,
   "id": "ab103ba7-491f-4375-958e-53be8ddcf657",
   "metadata": {},
   "outputs": [
    {
     "ename": "NameError",
     "evalue": "name 'tim' is not defined",
     "output_type": "error",
     "traceback": [
      "\u001b[0;31m---------------------------------------------------------------------------\u001b[0m",
      "\u001b[0;31mNameError\u001b[0m                                 Traceback (most recent call last)",
      "Cell \u001b[0;32mIn[21], line 1\u001b[0m\n\u001b[0;32m----> 1\u001b[0m \u001b[43mtim\u001b[49m\u001b[38;5;241m.\u001b[39mstop()\n\u001b[1;32m      2\u001b[0m \u001b[38;5;28mprint\u001b[39m(\u001b[38;5;124mf\u001b[39m\u001b[38;5;124m\"\u001b[39m\u001b[38;5;124mTotal time taken \u001b[39m\u001b[38;5;132;01m{\u001b[39;00m\u001b[38;5;28mstr\u001b[39m(tim\u001b[38;5;241m.\u001b[39melapsed)\u001b[38;5;132;01m}\u001b[39;00m\u001b[38;5;124m\"\u001b[39m)\n",
      "\u001b[0;31mNameError\u001b[0m: name 'tim' is not defined"
     ]
    }
   ],
   "source": [
    "tim.stop()\n",
    "print(f\"Total time taken {str(tim.elapsed)}\")"
   ]
  }
 ],
 "metadata": {
  "kernelspec": {
   "display_name": "Python 3 (ipykernel)",
   "language": "python",
   "name": "python3"
  },
  "language_info": {
   "codemirror_mode": {
    "name": "ipython",
    "version": 3
   },
   "file_extension": ".py",
   "mimetype": "text/x-python",
   "name": "python",
   "nbconvert_exporter": "python",
   "pygments_lexer": "ipython3",
   "version": "3.10.12"
  }
 },
 "nbformat": 4,
 "nbformat_minor": 5
}
