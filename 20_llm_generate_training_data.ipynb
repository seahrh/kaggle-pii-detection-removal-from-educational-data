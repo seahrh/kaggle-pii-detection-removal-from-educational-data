{
 "cells": [
  {
   "cell_type": "code",
   "execution_count": 1,
   "id": "7b4d1d55",
   "metadata": {},
   "outputs": [
    {
     "name": "stdout",
     "output_type": "stream",
     "text": [
      "accelerate=0.29.2, bitsandbytes=0.43.1\n"
     ]
    }
   ],
   "source": [
    "from pathlib import Path\n",
    "import os\n",
    "import sys\n",
    "import gc\n",
    "import shutil\n",
    "import json\n",
    "import math\n",
    "from collections import defaultdict\n",
    "import numpy as np\n",
    "import pandas as pd\n",
    "import bitsandbytes\n",
    "import accelerate\n",
    "import torch\n",
    "from torch.utils.data import Dataset, DataLoader\n",
    "from transformers import AutoTokenizer, AutoModelForCausalLM, BitsAndBytesConfig\n",
    "from tqdm import tqdm\n",
    "import matplotlib.pyplot as plt\n",
    "from typing import Dict, List, Tuple, NamedTuple, Callable, Iterable, Set, Optional, Any\n",
    "import scml\n",
    "from mylib.datageneration import Prompter\n",
    "print(f\"accelerate={accelerate.__version__}, bitsandbytes={bitsandbytes.__version__}\")"
   ]
  },
  {
   "cell_type": "code",
   "execution_count": 2,
   "id": "75a2772b",
   "metadata": {},
   "outputs": [],
   "source": [
    "target_size = 30*6\n",
    "model_dir = Path(\"/mnt/c/huggingface/mistralai/Mixtral-8x7B-Instruct-v0.1\")\n",
    "model_max_length = 4096\n",
    "seed = 422"
   ]
  },
  {
   "cell_type": "code",
   "execution_count": 3,
   "id": "e197c9ae",
   "metadata": {},
   "outputs": [
    {
     "name": "stdout",
     "output_type": "stream",
     "text": [
      "device=0, NVIDIA GeForce RTX 4070 Ti SUPER\n",
      "Mem Allocated: 0.0 GB\n",
      "Mem Cached:    0.0 GB\n",
      "device=1, NVIDIA GeForce RTX 4070 Ti SUPER\n",
      "Mem Allocated: 0.0 GB\n",
      "Mem Cached:    0.0 GB\n"
     ]
    }
   ],
   "source": [
    "tim = scml.Timer()\n",
    "tim.start()\n",
    "percentiles=[.01, .05, .1, .2, .3, .4, .5, .6, .7, .8, .9, .95, .99]\n",
    "os.environ[\"TOKENIZERS_PARALLELISM\"] = \"false\"\n",
    "pd.set_option(\"max_info_columns\", 9999)\n",
    "pd.set_option(\"display.max_columns\", 9999)\n",
    "pd.set_option(\"display.max_rows\", 9999)\n",
    "pd.set_option('max_colwidth', 9999)\n",
    "tqdm.pandas()\n",
    "scml.seed_everything(seed)\n",
    "device = torch.device(\"cpu\")\n",
    "if torch.cuda.is_available():\n",
    "    device = torch.device(\"cuda\")\n",
    "    for i in range(torch.cuda.device_count()):\n",
    "        print(f\"device={i}, {torch.cuda.get_device_name(i)}\")\n",
    "        print('Mem Allocated:', round(torch.cuda.memory_allocated(i)/1024**3,1), 'GB')\n",
    "        print('Mem Cached:   ', round(torch.cuda.memory_reserved(i)/1024**3,1), 'GB')\n",
    "else:\n",
    "    print(\"cpu\")"
   ]
  },
  {
   "cell_type": "code",
   "execution_count": 4,
   "id": "fd6b1da1-24ed-43b4-87fe-6f7a2202bac9",
   "metadata": {},
   "outputs": [
    {
     "name": "stdout",
     "output_type": "stream",
     "text": [
      "104 student names\n"
     ]
    }
   ],
   "source": [
    "with open(\"input/student_names.json\") as f:\n",
    "    student_names = set(json.load(f))\n",
    "print(f\"{len(student_names):,} student names\")"
   ]
  },
  {
   "cell_type": "code",
   "execution_count": 5,
   "id": "e8bf706b-654a-4e51-9a88-61bb16a6584a",
   "metadata": {},
   "outputs": [
    {
     "name": "stdout",
     "output_type": "stream",
     "text": [
      "11,562 street addresses=['Adis Road (Liv On Sophia)', 'Adis Road (Parc Sophia)', 'Admiralty Drive (Block 353A)', 'Admiralty Drive (Block 353B)', 'Admiralty Drive (Block 353C)', 'Admiralty Drive (Block 354A)', 'Admiralty Drive (Block 354C)', 'Admiralty Drive (Block 354D)', 'Admiralty Drive (Block 356B)', 'Admiralty Drive (Block 356C)']\n",
      "<class 'pandas.core.frame.DataFrame'>\n",
      "RangeIndex: 11562 entries, 0 to 11561\n",
      "Data columns (total 3 columns):\n",
      " #   Column  Non-Null Count  Dtype  \n",
      "---  ------  --------------  -----  \n",
      " 0   street  11562 non-null  object \n",
      " 1   lat     11562 non-null  float64\n",
      " 2   lng     11562 non-null  float64\n",
      "dtypes: float64(2), object(1)\n",
      "memory usage: 271.1+ KB\n"
     ]
    }
   ],
   "source": [
    "df = pd.read_csv(\"input/geocode-db.csv\", low_memory=False, names=[\"street\",\"lat\",\"lng\"])\n",
    "street_addresses = [x.title() for x in df[\"street\"]]\n",
    "print(f\"{len(street_addresses):,} street addresses={street_addresses[:10]}\")\n",
    "street_addresses = set(street_addresses)\n",
    "df.info()"
   ]
  },
  {
   "cell_type": "code",
   "execution_count": 6,
   "id": "17d5b87a",
   "metadata": {},
   "outputs": [
    {
     "name": "stdout",
     "output_type": "stream",
     "text": [
      "LlamaTokenizerFast(name_or_path='/mnt/c/huggingface/mistralai/Mixtral-8x7B-Instruct-v0.1', vocab_size=32000, model_max_length=4096, is_fast=True, padding_side='left', truncation_side='right', special_tokens={'bos_token': '<s>', 'eos_token': '</s>', 'unk_token': '<unk>', 'pad_token': '</s>'}, clean_up_tokenization_spaces=False),  added_tokens_decoder={\n",
      "\t0: AddedToken(\"<unk>\", rstrip=False, lstrip=False, single_word=False, normalized=False, special=True),\n",
      "\t1: AddedToken(\"<s>\", rstrip=False, lstrip=False, single_word=False, normalized=False, special=True),\n",
      "\t2: AddedToken(\"</s>\", rstrip=False, lstrip=False, single_word=False, normalized=False, special=True),\n",
      "}\n",
      "model_input_names=['input_ids', 'attention_mask']\n",
      "pad_token_id=2\n"
     ]
    }
   ],
   "source": [
    "tokenizer = AutoTokenizer.from_pretrained(str(model_dir), model_max_length=model_max_length)\n",
    "tokenizer.pad_token = tokenizer.eos_token\n",
    "print(f\"{repr(tokenizer)}\\nmodel_input_names={tokenizer.model_input_names}\")\n",
    "print(f\"pad_token_id={tokenizer.pad_token_id}\")"
   ]
  },
  {
   "cell_type": "code",
   "execution_count": 7,
   "id": "f6e82067",
   "metadata": {},
   "outputs": [
    {
     "data": {
      "application/vnd.jupyter.widget-view+json": {
       "model_id": "dc2e3f6ea9294452b7b6965e80072e88",
       "version_major": 2,
       "version_minor": 0
      },
      "text/plain": [
       "Loading checkpoint shards:   0%|          | 0/19 [00:00<?, ?it/s]"
      ]
     },
     "metadata": {},
     "output_type": "display_data"
    },
    {
     "name": "stdout",
     "output_type": "stream",
     "text": [
      "CPU times: user 4min 9s, sys: 3min 34s, total: 7min 43s\n",
      "Wall time: 14min 1s\n"
     ]
    }
   ],
   "source": [
    "%%time\n",
    "quantization_config = BitsAndBytesConfig(\n",
    "    load_in_4bit=True,\n",
    "    bnb_4bit_quant_type=\"nf4\",\n",
    "    bnb_4bit_compute_dtype=torch.bfloat16,\n",
    "    bnb_4bit_use_double_quant=True,\n",
    ")\n",
    "model = AutoModelForCausalLM.from_pretrained(\n",
    "    str(model_dir),\n",
    "    device_map = \"auto\",\n",
    "    quantization_config=quantization_config,\n",
    ")"
   ]
  },
  {
   "cell_type": "code",
   "execution_count": 8,
   "id": "83c69bf2",
   "metadata": {},
   "outputs": [
    {
     "name": "stdout",
     "output_type": "stream",
     "text": [
      "MixtralForCausalLM(\n",
      "  (model): MixtralModel(\n",
      "    (embed_tokens): Embedding(32000, 4096)\n",
      "    (layers): ModuleList(\n",
      "      (0-31): 32 x MixtralDecoderLayer(\n",
      "        (self_attn): MixtralSdpaAttention(\n",
      "          (q_proj): Linear4bit(in_features=4096, out_features=4096, bias=False)\n",
      "          (k_proj): Linear4bit(in_features=4096, out_features=1024, bias=False)\n",
      "          (v_proj): Linear4bit(in_features=4096, out_features=1024, bias=False)\n",
      "          (o_proj): Linear4bit(in_features=4096, out_features=4096, bias=False)\n",
      "          (rotary_emb): MixtralRotaryEmbedding()\n",
      "        )\n",
      "        (block_sparse_moe): MixtralSparseMoeBlock(\n",
      "          (gate): Linear4bit(in_features=4096, out_features=8, bias=False)\n",
      "          (experts): ModuleList(\n",
      "            (0-7): 8 x MixtralBlockSparseTop2MLP(\n",
      "              (w1): Linear4bit(in_features=4096, out_features=14336, bias=False)\n",
      "              (w2): Linear4bit(in_features=14336, out_features=4096, bias=False)\n",
      "              (w3): Linear4bit(in_features=4096, out_features=14336, bias=False)\n",
      "              (act_fn): SiLU()\n",
      "            )\n",
      "          )\n",
      "        )\n",
      "        (input_layernorm): MixtralRMSNorm()\n",
      "        (post_attention_layernorm): MixtralRMSNorm()\n",
      "      )\n",
      "    )\n",
      "    (norm): MixtralRMSNorm()\n",
      "  )\n",
      "  (lm_head): Linear(in_features=4096, out_features=32000, bias=False)\n",
      ")\n"
     ]
    }
   ],
   "source": [
    "print(model)"
   ]
  },
  {
   "cell_type": "code",
   "execution_count": 9,
   "id": "764bc968-691f-4d51-b107-3935334e099e",
   "metadata": {},
   "outputs": [
    {
     "name": "stdout",
     "output_type": "stream",
     "text": [
      "[INST] Write a short essay on the following topic:\n",
      "        In Education Policy and Reform, how can the integration of a learning launch tool within the design thinking process enhance the development and testing of ideas, prototypes, and products?\n",
      "        Intersperse the following information in different parts of the essay:\n",
      "        1. Give an example that occurred near Pasir Ris Street 11 (Block 125), at a school frequented by Justin Kaiser\n",
      "        2. Give an example citing someone named JustinKaiser\n",
      "        3. Give an example citing: periscope.tv/officialjustiniamkaiser [/INST]\n",
      "        \n"
     ]
    }
   ],
   "source": [
    "prompter = Prompter(target_size=target_size, student_names=student_names, street_addresses=street_addresses)\n",
    "res = prompter.prompt()\n",
    "print(res.prompt)"
   ]
  },
  {
   "cell_type": "code",
   "execution_count": 10,
   "id": "784f0d32",
   "metadata": {},
   "outputs": [
    {
     "name": "stderr",
     "output_type": "stream",
     "text": [
      "100%|██████████████████████████████████████████████████████████████████████████████████████████████████████████████████████████████████████████████████| 180/180 [5:15:41<00:00, 105.23s/it]"
     ]
    },
    {
     "name": "stdout",
     "output_type": "stream",
     "text": [
      "CPU times: user 4h 57min 30s, sys: 18min 13s, total: 5h 15min 44s\n",
      "Wall time: 5h 15min 41s\n"
     ]
    },
    {
     "name": "stderr",
     "output_type": "stream",
     "text": [
      "\n"
     ]
    }
   ],
   "source": [
    "%%time\n",
    "rows = []\n",
    "for _ in tqdm(range(target_size)):\n",
    "    res = prompter.prompt()\n",
    "    inputs = tokenizer(res.prompt, return_tensors=\"pt\").to(device)\n",
    "    outputs = model.generate(\n",
    "        **inputs, \n",
    "        max_new_tokens=512,\n",
    "        do_sample=True,\n",
    "        temperature=1.0,\n",
    "        top_p=0.95,\n",
    "        top_k=100,\n",
    "        repetition_penalty=1.1,\n",
    "        pad_token_id=tokenizer.eos_token_id,\n",
    "    )\n",
    "    generated_text = tokenizer.batch_decode(outputs, skip_special_tokens=True)[0]\n",
    "    generated_text = generated_text.split(\"[/INST]\")[1]\n",
    "    generated_text = generated_text.strip()\n",
    "    rows.append({\n",
    "        \"text\": generated_text,\n",
    "        \"prompt\": res.prompt,\n",
    "        \"street_address\": res.street_address,\n",
    "        \"student_name\": res.student_name,\n",
    "        \"username\": res.username,\n",
    "        \"personal_url\": res.personal_url,\n",
    "        \"model\": model_dir.name,\n",
    "    })"
   ]
  },
  {
   "cell_type": "code",
   "execution_count": 11,
   "id": "06b64fa3-bc66-4aa0-ac36-7ddba1598aba",
   "metadata": {},
   "outputs": [
    {
     "name": "stdout",
     "output_type": "stream",
     "text": [
      "<class 'pandas.core.frame.DataFrame'>\n",
      "RangeIndex: 180 entries, 0 to 179\n",
      "Data columns (total 7 columns):\n",
      " #   Column          Non-Null Count  Dtype \n",
      "---  ------          --------------  ----- \n",
      " 0   text            180 non-null    object\n",
      " 1   prompt          180 non-null    object\n",
      " 2   street_address  180 non-null    object\n",
      " 3   student_name    180 non-null    object\n",
      " 4   username        180 non-null    object\n",
      " 5   personal_url    180 non-null    object\n",
      " 6   model           180 non-null    object\n",
      "dtypes: object(7)\n",
      "memory usage: 10.0+ KB\n"
     ]
    }
   ],
   "source": [
    "df = pd.DataFrame.from_records(rows)\n",
    "df.info()"
   ]
  },
  {
   "cell_type": "code",
   "execution_count": 12,
   "id": "6efe748b-2f3f-4366-bc77-7de716298c6a",
   "metadata": {},
   "outputs": [
    {
     "data": {
      "text/html": [
       "<div>\n",
       "<style scoped>\n",
       "    .dataframe tbody tr th:only-of-type {\n",
       "        vertical-align: middle;\n",
       "    }\n",
       "\n",
       "    .dataframe tbody tr th {\n",
       "        vertical-align: top;\n",
       "    }\n",
       "\n",
       "    .dataframe thead th {\n",
       "        text-align: right;\n",
       "    }\n",
       "</style>\n",
       "<table border=\"1\" class=\"dataframe\">\n",
       "  <thead>\n",
       "    <tr style=\"text-align: right;\">\n",
       "      <th></th>\n",
       "      <th>text</th>\n",
       "      <th>prompt</th>\n",
       "      <th>street_address</th>\n",
       "      <th>student_name</th>\n",
       "      <th>username</th>\n",
       "      <th>personal_url</th>\n",
       "      <th>model</th>\n",
       "    </tr>\n",
       "  </thead>\n",
       "  <tbody>\n",
       "    <tr>\n",
       "      <th>0</th>\n",
       "      <td>In the field of architecture and urban design, visualization tools have become increasingly important for fostering innovation and collaboration in a design thinking approach. These tools allow designers to communicate their ideas more effectively, enabling stakeholders to better understand the proposed designs and provide valuable feedback. This collaborative process leads to innovative solutions that are tailored to the needs of the community.\\n\\n        One example of this can be seen near Serangoon North, at a nature park frequented by Ahmad bin Abdullah. A group of architects and urban planners used visualization tools to gather input from the community regarding the redesign of the park. By creating 3D models and virtual reality simulations, they were able to demonstrate the potential impact of their plans on the environment and the community. Through this process, Ahmad bin Abdullah was able to share his insights on how the park could better serve the community's needs. His suggestions, combined with those of other stakeholders, led to a final design that improved accessibility and safety while preserving the natural beauty of the space.\\n\\n        The use of visualization tools can also enable individuals, such as 4807.ahmad-iam--abdullah, to contribute to the design process. For instance, if 4807.ahmad-iam--abdullah had an idea for improving the layout of a building or public space, he could easily create a visual representation using free or low-cost software. This user-generated content can then be shared with architects and urban planners, promoting collaboration and ensuring that diverse perspectives are considered throughout the design process.\\n\\n        Another powerful example comes from periscope.tv/ahmadabdullahxxx, where Ahmad Abdullah live-streamed a presentation on a new urban design concept. Using real-time visualization tools, he demonstrated the feasibility of his idea and the benefits it would bring to the community. As viewers provided feedback and suggested modifications, Ahmad Abdullah was able to refine his concept and present a more robust proposal that met the community's needs while showcasing his creative vision.\\n\\n        Visualization tools not only facilitate communication between designers and the community, but they also help designers explore various options and assess their viability quickly. By generating realistic representations of proposed designs, these tools enable designers to identify potential issues early in the process and make adjustments accordingly. This iterative approach ultimately leads to better designs</td>\n",
       "      <td>[INST] Write a short essay on the following topic:\\n        In Architecture and Urban Design, how can visualization tools foster innovation and collaboration in a design thinking approach?\\n        Intersperse the following information in different parts of the essay:\\n        1. Give an example that occurred near Serangoon North (Block 105), at a nature park frequented by Ahmad bin Abdullah\\n        2. Give an example citing someone named _4807.ahmad-iam--abdullah\\n        3. Give an example citing: periscope.tv/ahmadabdullahxxx [/INST]\\n</td>\n",
       "      <td>Serangoon North (Block 105)</td>\n",
       "      <td>Ahmad bin Abdullah</td>\n",
       "      <td>_4807.ahmad-iam--abdullah</td>\n",
       "      <td>periscope.tv/ahmadabdullahxxx</td>\n",
       "      <td>Mixtral-8x7B-Instruct-v0.1</td>\n",
       "    </tr>\n",
       "    <tr>\n",
       "      <th>1</th>\n",
       "      <td>Sustainable urban development is a critical issue facing cities around the world today. As urban populations continue to grow, it is essential that we find innovative and collaborative solutions to create sustainable and livable communities. One approach that has shown promise in fostering innovation and collaboration in sustainable urban development is the use of storytelling within the design thinking process.\\n\\nStorytelling is a powerful tool for inspiring empathy, understanding, and creativity. By sharing stories about the experiences and needs of individuals and communities, designers and planners can gain insights into the complex challenges facing urban areas. These stories can then be used to inform the design thinking process, helping to generate new ideas, test assumptions, and build consensus around potential solutions.\\n\\nOne example of the power of storytelling in sustainable urban development can be seen near Senja Road (Block 612), at a subway station frequented by Nurul Huda. Nurul is a daily user of the station and has experienced firsthand the challenges of navigating the crowded and poorly designed space. By sharing her story with local officials and urban planners, she was able to help them understand the impact of their decisions on real people's lives. This, in turn, helped to inspire new ideas and approaches to improving the station's design and functionality.\\n\\nAnother example of the use of storytelling in sustainable urban development can be found in the work of __iamNurul_xxx.Huda, a designer and researcher who uses storytelling as a key part of her design thinking process. By collecting stories from individuals and communities, she is able to gain insights into their needs, values, and aspirations. She then uses these stories to inform the design of sustainable urban spaces, creating spaces that are not only functional but also meaningful and engaging for the people who use them.\\n\\nFinally, the blogspot.me/@iamnurulhuda provides a great resource for anyone interested in learning more about the intersection of storytelling and sustainable urban development. The blog features a range of stories and case studies that illustrate the power of storytelling in generating new ideas and solutions for urban sustainability. From innovative approaches to public transportation and waste management to creative strategies for community engagement and empowerment, the blog highlights the many ways that storytelling can be used to foster collaboration, creativity, and social impact.\\n\\nIn conclusion, storytelling is a valuable tool for fostering innovation and collaboration</td>\n",
       "      <td>[INST] Write a short essay on the following topic:\\n        In Sustainable Urban Development, how can storytelling be used within the design thinking process to foster innovation and collaboration?\\n        Intersperse the following information in different parts of the essay:\\n        1. Give an example that occurred near Senja Road (Block 612), at a subway station frequented by Nurul Huda\\n        2. Give an example citing someone named __iamNurul_xxx.Huda\\n        3. Give an example citing: blogspot.me/@iamnurulhuda [/INST]\\n</td>\n",
       "      <td>Senja Road (Block 612)</td>\n",
       "      <td>Nurul Huda</td>\n",
       "      <td>__iamNurul_xxx.Huda</td>\n",
       "      <td>blogspot.me/@iamnurulhuda</td>\n",
       "      <td>Mixtral-8x7B-Instruct-v0.1</td>\n",
       "    </tr>\n",
       "    <tr>\n",
       "      <th>2</th>\n",
       "      <td>Title: The Power of Storytelling in Biodiversity Preservation and Restoration through Design Thinking\\n\\nBiodiversity preservation and restoration is a critical issue that requires innovative and collaborative solutions. One approach that has proven effective in fostering innovation and collaboration is the use of storytelling within the design thinking process. By sharing personal narratives, insights, and experiences related to biodiversity loss and habitat degradation, individuals and communities can develop empathy, creativity, and a shared sense of purpose.\\n\\nFor instance, consider the community near Boon Teck Road (D'Mira) in Singapore, where a group of residents led by Sinta Permata have been actively involved in preserving and restoring the local biodiversity. Through storytelling sessions, they have shared their observations of the decline in the population of birds, butterflies, and other pollinators in the area. These stories helped raise awareness among the community members about the importance of biodiversity and the need for action. As a result, the community has taken several measures, such as planting native plants and creating habitats for pollinators, which has resulted in an increase in the number of pollinators and other wildlife in the area.\\n\\nSimilarly, the-sinta3719permata, an environmental activist and storyteller, has used her platform to share stories of biodiversity loss and habitat degradation in her native Indonesia. Her stories, often featuring personal anecdotes and vivid descriptions, have inspired many to take action and participate in conservation efforts. For instance, she has organized tree-planting events and community cleanups, bringing together people from different backgrounds to work towards a common goal.\\n\\nAnother example of the power of storytelling comes from sinaweibo.com/sintaiampermatathe, a website dedicated to sharing stories of biodiversity loss and habitat degradation in China. The site features stories from scientists, policymakers, and ordinary citizens who have witnessed the impact of habitat destruction and climate change on local ecosystems. These stories have created a ripple effect, inspiring readers to take action and get involved in conservation efforts in their own communities.\\n\\nStorytelling can also play a critical role in the design thinking process, which involves five stages: empathize, define, ideate, prototype, and test. By</td>\n",
       "      <td>[INST] Write a short essay on the following topic:\\n        In Biodiversity Preservation and Restoration, how can storytelling be used within the design thinking process to foster innovation and collaboration?\\n        Intersperse the following information in different parts of the essay:\\n        1. Give an example that occurred near Boon Teck Road (D'Mira), at a village frequented by Sinta Permata\\n        2. Give an example citing someone named the-sinta3719permata\\n        3. Give an example citing: sinaweibo.com/sintaiampermatathe [/INST]\\n</td>\n",
       "      <td>Boon Teck Road (D'Mira)</td>\n",
       "      <td>Sinta Permata</td>\n",
       "      <td>the-sinta3719permata</td>\n",
       "      <td>sinaweibo.com/sintaiampermatathe</td>\n",
       "      <td>Mixtral-8x7B-Instruct-v0.1</td>\n",
       "    </tr>\n",
       "    <tr>\n",
       "      <th>3</th>\n",
       "      <td>In the field of architecture and urban design, visualization tools have become increasingly important in fostering innovation and collaboration in a design thinking approach. These tools allow designers and stakeholders to communicate and share ideas more effectively, leading to improved problem-solving and creative decision-making.\\n\\nA prime example of this can be seen near Saint Patrick's Road, where a community-led revitalization project transformed a formerly dilapidated area into a vibrant hub for residents and visitors alike. At the heart of this project was the use of visualization tools, which enabled all parties involved to clearly understand the proposed changes and provide valuable feedback.\\n\\nOne individual who played a key role in this project was Nurul Fitri, a local resident and active member of the community. Through the use of visualization software, Nurul was able to contribute her unique perspective and ideas to the design process, resulting in a final product that truly reflected the needs and desires of the people it served.\\n\\nThis same principle is exemplified by the work of Nurulfitri.xxx, an architect and urban designer who has gained recognition for their innovative use of visualization tools in the design process. By creating immersive, interactive models, Nurulfitri is able to bring stakeholders directly into the design conversation, enabling them to fully grasp the potential impact of different decisions and make informed choices.\\n\\nThe power of visualization tools is also evident on Instagram, specifically at instagram.com/nurul--xxxfitriiam. Here, Nurul shares stunning 3D renders and virtual walkthroughs of their designs, showcasing the intricate details and thoughtful considerations that go into each project. This level of transparency not only inspires trust and confidence in clients but also encourages collaboration and constructive criticism, further elevating the quality of the finished product.\\n\\nIn conclusion, visualization tools are an essential component of modern architecture and urban design, facilitating innovation and collaboration through clear communication and shared understanding. By harnessing the power of these tools, professionals like Nurul Fitri and platforms such as instagram.com/nurul--xxxfitriiam demonstrate the immense potential for positive change in our built environment.</td>\n",
       "      <td>[INST] Write a short essay on the following topic:\\n        In Architecture and Urban Design, how can visualization tools foster innovation and collaboration in a design thinking approach?\\n        Intersperse the following information in different parts of the essay:\\n        1. Give an example that occurred near Saint Patrick'S Road (Grand Duchess @ Saint Patrick'S), at a village frequented by Nurul Fitri\\n        2. Give an example citing someone named nurulfitri.xxx\\n        3. Give an example citing: instagram.com/nurul--xxxfitriiam [/INST]\\n</td>\n",
       "      <td>Saint Patrick'S Road (Grand Duchess @ Saint Patrick'S)</td>\n",
       "      <td>Nurul Fitri</td>\n",
       "      <td>nurulfitri.xxx</td>\n",
       "      <td>instagram.com/nurul--xxxfitriiam</td>\n",
       "      <td>Mixtral-8x7B-Instruct-v0.1</td>\n",
       "    </tr>\n",
       "    <tr>\n",
       "      <th>4</th>\n",
       "      <td>Ocean conservation and coastal management are critical issues that require innovative solutions to protect our planet's future. Design thinking is an effective approach to fostering creativity and teamwork when addressing these challenges. Brainstorming and prototyping, two essential stages in the design thinking process, can help ocean conservationists and coastal managers develop novel ideas and collaborate effectively to implement them.\\n\\n         For instance, consider a situation that occurred near Westwood Walk, a popular town frequented by Nina Setiawan, a passionate advocate for ocean conservation. One day, while walking along the beach, Nina noticed an excessive amount of plastic waste scattered along the shoreline. Realizing the urgent need for action, she decided to apply her knowledge of design thinking to tackle this problem.\\n\\n         First, Nina gathered a group of friends and local volunteers for a brainstorming session. They discussed potential solutions to the plastic pollution issue, drawing inspiration from various sources. During this stage, participants felt free to share their thoughts without judgment, allowing a wide range of creative ideas to surface. These ranged from organizing cleanups, creating art installations out of recycled materials, and developing educational programs to teach community members about sustainable waste disposal. The openness of this stage helped create a sense of ownership and collaboration among the team, empowering everyone involved to contribute meaningfully.\\n\\n         One member of the group, going by the username \"nina.official-setiawan,\" proposed designing a mobile app that gamified beach cleanup activities. Users would earn points by collecting litter, with higher scores translating into rewards like discounts at local businesses. By tapping into people's competitive nature and desire for recognition, this approach would encourage more individuals to participate in cleanups. The group agreed it was an innovative idea worth prototyping.\\n\\n         Prototyping then became the next focus as they developed a basic version of the app for user testing. A small group of beta testers provided feedback on functionality, engagement, and usability. What emerged from the prototype phase was a fun, interactive way to engage locals and tourists alike in keeping the coastlines clean.\\n\\n         Additionally, another group member presented a contact from WhatsApp (whatsapp.com/ninaofficialsetiawan) who worked at a tech firm interested in sponsoring the project. They offered resources and mentorship to help bring the concept to fruition. As the project evolved, the initial collective of volunteers formed</td>\n",
       "      <td>[INST] Write a short essay on the following topic:\\n        In Ocean Conservation and Coastal Management, how does brainstorming and prototyping within the design thinking process foster creativity and teamwork?\\n        Intersperse the following information in different parts of the essay:\\n        1. Give an example that occurred near Westwood Walk, at a town frequented by Nina Setiawan\\n        2. Give an example citing someone named nina.official-setiawan\\n        3. Give an example citing: whatsapp.com/ninaofficialsetiawan [/INST]\\n</td>\n",
       "      <td>Westwood Walk</td>\n",
       "      <td>Nina Setiawan</td>\n",
       "      <td>nina.official-setiawan</td>\n",
       "      <td>whatsapp.com/ninaofficialsetiawan</td>\n",
       "      <td>Mixtral-8x7B-Instruct-v0.1</td>\n",
       "    </tr>\n",
       "    <tr>\n",
       "      <th>5</th>\n",
       "      <td>In today's rapidly evolving digital landscape, organizations are increasingly embracing emerging technologies and digital transformation to stay competitive and relevant. A crucial aspect of this transformation is the integration of a learning launch tool within the design thinking process. This approach not only enhances idea generation but also streamlines the prototyping and testing phases of product development. Here are some examples that illustrate the benefits of this method.\\n\\nFirstly, let's consider the case of Salmiah Binte Mohamad, who frequently uses public transportation in Tampines Street 81 (Block 888). Recently, she noticed that passengers often experienced difficulties while using the subway ticket machines due to their complex interface and unclear instructions. Using a learning launch tool during the design thinking process could have addressed this issue. The tool would enable designers to quickly prototype potential solutions, test them with users like Salmiah, and gather valuable feedback to refine the final product. This iterative approach allows designers to identify user pain points early on, saving time and resources.\\n\\nSecondly, consider the example of xxxsalmiahofficialmohamad, a designer known for creating innovative digital products. By integrating a learning launch tool into her workflow, she can create a more engaging and interactive design experience. Through continuous experimentation, prototyping, and user testing, xxxsalmiahofficialmohamad can gain insights into user behavior, enabling her to create intuitive and functional designs. As a result, her clients benefit from highly effective products that meet their needs and exceed expectations.\\n\\nLastly, let's look at the work of Salmiah Mohamad Official on Behance (behance.net/salmiahmohamadofficial). His project showcases the power of combining design thinking and learning launch tools to build better products. By testing various prototypes, collecting user feedback, and iterating on the design, he developed an app that simplified the booking and reservation process for local events and venues. This approach allowed him to address user concerns in real-time, ensuring a high-quality end-product.\\n\\nIn conclusion, the integration of a learning launch tool within the design thinking process brings numerous benefits to the development and testing of ideas, prototypes, and products. This method enables rapid iteration, encourages user feedback, and promotes informed decision-making based on data. Whether designing ticketing</td>\n",
       "      <td>[INST] Write a short essay on the following topic:\\n        In Emerging Technologies and Digital Transformation, how can the integration of a learning launch tool within the design thinking process enhance the development and testing of ideas, prototypes, and products?\\n        Intersperse the following information in different parts of the essay:\\n        1. Give an example that occurred near Tampines Street 81 (Block 888), at a subway station frequented by Salmiah Binte Mohamad\\n        2. Give an example citing someone named xxxsalmiahofficialmohamad\\n        3. Give an example citing: behance.net/salmiahmohamadofficial [/INST]\\n</td>\n",
       "      <td>Tampines Street 81 (Block 888)</td>\n",
       "      <td>Salmiah Binte Mohamad</td>\n",
       "      <td>xxxsalmiahofficialmohamad</td>\n",
       "      <td>behance.net/salmiahmohamadofficial</td>\n",
       "      <td>Mixtral-8x7B-Instruct-v0.1</td>\n",
       "    </tr>\n",
       "    <tr>\n",
       "      <th>6</th>\n",
       "      <td>Biodiversity preservation and restoration are critical issues facing our planet today. To effectively address these challenges, creative and collaborative approaches to problem-solving are essential. One such approach is the design thinking process, which emphasizes brainstorming and prototyping as a means of fostering creativity and teamwork.\\n\\nAt a subway station near Circuit Road (Block 62), for example, a group of concerned citizens noticed a decline in the population of local bird species due to habitat loss. By using the design thinking process, this group was able to brainstorm creative solutions and prototype potential interventions. They came up with the idea of installing nesting boxes and feeding stations along the edges of the station platform, providing a safe and accessible environment for the birds to thrive. This project not only helped to preserve and restore biodiversity in the area but also brought together a community of individuals who were passionate about making a difference.\\n\\nAnother example of the power of brainstorming and prototyping within the design thinking process can be seen in the work of Nicholas637-samiiam_, an environmental activist and designer. Through brainstorming sessions with his team, Nicholas was able to come up with a range of innovative ideas for reducing plastic waste in coastal communities. By prototyping and testing these ideas, they were able to identify a solution that involved creating modular, reusable containers for collecting and transporting fish waste from local markets. This simple yet effective intervention has since been adopted by communities around the world, helping to reduce plastic pollution and protect marine biodiversity.\\n\\nLastly, dribbble.com/iamnicholasofficial-sami, a design studio specializing in sustainable urban planning, used the design thinking process to develop a new approach to green infrastructure in cities. By brainstorming and prototyping various designs, they created a network of interconnected green spaces that could support both biodiversity and human activity. The resulting \"green corridors\" have since become a model for sustainable urban development around the globe.\\n\\nIn each of these examples, the use of brainstorming and prototyping within the design thinking process allowed for the creation of innovative and impactful solutions to complex biodiversity challenges. These approaches enabled teams to think creatively, work collaboratively, and bring their ideas to life in practical ways. As we continue to face increasing threats to b</td>\n",
       "      <td>[INST] Write a short essay on the following topic:\\n        In Biodiversity Preservation and Restoration, how does brainstorming and prototyping within the design thinking process foster creativity and teamwork?\\n        Intersperse the following information in different parts of the essay:\\n        1. Give an example that occurred near Circuit Road (Block 62), at a subway station frequented by Nicholas Sami\\n        2. Give an example citing someone named nicholas637-samiiam_\\n        3. Give an example citing: dribbble.com/iamnicholasofficial-sami [/INST]\\n</td>\n",
       "      <td>Circuit Road (Block 62)</td>\n",
       "      <td>Nicholas Sami</td>\n",
       "      <td>nicholas637-samiiam_</td>\n",
       "      <td>dribbble.com/iamnicholasofficial-sami</td>\n",
       "      <td>Mixtral-8x7B-Instruct-v0.1</td>\n",
       "    </tr>\n",
       "    <tr>\n",
       "      <th>7</th>\n",
       "      <td>In today's fast-paced and complex world, government policy and administration face increasing challenges to keep up with the needs and expectations of their constituents. One innovative approach that has gained popularity in recent years is the use of visualization tools in a design thinking methodology. This human-centered approach encourages experimentation, iteration, and collaboration in the problem-solving process. Visualization tools can play a crucial role in fostering innovation and collaboration in this context.\\n\\n         One example of the power of visualization tools in government policy and administration can be seen near Lengkok Tiga, at a subway station frequented by Vishal Kapoor. The station's outdated and confusing signage caused significant inconvenience for commuters, leading to long lines and delays during peak hours. To address this issue, the transportation authority implemented a design thinking approach and used visualization tools to redesign the signage system. With the help of 3D modeling software, they were able to create interactive prototypes of the new signs and simulate their impact on the station's flow of passengers. By involving commuters like Vishal Kapoor in the testing and feedback process, the transportation authority was able to identify areas for improvement and refine the design before implementation. As a result, the new signage system significantly improved the efficiency and experience of the station, reducing wait times and enhancing user satisfaction.\\n\\n         Another example of the value of visualization tools in government policy and administration comes from the work of _1773vishal__, who used data visualization to improve the decision-making process in his local community. He noticed that many residents struggled to understand the impact of various policies on their daily lives. To address this challenge, he created interactive maps and charts using open data sources and shared them on social media platforms. These visualizations helped residents see the connections between policy decisions and their real-world consequences, enabling them to engage more effectively in local governance and advocacy efforts. By making complex information accessible and engaging, _1773vishal__ helped build trust and collaboration between citizens and policymakers, ultimately fostering a more inclusive and innovative community.\\n\\n         A final illustration of the potential of visualization tools in government policy and administration can be found in the work of vimeo.com/vishaliamkapoor. Through the use of virtual reality technology, he created immersive simulations of various urban</td>\n",
       "      <td>[INST] Write a short essay on the following topic:\\n        In Government Policy and Administration, how can visualization tools foster innovation and collaboration in a design thinking approach?\\n        Intersperse the following information in different parts of the essay:\\n        1. Give an example that occurred near Lengkok Tiga (Block 108), at a subway station frequented by Vishal Kapoor\\n        2. Give an example citing someone named _1773vishal__xxxkapoor\\n        3. Give an example citing: vimeo.com/vishaliamkapoorthe [/INST]\\n</td>\n",
       "      <td>Lengkok Tiga (Block 108)</td>\n",
       "      <td>Vishal Kapoor</td>\n",
       "      <td>_1773vishal__xxxkapoor</td>\n",
       "      <td>vimeo.com/vishaliamkapoorthe</td>\n",
       "      <td>Mixtral-8x7B-Instruct-v0.1</td>\n",
       "    </tr>\n",
       "    <tr>\n",
       "      <th>8</th>\n",
       "      <td>In the field of environmental planning and sustainability, storytelling is an essential tool for fostering innovation and collaboration. It allows us to understand complex systems, engage with different perspectives, and create meaningful solutions that address the needs and values of the communities we serve. By incorporating storytelling into the design thinking process, we can create more inclusive and equitable outcomes that benefit everyone involved.\\n\\nOne example of this approach in action is the work of Kavita Singh, an environmental planner who has used storytelling to engage local communities in the design of sustainable infrastructure projects. Near West Coast Walk, a popular tourist destination, Kavita noticed that many visitors were leaving behind litter and damaging the natural environment. To address this issue, she organized a series of community workshops where locals could share their stories about the area and brainstorm ideas for reducing waste and protecting the environment. Through these workshops, Kavita was able to identify common values and concerns, such as the importance of preserving the natural beauty of the area and promoting responsible tourism. She then worked with designers and engineers to develop a pilot project that incorporated these values and addressed the specific challenges of the site. The result was a successful collaboration between the community, government agencies, and private companies that resulted in a new waste management system that reduced litter and improved the overall experience for visitors.\\n\\nAnother example of using storytelling in the design thinking process comes from the_kavita-officialsingh, an activist and storyteller who focuses on the intersection of climate change and social justice. Through her work, she has highlighted the stories of individuals and communities who are most vulnerable to the impacts of climate change, such as low-income farmers and indigenous peoples. By amplifying these voices, she has helped to shift the narrative around climate change from a technical problem to a social justice issue. This has inspired new collaborations between environmental organizations, social justice groups, and policymakers, resulting in more holistic and effective approaches to addressing climate change.\\n\\nFinally, the Telegram channel telegram.org/thekavita6378--singhiam offers a unique example of using storytelling to build a community around sustainability. The channel features personal stories and reflections from Kavita Singh, as well as guest posts from other sustainability advocates and practitioners. These stories range from practical tips for reducing waste and conserving resources to philosophical musings on the meaning of</td>\n",
       "      <td>[INST] Write a short essay on the following topic:\\n        In Environmental Planning and Sustainability, how can storytelling be used within the design thinking process to foster innovation and collaboration?\\n        Intersperse the following information in different parts of the essay:\\n        1. Give an example that occurred near West Coast Walk, at a town frequented by Kavita Singh\\n        2. Give an example citing someone named the_kavita-officialsingh\\n        3. Give an example citing: telegram.org/thekavita6378--singhiam [/INST]\\n</td>\n",
       "      <td>West Coast Walk</td>\n",
       "      <td>Kavita Singh</td>\n",
       "      <td>the_kavita-officialsingh</td>\n",
       "      <td>telegram.org/thekavita6378--singhiam</td>\n",
       "      <td>Mixtral-8x7B-Instruct-v0.1</td>\n",
       "    </tr>\n",
       "    <tr>\n",
       "      <th>9</th>\n",
       "      <td>In recent years, there has been a growing interest in incorporating learning launch tools into government policy and administration, particularly in the design thinking process. This approach involves using a variety of tools and techniques to quickly and efficiently test, develop, and iterate on new ideas, prototypes, and products. By integrating a learning launch tool within this process, governments can make more informed decisions and create better outcomes for their constituents.\\n\\nOne example of this in action can be seen near Tampines Street 3</td>\n",
       "      <td>[INST] Write a short essay on the following topic:\\n        In Government Policy and Administration, how can the integration of a learning launch tool within the design thinking process enhance the development and testing of ideas, prototypes, and products?\\n        Intersperse the following information in different parts of the essay:\\n        1. Give an example that occurred near Tampines Street 33 (Block 322), at a city plaza frequented by Renzo Atienza\\n        2. Give an example citing someone named renzo_atienzathe__\\n        3. Give an example citing: github.com/renzoatienza-official [/INST]\\n</td>\n",
       "      <td>Tampines Street 33 (Block 322)</td>\n",
       "      <td>Renzo Atienza</td>\n",
       "      <td>renzo_atienzathe__</td>\n",
       "      <td>github.com/renzoatienza-official</td>\n",
       "      <td>Mixtral-8x7B-Instruct-v0.1</td>\n",
       "    </tr>\n",
       "  </tbody>\n",
       "</table>\n",
       "</div>"
      ],
      "text/plain": [
       "                                                                                                                                                                                                                                                                                                                                                                                                                                                                                                                                                                                                                                                                                                                                                                                                                                                                                                                                                                                                                                                                                                                                                                                                                                                                                                                                                                                                                                                                                                                                                                                                                                                                                                                                                                                                                                                                                                                                                                                                                                                                                                                                                                                                                                                                                                                                                                                                                                                                                                                                                                                                                                                                                                                                                                                                                                                        text  \\\n",
       "0                                                                                                                                           In the field of architecture and urban design, visualization tools have become increasingly important for fostering innovation and collaboration in a design thinking approach. These tools allow designers to communicate their ideas more effectively, enabling stakeholders to better understand the proposed designs and provide valuable feedback. This collaborative process leads to innovative solutions that are tailored to the needs of the community.\\n\\n        One example of this can be seen near Serangoon North, at a nature park frequented by Ahmad bin Abdullah. A group of architects and urban planners used visualization tools to gather input from the community regarding the redesign of the park. By creating 3D models and virtual reality simulations, they were able to demonstrate the potential impact of their plans on the environment and the community. Through this process, Ahmad bin Abdullah was able to share his insights on how the park could better serve the community's needs. His suggestions, combined with those of other stakeholders, led to a final design that improved accessibility and safety while preserving the natural beauty of the space.\\n\\n        The use of visualization tools can also enable individuals, such as 4807.ahmad-iam--abdullah, to contribute to the design process. For instance, if 4807.ahmad-iam--abdullah had an idea for improving the layout of a building or public space, he could easily create a visual representation using free or low-cost software. This user-generated content can then be shared with architects and urban planners, promoting collaboration and ensuring that diverse perspectives are considered throughout the design process.\\n\\n        Another powerful example comes from periscope.tv/ahmadabdullahxxx, where Ahmad Abdullah live-streamed a presentation on a new urban design concept. Using real-time visualization tools, he demonstrated the feasibility of his idea and the benefits it would bring to the community. As viewers provided feedback and suggested modifications, Ahmad Abdullah was able to refine his concept and present a more robust proposal that met the community's needs while showcasing his creative vision.\\n\\n        Visualization tools not only facilitate communication between designers and the community, but they also help designers explore various options and assess their viability quickly. By generating realistic representations of proposed designs, these tools enable designers to identify potential issues early in the process and make adjustments accordingly. This iterative approach ultimately leads to better designs   \n",
       "1                                                                                                                  Sustainable urban development is a critical issue facing cities around the world today. As urban populations continue to grow, it is essential that we find innovative and collaborative solutions to create sustainable and livable communities. One approach that has shown promise in fostering innovation and collaboration in sustainable urban development is the use of storytelling within the design thinking process.\\n\\nStorytelling is a powerful tool for inspiring empathy, understanding, and creativity. By sharing stories about the experiences and needs of individuals and communities, designers and planners can gain insights into the complex challenges facing urban areas. These stories can then be used to inform the design thinking process, helping to generate new ideas, test assumptions, and build consensus around potential solutions.\\n\\nOne example of the power of storytelling in sustainable urban development can be seen near Senja Road (Block 612), at a subway station frequented by Nurul Huda. Nurul is a daily user of the station and has experienced firsthand the challenges of navigating the crowded and poorly designed space. By sharing her story with local officials and urban planners, she was able to help them understand the impact of their decisions on real people's lives. This, in turn, helped to inspire new ideas and approaches to improving the station's design and functionality.\\n\\nAnother example of the use of storytelling in sustainable urban development can be found in the work of __iamNurul_xxx.Huda, a designer and researcher who uses storytelling as a key part of her design thinking process. By collecting stories from individuals and communities, she is able to gain insights into their needs, values, and aspirations. She then uses these stories to inform the design of sustainable urban spaces, creating spaces that are not only functional but also meaningful and engaging for the people who use them.\\n\\nFinally, the blogspot.me/@iamnurulhuda provides a great resource for anyone interested in learning more about the intersection of storytelling and sustainable urban development. The blog features a range of stories and case studies that illustrate the power of storytelling in generating new ideas and solutions for urban sustainability. From innovative approaches to public transportation and waste management to creative strategies for community engagement and empowerment, the blog highlights the many ways that storytelling can be used to foster collaboration, creativity, and social impact.\\n\\nIn conclusion, storytelling is a valuable tool for fostering innovation and collaboration   \n",
       "2                                                                                                                                                                                                                                                                                                                    Title: The Power of Storytelling in Biodiversity Preservation and Restoration through Design Thinking\\n\\nBiodiversity preservation and restoration is a critical issue that requires innovative and collaborative solutions. One approach that has proven effective in fostering innovation and collaboration is the use of storytelling within the design thinking process. By sharing personal narratives, insights, and experiences related to biodiversity loss and habitat degradation, individuals and communities can develop empathy, creativity, and a shared sense of purpose.\\n\\nFor instance, consider the community near Boon Teck Road (D'Mira) in Singapore, where a group of residents led by Sinta Permata have been actively involved in preserving and restoring the local biodiversity. Through storytelling sessions, they have shared their observations of the decline in the population of birds, butterflies, and other pollinators in the area. These stories helped raise awareness among the community members about the importance of biodiversity and the need for action. As a result, the community has taken several measures, such as planting native plants and creating habitats for pollinators, which has resulted in an increase in the number of pollinators and other wildlife in the area.\\n\\nSimilarly, the-sinta3719permata, an environmental activist and storyteller, has used her platform to share stories of biodiversity loss and habitat degradation in her native Indonesia. Her stories, often featuring personal anecdotes and vivid descriptions, have inspired many to take action and participate in conservation efforts. For instance, she has organized tree-planting events and community cleanups, bringing together people from different backgrounds to work towards a common goal.\\n\\nAnother example of the power of storytelling comes from sinaweibo.com/sintaiampermatathe, a website dedicated to sharing stories of biodiversity loss and habitat degradation in China. The site features stories from scientists, policymakers, and ordinary citizens who have witnessed the impact of habitat destruction and climate change on local ecosystems. These stories have created a ripple effect, inspiring readers to take action and get involved in conservation efforts in their own communities.\\n\\nStorytelling can also play a critical role in the design thinking process, which involves five stages: empathize, define, ideate, prototype, and test. By   \n",
       "3                                                                                                                                                                                                                                                                                                                                                                                    In the field of architecture and urban design, visualization tools have become increasingly important in fostering innovation and collaboration in a design thinking approach. These tools allow designers and stakeholders to communicate and share ideas more effectively, leading to improved problem-solving and creative decision-making.\\n\\nA prime example of this can be seen near Saint Patrick's Road, where a community-led revitalization project transformed a formerly dilapidated area into a vibrant hub for residents and visitors alike. At the heart of this project was the use of visualization tools, which enabled all parties involved to clearly understand the proposed changes and provide valuable feedback.\\n\\nOne individual who played a key role in this project was Nurul Fitri, a local resident and active member of the community. Through the use of visualization software, Nurul was able to contribute her unique perspective and ideas to the design process, resulting in a final product that truly reflected the needs and desires of the people it served.\\n\\nThis same principle is exemplified by the work of Nurulfitri.xxx, an architect and urban designer who has gained recognition for their innovative use of visualization tools in the design process. By creating immersive, interactive models, Nurulfitri is able to bring stakeholders directly into the design conversation, enabling them to fully grasp the potential impact of different decisions and make informed choices.\\n\\nThe power of visualization tools is also evident on Instagram, specifically at instagram.com/nurul--xxxfitriiam. Here, Nurul shares stunning 3D renders and virtual walkthroughs of their designs, showcasing the intricate details and thoughtful considerations that go into each project. This level of transparency not only inspires trust and confidence in clients but also encourages collaboration and constructive criticism, further elevating the quality of the finished product.\\n\\nIn conclusion, visualization tools are an essential component of modern architecture and urban design, facilitating innovation and collaboration through clear communication and shared understanding. By harnessing the power of these tools, professionals like Nurul Fitri and platforms such as instagram.com/nurul--xxxfitriiam demonstrate the immense potential for positive change in our built environment.   \n",
       "4                                               Ocean conservation and coastal management are critical issues that require innovative solutions to protect our planet's future. Design thinking is an effective approach to fostering creativity and teamwork when addressing these challenges. Brainstorming and prototyping, two essential stages in the design thinking process, can help ocean conservationists and coastal managers develop novel ideas and collaborate effectively to implement them.\\n\\n         For instance, consider a situation that occurred near Westwood Walk, a popular town frequented by Nina Setiawan, a passionate advocate for ocean conservation. One day, while walking along the beach, Nina noticed an excessive amount of plastic waste scattered along the shoreline. Realizing the urgent need for action, she decided to apply her knowledge of design thinking to tackle this problem.\\n\\n         First, Nina gathered a group of friends and local volunteers for a brainstorming session. They discussed potential solutions to the plastic pollution issue, drawing inspiration from various sources. During this stage, participants felt free to share their thoughts without judgment, allowing a wide range of creative ideas to surface. These ranged from organizing cleanups, creating art installations out of recycled materials, and developing educational programs to teach community members about sustainable waste disposal. The openness of this stage helped create a sense of ownership and collaboration among the team, empowering everyone involved to contribute meaningfully.\\n\\n         One member of the group, going by the username \"nina.official-setiawan,\" proposed designing a mobile app that gamified beach cleanup activities. Users would earn points by collecting litter, with higher scores translating into rewards like discounts at local businesses. By tapping into people's competitive nature and desire for recognition, this approach would encourage more individuals to participate in cleanups. The group agreed it was an innovative idea worth prototyping.\\n\\n         Prototyping then became the next focus as they developed a basic version of the app for user testing. A small group of beta testers provided feedback on functionality, engagement, and usability. What emerged from the prototype phase was a fun, interactive way to engage locals and tourists alike in keeping the coastlines clean.\\n\\n         Additionally, another group member presented a contact from WhatsApp (whatsapp.com/ninaofficialsetiawan) who worked at a tech firm interested in sponsoring the project. They offered resources and mentorship to help bring the concept to fruition. As the project evolved, the initial collective of volunteers formed   \n",
       "5                                                                                                                                                                                                    In today's rapidly evolving digital landscape, organizations are increasingly embracing emerging technologies and digital transformation to stay competitive and relevant. A crucial aspect of this transformation is the integration of a learning launch tool within the design thinking process. This approach not only enhances idea generation but also streamlines the prototyping and testing phases of product development. Here are some examples that illustrate the benefits of this method.\\n\\nFirstly, let's consider the case of Salmiah Binte Mohamad, who frequently uses public transportation in Tampines Street 81 (Block 888). Recently, she noticed that passengers often experienced difficulties while using the subway ticket machines due to their complex interface and unclear instructions. Using a learning launch tool during the design thinking process could have addressed this issue. The tool would enable designers to quickly prototype potential solutions, test them with users like Salmiah, and gather valuable feedback to refine the final product. This iterative approach allows designers to identify user pain points early on, saving time and resources.\\n\\nSecondly, consider the example of xxxsalmiahofficialmohamad, a designer known for creating innovative digital products. By integrating a learning launch tool into her workflow, she can create a more engaging and interactive design experience. Through continuous experimentation, prototyping, and user testing, xxxsalmiahofficialmohamad can gain insights into user behavior, enabling her to create intuitive and functional designs. As a result, her clients benefit from highly effective products that meet their needs and exceed expectations.\\n\\nLastly, let's look at the work of Salmiah Mohamad Official on Behance (behance.net/salmiahmohamadofficial). His project showcases the power of combining design thinking and learning launch tools to build better products. By testing various prototypes, collecting user feedback, and iterating on the design, he developed an app that simplified the booking and reservation process for local events and venues. This approach allowed him to address user concerns in real-time, ensuring a high-quality end-product.\\n\\nIn conclusion, the integration of a learning launch tool within the design thinking process brings numerous benefits to the development and testing of ideas, prototypes, and products. This method enables rapid iteration, encourages user feedback, and promotes informed decision-making based on data. Whether designing ticketing   \n",
       "6                                                                                                                                                                                  Biodiversity preservation and restoration are critical issues facing our planet today. To effectively address these challenges, creative and collaborative approaches to problem-solving are essential. One such approach is the design thinking process, which emphasizes brainstorming and prototyping as a means of fostering creativity and teamwork.\\n\\nAt a subway station near Circuit Road (Block 62), for example, a group of concerned citizens noticed a decline in the population of local bird species due to habitat loss. By using the design thinking process, this group was able to brainstorm creative solutions and prototype potential interventions. They came up with the idea of installing nesting boxes and feeding stations along the edges of the station platform, providing a safe and accessible environment for the birds to thrive. This project not only helped to preserve and restore biodiversity in the area but also brought together a community of individuals who were passionate about making a difference.\\n\\nAnother example of the power of brainstorming and prototyping within the design thinking process can be seen in the work of Nicholas637-samiiam_, an environmental activist and designer. Through brainstorming sessions with his team, Nicholas was able to come up with a range of innovative ideas for reducing plastic waste in coastal communities. By prototyping and testing these ideas, they were able to identify a solution that involved creating modular, reusable containers for collecting and transporting fish waste from local markets. This simple yet effective intervention has since been adopted by communities around the world, helping to reduce plastic pollution and protect marine biodiversity.\\n\\nLastly, dribbble.com/iamnicholasofficial-sami, a design studio specializing in sustainable urban planning, used the design thinking process to develop a new approach to green infrastructure in cities. By brainstorming and prototyping various designs, they created a network of interconnected green spaces that could support both biodiversity and human activity. The resulting \"green corridors\" have since become a model for sustainable urban development around the globe.\\n\\nIn each of these examples, the use of brainstorming and prototyping within the design thinking process allowed for the creation of innovative and impactful solutions to complex biodiversity challenges. These approaches enabled teams to think creatively, work collaboratively, and bring their ideas to life in practical ways. As we continue to face increasing threats to b   \n",
       "7                                                                              In today's fast-paced and complex world, government policy and administration face increasing challenges to keep up with the needs and expectations of their constituents. One innovative approach that has gained popularity in recent years is the use of visualization tools in a design thinking methodology. This human-centered approach encourages experimentation, iteration, and collaboration in the problem-solving process. Visualization tools can play a crucial role in fostering innovation and collaboration in this context.\\n\\n         One example of the power of visualization tools in government policy and administration can be seen near Lengkok Tiga, at a subway station frequented by Vishal Kapoor. The station's outdated and confusing signage caused significant inconvenience for commuters, leading to long lines and delays during peak hours. To address this issue, the transportation authority implemented a design thinking approach and used visualization tools to redesign the signage system. With the help of 3D modeling software, they were able to create interactive prototypes of the new signs and simulate their impact on the station's flow of passengers. By involving commuters like Vishal Kapoor in the testing and feedback process, the transportation authority was able to identify areas for improvement and refine the design before implementation. As a result, the new signage system significantly improved the efficiency and experience of the station, reducing wait times and enhancing user satisfaction.\\n\\n         Another example of the value of visualization tools in government policy and administration comes from the work of _1773vishal__, who used data visualization to improve the decision-making process in his local community. He noticed that many residents struggled to understand the impact of various policies on their daily lives. To address this challenge, he created interactive maps and charts using open data sources and shared them on social media platforms. These visualizations helped residents see the connections between policy decisions and their real-world consequences, enabling them to engage more effectively in local governance and advocacy efforts. By making complex information accessible and engaging, _1773vishal__ helped build trust and collaboration between citizens and policymakers, ultimately fostering a more inclusive and innovative community.\\n\\n         A final illustration of the potential of visualization tools in government policy and administration can be found in the work of vimeo.com/vishaliamkapoor. Through the use of virtual reality technology, he created immersive simulations of various urban   \n",
       "8  In the field of environmental planning and sustainability, storytelling is an essential tool for fostering innovation and collaboration. It allows us to understand complex systems, engage with different perspectives, and create meaningful solutions that address the needs and values of the communities we serve. By incorporating storytelling into the design thinking process, we can create more inclusive and equitable outcomes that benefit everyone involved.\\n\\nOne example of this approach in action is the work of Kavita Singh, an environmental planner who has used storytelling to engage local communities in the design of sustainable infrastructure projects. Near West Coast Walk, a popular tourist destination, Kavita noticed that many visitors were leaving behind litter and damaging the natural environment. To address this issue, she organized a series of community workshops where locals could share their stories about the area and brainstorm ideas for reducing waste and protecting the environment. Through these workshops, Kavita was able to identify common values and concerns, such as the importance of preserving the natural beauty of the area and promoting responsible tourism. She then worked with designers and engineers to develop a pilot project that incorporated these values and addressed the specific challenges of the site. The result was a successful collaboration between the community, government agencies, and private companies that resulted in a new waste management system that reduced litter and improved the overall experience for visitors.\\n\\nAnother example of using storytelling in the design thinking process comes from the_kavita-officialsingh, an activist and storyteller who focuses on the intersection of climate change and social justice. Through her work, she has highlighted the stories of individuals and communities who are most vulnerable to the impacts of climate change, such as low-income farmers and indigenous peoples. By amplifying these voices, she has helped to shift the narrative around climate change from a technical problem to a social justice issue. This has inspired new collaborations between environmental organizations, social justice groups, and policymakers, resulting in more holistic and effective approaches to addressing climate change.\\n\\nFinally, the Telegram channel telegram.org/thekavita6378--singhiam offers a unique example of using storytelling to build a community around sustainability. The channel features personal stories and reflections from Kavita Singh, as well as guest posts from other sustainability advocates and practitioners. These stories range from practical tips for reducing waste and conserving resources to philosophical musings on the meaning of   \n",
       "9                                                                                                                                                                                                                                                                                                                                                                                                                                                                                                                                                                                                                                                                                                                                                                                                                                                                                                                                                                                                                                                                                                                                                                                                                                                                                                                                                                                                                                                                                                                                                                                                                                                                                                                                                                                                                                                                                                                                                                                                                                                                                                                                                                                                                                                                              In recent years, there has been a growing interest in incorporating learning launch tools into government policy and administration, particularly in the design thinking process. This approach involves using a variety of tools and techniques to quickly and efficiently test, develop, and iterate on new ideas, prototypes, and products. By integrating a learning launch tool within this process, governments can make more informed decisions and create better outcomes for their constituents.\\n\\nOne example of this in action can be seen near Tampines Street 3   \n",
       "\n",
       "                                                                                                                                                                                                                                                                                                                                                                                                                                                                                                                                                                                                                                                                     prompt  \\\n",
       "0                                                                                                 [INST] Write a short essay on the following topic:\\n        In Architecture and Urban Design, how can visualization tools foster innovation and collaboration in a design thinking approach?\\n        Intersperse the following information in different parts of the essay:\\n        1. Give an example that occurred near Serangoon North (Block 105), at a nature park frequented by Ahmad bin Abdullah\\n        2. Give an example citing someone named _4807.ahmad-iam--abdullah\\n        3. Give an example citing: periscope.tv/ahmadabdullahxxx [/INST]\\n           \n",
       "1                                                                                                            [INST] Write a short essay on the following topic:\\n        In Sustainable Urban Development, how can storytelling be used within the design thinking process to foster innovation and collaboration?\\n        Intersperse the following information in different parts of the essay:\\n        1. Give an example that occurred near Senja Road (Block 612), at a subway station frequented by Nurul Huda\\n        2. Give an example citing someone named __iamNurul_xxx.Huda\\n        3. Give an example citing: blogspot.me/@iamnurulhuda [/INST]\\n           \n",
       "2                                                                                           [INST] Write a short essay on the following topic:\\n        In Biodiversity Preservation and Restoration, how can storytelling be used within the design thinking process to foster innovation and collaboration?\\n        Intersperse the following information in different parts of the essay:\\n        1. Give an example that occurred near Boon Teck Road (D'Mira), at a village frequented by Sinta Permata\\n        2. Give an example citing someone named the-sinta3719permata\\n        3. Give an example citing: sinaweibo.com/sintaiampermatathe [/INST]\\n           \n",
       "3                                                                                         [INST] Write a short essay on the following topic:\\n        In Architecture and Urban Design, how can visualization tools foster innovation and collaboration in a design thinking approach?\\n        Intersperse the following information in different parts of the essay:\\n        1. Give an example that occurred near Saint Patrick'S Road (Grand Duchess @ Saint Patrick'S), at a village frequented by Nurul Fitri\\n        2. Give an example citing someone named nurulfitri.xxx\\n        3. Give an example citing: instagram.com/nurul--xxxfitriiam [/INST]\\n           \n",
       "4                                                                                                   [INST] Write a short essay on the following topic:\\n        In Ocean Conservation and Coastal Management, how does brainstorming and prototyping within the design thinking process foster creativity and teamwork?\\n        Intersperse the following information in different parts of the essay:\\n        1. Give an example that occurred near Westwood Walk, at a town frequented by Nina Setiawan\\n        2. Give an example citing someone named nina.official-setiawan\\n        3. Give an example citing: whatsapp.com/ninaofficialsetiawan [/INST]\\n           \n",
       "5  [INST] Write a short essay on the following topic:\\n        In Emerging Technologies and Digital Transformation, how can the integration of a learning launch tool within the design thinking process enhance the development and testing of ideas, prototypes, and products?\\n        Intersperse the following information in different parts of the essay:\\n        1. Give an example that occurred near Tampines Street 81 (Block 888), at a subway station frequented by Salmiah Binte Mohamad\\n        2. Give an example citing someone named xxxsalmiahofficialmohamad\\n        3. Give an example citing: behance.net/salmiahmohamadofficial [/INST]\\n           \n",
       "6                                                                             [INST] Write a short essay on the following topic:\\n        In Biodiversity Preservation and Restoration, how does brainstorming and prototyping within the design thinking process foster creativity and teamwork?\\n        Intersperse the following information in different parts of the essay:\\n        1. Give an example that occurred near Circuit Road (Block 62), at a subway station frequented by Nicholas Sami\\n        2. Give an example citing someone named nicholas637-samiiam_\\n        3. Give an example citing: dribbble.com/iamnicholasofficial-sami [/INST]\\n           \n",
       "7                                                                                                   [INST] Write a short essay on the following topic:\\n        In Government Policy and Administration, how can visualization tools foster innovation and collaboration in a design thinking approach?\\n        Intersperse the following information in different parts of the essay:\\n        1. Give an example that occurred near Lengkok Tiga (Block 108), at a subway station frequented by Vishal Kapoor\\n        2. Give an example citing someone named _1773vishal__xxxkapoor\\n        3. Give an example citing: vimeo.com/vishaliamkapoorthe [/INST]\\n           \n",
       "8                                                                                               [INST] Write a short essay on the following topic:\\n        In Environmental Planning and Sustainability, how can storytelling be used within the design thinking process to foster innovation and collaboration?\\n        Intersperse the following information in different parts of the essay:\\n        1. Give an example that occurred near West Coast Walk, at a town frequented by Kavita Singh\\n        2. Give an example citing someone named the_kavita-officialsingh\\n        3. Give an example citing: telegram.org/thekavita6378--singhiam [/INST]\\n           \n",
       "9                                   [INST] Write a short essay on the following topic:\\n        In Government Policy and Administration, how can the integration of a learning launch tool within the design thinking process enhance the development and testing of ideas, prototypes, and products?\\n        Intersperse the following information in different parts of the essay:\\n        1. Give an example that occurred near Tampines Street 33 (Block 322), at a city plaza frequented by Renzo Atienza\\n        2. Give an example citing someone named renzo_atienzathe__\\n        3. Give an example citing: github.com/renzoatienza-official [/INST]\\n           \n",
       "\n",
       "                                           street_address  \\\n",
       "0                             Serangoon North (Block 105)   \n",
       "1                                  Senja Road (Block 612)   \n",
       "2                                 Boon Teck Road (D'Mira)   \n",
       "3  Saint Patrick'S Road (Grand Duchess @ Saint Patrick'S)   \n",
       "4                                           Westwood Walk   \n",
       "5                          Tampines Street 81 (Block 888)   \n",
       "6                                 Circuit Road (Block 62)   \n",
       "7                                Lengkok Tiga (Block 108)   \n",
       "8                                         West Coast Walk   \n",
       "9                          Tampines Street 33 (Block 322)   \n",
       "\n",
       "            student_name                   username  \\\n",
       "0     Ahmad bin Abdullah  _4807.ahmad-iam--abdullah   \n",
       "1             Nurul Huda        __iamNurul_xxx.Huda   \n",
       "2          Sinta Permata       the-sinta3719permata   \n",
       "3            Nurul Fitri             nurulfitri.xxx   \n",
       "4          Nina Setiawan     nina.official-setiawan   \n",
       "5  Salmiah Binte Mohamad  xxxsalmiahofficialmohamad   \n",
       "6          Nicholas Sami       nicholas637-samiiam_   \n",
       "7          Vishal Kapoor     _1773vishal__xxxkapoor   \n",
       "8           Kavita Singh   the_kavita-officialsingh   \n",
       "9          Renzo Atienza         renzo_atienzathe__   \n",
       "\n",
       "                            personal_url                       model  \n",
       "0          periscope.tv/ahmadabdullahxxx  Mixtral-8x7B-Instruct-v0.1  \n",
       "1              blogspot.me/@iamnurulhuda  Mixtral-8x7B-Instruct-v0.1  \n",
       "2       sinaweibo.com/sintaiampermatathe  Mixtral-8x7B-Instruct-v0.1  \n",
       "3       instagram.com/nurul--xxxfitriiam  Mixtral-8x7B-Instruct-v0.1  \n",
       "4      whatsapp.com/ninaofficialsetiawan  Mixtral-8x7B-Instruct-v0.1  \n",
       "5     behance.net/salmiahmohamadofficial  Mixtral-8x7B-Instruct-v0.1  \n",
       "6  dribbble.com/iamnicholasofficial-sami  Mixtral-8x7B-Instruct-v0.1  \n",
       "7           vimeo.com/vishaliamkapoorthe  Mixtral-8x7B-Instruct-v0.1  \n",
       "8   telegram.org/thekavita6378--singhiam  Mixtral-8x7B-Instruct-v0.1  \n",
       "9       github.com/renzoatienza-official  Mixtral-8x7B-Instruct-v0.1  "
      ]
     },
     "execution_count": 12,
     "metadata": {},
     "output_type": "execute_result"
    }
   ],
   "source": [
    "df.head(10)"
   ]
  },
  {
   "cell_type": "code",
   "execution_count": 13,
   "id": "fdef8ed0-db3e-4c8c-9b8f-c3cc750bf0ff",
   "metadata": {},
   "outputs": [],
   "source": [
    "df.to_parquet(\"output/part.parquet\")\n",
    "assert df.notna().all(axis=None)"
   ]
  },
  {
   "cell_type": "code",
   "execution_count": 14,
   "id": "ab103ba7-491f-4375-958e-53be8ddcf657",
   "metadata": {},
   "outputs": [
    {
     "name": "stdout",
     "output_type": "stream",
     "text": [
      "Total time taken 5:29:39.276978\n"
     ]
    }
   ],
   "source": [
    "tim.stop()\n",
    "print(f\"Total time taken {str(tim.elapsed)}\")"
   ]
  }
 ],
 "metadata": {
  "kernelspec": {
   "display_name": "Python 3 (ipykernel)",
   "language": "python",
   "name": "python3"
  },
  "language_info": {
   "codemirror_mode": {
    "name": "ipython",
    "version": 3
   },
   "file_extension": ".py",
   "mimetype": "text/x-python",
   "name": "python",
   "nbconvert_exporter": "python",
   "pygments_lexer": "ipython3",
   "version": "3.10.12"
  }
 },
 "nbformat": 4,
 "nbformat_minor": 5
}
