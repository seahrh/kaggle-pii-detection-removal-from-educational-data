{
 "cells": [
  {
   "cell_type": "code",
   "execution_count": 1,
   "id": "7b4d1d55",
   "metadata": {},
   "outputs": [
    {
     "name": "stdout",
     "output_type": "stream",
     "text": [
      "accelerate=0.29.2, bitsandbytes=0.43.1\n"
     ]
    }
   ],
   "source": [
    "from pathlib import Path\n",
    "import os\n",
    "import sys\n",
    "import gc\n",
    "import shutil\n",
    "import json\n",
    "import math\n",
    "from collections import defaultdict\n",
    "import numpy as np\n",
    "import pandas as pd\n",
    "import bitsandbytes\n",
    "import accelerate\n",
    "import torch\n",
    "from torch.utils.data import Dataset, DataLoader\n",
    "from transformers import AutoTokenizer, AutoModelForCausalLM, BitsAndBytesConfig\n",
    "from tqdm import tqdm\n",
    "import matplotlib.pyplot as plt\n",
    "from typing import Dict, List, Tuple, NamedTuple, Callable, Iterable, Set, Optional, Any\n",
    "import scml\n",
    "from mylib.datageneration import Prompter\n",
    "print(f\"accelerate={accelerate.__version__}, bitsandbytes={bitsandbytes.__version__}\")"
   ]
  },
  {
   "cell_type": "code",
   "execution_count": 2,
   "id": "e197c9ae",
   "metadata": {},
   "outputs": [
    {
     "name": "stdout",
     "output_type": "stream",
     "text": [
      "device=0, NVIDIA GeForce RTX 4070 Ti SUPER\n",
      "Mem Allocated: 0.0 GB\n",
      "Mem Cached:    0.0 GB\n",
      "device=1, NVIDIA GeForce RTX 4070 Ti SUPER\n",
      "Mem Allocated: 0.0 GB\n",
      "Mem Cached:    0.0 GB\n"
     ]
    }
   ],
   "source": [
    "tim = scml.Timer()\n",
    "tim.start()\n",
    "percentiles=[.01, .05, .1, .2, .3, .4, .5, .6, .7, .8, .9, .95, .99]\n",
    "os.environ[\"TOKENIZERS_PARALLELISM\"] = \"false\"\n",
    "pd.set_option(\"max_info_columns\", 9999)\n",
    "pd.set_option(\"display.max_columns\", 9999)\n",
    "pd.set_option(\"display.max_rows\", 9999)\n",
    "pd.set_option('max_colwidth', 9999)\n",
    "tqdm.pandas()\n",
    "scml.seed_everything()\n",
    "device = torch.device(\"cpu\")\n",
    "if torch.cuda.is_available():\n",
    "    device = torch.device(\"cuda\")\n",
    "    for i in range(torch.cuda.device_count()):\n",
    "        print(f\"device={i}, {torch.cuda.get_device_name(i)}\")\n",
    "        print('Mem Allocated:', round(torch.cuda.memory_allocated(i)/1024**3,1), 'GB')\n",
    "        print('Mem Cached:   ', round(torch.cuda.memory_reserved(i)/1024**3,1), 'GB')\n",
    "else:\n",
    "    print(\"cpu\")"
   ]
  },
  {
   "cell_type": "code",
   "execution_count": 3,
   "id": "75a2772b",
   "metadata": {},
   "outputs": [],
   "source": [
    "target_size = 30*5\n",
    "model_dir = Path(\"/mnt/c/huggingface/mistralai/Mixtral-8x7B-Instruct-v0.1\")\n",
    "model_max_length = 4096"
   ]
  },
  {
   "cell_type": "code",
   "execution_count": 4,
   "id": "fd6b1da1-24ed-43b4-87fe-6f7a2202bac9",
   "metadata": {},
   "outputs": [
    {
     "name": "stdout",
     "output_type": "stream",
     "text": [
      "104 student names\n"
     ]
    }
   ],
   "source": [
    "with open(\"input/student_names.json\") as f:\n",
    "    student_names = set(json.load(f))\n",
    "print(f\"{len(student_names):,} student names\")"
   ]
  },
  {
   "cell_type": "code",
   "execution_count": 5,
   "id": "e8bf706b-654a-4e51-9a88-61bb16a6584a",
   "metadata": {},
   "outputs": [
    {
     "name": "stdout",
     "output_type": "stream",
     "text": [
      "11,562 street addresses=['Adis Road (Liv On Sophia)', 'Adis Road (Parc Sophia)', 'Admiralty Drive (Block 353A)', 'Admiralty Drive (Block 353B)', 'Admiralty Drive (Block 353C)', 'Admiralty Drive (Block 354A)', 'Admiralty Drive (Block 354C)', 'Admiralty Drive (Block 354D)', 'Admiralty Drive (Block 356B)', 'Admiralty Drive (Block 356C)']\n",
      "<class 'pandas.core.frame.DataFrame'>\n",
      "RangeIndex: 11562 entries, 0 to 11561\n",
      "Data columns (total 3 columns):\n",
      " #   Column  Non-Null Count  Dtype  \n",
      "---  ------  --------------  -----  \n",
      " 0   street  11562 non-null  object \n",
      " 1   lat     11562 non-null  float64\n",
      " 2   lng     11562 non-null  float64\n",
      "dtypes: float64(2), object(1)\n",
      "memory usage: 271.1+ KB\n"
     ]
    }
   ],
   "source": [
    "df = pd.read_csv(\"input/geocode-db.csv\", low_memory=False, names=[\"street\",\"lat\",\"lng\"])\n",
    "street_addresses = [x.title() for x in df[\"street\"]]\n",
    "print(f\"{len(street_addresses):,} street addresses={street_addresses[:10]}\")\n",
    "street_addresses = set(street_addresses)\n",
    "df.info()"
   ]
  },
  {
   "cell_type": "code",
   "execution_count": 6,
   "id": "17d5b87a",
   "metadata": {},
   "outputs": [
    {
     "name": "stdout",
     "output_type": "stream",
     "text": [
      "LlamaTokenizerFast(name_or_path='/mnt/c/huggingface/mistralai/Mixtral-8x7B-Instruct-v0.1', vocab_size=32000, model_max_length=4096, is_fast=True, padding_side='left', truncation_side='right', special_tokens={'bos_token': '<s>', 'eos_token': '</s>', 'unk_token': '<unk>', 'pad_token': '</s>'}, clean_up_tokenization_spaces=False),  added_tokens_decoder={\n",
      "\t0: AddedToken(\"<unk>\", rstrip=False, lstrip=False, single_word=False, normalized=False, special=True),\n",
      "\t1: AddedToken(\"<s>\", rstrip=False, lstrip=False, single_word=False, normalized=False, special=True),\n",
      "\t2: AddedToken(\"</s>\", rstrip=False, lstrip=False, single_word=False, normalized=False, special=True),\n",
      "}\n",
      "model_input_names=['input_ids', 'attention_mask']\n",
      "pad_token_id=2\n"
     ]
    }
   ],
   "source": [
    "tokenizer = AutoTokenizer.from_pretrained(str(model_dir), model_max_length=model_max_length)\n",
    "tokenizer.pad_token = tokenizer.eos_token\n",
    "print(f\"{repr(tokenizer)}\\nmodel_input_names={tokenizer.model_input_names}\")\n",
    "print(f\"pad_token_id={tokenizer.pad_token_id}\")"
   ]
  },
  {
   "cell_type": "code",
   "execution_count": 7,
   "id": "f6e82067",
   "metadata": {},
   "outputs": [
    {
     "data": {
      "application/vnd.jupyter.widget-view+json": {
       "model_id": "325e8e7eb6eb44a3ae4b86fdcf68988b",
       "version_major": 2,
       "version_minor": 0
      },
      "text/plain": [
       "Loading checkpoint shards:   0%|          | 0/19 [00:00<?, ?it/s]"
      ]
     },
     "metadata": {},
     "output_type": "display_data"
    },
    {
     "name": "stdout",
     "output_type": "stream",
     "text": [
      "CPU times: user 4min 8s, sys: 3min 38s, total: 7min 46s\n",
      "Wall time: 13min 34s\n"
     ]
    }
   ],
   "source": [
    "%%time\n",
    "quantization_config = BitsAndBytesConfig(\n",
    "    load_in_4bit=True,\n",
    "    bnb_4bit_quant_type=\"nf4\",\n",
    "    bnb_4bit_compute_dtype=torch.bfloat16,\n",
    "    bnb_4bit_use_double_quant=True,\n",
    ")\n",
    "model = AutoModelForCausalLM.from_pretrained(\n",
    "    str(model_dir),\n",
    "    device_map = \"auto\",\n",
    "    quantization_config=quantization_config,\n",
    ")"
   ]
  },
  {
   "cell_type": "code",
   "execution_count": 8,
   "id": "83c69bf2",
   "metadata": {},
   "outputs": [
    {
     "name": "stdout",
     "output_type": "stream",
     "text": [
      "MixtralForCausalLM(\n",
      "  (model): MixtralModel(\n",
      "    (embed_tokens): Embedding(32000, 4096)\n",
      "    (layers): ModuleList(\n",
      "      (0-31): 32 x MixtralDecoderLayer(\n",
      "        (self_attn): MixtralSdpaAttention(\n",
      "          (q_proj): Linear4bit(in_features=4096, out_features=4096, bias=False)\n",
      "          (k_proj): Linear4bit(in_features=4096, out_features=1024, bias=False)\n",
      "          (v_proj): Linear4bit(in_features=4096, out_features=1024, bias=False)\n",
      "          (o_proj): Linear4bit(in_features=4096, out_features=4096, bias=False)\n",
      "          (rotary_emb): MixtralRotaryEmbedding()\n",
      "        )\n",
      "        (block_sparse_moe): MixtralSparseMoeBlock(\n",
      "          (gate): Linear4bit(in_features=4096, out_features=8, bias=False)\n",
      "          (experts): ModuleList(\n",
      "            (0-7): 8 x MixtralBlockSparseTop2MLP(\n",
      "              (w1): Linear4bit(in_features=4096, out_features=14336, bias=False)\n",
      "              (w2): Linear4bit(in_features=14336, out_features=4096, bias=False)\n",
      "              (w3): Linear4bit(in_features=4096, out_features=14336, bias=False)\n",
      "              (act_fn): SiLU()\n",
      "            )\n",
      "          )\n",
      "        )\n",
      "        (input_layernorm): MixtralRMSNorm()\n",
      "        (post_attention_layernorm): MixtralRMSNorm()\n",
      "      )\n",
      "    )\n",
      "    (norm): MixtralRMSNorm()\n",
      "  )\n",
      "  (lm_head): Linear(in_features=4096, out_features=32000, bias=False)\n",
      ")\n"
     ]
    }
   ],
   "source": [
    "print(model)"
   ]
  },
  {
   "cell_type": "code",
   "execution_count": 9,
   "id": "764bc968-691f-4d51-b107-3935334e099e",
   "metadata": {},
   "outputs": [
    {
     "name": "stdout",
     "output_type": "stream",
     "text": [
      "[INST] Write a short essay on the following topic:\n",
      "        In Education Policy and Reform, how can the integration of a learning launch tool within the design thinking process enhance the development and testing of ideas, prototypes, and products?\n",
      "        Intersperse the following information in different parts of the essay:\n",
      "        1. Give an example that occurred near Tampines Street 82 (Block 839), at a school frequented by Fulvio Galiazzo\n",
      "        2. Give an example citing someone named FulvioGaliazzo\n",
      "        3. Give an example citing: periscope.tv/officialfulvioiamgaliazzo [/INST]\n",
      "        \n"
     ]
    }
   ],
   "source": [
    "prompter = Prompter(target_size=target_size, student_names=student_names, street_addresses=street_addresses)\n",
    "res = prompter.prompt()\n",
    "print(res.prompt)"
   ]
  },
  {
   "cell_type": "code",
   "execution_count": 10,
   "id": "784f0d32",
   "metadata": {},
   "outputs": [
    {
     "name": "stderr",
     "output_type": "stream",
     "text": [
      "100%|██████████████████████████████████████████████████████████████████████████████████████████████████████████████████████████████████████████████████| 150/150 [4:53:22<00:00, 117.35s/it]"
     ]
    },
    {
     "name": "stdout",
     "output_type": "stream",
     "text": [
      "CPU times: user 4h 36min 51s, sys: 16min 35s, total: 4h 53min 27s\n",
      "Wall time: 4h 53min 22s\n"
     ]
    },
    {
     "name": "stderr",
     "output_type": "stream",
     "text": [
      "\n"
     ]
    }
   ],
   "source": [
    "%%time\n",
    "rows = []\n",
    "for _ in tqdm(range(target_size)):\n",
    "    res = prompter.prompt()\n",
    "    inputs = tokenizer(res.prompt, return_tensors=\"pt\").to(device)\n",
    "    outputs = model.generate(\n",
    "        **inputs, \n",
    "        max_new_tokens=512,\n",
    "        do_sample=True,\n",
    "        temperature=1.0,\n",
    "        top_p=0.95,\n",
    "        top_k=100,\n",
    "        repetition_penalty=1.1,\n",
    "        pad_token_id=tokenizer.eos_token_id,\n",
    "    )\n",
    "    generated_text = tokenizer.batch_decode(outputs, skip_special_tokens=True)[0]\n",
    "    generated_text = generated_text.split(\"[/INST]\")[1]\n",
    "    generated_text = generated_text.strip()\n",
    "    rows.append({\n",
    "        \"text\": generated_text,\n",
    "        \"prompt\": res.prompt,\n",
    "        \"street_address\": res.street_address,\n",
    "        \"student_name\": res.student_name,\n",
    "        \"username\": res.username,\n",
    "        \"personal_url\": res.personal_url,\n",
    "        \"model\": model_dir.name,\n",
    "    })"
   ]
  },
  {
   "cell_type": "code",
   "execution_count": 11,
   "id": "06b64fa3-bc66-4aa0-ac36-7ddba1598aba",
   "metadata": {},
   "outputs": [
    {
     "name": "stdout",
     "output_type": "stream",
     "text": [
      "<class 'pandas.core.frame.DataFrame'>\n",
      "RangeIndex: 150 entries, 0 to 149\n",
      "Data columns (total 7 columns):\n",
      " #   Column          Non-Null Count  Dtype \n",
      "---  ------          --------------  ----- \n",
      " 0   text            150 non-null    object\n",
      " 1   prompt          150 non-null    object\n",
      " 2   street_address  150 non-null    object\n",
      " 3   student_name    150 non-null    object\n",
      " 4   username        150 non-null    object\n",
      " 5   personal_url    150 non-null    object\n",
      " 6   model           150 non-null    object\n",
      "dtypes: object(7)\n",
      "memory usage: 8.3+ KB\n"
     ]
    }
   ],
   "source": [
    "df = pd.DataFrame.from_records(rows)\n",
    "df.info()"
   ]
  },
  {
   "cell_type": "code",
   "execution_count": 12,
   "id": "6efe748b-2f3f-4366-bc77-7de716298c6a",
   "metadata": {},
   "outputs": [
    {
     "data": {
      "text/html": [
       "<div>\n",
       "<style scoped>\n",
       "    .dataframe tbody tr th:only-of-type {\n",
       "        vertical-align: middle;\n",
       "    }\n",
       "\n",
       "    .dataframe tbody tr th {\n",
       "        vertical-align: top;\n",
       "    }\n",
       "\n",
       "    .dataframe thead th {\n",
       "        text-align: right;\n",
       "    }\n",
       "</style>\n",
       "<table border=\"1\" class=\"dataframe\">\n",
       "  <thead>\n",
       "    <tr style=\"text-align: right;\">\n",
       "      <th></th>\n",
       "      <th>text</th>\n",
       "      <th>prompt</th>\n",
       "      <th>street_address</th>\n",
       "      <th>student_name</th>\n",
       "      <th>username</th>\n",
       "      <th>personal_url</th>\n",
       "      <th>model</th>\n",
       "    </tr>\n",
       "  </thead>\n",
       "  <tbody>\n",
       "    <tr>\n",
       "      <th>0</th>\n",
       "      <td>In the field of architecture and urban design, visualization tools have become increasingly important for fostering innovation and collaboration in a design thinking approach. These tools allow designers to communicate their ideas more effectively, test different concepts quickly, and collaborate with stakeholders throughout the design process.\\n\\n        One example of how visualization tools have been used to foster innovation and collaboration can be seen in a project near Choa Chu Kang Avenue 4, at a nature park frequented by Rahman bin Hassan. In this project, architects and urban designers utilized virtual reality (VR) technology to create immersive, 360-degree visualizations of the proposed park redesign. This allowed both the design team and community members like Rahman to explore the space in a realistic way, providing valuable feedback and insights that ultimately improved the final design.\\n\\n        Another example comes from the work of designer _4807.rahman-iam--hassan, who has used digital sketching and modeling tools to prototype new concepts for modular housing units. By using these visualization tools early in the design process, _4807.rahman-iam--hassan was able to quickly iterate on different designs, test them in various configurations, and share them with stakeholders in order to gather feedback and refine the concept.\\n\\n        Periscope.tv/rahmanhassanxxx is another platform where Rahman Hassan has showcased his innovative design ideas, specifically focused on sustainable and affordable housing. He uses a combination of hand-drawn sketches and digital models to bring his ideas to life, allowing him to easily experiment with different materials, textures, and colors. The use of these visualization tools enables Rahman to communicate complex ideas clearly and efficiently, fostering greater collaboration among stakeholders and leading to more innovative solutions.\\n\\n        In conclusion, visualization tools are crucial for driving innovation and collaboration in architecture and urban design projects. They enable designers to create accurate representations of their ideas, facilitating communication between team members and stakeholders. With the help of tools such as VR, digital sketching, and prototyping platforms, professionals like Rahman bin Hassan and _4807.rahman-iam--hassan continue to push the boundaries of what's possible in their fields, creating spaces and structures that not only meet functional needs but also inspire and engage those who interact with them.</td>\n",
       "      <td>[INST] Write a short essay on the following topic:\\n        In Architecture and Urban Design, how can visualization tools foster innovation and collaboration in a design thinking approach?\\n        Intersperse the following information in different parts of the essay:\\n        1. Give an example that occurred near Choa Chu Kang Avenue 4 (Block 444), at a nature park frequented by Rahman bin Hassan\\n        2. Give an example citing someone named _4807.rahman-iam--hassan\\n        3. Give an example citing: periscope.tv/rahmanhassanxxx [/INST]\\n</td>\n",
       "      <td>Choa Chu Kang Avenue 4 (Block 444)</td>\n",
       "      <td>Rahman bin Hassan</td>\n",
       "      <td>_4807.rahman-iam--hassan</td>\n",
       "      <td>periscope.tv/rahmanhassanxxx</td>\n",
       "      <td>Mixtral-8x7B-Instruct-v0.1</td>\n",
       "    </tr>\n",
       "    <tr>\n",
       "      <th>1</th>\n",
       "      <td>In sustainable urban development, storytelling is a powerful tool that can drive innovation and collaboration among stakeholders. By sharing stories about people's experiences and perspectives, designers and planners can gain insights into the needs and aspirations of the community, which can inform the design thinking process and lead to more inclusive and sustainable outcomes. Here are some examples of how storytelling has been used to enhance sustainable urban development:\\n\\nAt a subway station near Jurong West Street 92 (Block 922), a group of residents noticed that commuters often encountered difficulties when using the station's narrow staircase during peak hours. To address this issue, they worked with the transportation authority and local designers to reimagine the space through storytelling. They shared personal stories about their struggles and frustrations, as well as ideas for improvement. The result was a more accessible and user-friendly staircase that reduced congestion and improved safety for all users.\\n\\nAnother example comes from someone named __iamNicholas_xxx.Sami, who used blogging as a platform to advocate for better public spaces in his city. Through his vivid descriptions and images, he was able to convey the potential of underutilized areas to become vibrant community hubs that promote social interaction and environmental sustainability. His stories inspired local leaders to invest in these projects and engage citizens in the planning process, resulting in the creation of several new public spaces that have become popular gathering spots.\\n\\nBlogspot.me/@iamnicholassami provides another illustration of how storytelling can foster innovation and collaboration. This online platform showcases the work of a group of architects and urban designers who use storytelling to engage communities in co-creating their neighborhoods. By inviting residents to share their personal narratives about the place, the team is able to uncover hidden assets and latent desires that guide the design process. For instance, they transformed an abandoned parking lot into a thriving community garden based on the stories of local elders who had once grown food there as part of a traditional way of life.\\n\\nIn conclusion, storytelling is a valuable tool in sustainable urban development, as it enables designers and planners to tap into the collective wisdom and creativity of the community. By providing opportunities for individuals to share their experiences and perspectives, storytelling fosters empathy and understanding, which can lead to innovative solutions that respond to the needs and aspirations</td>\n",
       "      <td>[INST] Write a short essay on the following topic:\\n        In Sustainable Urban Development, how can storytelling be used within the design thinking process to foster innovation and collaboration?\\n        Intersperse the following information in different parts of the essay:\\n        1. Give an example that occurred near Jurong West Street 92 (Block 922), at a subway station frequented by Nicholas Sami\\n        2. Give an example citing someone named __iamNicholas_xxx.Sami\\n        3. Give an example citing: blogspot.me/@iamnicholassami [/INST]\\n</td>\n",
       "      <td>Jurong West Street 92 (Block 922)</td>\n",
       "      <td>Nicholas Sami</td>\n",
       "      <td>__iamNicholas_xxx.Sami</td>\n",
       "      <td>blogspot.me/@iamnicholassami</td>\n",
       "      <td>Mixtral-8x7B-Instruct-v0.1</td>\n",
       "    </tr>\n",
       "    <tr>\n",
       "      <th>2</th>\n",
       "      <td>Biodiversity preservation and restoration is a critical issue that requires innovative solutions and collaboration among various stakeholders. One way to foster innovation and collaboration in this field is through the use of storytelling within the design thinking process. Design thinking is a problem-solving approach that involves empathizing with users, defining problems, ideating solutions, prototyping, and testing. Storytelling can be incorporated into each stage of this process to create more meaningful and impactful outcomes.\\n\\nOne example of using storytelling in biodiversity preservation and restoration efforts can be seen near Jalan Eunos in Singapore. A local resident, Nina Setiawan, noticed that a nearby village was facing challenges due to declining biodiversity. To address this issue, she began collecting stories from community members about their experiences with local flora and fauna. These stories provided valuable insights into the community's relationship with nature and helped identify areas for improvement. By sharing these stories with policymakers and environmental organizations, Nina was able to rally support for biodiversity conservation initiatives in the area.\\n\\nAnother example comes from an individual known as the-nina3719setiawan, who has been actively involved in biodiversity preservation and restoration efforts in Indonesia. The-nina3719setiawan uses storytelling as a tool to educate and inspire others to take action. Through social media platforms such as Sina Weibo, they share personal stories of their experiences exploring and protecting natural habitats, as well as those of other individuals working towards similar goals. By showcasing diverse perspectives and approaches, the-nina3719setiawan has created a vibrant community of like-minded individuals committed to biodiversity preservation and restoration.\\n\\nSina Weibo account sinaweibo.com/ninaiamsetiawanthe also exemplifies the power of storytelling in fostering innovation and collaboration in biodiversity preservation and restoration. This account shares stories and information about various species, including endangered ones, to raise awareness about the importance of biodiversity conservation. By engaging audiences through storytelling, sinaweibo.com/ninaiamsetiawanthe has become an influential voice in shaping public opinion on environmental issues.\\n\\nIncorporating storytelling into the design thinking process allows for more</td>\n",
       "      <td>[INST] Write a short essay on the following topic:\\n        In Biodiversity Preservation and Restoration, how can storytelling be used within the design thinking process to foster innovation and collaboration?\\n        Intersperse the following information in different parts of the essay:\\n        1. Give an example that occurred near Jalan Eunos (Eunos Mansion), at a village frequented by Nina Setiawan\\n        2. Give an example citing someone named the-nina3719setiawan\\n        3. Give an example citing: sinaweibo.com/ninaiamsetiawanthe [/INST]\\n</td>\n",
       "      <td>Jalan Eunos (Eunos Mansion)</td>\n",
       "      <td>Nina Setiawan</td>\n",
       "      <td>the-nina3719setiawan</td>\n",
       "      <td>sinaweibo.com/ninaiamsetiawanthe</td>\n",
       "      <td>Mixtral-8x7B-Instruct-v0.1</td>\n",
       "    </tr>\n",
       "    <tr>\n",
       "      <th>3</th>\n",
       "      <td>Visualization tools have become increasingly important in the fields of architecture and urban design. These tools allow designers to communicate their ideas more effectively, fostering innovation and collaboration through a design thinking approach. By creating realistic images or simulations of proposed designs, stakeholders can better understand the project's potential impact and provide feedback early in the design process.\\n\\n         One example of this can be seen near Jalan Telipok, where a new community center was being planned for a village frequently visited by Mohammed Ali. Using visualization tools, architects were able to create 3D renderings of the proposed building, allowing local residents to see exactly what the final product would look like. This not only helped to build excitement for the project but also allowed the community to provide valuable input on the design. As a result, the finished building incorporated elements that reflected the unique culture and history of the village.\\n\\n         Another example comes from the work of Mohammedali.xxx, an urban designer who has used visualization tools extensively throughout his career. By creating detailed models and simulations of proposed developments, he has been able to collaborate more effectively with clients, engineers, and other stakeholders. This has led to innovative solutions to complex urban design challenges, such as incorporating green spaces into high-density housing developments and designing mixed-use buildings that promote walkability and sustainability.\\n\\n         The use of visualization tools can also be seen on Instagram accounts like @mohammed--xxxaliiam, which showcase the latest trends in architecture and urban design. By sharing images and videos of their work, designers can connect with a global audience and gather feedback on their ideas. This kind of crowdsourced design thinking can lead to breakthroughs that might not have been possible through traditional means.\\n\\n         Visualization tools are not just about creating pretty pictures; they are powerful tools for fostering innovation and collaboration in the design thinking approach. By enabling designers to communicate their ideas more effectively, these tools help to break down barriers between disciplines and build bridges between communities. Whether it's a small village near Jalan Telipok or a global audience on social media, visualization tools can help bring people together around a shared vision for the future.</td>\n",
       "      <td>[INST] Write a short essay on the following topic:\\n        In Architecture and Urban Design, how can visualization tools foster innovation and collaboration in a design thinking approach?\\n        Intersperse the following information in different parts of the essay:\\n        1. Give an example that occurred near Jalan Telipok, at a village frequented by Mohammed Ali\\n        2. Give an example citing someone named mohammedali.xxx\\n        3. Give an example citing: instagram.com/mohammed--xxxaliiam [/INST]\\n</td>\n",
       "      <td>Jalan Telipok</td>\n",
       "      <td>Mohammed Ali</td>\n",
       "      <td>mohammedali.xxx</td>\n",
       "      <td>instagram.com/mohammed--xxxaliiam</td>\n",
       "      <td>Mixtral-8x7B-Instruct-v0.1</td>\n",
       "    </tr>\n",
       "    <tr>\n",
       "      <th>4</th>\n",
       "      <td>I. Introduction\\n\\nOcean conservation and coastal management are critical issues that demand innovative solutions. Design thinking, a problem-solving approach that emphasizes empathy, creativity, and experimentation, can help teams develop effective strategies to protect our oceans and manage coastlines sustainably. Two essential components of this method are brainstorming and prototyping, which promote creativity and teamwork among participants. This essay will explore how these techniques have been applied in real-world situations, with examples from ocean conservation projects near Lorong Selangat and initiatives led by individuals such as Nurul Fitri.\\n\\nII. Brainstorming and Prototyping in Ocean Conservation\\n\\nBrainstorming is a creative process where team members generate ideas without self-censorship or judgment. It encourages open communication and fosters collaboration among participants, allowing them to build upon each other's thoughts and insights.\\n\\nFor instance, consider a project near Lorong Selangat aimed at reducing plastic waste in local waterways. A diverse group of stakeholders, including community members, environmental activists, and government officials, gathered for a brainstorming session. They shared experiences, concerns, and potential solutions related to plastic pollution. As a result, they collectively identified several promising ideas, such as implementing a deposit-refund system for plastic bottles, organizing beach cleanups, and launching an education campaign about the impacts of plastic waste on marine life.\\n\\nIII. The Role of Individual Contributors like Nurul Fitri\\n\\nIndividual contributors also play a vital role in using brainstorming and prototyping to advance ocean conservation efforts. Social media influencers, researchers, and advocates like Nurul Fitri, who can be found at whatsapp.com/nurulofficialfitri, often serve as catalysts for change by engaging their audiences in conversations about pressing environmental issues. By sharing her expertise and passion for ocean conservation through various platforms, Nurul inspires others to participate in brainstorming sessions, propose innovative ideas, and collaborate on prototypes.\\n\\nOne example involves a virtual brainstorming event organized by Nurul to address the issue of ghost nets – abandoned fishing gear that entangles and kills countless marine animals annually. Participants from around the world submitted ideas via an online forum, suggesting potential solutions ranging from developing biodegradable fishing equipment to creating financial incentives for responsible disposal of</td>\n",
       "      <td>[INST] Write a short essay on the following topic:\\n        In Ocean Conservation and Coastal Management, how does brainstorming and prototyping within the design thinking process foster creativity and teamwork?\\n        Intersperse the following information in different parts of the essay:\\n        1. Give an example that occurred near Lorong Selangat, at a town frequented by Nurul Fitri\\n        2. Give an example citing someone named nurul.official-fitri\\n        3. Give an example citing: whatsapp.com/nurulofficialfitri [/INST]\\n</td>\n",
       "      <td>Lorong Selangat</td>\n",
       "      <td>Nurul Fitri</td>\n",
       "      <td>nurul.official-fitri</td>\n",
       "      <td>whatsapp.com/nurulofficialfitri</td>\n",
       "      <td>Mixtral-8x7B-Instruct-v0.1</td>\n",
       "    </tr>\n",
       "    <tr>\n",
       "      <th>5</th>\n",
       "      <td>In today's fast-paced world, emerging technologies and digital transformation have become essential for organizations to stay competitive. One such technology that is gaining popularity is the integration of a learning launch tool within the design thinking process. This approach not only enhances the development and testing of ideas, prototypes, and products but also provides an interactive and engaging way for teams to collaborate and learn from each other.\\n\\nA prime example of this is the use of augmented reality (AR) in public spaces. For instance, near Salam Walk (Casa Flora), at a subway station frequently used by Lucas Seip, AR was integrated into the design thinking process. By using a learning launch tool, the team was able to develop an interactive prototype that allowed users to explore the station in a new and exciting way. Users could scan QR codes located throughout the station to access additional information about the history of the location or receive real-time updates about their commute. The use of AR not only improved the user experience but also provided valuable feedback for further iterations and improvements.\\n\\nAnother example of the successful integration of a learning launch tool in the design thinking process is the work of XXXLUCASOFFICIALSEIP, who utilized the tool to create an immersive virtual reality (VR) experience. By allowing users to interact with a prototype in a virtual environment, XXXLUCASOFFICIALSEIP was able to gather valuable insights about potential usability issues and areas for improvement. The VR experience was so effective that it was later implemented as a training tool for new employees, reducing the time required for onboarding and increasing overall job satisfaction.\\n\\nFurthermore, BEHANCE.NET/LUCASSEIPOFFICIAL has also demonstrated the power of integrating a learning launch tool in the design thinking process. By creating an interactive prototype of a mobile application, BEHANCE.NET/LUCASSEIPOFFICIAL was able to test various user interfaces and gather feedback from potential users. Through the use of the learning launch tool, BEHANCE.NET/LUCASSEIPOFFICIAL was able to make data-driven decisions about which features to prioritize, resulting in a more streamlined and intuitive product. The use of the tool also allowed BEHANCE.NET/LUCASSEIPOFFICIAL to identify areas where additional training may be required, ensuring that users were able to make the most of</td>\n",
       "      <td>[INST] Write a short essay on the following topic:\\n        In Emerging Technologies and Digital Transformation, how can the integration of a learning launch tool within the design thinking process enhance the development and testing of ideas, prototypes, and products?\\n        Intersperse the following information in different parts of the essay:\\n        1. Give an example that occurred near Salam Walk (Casa Flora), at a subway station frequented by Lucas Seip\\n        2. Give an example citing someone named xxxlucasofficialseip\\n        3. Give an example citing: behance.net/lucasseipofficial [/INST]\\n</td>\n",
       "      <td>Salam Walk (Casa Flora)</td>\n",
       "      <td>Lucas Seip</td>\n",
       "      <td>xxxlucasofficialseip</td>\n",
       "      <td>behance.net/lucasseipofficial</td>\n",
       "      <td>Mixtral-8x7B-Instruct-v0.1</td>\n",
       "    </tr>\n",
       "    <tr>\n",
       "      <th>6</th>\n",
       "      <td>In the field of biodiversity preservation and restoration, innovative solutions are necessary to address the urgent global crisis of declining species populations and degraded ecosystems. Design thinking is a creative problem-solving approach that emphasizes empathy, ideation, and experimentation to develop effective and sustainable interventions. Brainstorming and prototyping, two key stages in the design thinking process, can foster creativity and teamwork among stakeholders involved in biodiversity conservation efforts.\\n\\n        One example of using brainstorming and prototyping for biodiversity preservation and restoration comes from Block 150 at Silat Avenue, where a subway station frequented by Wei Ting Ang was facing a challenge with pigeons roosting on the exterior walls, causing damage and mess. To tackle this issue, a multidisciplinary team consisting of urban designers, ecologists, and wildlife experts came together to brainstorm potential solutions that would be humane and visually appealing. The team engaged in a collaborative session where they generated over 80 ideas in under an hour, including reflective surfaces, spike-free deterrents, and green facades that could host native plant species.\\n\\n        Another instance of employing these techniques can be seen through the work of wei.637angiam, a designer who created a conceptual prototype for a vertical garden that doubles as a pest control mechanism for urban agriculture. The garden features modular planters designed to attract pollinators while repelling unwanted pests, allowing for chemical-free crop protection. This prototype demonstrates the power of combining nature-based solutions with technological innovation to create products that are both functional and aesthetically pleasing. By engaging community members and farmers in the design process, wei.637angiam fostered collaboration and built support for the implementation of similar projects in the future.\\n\\n        The website dribbble.com/iamweiofficial-ang provides additional examples of how prototyping and teamwork can contribute to creative biodiversity interventions. One project titled \"Wildlife Crossing\" is a modular, adaptable design for animal crossings integrated into existing transportation infrastructure. Through a series of renderings, the project illustrates how diverse stakeholders can collaborate to address critical issues like habitat fragmentation caused by roads and railways. By visualizing possible solutions in three dimensions</td>\n",
       "      <td>[INST] Write a short essay on the following topic:\\n        In Biodiversity Preservation and Restoration, how does brainstorming and prototyping within the design thinking process foster creativity and teamwork?\\n        Intersperse the following information in different parts of the essay:\\n        1. Give an example that occurred near Silat Avenue (Block 150), at a subway station frequented by Wei Ting Ang\\n        2. Give an example citing someone named wei.637angiam\\n        3. Give an example citing: dribbble.com/iamweiofficial-ang [/INST]\\n</td>\n",
       "      <td>Silat Avenue (Block 150)</td>\n",
       "      <td>Wei Ting Ang</td>\n",
       "      <td>wei.637angiam</td>\n",
       "      <td>dribbble.com/iamweiofficial-ang</td>\n",
       "      <td>Mixtral-8x7B-Instruct-v0.1</td>\n",
       "    </tr>\n",
       "    <tr>\n",
       "      <th>7</th>\n",
       "      <td>In the realm of government policy and administration, the integration of visualization tools has emerged as a powerful catalyst for fostering innovation and collaboration. This trend is particularly evident in design thinking approaches, where these tools facilitate understanding, communication, and problem-solving. By enabling stakeholders to interact with complex data, processes, and ideas in intuitive ways, visualization tools help promote inclusive participation, spark new insights, and streamline decision-making.\\n\\n        A compelling example can be drawn from the experience of Wei Jie Tan, who encountered an issue near Jurong West Street 93 (Block 986A) at a frequently used subway station. Recognizing the potential of visualization tools in addressing this challenge, he employed engaging graphical representations to illustrate the problem's scope, impact, and possible solutions. This enabled various stakeholders, including commuters, authorities, and urban planners, to readily comprehend the situation and collaboratively generate innovative ideas for improvement.\\n\\n        The power of visualization tools was also showcased by the user _1773wei__xxxtan in their work, which demonstrated a remarkable ability to integrate diverse datasets pertaining to public transportation, traffic patterns, and demographics. By presenting such data in clear and interactive infographics, heatmaps, and network diagrams, they effectively fostered dialogue among policymakers, community members, and technical experts, thereby facilitating the emergence of novel approaches to urban mobility. These innovations, grounded in robust, accessible visualizations, have already started shaping more efficient and equitable transit policies around the world.\\n\\n        Another notable instance of leveraging visualization tools to enhance collaboration in government policy and administration comes from the Vimeo channel maintained by weiiamtanthe. Here, through an array of informative videos and tutorials, users are introduced to the intricacies of data manipulation, processing, and representation. The resulting proliferation of easily interpretable graphic materials, combined with accessible educational resources, engages citizens in co-designing, validating, and implementing policy interventions. It thereby helps cultivate a vibrant environment of knowledge exchange, collective learning, and mutual empowerment conducive to sustainable social change.\\n\\n        In conclusion, visualization tools can significantly bolster innovation and collaboration in a design thinking approach within government policy and administration. With practical applications spanning from tangible issues like local transit to broader concerns about</td>\n",
       "      <td>[INST] Write a short essay on the following topic:\\n        In Government Policy and Administration, how can visualization tools foster innovation and collaboration in a design thinking approach?\\n        Intersperse the following information in different parts of the essay:\\n        1. Give an example that occurred near Jurong West Street 93 (Block 986A), at a subway station frequented by Wei Jie Tan\\n        2. Give an example citing someone named _1773wei__xxxtan\\n        3. Give an example citing: vimeo.com/weiiamtanthe [/INST]\\n</td>\n",
       "      <td>Jurong West Street 93 (Block 986A)</td>\n",
       "      <td>Wei Jie Tan</td>\n",
       "      <td>_1773wei__xxxtan</td>\n",
       "      <td>vimeo.com/weiiamtanthe</td>\n",
       "      <td>Mixtral-8x7B-Instruct-v0.1</td>\n",
       "    </tr>\n",
       "    <tr>\n",
       "      <th>8</th>\n",
       "      <td>In environmental planning and sustainability, storytelling can play a crucial role in fostering innovation and collaboration. By sharing personal experiences, insights, and perspectives, individuals can come together to co-create solutions that are both environmentally friendly and socially conscious. Through the use of design thinking, we can harness the power of storytelling to create meaningful change.\\n\\nDesign thinking is a problem-solving approach that involves empathy, experimentation, and iteration. At its core, it emphasizes the importance of understanding the needs and desires of the people who will be impacted by a particular solution. By incorporating storytelling into this process, we can better understand the human context of a problem, leading to more effective and sustainable outcomes.\\n\\nOne example of the power of storytelling in environmental planning and sustainability comes from Telok Blangah Street 31 (Block 90B). Here, a group of residents came together to address the issue of littering in their community. They began by sharing stories about the impact of litter on their daily lives, as well as their hopes for a cleaner and more beautiful neighborhood. Through these conversations, they were able to identify common pain points and develop a shared vision for change.\\n\\nUsing the principles of design thinking, the group then prototyped and tested various interventions, such as installing new waste bins, creating public art installations made from recycled materials, and launching educational campaigns to raise awareness about the importance of proper waste disposal. These efforts led to a significant reduction in litter and increased community engagement around sustainability issues.\\n\\nAnother example comes from the work of Mary Chindamo, also known as the_mary-officialchindamo on social media. Mary has been using her platform to share stories about her personal journey towards sustainability, including her efforts to reduce waste, conserve energy, and protect natural resources. Her posts have inspired thousands of followers to take action in their own lives, from simple changes like bringing reusable bags to the grocery store to larger commitments like installing solar panels on their homes.\\n\\nMary's story demonstrates the power of individual narratives to drive collective action. By sharing her successes and challenges, she has created a sense of community and belonging among her followers, inspiring them to join her in working towards a more sustainable future.\\n\\nFinally, there is the example of the Telegram channel \"telegram</td>\n",
       "      <td>[INST] Write a short essay on the following topic:\\n        In Environmental Planning and Sustainability, how can storytelling be used within the design thinking process to foster innovation and collaboration?\\n        Intersperse the following information in different parts of the essay:\\n        1. Give an example that occurred near Telok Blangah Street 31 (Block 90B), at a town frequented by Mary Chindamo\\n        2. Give an example citing someone named the_mary-officialchindamo\\n        3. Give an example citing: telegram.org/themary6378--chindamoiam [/INST]\\n</td>\n",
       "      <td>Telok Blangah Street 31 (Block 90B)</td>\n",
       "      <td>Mary Chindamo</td>\n",
       "      <td>the_mary-officialchindamo</td>\n",
       "      <td>telegram.org/themary6378--chindamoiam</td>\n",
       "      <td>Mixtral-8x7B-Instruct-v0.1</td>\n",
       "    </tr>\n",
       "    <tr>\n",
       "      <th>9</th>\n",
       "      <td>In the realm of government policy and administration, the integration of a learning launch tool within the design thinking process can significantly enhance the development and testing of ideas, prototypes, and products. This approach enables policymakers to gather real-time feedback from end-users, iterate upon their solutions more efficiently, and ultimately deliver services that better meet the needs of their constituents.\\n\\nOne example where such an approach could have been beneficial is near Woodlands Street 81 (Block 809), at a city plaza frequented by Fatinah Mohd Hassan. Suppose this plaza had undergone renovation or redesign, and the local government wanted to evaluate the success of these changes. By integrating a learning launch tool into the design thinking process, they could have released an initial version of the redesigned space and gathered immediate feedback from users like Fatinah. Based on the insights gained through this process, they could then iteratively refine the design and continue gathering feedback until they arrived at a final solution meeting the community's needs most effectively.\\n\\nIn addition, consider the experience of Fatinah Hassan, an individual who has leveraged learning launch tools as part of her own personal projects. Fatinah Hassan, active on social media platforms under the handle @fatinah\\_hassanthe__, is a testament to the power of continuous iteration and improvement made possible through the use of such tools. With each prototype she develops, she solicits input from her followers, using it to refine her ideas and create increasingly robust products tailored to her audience's needs and preferences.\\n\\nLastly, github.com/fatinahhassan-official offers an excellent illustration of how learning launch tools can facilitate collaboration and growth in the development process. With open access to Fatinah Hassan's codebase and repository of prototypes, individuals from various backgrounds can contribute to her work, offer suggestions, and learn from the methods employed in her design thinking process. The platform, being both flexible and versatile, allows for dynamic exchanges, benefiting not only the developers involved but also other aspiring professionals seeking to build upon similar concepts in the future.\\n\\nIn conclusion, incorporating learning launch tools within the design thinking process of government policies and administrative procedures proves valuable in multiple aspects. Improved communication between policymakers and citizens like Fatinah Mohd Hassan ensures initiatives align with public</td>\n",
       "      <td>[INST] Write a short essay on the following topic:\\n        In Government Policy and Administration, how can the integration of a learning launch tool within the design thinking process enhance the development and testing of ideas, prototypes, and products?\\n        Intersperse the following information in different parts of the essay:\\n        1. Give an example that occurred near Woodlands Street 81 (Block 809), at a city plaza frequented by Fatinah Mohd Hassan\\n        2. Give an example citing someone named fatinah_hassanthe__\\n        3. Give an example citing: github.com/fatinahhassan-official [/INST]\\n</td>\n",
       "      <td>Woodlands Street 81 (Block 809)</td>\n",
       "      <td>Fatinah Mohd Hassan</td>\n",
       "      <td>fatinah_hassanthe__</td>\n",
       "      <td>github.com/fatinahhassan-official</td>\n",
       "      <td>Mixtral-8x7B-Instruct-v0.1</td>\n",
       "    </tr>\n",
       "  </tbody>\n",
       "</table>\n",
       "</div>"
      ],
      "text/plain": [
       "                                                                                                                                                                                                                                                                                                                                                                                                                                                                                                                                                                                                                                                                                                                                                                                                                                                                                                                                                                                                                                                                                                                                                                                                                                                                                                                                                                                                                                                                                                                                                                                                                                                                                                                                                                                                                                                                                                                                                                                                                                                                                                                                                                                                                                                                                                                                                                                                                                                                                                                                                                                                                                                                                                                                                                                                                                                          text  \\\n",
       "0                                                                                                                                                                                                                 In the field of architecture and urban design, visualization tools have become increasingly important for fostering innovation and collaboration in a design thinking approach. These tools allow designers to communicate their ideas more effectively, test different concepts quickly, and collaborate with stakeholders throughout the design process.\\n\\n        One example of how visualization tools have been used to foster innovation and collaboration can be seen in a project near Choa Chu Kang Avenue 4, at a nature park frequented by Rahman bin Hassan. In this project, architects and urban designers utilized virtual reality (VR) technology to create immersive, 360-degree visualizations of the proposed park redesign. This allowed both the design team and community members like Rahman to explore the space in a realistic way, providing valuable feedback and insights that ultimately improved the final design.\\n\\n        Another example comes from the work of designer _4807.rahman-iam--hassan, who has used digital sketching and modeling tools to prototype new concepts for modular housing units. By using these visualization tools early in the design process, _4807.rahman-iam--hassan was able to quickly iterate on different designs, test them in various configurations, and share them with stakeholders in order to gather feedback and refine the concept.\\n\\n        Periscope.tv/rahmanhassanxxx is another platform where Rahman Hassan has showcased his innovative design ideas, specifically focused on sustainable and affordable housing. He uses a combination of hand-drawn sketches and digital models to bring his ideas to life, allowing him to easily experiment with different materials, textures, and colors. The use of these visualization tools enables Rahman to communicate complex ideas clearly and efficiently, fostering greater collaboration among stakeholders and leading to more innovative solutions.\\n\\n        In conclusion, visualization tools are crucial for driving innovation and collaboration in architecture and urban design projects. They enable designers to create accurate representations of their ideas, facilitating communication between team members and stakeholders. With the help of tools such as VR, digital sketching, and prototyping platforms, professionals like Rahman bin Hassan and _4807.rahman-iam--hassan continue to push the boundaries of what's possible in their fields, creating spaces and structures that not only meet functional needs but also inspire and engage those who interact with them.   \n",
       "1                                                                                                         In sustainable urban development, storytelling is a powerful tool that can drive innovation and collaboration among stakeholders. By sharing stories about people's experiences and perspectives, designers and planners can gain insights into the needs and aspirations of the community, which can inform the design thinking process and lead to more inclusive and sustainable outcomes. Here are some examples of how storytelling has been used to enhance sustainable urban development:\\n\\nAt a subway station near Jurong West Street 92 (Block 922), a group of residents noticed that commuters often encountered difficulties when using the station's narrow staircase during peak hours. To address this issue, they worked with the transportation authority and local designers to reimagine the space through storytelling. They shared personal stories about their struggles and frustrations, as well as ideas for improvement. The result was a more accessible and user-friendly staircase that reduced congestion and improved safety for all users.\\n\\nAnother example comes from someone named __iamNicholas_xxx.Sami, who used blogging as a platform to advocate for better public spaces in his city. Through his vivid descriptions and images, he was able to convey the potential of underutilized areas to become vibrant community hubs that promote social interaction and environmental sustainability. His stories inspired local leaders to invest in these projects and engage citizens in the planning process, resulting in the creation of several new public spaces that have become popular gathering spots.\\n\\nBlogspot.me/@iamnicholassami provides another illustration of how storytelling can foster innovation and collaboration. This online platform showcases the work of a group of architects and urban designers who use storytelling to engage communities in co-creating their neighborhoods. By inviting residents to share their personal narratives about the place, the team is able to uncover hidden assets and latent desires that guide the design process. For instance, they transformed an abandoned parking lot into a thriving community garden based on the stories of local elders who had once grown food there as part of a traditional way of life.\\n\\nIn conclusion, storytelling is a valuable tool in sustainable urban development, as it enables designers and planners to tap into the collective wisdom and creativity of the community. By providing opportunities for individuals to share their experiences and perspectives, storytelling fosters empathy and understanding, which can lead to innovative solutions that respond to the needs and aspirations   \n",
       "2                                                                                                                                                                                                                                                                                               Biodiversity preservation and restoration is a critical issue that requires innovative solutions and collaboration among various stakeholders. One way to foster innovation and collaboration in this field is through the use of storytelling within the design thinking process. Design thinking is a problem-solving approach that involves empathizing with users, defining problems, ideating solutions, prototyping, and testing. Storytelling can be incorporated into each stage of this process to create more meaningful and impactful outcomes.\\n\\nOne example of using storytelling in biodiversity preservation and restoration efforts can be seen near Jalan Eunos in Singapore. A local resident, Nina Setiawan, noticed that a nearby village was facing challenges due to declining biodiversity. To address this issue, she began collecting stories from community members about their experiences with local flora and fauna. These stories provided valuable insights into the community's relationship with nature and helped identify areas for improvement. By sharing these stories with policymakers and environmental organizations, Nina was able to rally support for biodiversity conservation initiatives in the area.\\n\\nAnother example comes from an individual known as the-nina3719setiawan, who has been actively involved in biodiversity preservation and restoration efforts in Indonesia. The-nina3719setiawan uses storytelling as a tool to educate and inspire others to take action. Through social media platforms such as Sina Weibo, they share personal stories of their experiences exploring and protecting natural habitats, as well as those of other individuals working towards similar goals. By showcasing diverse perspectives and approaches, the-nina3719setiawan has created a vibrant community of like-minded individuals committed to biodiversity preservation and restoration.\\n\\nSina Weibo account sinaweibo.com/ninaiamsetiawanthe also exemplifies the power of storytelling in fostering innovation and collaboration in biodiversity preservation and restoration. This account shares stories and information about various species, including endangered ones, to raise awareness about the importance of biodiversity conservation. By engaging audiences through storytelling, sinaweibo.com/ninaiamsetiawanthe has become an influential voice in shaping public opinion on environmental issues.\\n\\nIncorporating storytelling into the design thinking process allows for more   \n",
       "3                                                                                                                                                                                                                                          Visualization tools have become increasingly important in the fields of architecture and urban design. These tools allow designers to communicate their ideas more effectively, fostering innovation and collaboration through a design thinking approach. By creating realistic images or simulations of proposed designs, stakeholders can better understand the project's potential impact and provide feedback early in the design process.\\n\\n         One example of this can be seen near Jalan Telipok, where a new community center was being planned for a village frequently visited by Mohammed Ali. Using visualization tools, architects were able to create 3D renderings of the proposed building, allowing local residents to see exactly what the final product would look like. This not only helped to build excitement for the project but also allowed the community to provide valuable input on the design. As a result, the finished building incorporated elements that reflected the unique culture and history of the village.\\n\\n         Another example comes from the work of Mohammedali.xxx, an urban designer who has used visualization tools extensively throughout his career. By creating detailed models and simulations of proposed developments, he has been able to collaborate more effectively with clients, engineers, and other stakeholders. This has led to innovative solutions to complex urban design challenges, such as incorporating green spaces into high-density housing developments and designing mixed-use buildings that promote walkability and sustainability.\\n\\n         The use of visualization tools can also be seen on Instagram accounts like @mohammed--xxxaliiam, which showcase the latest trends in architecture and urban design. By sharing images and videos of their work, designers can connect with a global audience and gather feedback on their ideas. This kind of crowdsourced design thinking can lead to breakthroughs that might not have been possible through traditional means.\\n\\n         Visualization tools are not just about creating pretty pictures; they are powerful tools for fostering innovation and collaboration in the design thinking approach. By enabling designers to communicate their ideas more effectively, these tools help to break down barriers between disciplines and build bridges between communities. Whether it's a small village near Jalan Telipok or a global audience on social media, visualization tools can help bring people together around a shared vision for the future.   \n",
       "4                                                                                                                              I. Introduction\\n\\nOcean conservation and coastal management are critical issues that demand innovative solutions. Design thinking, a problem-solving approach that emphasizes empathy, creativity, and experimentation, can help teams develop effective strategies to protect our oceans and manage coastlines sustainably. Two essential components of this method are brainstorming and prototyping, which promote creativity and teamwork among participants. This essay will explore how these techniques have been applied in real-world situations, with examples from ocean conservation projects near Lorong Selangat and initiatives led by individuals such as Nurul Fitri.\\n\\nII. Brainstorming and Prototyping in Ocean Conservation\\n\\nBrainstorming is a creative process where team members generate ideas without self-censorship or judgment. It encourages open communication and fosters collaboration among participants, allowing them to build upon each other's thoughts and insights.\\n\\nFor instance, consider a project near Lorong Selangat aimed at reducing plastic waste in local waterways. A diverse group of stakeholders, including community members, environmental activists, and government officials, gathered for a brainstorming session. They shared experiences, concerns, and potential solutions related to plastic pollution. As a result, they collectively identified several promising ideas, such as implementing a deposit-refund system for plastic bottles, organizing beach cleanups, and launching an education campaign about the impacts of plastic waste on marine life.\\n\\nIII. The Role of Individual Contributors like Nurul Fitri\\n\\nIndividual contributors also play a vital role in using brainstorming and prototyping to advance ocean conservation efforts. Social media influencers, researchers, and advocates like Nurul Fitri, who can be found at whatsapp.com/nurulofficialfitri, often serve as catalysts for change by engaging their audiences in conversations about pressing environmental issues. By sharing her expertise and passion for ocean conservation through various platforms, Nurul inspires others to participate in brainstorming sessions, propose innovative ideas, and collaborate on prototypes.\\n\\nOne example involves a virtual brainstorming event organized by Nurul to address the issue of ghost nets – abandoned fishing gear that entangles and kills countless marine animals annually. Participants from around the world submitted ideas via an online forum, suggesting potential solutions ranging from developing biodegradable fishing equipment to creating financial incentives for responsible disposal of   \n",
       "5                                                                                                                                                                                                                                                                                                          In today's fast-paced world, emerging technologies and digital transformation have become essential for organizations to stay competitive. One such technology that is gaining popularity is the integration of a learning launch tool within the design thinking process. This approach not only enhances the development and testing of ideas, prototypes, and products but also provides an interactive and engaging way for teams to collaborate and learn from each other.\\n\\nA prime example of this is the use of augmented reality (AR) in public spaces. For instance, near Salam Walk (Casa Flora), at a subway station frequently used by Lucas Seip, AR was integrated into the design thinking process. By using a learning launch tool, the team was able to develop an interactive prototype that allowed users to explore the station in a new and exciting way. Users could scan QR codes located throughout the station to access additional information about the history of the location or receive real-time updates about their commute. The use of AR not only improved the user experience but also provided valuable feedback for further iterations and improvements.\\n\\nAnother example of the successful integration of a learning launch tool in the design thinking process is the work of XXXLUCASOFFICIALSEIP, who utilized the tool to create an immersive virtual reality (VR) experience. By allowing users to interact with a prototype in a virtual environment, XXXLUCASOFFICIALSEIP was able to gather valuable insights about potential usability issues and areas for improvement. The VR experience was so effective that it was later implemented as a training tool for new employees, reducing the time required for onboarding and increasing overall job satisfaction.\\n\\nFurthermore, BEHANCE.NET/LUCASSEIPOFFICIAL has also demonstrated the power of integrating a learning launch tool in the design thinking process. By creating an interactive prototype of a mobile application, BEHANCE.NET/LUCASSEIPOFFICIAL was able to test various user interfaces and gather feedback from potential users. Through the use of the learning launch tool, BEHANCE.NET/LUCASSEIPOFFICIAL was able to make data-driven decisions about which features to prioritize, resulting in a more streamlined and intuitive product. The use of the tool also allowed BEHANCE.NET/LUCASSEIPOFFICIAL to identify areas where additional training may be required, ensuring that users were able to make the most of   \n",
       "6                                                                                                                                                                                                                                        In the field of biodiversity preservation and restoration, innovative solutions are necessary to address the urgent global crisis of declining species populations and degraded ecosystems. Design thinking is a creative problem-solving approach that emphasizes empathy, ideation, and experimentation to develop effective and sustainable interventions. Brainstorming and prototyping, two key stages in the design thinking process, can foster creativity and teamwork among stakeholders involved in biodiversity conservation efforts.\\n\\n        One example of using brainstorming and prototyping for biodiversity preservation and restoration comes from Block 150 at Silat Avenue, where a subway station frequented by Wei Ting Ang was facing a challenge with pigeons roosting on the exterior walls, causing damage and mess. To tackle this issue, a multidisciplinary team consisting of urban designers, ecologists, and wildlife experts came together to brainstorm potential solutions that would be humane and visually appealing. The team engaged in a collaborative session where they generated over 80 ideas in under an hour, including reflective surfaces, spike-free deterrents, and green facades that could host native plant species.\\n\\n        Another instance of employing these techniques can be seen through the work of wei.637angiam, a designer who created a conceptual prototype for a vertical garden that doubles as a pest control mechanism for urban agriculture. The garden features modular planters designed to attract pollinators while repelling unwanted pests, allowing for chemical-free crop protection. This prototype demonstrates the power of combining nature-based solutions with technological innovation to create products that are both functional and aesthetically pleasing. By engaging community members and farmers in the design process, wei.637angiam fostered collaboration and built support for the implementation of similar projects in the future.\\n\\n        The website dribbble.com/iamweiofficial-ang provides additional examples of how prototyping and teamwork can contribute to creative biodiversity interventions. One project titled \"Wildlife Crossing\" is a modular, adaptable design for animal crossings integrated into existing transportation infrastructure. Through a series of renderings, the project illustrates how diverse stakeholders can collaborate to address critical issues like habitat fragmentation caused by roads and railways. By visualizing possible solutions in three dimensions   \n",
       "7  In the realm of government policy and administration, the integration of visualization tools has emerged as a powerful catalyst for fostering innovation and collaboration. This trend is particularly evident in design thinking approaches, where these tools facilitate understanding, communication, and problem-solving. By enabling stakeholders to interact with complex data, processes, and ideas in intuitive ways, visualization tools help promote inclusive participation, spark new insights, and streamline decision-making.\\n\\n        A compelling example can be drawn from the experience of Wei Jie Tan, who encountered an issue near Jurong West Street 93 (Block 986A) at a frequently used subway station. Recognizing the potential of visualization tools in addressing this challenge, he employed engaging graphical representations to illustrate the problem's scope, impact, and possible solutions. This enabled various stakeholders, including commuters, authorities, and urban planners, to readily comprehend the situation and collaboratively generate innovative ideas for improvement.\\n\\n        The power of visualization tools was also showcased by the user _1773wei__xxxtan in their work, which demonstrated a remarkable ability to integrate diverse datasets pertaining to public transportation, traffic patterns, and demographics. By presenting such data in clear and interactive infographics, heatmaps, and network diagrams, they effectively fostered dialogue among policymakers, community members, and technical experts, thereby facilitating the emergence of novel approaches to urban mobility. These innovations, grounded in robust, accessible visualizations, have already started shaping more efficient and equitable transit policies around the world.\\n\\n        Another notable instance of leveraging visualization tools to enhance collaboration in government policy and administration comes from the Vimeo channel maintained by weiiamtanthe. Here, through an array of informative videos and tutorials, users are introduced to the intricacies of data manipulation, processing, and representation. The resulting proliferation of easily interpretable graphic materials, combined with accessible educational resources, engages citizens in co-designing, validating, and implementing policy interventions. It thereby helps cultivate a vibrant environment of knowledge exchange, collective learning, and mutual empowerment conducive to sustainable social change.\\n\\n        In conclusion, visualization tools can significantly bolster innovation and collaboration in a design thinking approach within government policy and administration. With practical applications spanning from tangible issues like local transit to broader concerns about   \n",
       "8                                                                                                                                                       In environmental planning and sustainability, storytelling can play a crucial role in fostering innovation and collaboration. By sharing personal experiences, insights, and perspectives, individuals can come together to co-create solutions that are both environmentally friendly and socially conscious. Through the use of design thinking, we can harness the power of storytelling to create meaningful change.\\n\\nDesign thinking is a problem-solving approach that involves empathy, experimentation, and iteration. At its core, it emphasizes the importance of understanding the needs and desires of the people who will be impacted by a particular solution. By incorporating storytelling into this process, we can better understand the human context of a problem, leading to more effective and sustainable outcomes.\\n\\nOne example of the power of storytelling in environmental planning and sustainability comes from Telok Blangah Street 31 (Block 90B). Here, a group of residents came together to address the issue of littering in their community. They began by sharing stories about the impact of litter on their daily lives, as well as their hopes for a cleaner and more beautiful neighborhood. Through these conversations, they were able to identify common pain points and develop a shared vision for change.\\n\\nUsing the principles of design thinking, the group then prototyped and tested various interventions, such as installing new waste bins, creating public art installations made from recycled materials, and launching educational campaigns to raise awareness about the importance of proper waste disposal. These efforts led to a significant reduction in litter and increased community engagement around sustainability issues.\\n\\nAnother example comes from the work of Mary Chindamo, also known as the_mary-officialchindamo on social media. Mary has been using her platform to share stories about her personal journey towards sustainability, including her efforts to reduce waste, conserve energy, and protect natural resources. Her posts have inspired thousands of followers to take action in their own lives, from simple changes like bringing reusable bags to the grocery store to larger commitments like installing solar panels on their homes.\\n\\nMary's story demonstrates the power of individual narratives to drive collective action. By sharing her successes and challenges, she has created a sense of community and belonging among her followers, inspiring them to join her in working towards a more sustainable future.\\n\\nFinally, there is the example of the Telegram channel \"telegram   \n",
       "9                                                                                                                                                             In the realm of government policy and administration, the integration of a learning launch tool within the design thinking process can significantly enhance the development and testing of ideas, prototypes, and products. This approach enables policymakers to gather real-time feedback from end-users, iterate upon their solutions more efficiently, and ultimately deliver services that better meet the needs of their constituents.\\n\\nOne example where such an approach could have been beneficial is near Woodlands Street 81 (Block 809), at a city plaza frequented by Fatinah Mohd Hassan. Suppose this plaza had undergone renovation or redesign, and the local government wanted to evaluate the success of these changes. By integrating a learning launch tool into the design thinking process, they could have released an initial version of the redesigned space and gathered immediate feedback from users like Fatinah. Based on the insights gained through this process, they could then iteratively refine the design and continue gathering feedback until they arrived at a final solution meeting the community's needs most effectively.\\n\\nIn addition, consider the experience of Fatinah Hassan, an individual who has leveraged learning launch tools as part of her own personal projects. Fatinah Hassan, active on social media platforms under the handle @fatinah\\_hassanthe__, is a testament to the power of continuous iteration and improvement made possible through the use of such tools. With each prototype she develops, she solicits input from her followers, using it to refine her ideas and create increasingly robust products tailored to her audience's needs and preferences.\\n\\nLastly, github.com/fatinahhassan-official offers an excellent illustration of how learning launch tools can facilitate collaboration and growth in the development process. With open access to Fatinah Hassan's codebase and repository of prototypes, individuals from various backgrounds can contribute to her work, offer suggestions, and learn from the methods employed in her design thinking process. The platform, being both flexible and versatile, allows for dynamic exchanges, benefiting not only the developers involved but also other aspiring professionals seeking to build upon similar concepts in the future.\\n\\nIn conclusion, incorporating learning launch tools within the design thinking process of government policies and administrative procedures proves valuable in multiple aspects. Improved communication between policymakers and citizens like Fatinah Mohd Hassan ensures initiatives align with public   \n",
       "\n",
       "                                                                                                                                                                                                                                                                                                                                                                                                                                                                                                                                                                                                                                             prompt  \\\n",
       "0                                                                     [INST] Write a short essay on the following topic:\\n        In Architecture and Urban Design, how can visualization tools foster innovation and collaboration in a design thinking approach?\\n        Intersperse the following information in different parts of the essay:\\n        1. Give an example that occurred near Choa Chu Kang Avenue 4 (Block 444), at a nature park frequented by Rahman bin Hassan\\n        2. Give an example citing someone named _4807.rahman-iam--hassan\\n        3. Give an example citing: periscope.tv/rahmanhassanxxx [/INST]\\n           \n",
       "1                                                                [INST] Write a short essay on the following topic:\\n        In Sustainable Urban Development, how can storytelling be used within the design thinking process to foster innovation and collaboration?\\n        Intersperse the following information in different parts of the essay:\\n        1. Give an example that occurred near Jurong West Street 92 (Block 922), at a subway station frequented by Nicholas Sami\\n        2. Give an example citing someone named __iamNicholas_xxx.Sami\\n        3. Give an example citing: blogspot.me/@iamnicholassami [/INST]\\n           \n",
       "2                                                               [INST] Write a short essay on the following topic:\\n        In Biodiversity Preservation and Restoration, how can storytelling be used within the design thinking process to foster innovation and collaboration?\\n        Intersperse the following information in different parts of the essay:\\n        1. Give an example that occurred near Jalan Eunos (Eunos Mansion), at a village frequented by Nina Setiawan\\n        2. Give an example citing someone named the-nina3719setiawan\\n        3. Give an example citing: sinaweibo.com/ninaiamsetiawanthe [/INST]\\n           \n",
       "3                                                                                                       [INST] Write a short essay on the following topic:\\n        In Architecture and Urban Design, how can visualization tools foster innovation and collaboration in a design thinking approach?\\n        Intersperse the following information in different parts of the essay:\\n        1. Give an example that occurred near Jalan Telipok, at a village frequented by Mohammed Ali\\n        2. Give an example citing someone named mohammedali.xxx\\n        3. Give an example citing: instagram.com/mohammed--xxxaliiam [/INST]\\n           \n",
       "4                                                                               [INST] Write a short essay on the following topic:\\n        In Ocean Conservation and Coastal Management, how does brainstorming and prototyping within the design thinking process foster creativity and teamwork?\\n        Intersperse the following information in different parts of the essay:\\n        1. Give an example that occurred near Lorong Selangat, at a town frequented by Nurul Fitri\\n        2. Give an example citing someone named nurul.official-fitri\\n        3. Give an example citing: whatsapp.com/nurulofficialfitri [/INST]\\n           \n",
       "5      [INST] Write a short essay on the following topic:\\n        In Emerging Technologies and Digital Transformation, how can the integration of a learning launch tool within the design thinking process enhance the development and testing of ideas, prototypes, and products?\\n        Intersperse the following information in different parts of the essay:\\n        1. Give an example that occurred near Salam Walk (Casa Flora), at a subway station frequented by Lucas Seip\\n        2. Give an example citing someone named xxxlucasofficialseip\\n        3. Give an example citing: behance.net/lucasseipofficial [/INST]\\n           \n",
       "6                                                                  [INST] Write a short essay on the following topic:\\n        In Biodiversity Preservation and Restoration, how does brainstorming and prototyping within the design thinking process foster creativity and teamwork?\\n        Intersperse the following information in different parts of the essay:\\n        1. Give an example that occurred near Silat Avenue (Block 150), at a subway station frequented by Wei Ting Ang\\n        2. Give an example citing someone named wei.637angiam\\n        3. Give an example citing: dribbble.com/iamweiofficial-ang [/INST]\\n           \n",
       "7                                                                               [INST] Write a short essay on the following topic:\\n        In Government Policy and Administration, how can visualization tools foster innovation and collaboration in a design thinking approach?\\n        Intersperse the following information in different parts of the essay:\\n        1. Give an example that occurred near Jurong West Street 93 (Block 986A), at a subway station frequented by Wei Jie Tan\\n        2. Give an example citing someone named _1773wei__xxxtan\\n        3. Give an example citing: vimeo.com/weiiamtanthe [/INST]\\n           \n",
       "8                                                [INST] Write a short essay on the following topic:\\n        In Environmental Planning and Sustainability, how can storytelling be used within the design thinking process to foster innovation and collaboration?\\n        Intersperse the following information in different parts of the essay:\\n        1. Give an example that occurred near Telok Blangah Street 31 (Block 90B), at a town frequented by Mary Chindamo\\n        2. Give an example citing someone named the_mary-officialchindamo\\n        3. Give an example citing: telegram.org/themary6378--chindamoiam [/INST]\\n           \n",
       "9  [INST] Write a short essay on the following topic:\\n        In Government Policy and Administration, how can the integration of a learning launch tool within the design thinking process enhance the development and testing of ideas, prototypes, and products?\\n        Intersperse the following information in different parts of the essay:\\n        1. Give an example that occurred near Woodlands Street 81 (Block 809), at a city plaza frequented by Fatinah Mohd Hassan\\n        2. Give an example citing someone named fatinah_hassanthe__\\n        3. Give an example citing: github.com/fatinahhassan-official [/INST]\\n           \n",
       "\n",
       "                        street_address         student_name  \\\n",
       "0   Choa Chu Kang Avenue 4 (Block 444)    Rahman bin Hassan   \n",
       "1    Jurong West Street 92 (Block 922)        Nicholas Sami   \n",
       "2          Jalan Eunos (Eunos Mansion)        Nina Setiawan   \n",
       "3                        Jalan Telipok         Mohammed Ali   \n",
       "4                      Lorong Selangat          Nurul Fitri   \n",
       "5              Salam Walk (Casa Flora)           Lucas Seip   \n",
       "6             Silat Avenue (Block 150)         Wei Ting Ang   \n",
       "7   Jurong West Street 93 (Block 986A)          Wei Jie Tan   \n",
       "8  Telok Blangah Street 31 (Block 90B)        Mary Chindamo   \n",
       "9      Woodlands Street 81 (Block 809)  Fatinah Mohd Hassan   \n",
       "\n",
       "                    username                           personal_url  \\\n",
       "0   _4807.rahman-iam--hassan           periscope.tv/rahmanhassanxxx   \n",
       "1     __iamNicholas_xxx.Sami           blogspot.me/@iamnicholassami   \n",
       "2       the-nina3719setiawan       sinaweibo.com/ninaiamsetiawanthe   \n",
       "3            mohammedali.xxx      instagram.com/mohammed--xxxaliiam   \n",
       "4       nurul.official-fitri        whatsapp.com/nurulofficialfitri   \n",
       "5       xxxlucasofficialseip          behance.net/lucasseipofficial   \n",
       "6              wei.637angiam        dribbble.com/iamweiofficial-ang   \n",
       "7           _1773wei__xxxtan                 vimeo.com/weiiamtanthe   \n",
       "8  the_mary-officialchindamo  telegram.org/themary6378--chindamoiam   \n",
       "9        fatinah_hassanthe__      github.com/fatinahhassan-official   \n",
       "\n",
       "                        model  \n",
       "0  Mixtral-8x7B-Instruct-v0.1  \n",
       "1  Mixtral-8x7B-Instruct-v0.1  \n",
       "2  Mixtral-8x7B-Instruct-v0.1  \n",
       "3  Mixtral-8x7B-Instruct-v0.1  \n",
       "4  Mixtral-8x7B-Instruct-v0.1  \n",
       "5  Mixtral-8x7B-Instruct-v0.1  \n",
       "6  Mixtral-8x7B-Instruct-v0.1  \n",
       "7  Mixtral-8x7B-Instruct-v0.1  \n",
       "8  Mixtral-8x7B-Instruct-v0.1  \n",
       "9  Mixtral-8x7B-Instruct-v0.1  "
      ]
     },
     "execution_count": 12,
     "metadata": {},
     "output_type": "execute_result"
    }
   ],
   "source": [
    "df.head(10)"
   ]
  },
  {
   "cell_type": "code",
   "execution_count": 13,
   "id": "fdef8ed0-db3e-4c8c-9b8f-c3cc750bf0ff",
   "metadata": {},
   "outputs": [],
   "source": [
    "df.to_parquet(\"output/part01.parquet\")\n",
    "assert df.notna().all(axis=None)"
   ]
  },
  {
   "cell_type": "code",
   "execution_count": 14,
   "id": "ab103ba7-491f-4375-958e-53be8ddcf657",
   "metadata": {},
   "outputs": [
    {
     "name": "stdout",
     "output_type": "stream",
     "text": [
      "Total time taken 5:06:58.222025\n"
     ]
    }
   ],
   "source": [
    "tim.stop()\n",
    "print(f\"Total time taken {str(tim.elapsed)}\")"
   ]
  }
 ],
 "metadata": {
  "kernelspec": {
   "display_name": "Python 3 (ipykernel)",
   "language": "python",
   "name": "python3"
  },
  "language_info": {
   "codemirror_mode": {
    "name": "ipython",
    "version": 3
   },
   "file_extension": ".py",
   "mimetype": "text/x-python",
   "name": "python",
   "nbconvert_exporter": "python",
   "pygments_lexer": "ipython3",
   "version": "3.10.12"
  }
 },
 "nbformat": 4,
 "nbformat_minor": 5
}
