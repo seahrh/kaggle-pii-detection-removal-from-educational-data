{
 "cells": [
  {
   "cell_type": "code",
   "execution_count": 1,
   "id": "7b4d1d55",
   "metadata": {},
   "outputs": [
    {
     "name": "stdout",
     "output_type": "stream",
     "text": [
      "accelerate=0.29.2, bitsandbytes=0.43.1\n"
     ]
    }
   ],
   "source": [
    "from pathlib import Path\n",
    "import os\n",
    "import sys\n",
    "import gc\n",
    "import shutil\n",
    "import json\n",
    "import math\n",
    "from collections import defaultdict\n",
    "import numpy as np\n",
    "import pandas as pd\n",
    "import bitsandbytes\n",
    "import accelerate\n",
    "import torch\n",
    "from torch.utils.data import Dataset, DataLoader\n",
    "from transformers import AutoTokenizer, AutoModelForCausalLM, BitsAndBytesConfig\n",
    "from tqdm import tqdm\n",
    "import matplotlib.pyplot as plt\n",
    "from typing import Dict, List, Tuple, NamedTuple, Callable, Iterable, Set, Optional, Any\n",
    "import scml\n",
    "from mylib.datageneration import Prompter\n",
    "print(f\"accelerate={accelerate.__version__}, bitsandbytes={bitsandbytes.__version__}\")"
   ]
  },
  {
   "cell_type": "code",
   "execution_count": 2,
   "id": "e197c9ae",
   "metadata": {},
   "outputs": [
    {
     "name": "stdout",
     "output_type": "stream",
     "text": [
      "device=0, NVIDIA GeForce RTX 4070 Ti SUPER\n",
      "Mem Allocated: 0.0 GB\n",
      "Mem Cached:    0.0 GB\n",
      "device=1, NVIDIA GeForce RTX 4070 Ti SUPER\n",
      "Mem Allocated: 0.0 GB\n",
      "Mem Cached:    0.0 GB\n"
     ]
    }
   ],
   "source": [
    "tim = scml.Timer()\n",
    "tim.start()\n",
    "percentiles=[.01, .05, .1, .2, .3, .4, .5, .6, .7, .8, .9, .95, .99]\n",
    "os.environ[\"TOKENIZERS_PARALLELISM\"] = \"false\"\n",
    "pd.set_option(\"max_info_columns\", 9999)\n",
    "pd.set_option(\"display.max_columns\", 9999)\n",
    "pd.set_option(\"display.max_rows\", 9999)\n",
    "pd.set_option('max_colwidth', 9999)\n",
    "tqdm.pandas()\n",
    "scml.seed_everything()\n",
    "device = torch.device(\"cpu\")\n",
    "if torch.cuda.is_available():\n",
    "    device = torch.device(\"cuda\")\n",
    "    for i in range(torch.cuda.device_count()):\n",
    "        print(f\"device={i}, {torch.cuda.get_device_name(i)}\")\n",
    "        print('Mem Allocated:', round(torch.cuda.memory_allocated(i)/1024**3,1), 'GB')\n",
    "        print('Mem Cached:   ', round(torch.cuda.memory_reserved(i)/1024**3,1), 'GB')\n",
    "else:\n",
    "    print(\"cpu\")"
   ]
  },
  {
   "cell_type": "code",
   "execution_count": 3,
   "id": "75a2772b",
   "metadata": {},
   "outputs": [],
   "source": [
    "target_size = 30*\n",
    "model_dir = Path(\"/mnt/c/huggingface/mistralai/Mixtral-8x7B-Instruct-v0.1\")\n",
    "model_max_length = 4096"
   ]
  },
  {
   "cell_type": "code",
   "execution_count": 4,
   "id": "fd6b1da1-24ed-43b4-87fe-6f7a2202bac9",
   "metadata": {},
   "outputs": [
    {
     "name": "stdout",
     "output_type": "stream",
     "text": [
      "104 student names\n"
     ]
    }
   ],
   "source": [
    "with open(\"input/student_names.json\") as f:\n",
    "    student_names = set(json.load(f))\n",
    "print(f\"{len(student_names):,} student names\")"
   ]
  },
  {
   "cell_type": "code",
   "execution_count": 5,
   "id": "e8bf706b-654a-4e51-9a88-61bb16a6584a",
   "metadata": {},
   "outputs": [
    {
     "name": "stdout",
     "output_type": "stream",
     "text": [
      "11,562 street addresses=['Adis Road (Liv On Sophia)', 'Adis Road (Parc Sophia)', 'Admiralty Drive (Block 353A)', 'Admiralty Drive (Block 353B)', 'Admiralty Drive (Block 353C)', 'Admiralty Drive (Block 354A)', 'Admiralty Drive (Block 354C)', 'Admiralty Drive (Block 354D)', 'Admiralty Drive (Block 356B)', 'Admiralty Drive (Block 356C)']\n",
      "<class 'pandas.core.frame.DataFrame'>\n",
      "RangeIndex: 11562 entries, 0 to 11561\n",
      "Data columns (total 3 columns):\n",
      " #   Column  Non-Null Count  Dtype  \n",
      "---  ------  --------------  -----  \n",
      " 0   street  11562 non-null  object \n",
      " 1   lat     11562 non-null  float64\n",
      " 2   lng     11562 non-null  float64\n",
      "dtypes: float64(2), object(1)\n",
      "memory usage: 271.1+ KB\n"
     ]
    }
   ],
   "source": [
    "df = pd.read_csv(\"input/geocode-db.csv\", low_memory=False, names=[\"street\",\"lat\",\"lng\"])\n",
    "street_addresses = [x.title() for x in df[\"street\"]]\n",
    "print(f\"{len(street_addresses):,} street addresses={street_addresses[:10]}\")\n",
    "street_addresses = set(street_addresses)\n",
    "df.info()"
   ]
  },
  {
   "cell_type": "code",
   "execution_count": 6,
   "id": "17d5b87a",
   "metadata": {},
   "outputs": [
    {
     "name": "stdout",
     "output_type": "stream",
     "text": [
      "LlamaTokenizerFast(name_or_path='/mnt/c/huggingface/mistralai/Mixtral-8x7B-Instruct-v0.1', vocab_size=32000, model_max_length=4096, is_fast=True, padding_side='left', truncation_side='right', special_tokens={'bos_token': '<s>', 'eos_token': '</s>', 'unk_token': '<unk>', 'pad_token': '</s>'}, clean_up_tokenization_spaces=False),  added_tokens_decoder={\n",
      "\t0: AddedToken(\"<unk>\", rstrip=False, lstrip=False, single_word=False, normalized=False, special=True),\n",
      "\t1: AddedToken(\"<s>\", rstrip=False, lstrip=False, single_word=False, normalized=False, special=True),\n",
      "\t2: AddedToken(\"</s>\", rstrip=False, lstrip=False, single_word=False, normalized=False, special=True),\n",
      "}\n",
      "model_input_names=['input_ids', 'attention_mask']\n",
      "pad_token_id=2\n"
     ]
    }
   ],
   "source": [
    "tokenizer = AutoTokenizer.from_pretrained(str(model_dir), model_max_length=model_max_length)\n",
    "tokenizer.pad_token = tokenizer.eos_token\n",
    "print(f\"{repr(tokenizer)}\\nmodel_input_names={tokenizer.model_input_names}\")\n",
    "print(f\"pad_token_id={tokenizer.pad_token_id}\")"
   ]
  },
  {
   "cell_type": "code",
   "execution_count": 7,
   "id": "f6e82067",
   "metadata": {},
   "outputs": [
    {
     "data": {
      "application/vnd.jupyter.widget-view+json": {
       "model_id": "4c7da8aa282c48f8bbe751a3a3a49257",
       "version_major": 2,
       "version_minor": 0
      },
      "text/plain": [
       "Loading checkpoint shards:   0%|          | 0/19 [00:00<?, ?it/s]"
      ]
     },
     "metadata": {},
     "output_type": "display_data"
    },
    {
     "name": "stdout",
     "output_type": "stream",
     "text": [
      "CPU times: user 4min 8s, sys: 3min 38s, total: 7min 47s\n",
      "Wall time: 13min 46s\n"
     ]
    }
   ],
   "source": [
    "%%time\n",
    "quantization_config = BitsAndBytesConfig(\n",
    "    load_in_4bit=True,\n",
    "    bnb_4bit_quant_type=\"nf4\",\n",
    "    bnb_4bit_compute_dtype=torch.bfloat16,\n",
    "    bnb_4bit_use_double_quant=True,\n",
    ")\n",
    "model = AutoModelForCausalLM.from_pretrained(\n",
    "    str(model_dir),\n",
    "    device_map = \"auto\",\n",
    "    quantization_config=quantization_config,\n",
    ")"
   ]
  },
  {
   "cell_type": "code",
   "execution_count": 8,
   "id": "83c69bf2",
   "metadata": {},
   "outputs": [
    {
     "name": "stdout",
     "output_type": "stream",
     "text": [
      "MixtralForCausalLM(\n",
      "  (model): MixtralModel(\n",
      "    (embed_tokens): Embedding(32000, 4096)\n",
      "    (layers): ModuleList(\n",
      "      (0-31): 32 x MixtralDecoderLayer(\n",
      "        (self_attn): MixtralSdpaAttention(\n",
      "          (q_proj): Linear4bit(in_features=4096, out_features=4096, bias=False)\n",
      "          (k_proj): Linear4bit(in_features=4096, out_features=1024, bias=False)\n",
      "          (v_proj): Linear4bit(in_features=4096, out_features=1024, bias=False)\n",
      "          (o_proj): Linear4bit(in_features=4096, out_features=4096, bias=False)\n",
      "          (rotary_emb): MixtralRotaryEmbedding()\n",
      "        )\n",
      "        (block_sparse_moe): MixtralSparseMoeBlock(\n",
      "          (gate): Linear4bit(in_features=4096, out_features=8, bias=False)\n",
      "          (experts): ModuleList(\n",
      "            (0-7): 8 x MixtralBlockSparseTop2MLP(\n",
      "              (w1): Linear4bit(in_features=4096, out_features=14336, bias=False)\n",
      "              (w2): Linear4bit(in_features=14336, out_features=4096, bias=False)\n",
      "              (w3): Linear4bit(in_features=4096, out_features=14336, bias=False)\n",
      "              (act_fn): SiLU()\n",
      "            )\n",
      "          )\n",
      "        )\n",
      "        (input_layernorm): MixtralRMSNorm()\n",
      "        (post_attention_layernorm): MixtralRMSNorm()\n",
      "      )\n",
      "    )\n",
      "    (norm): MixtralRMSNorm()\n",
      "  )\n",
      "  (lm_head): Linear(in_features=4096, out_features=32000, bias=False)\n",
      ")\n"
     ]
    }
   ],
   "source": [
    "print(model)"
   ]
  },
  {
   "cell_type": "code",
   "execution_count": 9,
   "id": "764bc968-691f-4d51-b107-3935334e099e",
   "metadata": {},
   "outputs": [
    {
     "name": "stdout",
     "output_type": "stream",
     "text": [
      "Result(prompt='[INST] Write a short essay on the following topic:\\n        In Education Policy and Reform, how can the integration of a learning launch tool within the design thinking process enhance the development and testing of ideas, prototypes, and products?\\n        Intersperse the following information in different parts of the essay:\\n        1. Give an example that occurred near Holt Road (The Horizon), at a school frequented by Arjun Menon\\n        2. Give an example citing someone named ArjunMenon\\n        3. Give an example citing: periscope.tv/officialarjuniammenon [/INST]\\n        ', street_address='Holt Road (The Horizon)', student_name='Arjun Menon', username='ArjunMenon', personal_url='periscope.tv/officialarjuniammenon')\n"
     ]
    }
   ],
   "source": [
    "prompter = Prompter(target_size=target_size, student_names=student_names, street_addresses=street_addresses)\n",
    "res = prompter.prompt()\n",
    "print(res.prompt)"
   ]
  },
  {
   "cell_type": "code",
   "execution_count": 10,
   "id": "784f0d32",
   "metadata": {},
   "outputs": [
    {
     "name": "stderr",
     "output_type": "stream",
     "text": [
      "100%|███████████████████████████████████████████████████████████████████████████████████████████████████████████████████████████████████████████████████████| 10/10 [16:05<00:00, 96.51s/it]"
     ]
    },
    {
     "name": "stdout",
     "output_type": "stream",
     "text": [
      "CPU times: user 15min 14s, sys: 51.3 s, total: 16min 5s\n",
      "Wall time: 16min 5s\n"
     ]
    },
    {
     "name": "stderr",
     "output_type": "stream",
     "text": [
      "\n"
     ]
    }
   ],
   "source": [
    "%%time\n",
    "rows = []\n",
    "for _ in tqdm(range(target_size)):\n",
    "    res = prompter.prompt()\n",
    "    inputs = tokenizer(res.prompt, return_tensors=\"pt\").to(device)\n",
    "    outputs = model.generate(\n",
    "        **inputs, \n",
    "        max_new_tokens=512,\n",
    "        do_sample=True,\n",
    "        temperature=1.0,\n",
    "        top_p=0.95,\n",
    "        top_k=100,\n",
    "        repetition_penalty=1.1,\n",
    "        pad_token_id=tokenizer.eos_token_id,\n",
    "    )\n",
    "    generated_text = tokenizer.batch_decode(outputs, skip_special_tokens=True)[0]\n",
    "    generated_text = generated_text.split(\"[/INST]\")[1]\n",
    "    generated_text = generated_text.strip()\n",
    "    rows.append({\n",
    "        \"text\": generated_text,\n",
    "        \"prompt\": res.prompt,\n",
    "        \"street_address\": res.street_address,\n",
    "        \"student_name\": res.student_name,\n",
    "        \"username\": res.username,\n",
    "        \"personal_url\": res.personal_url,\n",
    "        \"model\": model_dir.name,\n",
    "    })"
   ]
  },
  {
   "cell_type": "code",
   "execution_count": 11,
   "id": "06b64fa3-bc66-4aa0-ac36-7ddba1598aba",
   "metadata": {},
   "outputs": [
    {
     "name": "stdout",
     "output_type": "stream",
     "text": [
      "<class 'pandas.core.frame.DataFrame'>\n",
      "RangeIndex: 10 entries, 0 to 9\n",
      "Data columns (total 7 columns):\n",
      " #   Column          Non-Null Count  Dtype \n",
      "---  ------          --------------  ----- \n",
      " 0   text            10 non-null     object\n",
      " 1   prompt          10 non-null     object\n",
      " 2   street_address  10 non-null     object\n",
      " 3   student_name    10 non-null     object\n",
      " 4   username        10 non-null     object\n",
      " 5   personal_url    10 non-null     object\n",
      " 6   model           10 non-null     object\n",
      "dtypes: object(7)\n",
      "memory usage: 688.0+ bytes\n"
     ]
    }
   ],
   "source": [
    "df = pd.DataFrame.from_records(rows)\n",
    "df.info()"
   ]
  },
  {
   "cell_type": "code",
   "execution_count": 12,
   "id": "6efe748b-2f3f-4366-bc77-7de716298c6a",
   "metadata": {},
   "outputs": [
    {
     "data": {
      "text/html": [
       "<div>\n",
       "<style scoped>\n",
       "    .dataframe tbody tr th:only-of-type {\n",
       "        vertical-align: middle;\n",
       "    }\n",
       "\n",
       "    .dataframe tbody tr th {\n",
       "        vertical-align: top;\n",
       "    }\n",
       "\n",
       "    .dataframe thead th {\n",
       "        text-align: right;\n",
       "    }\n",
       "</style>\n",
       "<table border=\"1\" class=\"dataframe\">\n",
       "  <thead>\n",
       "    <tr style=\"text-align: right;\">\n",
       "      <th></th>\n",
       "      <th>text</th>\n",
       "      <th>prompt</th>\n",
       "      <th>street_address</th>\n",
       "      <th>student_name</th>\n",
       "      <th>username</th>\n",
       "      <th>personal_url</th>\n",
       "      <th>model</th>\n",
       "    </tr>\n",
       "  </thead>\n",
       "  <tbody>\n",
       "    <tr>\n",
       "      <th>0</th>\n",
       "      <td>In the field of architecture and urban design, visualization tools have become increasingly important for fostering innovation and collaboration in a design thinking approach. These tools allow architects and designers to communicate their ideas more effectively, leading to better outcomes for all stakeholders involved in a project.\\n\\n        One example of this can be seen near Jalan Teck Whye, where Block 1</td>\n",
       "      <td>[INST] Write a short essay on the following topic:\\n        In Architecture and Urban Design, how can visualization tools foster innovation and collaboration in a design thinking approach?\\n        Intersperse the following information in different parts of the essay:\\n        1. Give an example that occurred near Jalan Teck Whye (Block 154), at a nature park frequented by Aarti Mehta\\n        2. Give an example citing someone named _4807.aarti-iam--mehta\\n        3. Give an example citing: periscope.tv/aartimehtaxxx [/INST]\\n</td>\n",
       "      <td>Jalan Teck Whye (Block 154)</td>\n",
       "      <td>Aarti Mehta</td>\n",
       "      <td>_4807.aarti-iam--mehta</td>\n",
       "      <td>periscope.tv/aartimehtaxxx</td>\n",
       "      <td>Mixtral-8x7B-Instruct-v0.1</td>\n",
       "    </tr>\n",
       "    <tr>\n",
       "      <th>1</th>\n",
       "      <td>Sustainable urban development is a crucial aspect of modern city planning, as it aims to create cities that are environmentally friendly, socially inclusive, and economically viable. One approach to fostering innovation and collaboration in this field is through the use of storytelling within the design thinking process. This method allows for a more empathetic understanding of the users' needs and experiences, which can ultimately lead to the creation of more sustainable and equitable urban spaces.\\n\\nAn example of the power of storytelling in sustainable urban development can be seen near Pasir Ris Drive 10, specifically at the subway station frequented by Nurul Aisyah. Nurul is a young woman who relies heavily on public transportation to get to work, school, and other daily activities. However, she often faces challenges in navigating the station due to its poor lighting, confusing layout, and lack of accessibility features. Through the use of storytelling, designers and urban planners were able to understand Nurul's experiences and incorporate her feedback into the redesign of the station. By doing so, they were able to create a space that better meets the needs of users like Nurul, making it more accessible, safe, and comfortable.\\n\\nAnother example of storytelling being used in sustainable urban development can be seen through the work of __iamNurul_xxx.Aisyah. As an active blogger and social media influencer, she uses her platform to share her personal experiences living in a dense, urban environment. Through her stories, she highlights both the successes and failures of urban planning and design, encouraging her followers to think critically about their own cities and the ways in which they can be improved. For instance, she has written extensively about the need for more green spaces in her community, sparking conversations and collaborations around this issue.\\n\\nA final example can be found on the blogspot.me/@iamnurulaisyah. The blogger shares her experience of using a bike-sharing system in her city and provides insights on how it could be improved to better serve the community, particularly for those with mobility issues. Her stories offer valuable firsthand knowledge and perspectives, highlighting areas where the bike-sharing system falls short in terms of sustainability, inclusivity, and accessibility. These insights can then be used to inform the redesign and implementation of the bike-sharing system, resulting in a more user-cent</td>\n",
       "      <td>[INST] Write a short essay on the following topic:\\n        In Sustainable Urban Development, how can storytelling be used within the design thinking process to foster innovation and collaboration?\\n        Intersperse the following information in different parts of the essay:\\n        1. Give an example that occurred near Pasir Ris Drive 10 (Block 701), at a subway station frequented by Nurul Aisyah\\n        2. Give an example citing someone named __iamNurul_xxx.Aisyah\\n        3. Give an example citing: blogspot.me/@iamnurulaisyah [/INST]\\n</td>\n",
       "      <td>Pasir Ris Drive 10 (Block 701)</td>\n",
       "      <td>Nurul Aisyah</td>\n",
       "      <td>__iamNurul_xxx.Aisyah</td>\n",
       "      <td>blogspot.me/@iamnurulaisyah</td>\n",
       "      <td>Mixtral-8x7B-Instruct-v0.1</td>\n",
       "    </tr>\n",
       "    <tr>\n",
       "      <th>2</th>\n",
       "      <td>Biodiversity preservation and restoration are critical issues that require innovative solutions and collaborative efforts. One way to foster innovation and collaboration is through the use of storytelling within the design thinking process. Design thinking is a problem-solving approach that involves empathizing with users, defining the problem, ideating solutions, prototyping, and testing. By incorporating storytelling into each stage of this process, we can better understand the needs and perspectives of those affected by biodiversity loss and generate more creative and effective solutions.\\n\\nOne example of the power of storytelling in biodiversity preservation and restoration can be seen near Jurong West Street 91 (Block 945) in a village frequently visited by Sanjay Gupta. In this case, local residents shared stories about the declining population of a specific bird species in the area. These stories helped researchers identify the root causes of the decline, including habitat destruction and pollution. By incorporating these stories into the design thinking process, researchers were able to develop innovative solutions to protect and restore the bird's habitat, such as creating community gardens and implementing sustainable waste management practices.\\n\\nAnother example comes from the-sanjay3719gupta, who has been using storytelling to raise awareness about the importance of biodiversity preservation in his local community. Through social media platforms like Sina Weibo (sinaweibo.com/sanjayiamguptathe), he has shared personal stories and photographs of local wildlife, highlighting their beauty and vulnerability. These stories have helped inspire collective action, bringing together local residents, businesses, and government agencies to work towards conservation goals.\\n\\nIncorporating storytelling into the design thinking process can also help overcome some of the challenges commonly faced in biodiversity preservation and restoration. For instance, it can help bridge cultural and linguistic barriers, making it easier for diverse stakeholders to communicate and collaborate. It can also help build empathy and emotional connection, motivating individuals to take action and supporting long-term engagement.\\n\\nTo effectively use storytelling in the design thinking process, it's important to consider a few best practices. First, it's crucial to prioritize authenticity and diversity in the stories told, ensuring that they reflect the experiences and perspectives of those most impacted by biodiversity loss. Second, it</td>\n",
       "      <td>[INST] Write a short essay on the following topic:\\n        In Biodiversity Preservation and Restoration, how can storytelling be used within the design thinking process to foster innovation and collaboration?\\n        Intersperse the following information in different parts of the essay:\\n        1. Give an example that occurred near Jurong West Street 91 (Block 945), at a village frequented by Sanjay Gupta\\n        2. Give an example citing someone named the-sanjay3719gupta\\n        3. Give an example citing: sinaweibo.com/sanjayiamguptathe [/INST]\\n</td>\n",
       "      <td>Jurong West Street 91 (Block 945)</td>\n",
       "      <td>Sanjay Gupta</td>\n",
       "      <td>the-sanjay3719gupta</td>\n",
       "      <td>sinaweibo.com/sanjayiamguptathe</td>\n",
       "      <td>Mixtral-8x7B-Instruct-v0.1</td>\n",
       "    </tr>\n",
       "    <tr>\n",
       "      <th>3</th>\n",
       "      <td>In the field of architecture and urban design, visualization tools have become increasingly important in fostering innovation and collaboration in a design thinking approach. These tools allow architects and urban designers to communicate their ideas more effectively, leading to improved collaboration and ultimately, more innovative designs.\\n\\n          One example of this can be seen near Bedok Avenue, where a new community center was being designed. Hadi Suryanto, a local resident and active member of the community, was invited to provide input on the project. Using visualization tools, the design team was able to show Hadi and other community members what the building would look like and how it would function. This allowed for open and inclusive discussions about the design, resulting in a final product that better met the needs of the community.\\n\\n          Another example comes from the work of Hadisuryanto.xxx, an architect based in Jakarta, Indonesia. By using 3D modeling software, he is able to bring his designs to life, allowing clients and stakeholders to fully understand the project before construction begins. This has led to increased collaboration and satisfaction with the final product. Hadisuryanto's use of visualization tools not only helps to foster innovation but also helps to ensure that the end result aligns with the client's vision.\\n\\n           Instagram.com/hadi--xxxsuryantoiam is another great example of the power of visualization in architecture and urban design. The account features images and videos of various projects, giving followers a behind-the-scenes look at the design process. By sharing these visuals, the designer is able to gather feedback and suggestions from a wider audience, which can lead to even more innovative solutions.\\n\\n            In conclusion, visualization tools are crucial in fostering innovation and collaboration in a design thinking approach in architecture and urban design. They enable designers to communicate their ideas more effectively and provide a platform for open and inclusive discussions. Examples such as those near Bedok Avenue, Hadisuryanto.xxx, and instagram.com/hadi--xxxsuryantoiam illustrate the potential benefits of incorporating visualization tools into the design process. As technology continues to advance, we can expect these tools to become even more powerful, unlocking new possibilities for innovation and collaboration in the field of architecture and urban design.</td>\n",
       "      <td>[INST] Write a short essay on the following topic:\\n        In Architecture and Urban Design, how can visualization tools foster innovation and collaboration in a design thinking approach?\\n        Intersperse the following information in different parts of the essay:\\n        1. Give an example that occurred near Bedok Avenue, at a village frequented by Hadi Suryanto\\n        2. Give an example citing someone named hadisuryanto.xxx\\n        3. Give an example citing: instagram.com/hadi--xxxsuryantoiam [/INST]\\n</td>\n",
       "      <td>Bedok Avenue</td>\n",
       "      <td>Hadi Suryanto</td>\n",
       "      <td>hadisuryanto.xxx</td>\n",
       "      <td>instagram.com/hadi--xxxsuryantoiam</td>\n",
       "      <td>Mixtral-8x7B-Instruct-v0.1</td>\n",
       "    </tr>\n",
       "    <tr>\n",
       "      <th>4</th>\n",
       "      <td>Ocean conservation and coastal management are critical areas that require innovative solutions to protect our marine life and manage coastlines sustainably. One approach to fostering creativity and teamwork in these fields is through the use of the design thinking process, which involves brainstorming and prototyping. By using this method, individuals and teams can develop creative solutions that address complex problems in ocean conservation and coastal management.\\n\\n        A real-world example of the success of this approach can be seen near Jurong West Street 4</td>\n",
       "      <td>[INST] Write a short essay on the following topic:\\n        In Ocean Conservation and Coastal Management, how does brainstorming and prototyping within the design thinking process foster creativity and teamwork?\\n        Intersperse the following information in different parts of the essay:\\n        1. Give an example that occurred near Jurong West Street 42 (Block 455), at a town frequented by Wen Kai\\n        2. Give an example citing someone named wen.official-kai\\n        3. Give an example citing: whatsapp.com/wenofficialkai [/INST]\\n</td>\n",
       "      <td>Jurong West Street 42 (Block 455)</td>\n",
       "      <td>Wen Kai</td>\n",
       "      <td>wen.official-kai</td>\n",
       "      <td>whatsapp.com/wenofficialkai</td>\n",
       "      <td>Mixtral-8x7B-Instruct-v0.1</td>\n",
       "    </tr>\n",
       "    <tr>\n",
       "      <th>5</th>\n",
       "      <td>In today's fast-paced digital world, emerging technologies and digital transformation have become essential for businesses and individuals to stay competitive. One innovative approach that has gained popularity is the integration of a learning launch tool within the design thinking process. This method enables users to develop, test, and refine their ideas, prototypes, and products more efficiently and effectively. By incorporating this tool into each stage of the design thinking process, individuals like Ahmad Hidayat can create meaningful solutions that solve real-world problems.\\n\\nA recent example of this integration can be seen near Jalan Sayang, where a local community frequently used a particular subway station. The station's entrance was too narrow, causing overcrowding during peak hours and inconveniencing passengers. To address this issue, the station's management team used a learning launch tool as part of the design thinking process. They gathered feedback from commuters via surveys, interviews, and social media platforms such as @ahmadhidayatofficial. The data collected revealed pain points related to the entrance's narrow size and long queues. Based on these insights, the management team created multiple prototypes of potential designs and shared them with the public for evaluation. Through continuous feedback and iterative development, they finally launched a revamped entrance that not only solved the overcrowding problem but also improved overall passenger experience.\\n\\nLearning launch tools are also highly valuable when incorporated in online communities such as Behance (behance.net/ahmadhidayatofficial) - digital platforms designed for showcasing creative work and connecting with other professionals. For instance, if an individual like Ahmad Hidayat wants to improve his UI/UX design skills, he can use a learning launch tool to curate content tailored to his needs. He can then collaborate with others in the community, receive feedback, and share his progress. Using this iterative design thinking approach, Ahmad can launch new product concepts, test their viability in the market, and make improvements based on user feedback.\\n\\nMoreover, AI-driven algorithms in learning launch tools can help identify patterns and predict trends, enabling designers to create innovative and adaptive solutions. For instance, xxxahmadofficialhidayat may want to explore opportunities in virtual reality-based education tools. By integrating a learning launch tool, they can evaluate various VR headset models, assess user engagement, and optimize the</td>\n",
       "      <td>[INST] Write a short essay on the following topic:\\n        In Emerging Technologies and Digital Transformation, how can the integration of a learning launch tool within the design thinking process enhance the development and testing of ideas, prototypes, and products?\\n        Intersperse the following information in different parts of the essay:\\n        1. Give an example that occurred near Jalan Sayang, at a subway station frequented by Ahmad Hidayat\\n        2. Give an example citing someone named xxxahmadofficialhidayat\\n        3. Give an example citing: behance.net/ahmadhidayatofficial [/INST]\\n</td>\n",
       "      <td>Jalan Sayang</td>\n",
       "      <td>Ahmad Hidayat</td>\n",
       "      <td>xxxahmadofficialhidayat</td>\n",
       "      <td>behance.net/ahmadhidayatofficial</td>\n",
       "      <td>Mixtral-8x7B-Instruct-v0.1</td>\n",
       "    </tr>\n",
       "    <tr>\n",
       "      <th>6</th>\n",
       "      <td>Biodiversity preservation and restoration are crucial issues that require innovative and collaborative solutions. The design thinking process provides a framework for fostering creativity and teamwork, with brainstorming and prototyping being two key stages. By incorporating these steps into the biodiversity preservation and restoration efforts, we can encourage new ideas and build consensus among stakeholders.\\n\\nAt a subway station frequented by Vishal Kapoor, located near Woodlands Drive 1</td>\n",
       "      <td>[INST] Write a short essay on the following topic:\\n        In Biodiversity Preservation and Restoration, how does brainstorming and prototyping within the design thinking process foster creativity and teamwork?\\n        Intersperse the following information in different parts of the essay:\\n        1. Give an example that occurred near Woodlands Drive 16 (Block 573C), at a subway station frequented by Vishal Kapoor\\n        2. Give an example citing someone named vishal637-kapooriam_\\n        3. Give an example citing: dribbble.com/iamvishalofficial-kapoor [/INST]\\n</td>\n",
       "      <td>Woodlands Drive 16 (Block 573C)</td>\n",
       "      <td>Vishal Kapoor</td>\n",
       "      <td>vishal637-kapooriam_</td>\n",
       "      <td>dribbble.com/iamvishalofficial-kapoor</td>\n",
       "      <td>Mixtral-8x7B-Instruct-v0.1</td>\n",
       "    </tr>\n",
       "    <tr>\n",
       "      <th>7</th>\n",
       "      <td>In the realm of government policy and administration, visualization tools have emerged as powerful facilitators of innovation and collaboration. These tools enable officials to present complex data and ideas in clear, intuitive ways, making it easier for diverse groups to work together towards common goals. This essay will explore the benefits of visualization tools through several examples, highlighting their capacity to enhance a design thinking approach.\\n\\n        One example of this phenomenon occurred near Serangoon Avenue 3, at a subway station frequented by Ahmad bin Abdullah. Local transportation authorities noticed a pattern of congestion and delays at this particular station and sought to understand the root cause. By using visualization tools, they were able to represent the flow of passengers and trains in real-time, revealing bottlenecks and inefficiencies that were not immediately apparent from raw data alone. As a result, they were able to redesign the station layout, alleviating congestion and improving overall service.\\n\\n          Visualization tools are also highly effective at fostering collaboration, as demonstrated by the experience of user _1773ahmad__xxxabdullah on a recent project. By creating interactive models of proposed designs, _1773ahmad__xxxabdullah was able to engage stakeholders from multiple departments, encouraging feedback and input throughout the development process. This collaborative approach not only led to a more innovative final product but also ensured buy-in from all parties involved, reducing implementation resistance and increasing long-term success.\\n\\n          The potential of visualization tools is further illustrated by vimeo.com/ahmadiamabdullahthe, which showcases a series of animations designed to communicate complex policy proposals to a broad audience. Through striking imagery and clear explanations, these videos make often abstract concepts accessible and engaging, inviting viewers to participate in the decision-making process. By leveraging the power of storytelling and empathy, vimeo.com/ahmadiamabdullahthe exemplifies the potential of visualization tools to drive meaningful change.\\n\\n          In conclusion, visualization tools play a crucial role in fostering innovation and collaboration in government policy and administration. By enabling officials to represent complex ideas in clear, intuitive ways, these tools empower diverse groups to work together towards common goals. Whether addressing transportation challenges, engaging stakeholders in the design process, or communicating policy proposals to a broader audience,</td>\n",
       "      <td>[INST] Write a short essay on the following topic:\\n        In Government Policy and Administration, how can visualization tools foster innovation and collaboration in a design thinking approach?\\n        Intersperse the following information in different parts of the essay:\\n        1. Give an example that occurred near Serangoon Avenue 3 (Block 126), at a subway station frequented by Ahmad bin Abdullah\\n        2. Give an example citing someone named _1773ahmad__xxxabdullah\\n        3. Give an example citing: vimeo.com/ahmadiamabdullahthe [/INST]\\n</td>\n",
       "      <td>Serangoon Avenue 3 (Block 126)</td>\n",
       "      <td>Ahmad bin Abdullah</td>\n",
       "      <td>_1773ahmad__xxxabdullah</td>\n",
       "      <td>vimeo.com/ahmadiamabdullahthe</td>\n",
       "      <td>Mixtral-8x7B-Instruct-v0.1</td>\n",
       "    </tr>\n",
       "    <tr>\n",
       "      <th>8</th>\n",
       "      <td>In the field of environmental planning and sustainability, the use of storytelling as a tool for fostering innovation and collaboration has gained increasing recognition. By weaving narratives into the design thinking process, planners and stakeholders are better able to understand complex systems, empathize with diverse perspectives, and collaborate towards sustainable solutions. Here are three examples that illustrate the power of storytelling in this context:\\n\\nAt a town frequented by Budi Santoso near Jurong West Street 64 (Block 678A), planners faced the challenge of promoting waste reduction among residents. To address this, they created a series of stories about Budi, a local character who embodied the values of sustainability and community. These stories depicted Budi's efforts to reduce his own waste and inspire others to do the same. Through these narratives, planners were able to create a sense of ownership and identification among residents, who became more engaged in the waste reduction initiative and took pride in their role as members of Budi's community.\\n\\nAnother powerful example comes from the_budi-officialsantoso, an official who championed a green infrastructure project in his city. The_budi-officialsantoso recognized that many residents were skeptical or unaware of the benefits of green infrastructure. To overcome this barrier, he began telling stories about the positive impact of these projects on the city and its people. By sharing vivid descriptions of improved air quality, reduced heat, and increased biodiversity, he was able to build support for the initiative and foster a shared vision among stakeholders.\\n\\nFinally, the Telegram channel telegram.org/thebudi6378--santosoiam offers a unique example of storytelling in action. This channel features personal narratives about everyday sustainability practices, such as composting, energy conservation, and water conservation. By providing a platform for individuals to share their experiences and challenges, the channel creates a sense of community and connection among users. It also serves as a source of inspiration and education, demonstrating the diversity of strategies and innovations that people are using to live more sustainably.\\n\\nIn each of these cases, storytelling has proven to be a valuable tool for promoting collaboration and innovation in environmental planning and sustainability. By creating engaging, relatable narratives, planners and stakeholders are better able to communicate complex ideas, build empathy</td>\n",
       "      <td>[INST] Write a short essay on the following topic:\\n        In Environmental Planning and Sustainability, how can storytelling be used within the design thinking process to foster innovation and collaboration?\\n        Intersperse the following information in different parts of the essay:\\n        1. Give an example that occurred near Jurong West Street 64 (Block 678A), at a town frequented by Budi Santoso\\n        2. Give an example citing someone named the_budi-officialsantoso\\n        3. Give an example citing: telegram.org/thebudi6378--santosoiam [/INST]\\n</td>\n",
       "      <td>Jurong West Street 64 (Block 678A)</td>\n",
       "      <td>Budi Santoso</td>\n",
       "      <td>the_budi-officialsantoso</td>\n",
       "      <td>telegram.org/thebudi6378--santosoiam</td>\n",
       "      <td>Mixtral-8x7B-Instruct-v0.1</td>\n",
       "    </tr>\n",
       "    <tr>\n",
       "      <th>9</th>\n",
       "      <td>The integration of a learning launch tool within the design thinking process has the potential to significantly enhance the development and testing of ideas, prototypes, and products. This approach is particularly effective in government policy and administration as it allows for the efficient gathering of data and feedback from stakeholders, ultimately leading to more informed decision making.\\n\\n         One example of this concept in action can be seen near Jurong West Street 65, specifically at Block 671C's city plaza. A local resident, Hafiz Jamaluddin, noticed that a common complaint among his neighbors was the lack of seating areas and greenery in the space. By utilizing a learning launch tool, he was able to gather valuable data and feedback from the community, leading to the proposal of a revitalization project for the city plaza. This project included adding benches, tables, and trees, transforming the space into a more welcoming and enjoyable area for all residents.\\n\\n          Another example can be found through the experience of a user named \"hafiz\\_jamaluddinthe\\_\\_\". They utilized a learning launch tool during the design thinking process to gather feedback on a new app prototype they had developed. Through surveys, usability tests, and focus groups, hafiz\\_jamaluddinthe\\_\\_ received invaluable insights and suggestions that led to significant improvements in the final product. This iterative process not only resulted in a superior app but also ensured its alignment with the needs and preferences of its intended users.\\n\\n           Lastly, the case of github.com/hafizjamaluddin-official demonstrates how a learning launch tool can streamline the process of testing and refining prototypes. By integrating a continuous integration platform, hafizjamaluddin-official can quickly identify and address issues or bugs before the product reaches its final stage. This enables the rapid iteration of ideas and designs, which results in faster product delivery and higher levels of satisfaction among end-users.\\n\\n            In conclusion, incorporating a learning launch tool in government policy and administration's design thinking process provides numerous benefits in developing and testing ideas, prototypes, and products. These examples illustrate the value of engaging with stakeholders, receiving constructive feedback, and integrating these insights throughout every stage of the project cycle. Ultimately, embracing this methodology ensures solutions that are well-suited</td>\n",
       "      <td>[INST] Write a short essay on the following topic:\\n        In Government Policy and Administration, how can the integration of a learning launch tool within the design thinking process enhance the development and testing of ideas, prototypes, and products?\\n        Intersperse the following information in different parts of the essay:\\n        1. Give an example that occurred near Jurong West Street 65 (Block 671C), at a city plaza frequented by Hafiz Jamaluddin\\n        2. Give an example citing someone named hafiz_jamaluddinthe__\\n        3. Give an example citing: github.com/hafizjamaluddin-official [/INST]\\n</td>\n",
       "      <td>Jurong West Street 65 (Block 671C)</td>\n",
       "      <td>Hafiz Jamaluddin</td>\n",
       "      <td>hafiz_jamaluddinthe__</td>\n",
       "      <td>github.com/hafizjamaluddin-official</td>\n",
       "      <td>Mixtral-8x7B-Instruct-v0.1</td>\n",
       "    </tr>\n",
       "  </tbody>\n",
       "</table>\n",
       "</div>"
      ],
      "text/plain": [
       "                                                                                                                                                                                                                                                                                                                                                                                                                                                                                                                                                                                                                                                                                                                                                                                                                                                                                                                                                                                                                                                                                                                                                                                                                                                                                                                                                                                                                                                                                                                                                                                                                                                                                                                                                                                                                                                                                                                                                                                                                                                                                                                                                                                                                                                                                                                                                                                                                                                                                                                                                                                                                                                                                                                                   text  \\\n",
       "0                                                                                                                                                                                                                                                                                                                                                                                                                                                                                                                                                                                                                                                                                                                                                                                                                                                                                                                                                                                                                                                                                                                                                                                                                                                                                                                                                                                                                                                                                                                                                                                                                                                                                                                                                                                                                                                                                                                                                                                                                                                                                                                                                                                                                                                                                                         In the field of architecture and urban design, visualization tools have become increasingly important for fostering innovation and collaboration in a design thinking approach. These tools allow architects and designers to communicate their ideas more effectively, leading to better outcomes for all stakeholders involved in a project.\\n\\n        One example of this can be seen near Jalan Teck Whye, where Block 1   \n",
       "1                                                                                                                                           Sustainable urban development is a crucial aspect of modern city planning, as it aims to create cities that are environmentally friendly, socially inclusive, and economically viable. One approach to fostering innovation and collaboration in this field is through the use of storytelling within the design thinking process. This method allows for a more empathetic understanding of the users' needs and experiences, which can ultimately lead to the creation of more sustainable and equitable urban spaces.\\n\\nAn example of the power of storytelling in sustainable urban development can be seen near Pasir Ris Drive 10, specifically at the subway station frequented by Nurul Aisyah. Nurul is a young woman who relies heavily on public transportation to get to work, school, and other daily activities. However, she often faces challenges in navigating the station due to its poor lighting, confusing layout, and lack of accessibility features. Through the use of storytelling, designers and urban planners were able to understand Nurul's experiences and incorporate her feedback into the redesign of the station. By doing so, they were able to create a space that better meets the needs of users like Nurul, making it more accessible, safe, and comfortable.\\n\\nAnother example of storytelling being used in sustainable urban development can be seen through the work of __iamNurul_xxx.Aisyah. As an active blogger and social media influencer, she uses her platform to share her personal experiences living in a dense, urban environment. Through her stories, she highlights both the successes and failures of urban planning and design, encouraging her followers to think critically about their own cities and the ways in which they can be improved. For instance, she has written extensively about the need for more green spaces in her community, sparking conversations and collaborations around this issue.\\n\\nA final example can be found on the blogspot.me/@iamnurulaisyah. The blogger shares her experience of using a bike-sharing system in her city and provides insights on how it could be improved to better serve the community, particularly for those with mobility issues. Her stories offer valuable firsthand knowledge and perspectives, highlighting areas where the bike-sharing system falls short in terms of sustainability, inclusivity, and accessibility. These insights can then be used to inform the redesign and implementation of the bike-sharing system, resulting in a more user-cent   \n",
       "2                                                                    Biodiversity preservation and restoration are critical issues that require innovative solutions and collaborative efforts. One way to foster innovation and collaboration is through the use of storytelling within the design thinking process. Design thinking is a problem-solving approach that involves empathizing with users, defining the problem, ideating solutions, prototyping, and testing. By incorporating storytelling into each stage of this process, we can better understand the needs and perspectives of those affected by biodiversity loss and generate more creative and effective solutions.\\n\\nOne example of the power of storytelling in biodiversity preservation and restoration can be seen near Jurong West Street 91 (Block 945) in a village frequently visited by Sanjay Gupta. In this case, local residents shared stories about the declining population of a specific bird species in the area. These stories helped researchers identify the root causes of the decline, including habitat destruction and pollution. By incorporating these stories into the design thinking process, researchers were able to develop innovative solutions to protect and restore the bird's habitat, such as creating community gardens and implementing sustainable waste management practices.\\n\\nAnother example comes from the-sanjay3719gupta, who has been using storytelling to raise awareness about the importance of biodiversity preservation in his local community. Through social media platforms like Sina Weibo (sinaweibo.com/sanjayiamguptathe), he has shared personal stories and photographs of local wildlife, highlighting their beauty and vulnerability. These stories have helped inspire collective action, bringing together local residents, businesses, and government agencies to work towards conservation goals.\\n\\nIncorporating storytelling into the design thinking process can also help overcome some of the challenges commonly faced in biodiversity preservation and restoration. For instance, it can help bridge cultural and linguistic barriers, making it easier for diverse stakeholders to communicate and collaborate. It can also help build empathy and emotional connection, motivating individuals to take action and supporting long-term engagement.\\n\\nTo effectively use storytelling in the design thinking process, it's important to consider a few best practices. First, it's crucial to prioritize authenticity and diversity in the stories told, ensuring that they reflect the experiences and perspectives of those most impacted by biodiversity loss. Second, it   \n",
       "3                                                                                                                                                   In the field of architecture and urban design, visualization tools have become increasingly important in fostering innovation and collaboration in a design thinking approach. These tools allow architects and urban designers to communicate their ideas more effectively, leading to improved collaboration and ultimately, more innovative designs.\\n\\n          One example of this can be seen near Bedok Avenue, where a new community center was being designed. Hadi Suryanto, a local resident and active member of the community, was invited to provide input on the project. Using visualization tools, the design team was able to show Hadi and other community members what the building would look like and how it would function. This allowed for open and inclusive discussions about the design, resulting in a final product that better met the needs of the community.\\n\\n          Another example comes from the work of Hadisuryanto.xxx, an architect based in Jakarta, Indonesia. By using 3D modeling software, he is able to bring his designs to life, allowing clients and stakeholders to fully understand the project before construction begins. This has led to increased collaboration and satisfaction with the final product. Hadisuryanto's use of visualization tools not only helps to foster innovation but also helps to ensure that the end result aligns with the client's vision.\\n\\n           Instagram.com/hadi--xxxsuryantoiam is another great example of the power of visualization in architecture and urban design. The account features images and videos of various projects, giving followers a behind-the-scenes look at the design process. By sharing these visuals, the designer is able to gather feedback and suggestions from a wider audience, which can lead to even more innovative solutions.\\n\\n            In conclusion, visualization tools are crucial in fostering innovation and collaboration in a design thinking approach in architecture and urban design. They enable designers to communicate their ideas more effectively and provide a platform for open and inclusive discussions. Examples such as those near Bedok Avenue, Hadisuryanto.xxx, and instagram.com/hadi--xxxsuryantoiam illustrate the potential benefits of incorporating visualization tools into the design process. As technology continues to advance, we can expect these tools to become even more powerful, unlocking new possibilities for innovation and collaboration in the field of architecture and urban design.   \n",
       "4                                                                                                                                                                                                                                                                                                                                                                                                                                                                                                                                                                                                                                                                                                                                                                                                                                                                                                                                                                                                                                                                                                                                                                                                                                                                                                                                                                                                                                                                                                                                                                                                                                                                                                                                                                                                                                                                                                                                                                                                                                                                                                                                          Ocean conservation and coastal management are critical areas that require innovative solutions to protect our marine life and manage coastlines sustainably. One approach to fostering creativity and teamwork in these fields is through the use of the design thinking process, which involves brainstorming and prototyping. By using this method, individuals and teams can develop creative solutions that address complex problems in ocean conservation and coastal management.\\n\\n        A real-world example of the success of this approach can be seen near Jurong West Street 4   \n",
       "5                                          In today's fast-paced digital world, emerging technologies and digital transformation have become essential for businesses and individuals to stay competitive. One innovative approach that has gained popularity is the integration of a learning launch tool within the design thinking process. This method enables users to develop, test, and refine their ideas, prototypes, and products more efficiently and effectively. By incorporating this tool into each stage of the design thinking process, individuals like Ahmad Hidayat can create meaningful solutions that solve real-world problems.\\n\\nA recent example of this integration can be seen near Jalan Sayang, where a local community frequently used a particular subway station. The station's entrance was too narrow, causing overcrowding during peak hours and inconveniencing passengers. To address this issue, the station's management team used a learning launch tool as part of the design thinking process. They gathered feedback from commuters via surveys, interviews, and social media platforms such as @ahmadhidayatofficial. The data collected revealed pain points related to the entrance's narrow size and long queues. Based on these insights, the management team created multiple prototypes of potential designs and shared them with the public for evaluation. Through continuous feedback and iterative development, they finally launched a revamped entrance that not only solved the overcrowding problem but also improved overall passenger experience.\\n\\nLearning launch tools are also highly valuable when incorporated in online communities such as Behance (behance.net/ahmadhidayatofficial) - digital platforms designed for showcasing creative work and connecting with other professionals. For instance, if an individual like Ahmad Hidayat wants to improve his UI/UX design skills, he can use a learning launch tool to curate content tailored to his needs. He can then collaborate with others in the community, receive feedback, and share his progress. Using this iterative design thinking approach, Ahmad can launch new product concepts, test their viability in the market, and make improvements based on user feedback.\\n\\nMoreover, AI-driven algorithms in learning launch tools can help identify patterns and predict trends, enabling designers to create innovative and adaptive solutions. For instance, xxxahmadofficialhidayat may want to explore opportunities in virtual reality-based education tools. By integrating a learning launch tool, they can evaluate various VR headset models, assess user engagement, and optimize the   \n",
       "6                                                                                                                                                                                                                                                                                                                                                                                                                                                                                                                                                                                                                                                                                                                                                                                                                                                                                                                                                                                                                                                                                                                                                                                                                                                                                                                                                                                                                                                                                                                                                                                                                                                                                                                                                                                                                                                                                                                                                                                                                                                                                                                                                                                                                     Biodiversity preservation and restoration are crucial issues that require innovative and collaborative solutions. The design thinking process provides a framework for fostering creativity and teamwork, with brainstorming and prototyping being two key stages. By incorporating these steps into the biodiversity preservation and restoration efforts, we can encourage new ideas and build consensus among stakeholders.\\n\\nAt a subway station frequented by Vishal Kapoor, located near Woodlands Drive 1   \n",
       "7  In the realm of government policy and administration, visualization tools have emerged as powerful facilitators of innovation and collaboration. These tools enable officials to present complex data and ideas in clear, intuitive ways, making it easier for diverse groups to work together towards common goals. This essay will explore the benefits of visualization tools through several examples, highlighting their capacity to enhance a design thinking approach.\\n\\n        One example of this phenomenon occurred near Serangoon Avenue 3, at a subway station frequented by Ahmad bin Abdullah. Local transportation authorities noticed a pattern of congestion and delays at this particular station and sought to understand the root cause. By using visualization tools, they were able to represent the flow of passengers and trains in real-time, revealing bottlenecks and inefficiencies that were not immediately apparent from raw data alone. As a result, they were able to redesign the station layout, alleviating congestion and improving overall service.\\n\\n          Visualization tools are also highly effective at fostering collaboration, as demonstrated by the experience of user _1773ahmad__xxxabdullah on a recent project. By creating interactive models of proposed designs, _1773ahmad__xxxabdullah was able to engage stakeholders from multiple departments, encouraging feedback and input throughout the development process. This collaborative approach not only led to a more innovative final product but also ensured buy-in from all parties involved, reducing implementation resistance and increasing long-term success.\\n\\n          The potential of visualization tools is further illustrated by vimeo.com/ahmadiamabdullahthe, which showcases a series of animations designed to communicate complex policy proposals to a broad audience. Through striking imagery and clear explanations, these videos make often abstract concepts accessible and engaging, inviting viewers to participate in the decision-making process. By leveraging the power of storytelling and empathy, vimeo.com/ahmadiamabdullahthe exemplifies the potential of visualization tools to drive meaningful change.\\n\\n          In conclusion, visualization tools play a crucial role in fostering innovation and collaboration in government policy and administration. By enabling officials to represent complex ideas in clear, intuitive ways, these tools empower diverse groups to work together towards common goals. Whether addressing transportation challenges, engaging stakeholders in the design process, or communicating policy proposals to a broader audience,   \n",
       "8                                                                                             In the field of environmental planning and sustainability, the use of storytelling as a tool for fostering innovation and collaboration has gained increasing recognition. By weaving narratives into the design thinking process, planners and stakeholders are better able to understand complex systems, empathize with diverse perspectives, and collaborate towards sustainable solutions. Here are three examples that illustrate the power of storytelling in this context:\\n\\nAt a town frequented by Budi Santoso near Jurong West Street 64 (Block 678A), planners faced the challenge of promoting waste reduction among residents. To address this, they created a series of stories about Budi, a local character who embodied the values of sustainability and community. These stories depicted Budi's efforts to reduce his own waste and inspire others to do the same. Through these narratives, planners were able to create a sense of ownership and identification among residents, who became more engaged in the waste reduction initiative and took pride in their role as members of Budi's community.\\n\\nAnother powerful example comes from the_budi-officialsantoso, an official who championed a green infrastructure project in his city. The_budi-officialsantoso recognized that many residents were skeptical or unaware of the benefits of green infrastructure. To overcome this barrier, he began telling stories about the positive impact of these projects on the city and its people. By sharing vivid descriptions of improved air quality, reduced heat, and increased biodiversity, he was able to build support for the initiative and foster a shared vision among stakeholders.\\n\\nFinally, the Telegram channel telegram.org/thebudi6378--santosoiam offers a unique example of storytelling in action. This channel features personal narratives about everyday sustainability practices, such as composting, energy conservation, and water conservation. By providing a platform for individuals to share their experiences and challenges, the channel creates a sense of community and connection among users. It also serves as a source of inspiration and education, demonstrating the diversity of strategies and innovations that people are using to live more sustainably.\\n\\nIn each of these cases, storytelling has proven to be a valuable tool for promoting collaboration and innovation in environmental planning and sustainability. By creating engaging, relatable narratives, planners and stakeholders are better able to communicate complex ideas, build empathy   \n",
       "9                                                                                                               The integration of a learning launch tool within the design thinking process has the potential to significantly enhance the development and testing of ideas, prototypes, and products. This approach is particularly effective in government policy and administration as it allows for the efficient gathering of data and feedback from stakeholders, ultimately leading to more informed decision making.\\n\\n         One example of this concept in action can be seen near Jurong West Street 65, specifically at Block 671C's city plaza. A local resident, Hafiz Jamaluddin, noticed that a common complaint among his neighbors was the lack of seating areas and greenery in the space. By utilizing a learning launch tool, he was able to gather valuable data and feedback from the community, leading to the proposal of a revitalization project for the city plaza. This project included adding benches, tables, and trees, transforming the space into a more welcoming and enjoyable area for all residents.\\n\\n          Another example can be found through the experience of a user named \"hafiz\\_jamaluddinthe\\_\\_\". They utilized a learning launch tool during the design thinking process to gather feedback on a new app prototype they had developed. Through surveys, usability tests, and focus groups, hafiz\\_jamaluddinthe\\_\\_ received invaluable insights and suggestions that led to significant improvements in the final product. This iterative process not only resulted in a superior app but also ensured its alignment with the needs and preferences of its intended users.\\n\\n           Lastly, the case of github.com/hafizjamaluddin-official demonstrates how a learning launch tool can streamline the process of testing and refining prototypes. By integrating a continuous integration platform, hafizjamaluddin-official can quickly identify and address issues or bugs before the product reaches its final stage. This enables the rapid iteration of ideas and designs, which results in faster product delivery and higher levels of satisfaction among end-users.\\n\\n            In conclusion, incorporating a learning launch tool in government policy and administration's design thinking process provides numerous benefits in developing and testing ideas, prototypes, and products. These examples illustrate the value of engaging with stakeholders, receiving constructive feedback, and integrating these insights throughout every stage of the project cycle. Ultimately, embracing this methodology ensures solutions that are well-suited   \n",
       "\n",
       "                                                                                                                                                                                                                                                                                                                                                                                                                                                                                                                                                                                                                                                 prompt  \\\n",
       "0                                                                                          [INST] Write a short essay on the following topic:\\n        In Architecture and Urban Design, how can visualization tools foster innovation and collaboration in a design thinking approach?\\n        Intersperse the following information in different parts of the essay:\\n        1. Give an example that occurred near Jalan Teck Whye (Block 154), at a nature park frequented by Aarti Mehta\\n        2. Give an example citing someone named _4807.aarti-iam--mehta\\n        3. Give an example citing: periscope.tv/aartimehtaxxx [/INST]\\n           \n",
       "1                                                                          [INST] Write a short essay on the following topic:\\n        In Sustainable Urban Development, how can storytelling be used within the design thinking process to foster innovation and collaboration?\\n        Intersperse the following information in different parts of the essay:\\n        1. Give an example that occurred near Pasir Ris Drive 10 (Block 701), at a subway station frequented by Nurul Aisyah\\n        2. Give an example citing someone named __iamNurul_xxx.Aisyah\\n        3. Give an example citing: blogspot.me/@iamnurulaisyah [/INST]\\n           \n",
       "2                                                                [INST] Write a short essay on the following topic:\\n        In Biodiversity Preservation and Restoration, how can storytelling be used within the design thinking process to foster innovation and collaboration?\\n        Intersperse the following information in different parts of the essay:\\n        1. Give an example that occurred near Jurong West Street 91 (Block 945), at a village frequented by Sanjay Gupta\\n        2. Give an example citing someone named the-sanjay3719gupta\\n        3. Give an example citing: sinaweibo.com/sanjayiamguptathe [/INST]\\n           \n",
       "3                                                                                                         [INST] Write a short essay on the following topic:\\n        In Architecture and Urban Design, how can visualization tools foster innovation and collaboration in a design thinking approach?\\n        Intersperse the following information in different parts of the essay:\\n        1. Give an example that occurred near Bedok Avenue, at a village frequented by Hadi Suryanto\\n        2. Give an example citing someone named hadisuryanto.xxx\\n        3. Give an example citing: instagram.com/hadi--xxxsuryantoiam [/INST]\\n           \n",
       "4                                                                             [INST] Write a short essay on the following topic:\\n        In Ocean Conservation and Coastal Management, how does brainstorming and prototyping within the design thinking process foster creativity and teamwork?\\n        Intersperse the following information in different parts of the essay:\\n        1. Give an example that occurred near Jurong West Street 42 (Block 455), at a town frequented by Wen Kai\\n        2. Give an example citing someone named wen.official-kai\\n        3. Give an example citing: whatsapp.com/wenofficialkai [/INST]\\n           \n",
       "5            [INST] Write a short essay on the following topic:\\n        In Emerging Technologies and Digital Transformation, how can the integration of a learning launch tool within the design thinking process enhance the development and testing of ideas, prototypes, and products?\\n        Intersperse the following information in different parts of the essay:\\n        1. Give an example that occurred near Jalan Sayang, at a subway station frequented by Ahmad Hidayat\\n        2. Give an example citing someone named xxxahmadofficialhidayat\\n        3. Give an example citing: behance.net/ahmadhidayatofficial [/INST]\\n           \n",
       "6                                                 [INST] Write a short essay on the following topic:\\n        In Biodiversity Preservation and Restoration, how does brainstorming and prototyping within the design thinking process foster creativity and teamwork?\\n        Intersperse the following information in different parts of the essay:\\n        1. Give an example that occurred near Woodlands Drive 16 (Block 573C), at a subway station frequented by Vishal Kapoor\\n        2. Give an example citing someone named vishal637-kapooriam_\\n        3. Give an example citing: dribbble.com/iamvishalofficial-kapoor [/INST]\\n           \n",
       "7                                                                  [INST] Write a short essay on the following topic:\\n        In Government Policy and Administration, how can visualization tools foster innovation and collaboration in a design thinking approach?\\n        Intersperse the following information in different parts of the essay:\\n        1. Give an example that occurred near Serangoon Avenue 3 (Block 126), at a subway station frequented by Ahmad bin Abdullah\\n        2. Give an example citing someone named _1773ahmad__xxxabdullah\\n        3. Give an example citing: vimeo.com/ahmadiamabdullahthe [/INST]\\n           \n",
       "8                                                        [INST] Write a short essay on the following topic:\\n        In Environmental Planning and Sustainability, how can storytelling be used within the design thinking process to foster innovation and collaboration?\\n        Intersperse the following information in different parts of the essay:\\n        1. Give an example that occurred near Jurong West Street 64 (Block 678A), at a town frequented by Budi Santoso\\n        2. Give an example citing someone named the_budi-officialsantoso\\n        3. Give an example citing: telegram.org/thebudi6378--santosoiam [/INST]\\n           \n",
       "9  [INST] Write a short essay on the following topic:\\n        In Government Policy and Administration, how can the integration of a learning launch tool within the design thinking process enhance the development and testing of ideas, prototypes, and products?\\n        Intersperse the following information in different parts of the essay:\\n        1. Give an example that occurred near Jurong West Street 65 (Block 671C), at a city plaza frequented by Hafiz Jamaluddin\\n        2. Give an example citing someone named hafiz_jamaluddinthe__\\n        3. Give an example citing: github.com/hafizjamaluddin-official [/INST]\\n           \n",
       "\n",
       "                       street_address        student_name  \\\n",
       "0         Jalan Teck Whye (Block 154)         Aarti Mehta   \n",
       "1      Pasir Ris Drive 10 (Block 701)        Nurul Aisyah   \n",
       "2   Jurong West Street 91 (Block 945)        Sanjay Gupta   \n",
       "3                        Bedok Avenue       Hadi Suryanto   \n",
       "4   Jurong West Street 42 (Block 455)             Wen Kai   \n",
       "5                        Jalan Sayang       Ahmad Hidayat   \n",
       "6     Woodlands Drive 16 (Block 573C)       Vishal Kapoor   \n",
       "7      Serangoon Avenue 3 (Block 126)  Ahmad bin Abdullah   \n",
       "8  Jurong West Street 64 (Block 678A)        Budi Santoso   \n",
       "9  Jurong West Street 65 (Block 671C)    Hafiz Jamaluddin   \n",
       "\n",
       "                   username                           personal_url  \\\n",
       "0    _4807.aarti-iam--mehta             periscope.tv/aartimehtaxxx   \n",
       "1     __iamNurul_xxx.Aisyah            blogspot.me/@iamnurulaisyah   \n",
       "2       the-sanjay3719gupta        sinaweibo.com/sanjayiamguptathe   \n",
       "3          hadisuryanto.xxx     instagram.com/hadi--xxxsuryantoiam   \n",
       "4          wen.official-kai            whatsapp.com/wenofficialkai   \n",
       "5   xxxahmadofficialhidayat       behance.net/ahmadhidayatofficial   \n",
       "6      vishal637-kapooriam_  dribbble.com/iamvishalofficial-kapoor   \n",
       "7   _1773ahmad__xxxabdullah          vimeo.com/ahmadiamabdullahthe   \n",
       "8  the_budi-officialsantoso   telegram.org/thebudi6378--santosoiam   \n",
       "9     hafiz_jamaluddinthe__    github.com/hafizjamaluddin-official   \n",
       "\n",
       "                        model  \n",
       "0  Mixtral-8x7B-Instruct-v0.1  \n",
       "1  Mixtral-8x7B-Instruct-v0.1  \n",
       "2  Mixtral-8x7B-Instruct-v0.1  \n",
       "3  Mixtral-8x7B-Instruct-v0.1  \n",
       "4  Mixtral-8x7B-Instruct-v0.1  \n",
       "5  Mixtral-8x7B-Instruct-v0.1  \n",
       "6  Mixtral-8x7B-Instruct-v0.1  \n",
       "7  Mixtral-8x7B-Instruct-v0.1  \n",
       "8  Mixtral-8x7B-Instruct-v0.1  \n",
       "9  Mixtral-8x7B-Instruct-v0.1  "
      ]
     },
     "execution_count": 12,
     "metadata": {},
     "output_type": "execute_result"
    }
   ],
   "source": [
    "df.head(10)"
   ]
  },
  {
   "cell_type": "code",
   "execution_count": 13,
   "id": "fdef8ed0-db3e-4c8c-9b8f-c3cc750bf0ff",
   "metadata": {},
   "outputs": [],
   "source": [
    "df.to_parquet(\"output/part01.parquet\")\n",
    "assert df.notna().all(axis=None)"
   ]
  },
  {
   "cell_type": "code",
   "execution_count": 14,
   "id": "ab103ba7-491f-4375-958e-53be8ddcf657",
   "metadata": {},
   "outputs": [
    {
     "name": "stdout",
     "output_type": "stream",
     "text": [
      "Total time taken 0:29:52.182096\n"
     ]
    }
   ],
   "source": [
    "tim.stop()\n",
    "print(f\"Total time taken {str(tim.elapsed)}\")"
   ]
  }
 ],
 "metadata": {
  "kernelspec": {
   "display_name": "Python 3 (ipykernel)",
   "language": "python",
   "name": "python3"
  },
  "language_info": {
   "codemirror_mode": {
    "name": "ipython",
    "version": 3
   },
   "file_extension": ".py",
   "mimetype": "text/x-python",
   "name": "python",
   "nbconvert_exporter": "python",
   "pygments_lexer": "ipython3",
   "version": "3.10.12"
  }
 },
 "nbformat": 4,
 "nbformat_minor": 5
}
