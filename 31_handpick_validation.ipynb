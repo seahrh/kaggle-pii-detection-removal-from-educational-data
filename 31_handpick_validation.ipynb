{
 "cells": [
  {
   "cell_type": "code",
   "execution_count": 1,
   "id": "74d00b60-7a2a-4d15-8c7d-f96c580e5c6d",
   "metadata": {},
   "outputs": [
    {
     "name": "stdout",
     "output_type": "stream",
     "text": [
      "int16, min=-32768, max=32767\n"
     ]
    }
   ],
   "source": [
    "import os\n",
    "import json\n",
    "import gc\n",
    "from datetime import datetime\n",
    "from pathlib import Path\n",
    "import numpy as np\n",
    "import pandas as pd\n",
    "from sklearn.model_selection import StratifiedKFold\n",
    "from tqdm import tqdm\n",
    "from typing import Dict, List, Set, Tuple, NamedTuple, Callable\n",
    "import scml\n",
    "from scml import pandasx as pdx\n",
    "from mylib.ner import NerDataset\n",
    "tim = scml.Timer()\n",
    "tim.start()\n",
    "os.environ[\"TOKENIZERS_PARALLELISM\"] = \"false\"\n",
    "percentiles=[.01, .05, .1, .2, .3, .4, .5, .6, .7, .8, .9, .95, .99]\n",
    "pd.set_option(\"max_info_columns\", 9999)\n",
    "pd.set_option(\"display.max_columns\", 9999)\n",
    "pd.set_option(\"display.max_rows\", 9999)\n",
    "pd.set_option('max_colwidth', 9999)\n",
    "tqdm.pandas()\n",
    "scml.seed_everything()\n",
    "info = np.iinfo(np.int16)\n",
    "print(f\"int16, min={info.min}, max={info.max}\")"
   ]
  },
  {
   "cell_type": "code",
   "execution_count": 2,
   "id": "42cdacaa-e14d-451d-a129-3323bf36e8c9",
   "metadata": {},
   "outputs": [],
   "source": [
    "version = \"v026\"\n",
    "tra_files = [\n",
    "    Path(\"input/train.json\"),\n",
    "    Path(\"input/nicholasbroad/nb01.json\"),\n",
    "    Path(\"input/valentinwerner/pjm12.json\"),  # PJM v12\n",
    "    Path(\"input/valentinwerner/moth12.json\"),  # Moth v12\n",
    "    #Path(\"input/mpware/mpware02.json\"),  # mpware v2\n",
    "    Path(\"input/tonyarobertson/tonrob01.json\"),  # tonyarobertson v1\n",
    "    Path(\"input/mandrilator/mandri02.json\"),  # mandrilator v2\n",
    "]\n",
    "val_files = [\n",
    "    Path(\"input/valentinwerner/vw03.json\"),\n",
    "]\n",
    "stratification_strategy = \"hes\"\n",
    "if stratification_strategy==\"hme\":\n",
    "    easy_classes = {\"B-NAME_STUDENT\", \"I-NAME_STUDENT\"}\n",
    "    medium_classes = {\n",
    "        \"B-URL_PERSONAL\", \"I-URL_PERSONAL\", \n",
    "        \"B-ID_NUM\", \"I-ID_NUM\", \n",
    "        \"B-EMAIL\", \"I-EMAIL\",\n",
    "    }\n",
    "    hard_classes = {\n",
    "        \"B-USERNAME\", \"I-USERNAME\", \n",
    "        \"B-PHONE_NUM\", \"I-PHONE_NUM\", \n",
    "        \"B-STREET_ADDRESS\", \"I-STREET_ADDRESS\",\n",
    "    }\n",
    "elif stratification_strategy==\"hes\":\n",
    "    easy_classes = {\n",
    "        \"B-URL_PERSONAL\", \"I-URL_PERSONAL\", \n",
    "        \"B-USERNAME\", \"I-USERNAME\", \n",
    "        \"B-PHONE_NUM\", \"I-PHONE_NUM\",\n",
    "        \"B-EMAIL\", \"I-EMAIL\",\n",
    "    }\n",
    "    medium_classes=set()\n",
    "    hard_classes = {\n",
    "        \"B-NAME_STUDENT\", \"I-NAME_STUDENT\"\n",
    "        \"B-STREET_ADDRESS\", \"I-STREET_ADDRESS\",\n",
    "        \"B-ID_NUM\", \"I-ID_NUM\",\n",
    "    }"
   ]
  },
  {
   "cell_type": "code",
   "execution_count": 3,
   "id": "976ba9a6-8d1e-44e2-be72-57917f2c84ed",
   "metadata": {},
   "outputs": [
    {
     "name": "stdout",
     "output_type": "stream",
     "text": [
      "train=6,807\n",
      "nb01=2,355\n",
      "pjm12=2,000\n",
      "moth12=4,434\n",
      "tonrob01=1,850\n",
      "mandri02=2,000\n",
      "len(tra)=19,446\n",
      "tra[0]={'document': 7, 'full_text': \"Design Thinking for innovation reflexion-Avril 2021-Nathalie Sylla\\n\\nChallenge & selection\\n\\nThe tool I use to help all stakeholders finding their way through the complexity of a project is the  mind map.\\n\\nWhat exactly is a mind map? According to the definition of Buzan T. and Buzan B. (1999, Dessine-moi  l'intelligence. Paris: Les Éditions d'Organisation.), the mind map (or heuristic diagram) is a graphic  representation technique that follows the natural functioning of the mind and allows the brain's  potential to be released. Cf Annex1\\n\\nThis tool has many advantages:\\n\\n•  It is accessible to all and does not require significant material investment and can be done  quickly\\n\\n•  It is scalable\\n\\n•  It allows categorization and linking of information\\n\\n•  It can be applied to any type of situation: notetaking, problem solving, analysis, creation of  new ideas\\n\\n•  It is suitable for all people and is easy to learn\\n\\n•  It is fun and encourages exchanges\\n\\n•  It makes visible the dimension of projects, opportunities, interconnections\\n\\n•  It synthesizes\\n\\n•  It makes the project understandable\\n\\n•  It allows you to explore ideas\\n\\nThe creation of a mind map starts with an idea/problem located at its center. This starting point  generates ideas/work areas, incremented around this center in a radial structure, which in turn is  completed with as many branches as new ideas.\\n\\nThis tool enables creativity and logic to be mobilized, it is a map of the thoughts.\\n\\nCreativity is enhanced because participants feel comfortable with the method.\\n\\nApplication & Insight\\n\\nI start the process of the mind map creation with the stakeholders standing around a large board  (white or paper board). In the center of the board, I write and highlight the topic to design.\\n\\nThrough a series of questions, I guide the stakeholders in modelling the mind map. I adapt the series  of questions according to the topic to be addressed. In the type of questions, we can use: who, what,  when, where, why, how, how much.\\n\\nThe use of the “why” is very interesting to understand the origin. By this way, the interviewed person  frees itself from paradigms and thus dares to propose new ideas / ways of functioning. I plan two  hours for a workshop.\\n\\nDesign Thinking for innovation reflexion-Avril 2021-Nathalie Sylla\\n\\nAfter modelling the mind map on paper, I propose to the participants a digital visualization of their  work with the addition of color codes, images and interconnections. This second workshop also lasts  two hours and allows the mind map to evolve. Once familiarized with it, the stakeholders discover  the power of the tool. Then, the second workshop brings out even more ideas and constructive  exchanges between the stakeholders. Around this new mind map, they have learned to work  together and want to make visible the untold ideas.\\n\\nI now present all the projects I manage in this type of format in order to ease rapid understanding for  decision-makers. These presentations are the core of my business models. The decision-makers are  thus able to identify the opportunities of the projects and can take quick decisions to validate them.  They find answers to their questions thank to a schematic representation.\\n\\nApproach\\n\\nWhat I find amazing with the facilitation of this type of workshop is the participants commitment for  the project. This tool helps to give meaning. The participants appropriate the story and want to keep  writing it. Then, they easily become actors or sponsors of the project. A trust relationship is built,  thus facilitating the implementation of related actions.\\n\\nDesign Thinking for innovation reflexion-Avril 2021-Nathalie Sylla\\n\\nAnnex 1: Mind Map Shared facilities project\\n\\n\", 'tokens': ['Design', 'Thinking', 'for', 'innovation', 'reflexion', '-', 'Avril', '2021', '-', 'Nathalie', 'Sylla', '\\n\\n', 'Challenge', '&', 'selection', '\\n\\n', 'The', 'tool', 'I', 'use', 'to', 'help', 'all', 'stakeholders', 'finding', 'their', 'way', 'through', 'the', 'complexity', 'of', 'a', 'project', 'is', 'the', ' ', 'mind', 'map', '.', '\\n\\n', 'What', 'exactly', 'is', 'a', 'mind', 'map', '?', 'According', 'to', 'the', 'definition', 'of', 'Buzan', 'T.', 'and', 'Buzan', 'B.', '(', '1999', ',', 'Dessine', '-', 'moi', ' ', \"l'intelligence\", '.', 'Paris', ':', 'Les', 'Éditions', \"d'Organisation\", '.', ')', ',', 'the', 'mind', 'map', '(', 'or', 'heuristic', 'diagram', ')', 'is', 'a', 'graphic', ' ', 'representation', 'technique', 'that', 'follows', 'the', 'natural', 'functioning', 'of', 'the', 'mind', 'and', 'allows', 'the', 'brain', \"'s\", ' ', 'potential', 'to', 'be', 'released', '.', 'Cf', 'Annex1', '\\n\\n', 'This', 'tool', 'has', 'many', 'advantages', ':', '\\n\\n', '•', ' ', 'It', 'is', 'accessible', 'to', 'all', 'and', 'does', 'not', 'require', 'significant', 'material', 'investment', 'and', 'can', 'be', 'done', ' ', 'quickly', '\\n\\n', '•', ' ', 'It', 'is', 'scalable', '\\n\\n', '•', ' ', 'It', 'allows', 'categorization', 'and', 'linking', 'of', 'information', '\\n\\n', '•', ' ', 'It', 'can', 'be', 'applied', 'to', 'any', 'type', 'of', 'situation', ':', 'notetaking', ',', 'problem', 'solving', ',', 'analysis', ',', 'creation', 'of', ' ', 'new', 'ideas', '\\n\\n', '•', ' ', 'It', 'is', 'suitable', 'for', 'all', 'people', 'and', 'is', 'easy', 'to', 'learn', '\\n\\n', '•', ' ', 'It', 'is', 'fun', 'and', 'encourages', 'exchanges', '\\n\\n', '•', ' ', 'It', 'makes', 'visible', 'the', 'dimension', 'of', 'projects', ',', 'opportunities', ',', 'interconnections', '\\n\\n', '•', ' ', 'It', 'synthesizes', '\\n\\n', '•', ' ', 'It', 'makes', 'the', 'project', 'understandable', '\\n\\n', '•', ' ', 'It', 'allows', 'you', 'to', 'explore', 'ideas', '\\n\\n', 'The', 'creation', 'of', 'a', 'mind', 'map', 'starts', 'with', 'an', 'idea', '/', 'problem', 'located', 'at', 'its', 'center', '.', 'This', 'starting', 'point', ' ', 'generates', 'ideas', '/', 'work', 'areas', ',', 'incremented', 'around', 'this', 'center', 'in', 'a', 'radial', 'structure', ',', 'which', 'in', 'turn', 'is', ' ', 'completed', 'with', 'as', 'many', 'branches', 'as', 'new', 'ideas', '.', '\\n\\n', 'This', 'tool', 'enables', 'creativity', 'and', 'logic', 'to', 'be', 'mobilized', ',', 'it', 'is', 'a', 'map', 'of', 'the', 'thoughts', '.', '\\n\\n', 'Creativity', 'is', 'enhanced', 'because', 'participants', 'feel', 'comfortable', 'with', 'the', 'method', '.', '\\n\\n', 'Application', '&', 'Insight', '\\n\\n', 'I', 'start', 'the', 'process', 'of', 'the', 'mind', 'map', 'creation', 'with', 'the', 'stakeholders', 'standing', 'around', 'a', 'large', 'board', ' ', '(', 'white', 'or', 'paper', 'board', ')', '.', 'In', 'the', 'center', 'of', 'the', 'board', ',', 'I', 'write', 'and', 'highlight', 'the', 'topic', 'to', 'design', '.', '\\n\\n', 'Through', 'a', 'series', 'of', 'questions', ',', 'I', 'guide', 'the', 'stakeholders', 'in', 'modelling', 'the', 'mind', 'map', '.', 'I', 'adapt', 'the', 'series', ' ', 'of', 'questions', 'according', 'to', 'the', 'topic', 'to', 'be', 'addressed', '.', 'In', 'the', 'type', 'of', 'questions', ',', 'we', 'can', 'use', ':', 'who', ',', 'what', ',', ' ', 'when', ',', 'where', ',', 'why', ',', 'how', ',', 'how', 'much', '.', '\\n\\n', 'The', 'use', 'of', 'the', '“', 'why', '”', 'is', 'very', 'interesting', 'to', 'understand', 'the', 'origin', '.', 'By', 'this', 'way', ',', 'the', 'interviewed', 'person', ' ', 'frees', 'itself', 'from', 'paradigms', 'and', 'thus', 'dares', 'to', 'propose', 'new', 'ideas', '/', 'ways', 'of', 'functioning', '.', 'I', 'plan', 'two', ' ', 'hours', 'for', 'a', 'workshop', '.', '\\n\\n', 'Design', 'Thinking', 'for', 'innovation', 'reflexion', '-', 'Avril', '2021', '-', 'Nathalie', 'Sylla', '\\n\\n', 'After', 'modelling', 'the', 'mind', 'map', 'on', 'paper', ',', 'I', 'propose', 'to', 'the', 'participants', 'a', 'digital', 'visualization', 'of', 'their', ' ', 'work', 'with', 'the', 'addition', 'of', 'color', 'codes', ',', 'images', 'and', 'interconnections', '.', 'This', 'second', 'workshop', 'also', 'lasts', ' ', 'two', 'hours', 'and', 'allows', 'the', 'mind', 'map', 'to', 'evolve', '.', 'Once', 'familiarized', 'with', 'it', ',', 'the', 'stakeholders', 'discover', ' ', 'the', 'power', 'of', 'the', 'tool', '.', 'Then', ',', 'the', 'second', 'workshop', 'brings', 'out', 'even', 'more', 'ideas', 'and', 'constructive', ' ', 'exchanges', 'between', 'the', 'stakeholders', '.', 'Around', 'this', 'new', 'mind', 'map', ',', 'they', 'have', 'learned', 'to', 'work', ' ', 'together', 'and', 'want', 'to', 'make', 'visible', 'the', 'untold', 'ideas', '.', '\\n\\n', 'I', 'now', 'present', 'all', 'the', 'projects', 'I', 'manage', 'in', 'this', 'type', 'of', 'format', 'in', 'order', 'to', 'ease', 'rapid', 'understanding', 'for', ' ', 'decision', '-', 'makers', '.', 'These', 'presentations', 'are', 'the', 'core', 'of', 'my', 'business', 'models', '.', 'The', 'decision', '-', 'makers', 'are', ' ', 'thus', 'able', 'to', 'identify', 'the', 'opportunities', 'of', 'the', 'projects', 'and', 'can', 'take', 'quick', 'decisions', 'to', 'validate', 'them', '.', ' ', 'They', 'find', 'answers', 'to', 'their', 'questions', 'thank', 'to', 'a', 'schematic', 'representation', '.', '\\n\\n', 'Approach', '\\n\\n', 'What', 'I', 'find', 'amazing', 'with', 'the', 'facilitation', 'of', 'this', 'type', 'of', 'workshop', 'is', 'the', 'participants', 'commitment', 'for', ' ', 'the', 'project', '.', 'This', 'tool', 'helps', 'to', 'give', 'meaning', '.', 'The', 'participants', 'appropriate', 'the', 'story', 'and', 'want', 'to', 'keep', ' ', 'writing', 'it', '.', 'Then', ',', 'they', 'easily', 'become', 'actors', 'or', 'sponsors', 'of', 'the', 'project', '.', 'A', 'trust', 'relationship', 'is', 'built', ',', ' ', 'thus', 'facilitating', 'the', 'implementation', 'of', 'related', 'actions', '.', '\\n\\n', 'Design', 'Thinking', 'for', 'innovation', 'reflexion', '-', 'Avril', '2021', '-', 'Nathalie', 'Sylla', '\\n\\n', 'Annex', '1', ':', 'Mind', 'Map', 'Shared', 'facilities', 'project', '\\n\\n'], 'trailing_whitespace': [True, True, True, True, False, False, True, False, False, True, False, False, True, True, False, False, True, True, True, True, True, True, True, True, True, True, True, True, True, True, True, True, True, True, True, False, True, False, False, False, True, True, True, True, True, False, True, True, True, True, True, True, True, True, True, True, True, False, False, True, False, False, True, False, False, True, False, True, True, True, False, False, False, True, True, True, True, False, True, True, False, True, True, True, True, False, True, True, True, True, True, True, True, True, True, True, True, True, True, False, True, False, True, True, True, False, True, True, False, False, True, True, True, True, False, False, False, True, False, True, True, True, True, True, True, True, True, True, True, True, True, True, True, True, True, False, False, False, True, False, True, True, False, False, True, False, True, True, True, True, True, True, False, False, True, False, True, True, True, True, True, True, True, True, False, True, False, True, True, False, True, False, True, True, True, False, True, False, False, True, False, True, True, True, True, True, True, True, True, True, True, False, False, True, False, True, True, True, True, True, False, False, True, False, True, True, True, True, True, True, False, True, False, True, False, False, True, False, True, False, False, True, False, True, True, True, True, False, False, True, False, True, True, True, True, True, False, False, True, True, True, True, True, True, True, True, True, False, False, True, True, True, True, False, True, True, True, True, False, True, False, False, True, False, True, True, True, True, True, True, True, True, False, True, True, True, True, True, False, True, True, True, True, True, True, True, False, False, False, True, True, True, True, True, True, True, True, False, True, True, True, True, True, True, True, False, False, False, True, True, True, True, True, True, True, True, True, False, False, False, True, True, False, False, True, True, True, True, True, True, True, True, True, True, True, True, True, True, True, True, True, False, False, True, True, True, False, False, True, True, True, True, True, True, False, True, True, True, True, True, True, True, True, False, False, False, True, True, True, True, False, True, True, True, True, True, True, True, True, True, False, True, True, True, True, True, False, True, True, True, True, True, True, True, True, False, True, True, True, True, True, False, True, True, True, False, True, False, True, False, True, False, False, True, False, True, False, True, False, True, True, False, False, False, True, True, True, True, False, False, True, True, True, True, True, True, True, False, True, True, True, False, True, True, True, True, False, True, True, True, True, True, True, True, True, True, True, True, True, True, True, False, True, True, True, True, False, True, True, True, False, False, False, True, True, True, True, False, False, True, False, False, True, False, False, True, True, True, True, True, True, False, True, True, True, True, True, True, True, True, True, True, True, False, True, True, True, True, True, True, False, True, True, True, False, True, True, True, True, True, True, False, True, True, True, True, True, True, True, True, False, True, True, True, True, False, True, True, True, True, False, True, True, True, True, False, True, False, True, True, True, True, True, True, True, True, True, True, True, False, True, True, True, False, True, True, True, True, True, False, True, True, True, True, True, True, False, True, True, True, True, True, True, True, True, False, False, False, True, True, True, True, True, True, True, True, True, True, True, True, True, True, True, True, True, True, True, True, False, False, False, False, True, True, True, True, True, True, True, True, True, False, True, True, False, False, True, True, False, True, True, True, True, True, True, True, True, True, True, True, True, True, True, True, True, False, True, False, True, True, True, True, True, True, True, True, True, True, False, False, False, False, False, True, True, True, True, True, True, True, True, True, True, True, True, True, True, True, True, True, False, True, False, True, True, True, True, True, True, False, True, True, True, True, True, True, True, True, True, True, False, True, False, True, False, True, True, True, True, True, True, True, True, True, False, True, True, True, True, True, False, True, False, True, True, True, True, True, True, False, False, False, True, True, True, True, False, False, True, False, False, True, False, False, True, False, True, True, True, True, True, False, False], 'labels': ['O', 'O', 'O', 'O', 'O', 'O', 'O', 'O', 'O', 'B-NAME_STUDENT', 'I-NAME_STUDENT', 'O', 'O', 'O', 'O', 'O', 'O', 'O', 'O', 'O', 'O', 'O', 'O', 'O', 'O', 'O', 'O', 'O', 'O', 'O', 'O', 'O', 'O', 'O', 'O', 'O', 'O', 'O', 'O', 'O', 'O', 'O', 'O', 'O', 'O', 'O', 'O', 'O', 'O', 'O', 'O', 'O', 'O', 'O', 'O', 'O', 'O', 'O', 'O', 'O', 'O', 'O', 'O', 'O', 'O', 'O', 'O', 'O', 'O', 'O', 'O', 'O', 'O', 'O', 'O', 'O', 'O', 'O', 'O', 'O', 'O', 'O', 'O', 'O', 'O', 'O', 'O', 'O', 'O', 'O', 'O', 'O', 'O', 'O', 'O', 'O', 'O', 'O', 'O', 'O', 'O', 'O', 'O', 'O', 'O', 'O', 'O', 'O', 'O', 'O', 'O', 'O', 'O', 'O', 'O', 'O', 'O', 'O', 'O', 'O', 'O', 'O', 'O', 'O', 'O', 'O', 'O', 'O', 'O', 'O', 'O', 'O', 'O', 'O', 'O', 'O', 'O', 'O', 'O', 'O', 'O', 'O', 'O', 'O', 'O', 'O', 'O', 'O', 'O', 'O', 'O', 'O', 'O', 'O', 'O', 'O', 'O', 'O', 'O', 'O', 'O', 'O', 'O', 'O', 'O', 'O', 'O', 'O', 'O', 'O', 'O', 'O', 'O', 'O', 'O', 'O', 'O', 'O', 'O', 'O', 'O', 'O', 'O', 'O', 'O', 'O', 'O', 'O', 'O', 'O', 'O', 'O', 'O', 'O', 'O', 'O', 'O', 'O', 'O', 'O', 'O', 'O', 'O', 'O', 'O', 'O', 'O', 'O', 'O', 'O', 'O', 'O', 'O', 'O', 'O', 'O', 'O', 'O', 'O', 'O', 'O', 'O', 'O', 'O', 'O', 'O', 'O', 'O', 'O', 'O', 'O', 'O', 'O', 'O', 'O', 'O', 'O', 'O', 'O', 'O', 'O', 'O', 'O', 'O', 'O', 'O', 'O', 'O', 'O', 'O', 'O', 'O', 'O', 'O', 'O', 'O', 'O', 'O', 'O', 'O', 'O', 'O', 'O', 'O', 'O', 'O', 'O', 'O', 'O', 'O', 'O', 'O', 'O', 'O', 'O', 'O', 'O', 'O', 'O', 'O', 'O', 'O', 'O', 'O', 'O', 'O', 'O', 'O', 'O', 'O', 'O', 'O', 'O', 'O', 'O', 'O', 'O', 'O', 'O', 'O', 'O', 'O', 'O', 'O', 'O', 'O', 'O', 'O', 'O', 'O', 'O', 'O', 'O', 'O', 'O', 'O', 'O', 'O', 'O', 'O', 'O', 'O', 'O', 'O', 'O', 'O', 'O', 'O', 'O', 'O', 'O', 'O', 'O', 'O', 'O', 'O', 'O', 'O', 'O', 'O', 'O', 'O', 'O', 'O', 'O', 'O', 'O', 'O', 'O', 'O', 'O', 'O', 'O', 'O', 'O', 'O', 'O', 'O', 'O', 'O', 'O', 'O', 'O', 'O', 'O', 'O', 'O', 'O', 'O', 'O', 'O', 'O', 'O', 'O', 'O', 'O', 'O', 'O', 'O', 'O', 'O', 'O', 'O', 'O', 'O', 'O', 'O', 'O', 'O', 'O', 'O', 'O', 'O', 'O', 'O', 'O', 'O', 'O', 'O', 'O', 'O', 'O', 'O', 'O', 'O', 'O', 'O', 'O', 'O', 'O', 'O', 'O', 'O', 'O', 'O', 'O', 'O', 'O', 'O', 'O', 'O', 'O', 'O', 'O', 'O', 'O', 'O', 'O', 'O', 'O', 'O', 'O', 'O', 'O', 'O', 'O', 'O', 'O', 'O', 'O', 'O', 'O', 'O', 'O', 'O', 'O', 'O', 'O', 'O', 'O', 'O', 'O', 'O', 'O', 'O', 'O', 'O', 'O', 'O', 'O', 'O', 'O', 'O', 'O', 'O', 'O', 'O', 'O', 'O', 'O', 'O', 'O', 'O', 'O', 'O', 'O', 'O', 'O', 'O', 'O', 'O', 'O', 'B-NAME_STUDENT', 'I-NAME_STUDENT', 'O', 'O', 'O', 'O', 'O', 'O', 'O', 'O', 'O', 'O', 'O', 'O', 'O', 'O', 'O', 'O', 'O', 'O', 'O', 'O', 'O', 'O', 'O', 'O', 'O', 'O', 'O', 'O', 'O', 'O', 'O', 'O', 'O', 'O', 'O', 'O', 'O', 'O', 'O', 'O', 'O', 'O', 'O', 'O', 'O', 'O', 'O', 'O', 'O', 'O', 'O', 'O', 'O', 'O', 'O', 'O', 'O', 'O', 'O', 'O', 'O', 'O', 'O', 'O', 'O', 'O', 'O', 'O', 'O', 'O', 'O', 'O', 'O', 'O', 'O', 'O', 'O', 'O', 'O', 'O', 'O', 'O', 'O', 'O', 'O', 'O', 'O', 'O', 'O', 'O', 'O', 'O', 'O', 'O', 'O', 'O', 'O', 'O', 'O', 'O', 'O', 'O', 'O', 'O', 'O', 'O', 'O', 'O', 'O', 'O', 'O', 'O', 'O', 'O', 'O', 'O', 'O', 'O', 'O', 'O', 'O', 'O', 'O', 'O', 'O', 'O', 'O', 'O', 'O', 'O', 'O', 'O', 'O', 'O', 'O', 'O', 'O', 'O', 'O', 'O', 'O', 'O', 'O', 'O', 'O', 'O', 'O', 'O', 'O', 'O', 'O', 'O', 'O', 'O', 'O', 'O', 'O', 'O', 'O', 'O', 'O', 'O', 'O', 'O', 'O', 'O', 'O', 'O', 'O', 'O', 'O', 'O', 'O', 'O', 'O', 'O', 'O', 'O', 'O', 'O', 'O', 'O', 'O', 'O', 'O', 'O', 'O', 'O', 'O', 'O', 'O', 'O', 'O', 'O', 'O', 'O', 'O', 'O', 'O', 'O', 'O', 'O', 'O', 'O', 'O', 'O', 'O', 'O', 'O', 'O', 'O', 'O', 'O', 'O', 'O', 'O', 'O', 'O', 'O', 'O', 'O', 'O', 'O', 'O', 'O', 'O', 'O', 'O', 'O', 'O', 'O', 'O', 'O', 'O', 'O', 'O', 'O', 'O', 'O', 'O', 'O', 'O', 'O', 'O', 'O', 'O', 'O', 'O', 'O', 'O', 'O', 'O', 'O', 'O', 'O', 'O', 'O', 'B-NAME_STUDENT', 'I-NAME_STUDENT', 'O', 'O', 'O', 'O', 'O', 'O', 'O', 'O', 'O', 'O'], 'source': 'train'}\n"
     ]
    }
   ],
   "source": [
    "data = []\n",
    "for filepath in tra_files:\n",
    "    with open(str(filepath)) as f:\n",
    "        tmp = json.load(f)\n",
    "        filename = filepath.stem\n",
    "        for row in tmp:\n",
    "            row[\"source\"] = filename\n",
    "        data += tmp\n",
    "        print(f\"{filename}={len(tmp):,}\")\n",
    "tra = data\n",
    "print(f\"len(tra)={len(tra):,}\\ntra[0]={tra[0]}\")"
   ]
  },
  {
   "cell_type": "code",
   "execution_count": 4,
   "id": "a3cca50e-72cd-4d2b-986b-716a55a76500",
   "metadata": {},
   "outputs": [
    {
     "name": "stdout",
     "output_type": "stream",
     "text": [
      "vw03=4,367\n",
      "len(val)=4,367\n",
      "val[0]={'tokens': [' ', 'Title', ':', 'Home', 'at', '958', 'Ryan', 'Ports', ',', 'Jamesstad', ',', 'FL', '88807', '\\r\\n\\r\\n', 'Living', 'at', '958', 'Ryan', 'Ports', 'in', 'the', 'quaint', 'and', 'picturesque', 'community', 'of', 'Jamesstad', ',', 'Florida', ',', 'is', 'an', 'experience', 'that', 'I', 'cherish', 'every', 'day', '.', 'Nestled', 'amidst', 'lush', 'greenery', 'and', 'tranquil', 'surroundings', ',', 'this', 'address', 'offers', 'a', 'unique', 'blend', 'of', 'peace', ',', 'comfort', ',', 'and', 'convenience', 'that', 'I', 'have', 'grown', 'to', 'appreciate', '.', '\\r\\n\\r\\n', 'The', 'location', 'of', 'my', 'residence', 'is', 'one', 'of', 'its', 'most', 'significant', 'advantages', '.', 'Tucked', 'away', 'from', 'the', 'hustle', 'and', 'bustle', 'of', 'city', 'life', ',', 'Jamesstad', 'provides', 'a', 'serene', 'environment', 'where', 'I', 'can', 'unwind', 'and', 'rejuvenate', '.', 'The', 'soothing', 'sounds', 'of', 'nature', '-', 'birds', 'chirping', ',', 'leaves', 'rustling', 'in', 'the', 'wind', ',', 'and', 'the', 'gentle', 'flow', 'of', 'nearby', 'streams', '-', 'create', 'an', 'ambiance', 'that', 'is', 'both', 'calming', 'and', 'inspiring', '.', '\\r\\n\\r\\n', 'Moreover', ',', 'my', 'neighborhood', 'at', 'Ryan', 'Ports', 'offers', 'a', 'strong', 'sense', 'of', 'community', '.', 'Neighbors', 'are', 'friendly', 'and', 'always', 'ready', 'to', 'lend', 'a', 'helping', 'hand', '.', 'We', 'often', 'gather', 'for', 'neighborhood', 'events', ',', 'fostering', 'a', 'spirit', 'of', 'camaraderie', 'and', 'belonging', '.', 'These', 'connections', 'have', 'enriched', 'my', 'life', 'in', 'ways', 'I', 'could', 'never', 'have', 'imagined', '.', '\\r\\n\\r\\n', 'My', 'favorite', 'place', 'in', 'the', 'world', ',', 'however', ',', 'lies', 'far', 'beyond', 'Jamesstad', '-', 'it', 'is', 'the', 'Great', 'Barrier', 'Reef', 'in', 'Queensland', ',', 'Australia', '.', 'This', 'natural', 'wonder', 'is', 'a', 'testament', 'to', 'the', 'beauty', 'and', 'diversity', 'of', 'our', 'planet', '.', 'The', 'vibrant', 'colors', 'and', 'intricate', 'patterns', 'of', 'its', 'coral', 'formations', 'are', 'truly', 'breathtaking', '.', 'Swimming', 'among', 'the', 'myriad', 'of', 'fish', 'species', ',', 'each', 'with', 'their', 'unique', 'shapes', 'and', 'behaviors', ',', 'is', 'an', 'unforgettable', 'experience', '.', '\\r\\n\\r\\n', 'The', 'Great', 'Barrier', 'Reef', 'is', 'also', 'a', 'crucial', 'ecosystem', 'that', 'supports', 'various', 'marine', 'organisms', ',', 'providing', 'food', 'and', 'shelter', 'for', 'countless', 'creatures', '.', 'Its', 'preservation', 'is', 'essential', 'not', 'only', 'for', 'the', 'environment', 'but', 'also', 'for', 'future', 'generations', '.', 'Visiting', 'this', 'place', 'has', 'instilled', 'in', 'me', 'a', 'deep', 'appreciation', 'for', 'the', 'natural', 'world', 'and', 'my', 'role', 'in', 'protecting', 'it', '.', '\\r\\n\\r\\n', 'In', 'conclusion', ',', 'living', 'at', '958', 'Ryan', 'Ports', ',', 'Jamesstad', ',', 'FL', '88807', ',', 'offers', 'me', 'peace', ',', 'community', ',', 'and', 'comfort', '.', 'Meanwhile', ',', 'my', 'favorite', 'place', 'in', 'the', 'world', '-', 'the', 'Great', 'Barrier', 'Reef', '-', 'is', 'a', 'reminder', 'of', 'the', 'wonders', 'our', 'planet', 'holds', 'and', 'the', 'importance', 'of', 'preserving', 'them', 'for', 'future', 'generations', '.'], 'trailing_whitespace': [False, False, True, True, True, True, True, False, True, False, True, True, False, False, True, True, True, True, True, True, True, True, True, True, True, True, False, True, False, True, True, True, True, True, True, True, True, False, True, True, True, True, True, True, True, False, True, True, True, True, True, True, True, True, False, True, False, True, True, True, True, True, True, True, True, False, False, False, True, True, True, True, True, True, True, True, True, True, True, False, True, True, True, True, True, True, True, True, True, True, False, True, True, True, True, True, True, True, True, True, True, True, False, True, True, True, True, True, True, True, True, False, True, True, True, True, True, False, True, True, True, True, True, True, True, True, True, True, True, True, True, True, True, True, True, False, False, False, False, True, True, True, True, True, True, True, True, True, True, True, False, True, True, True, True, True, True, True, True, True, True, True, False, True, True, True, True, True, True, False, True, True, True, True, True, True, True, False, True, True, True, True, True, True, True, True, True, True, True, True, True, False, False, False, True, True, True, True, True, False, True, False, True, True, True, True, True, True, True, True, True, True, True, True, True, False, True, False, True, True, True, True, True, True, True, True, True, True, True, True, True, True, False, True, True, True, True, True, True, True, True, True, True, True, True, True, False, True, True, True, True, True, True, True, False, True, True, True, True, True, True, True, False, True, True, True, True, False, False, False, True, True, True, True, True, True, True, True, True, True, True, True, True, False, True, True, True, True, True, True, True, False, True, True, True, True, True, True, True, True, True, True, True, True, True, True, False, True, True, True, True, True, True, True, True, True, True, True, True, True, True, True, True, True, True, True, True, False, False, False, True, False, True, True, True, True, True, False, True, False, True, True, False, True, True, True, False, True, False, True, True, False, True, False, True, True, True, True, True, True, True, True, True, True, True, True, True, True, True, True, True, True, True, True, True, True, True, True, True, True, True, True, True, True, False, False], 'labels': ['O', 'O', 'O', 'O', 'O', 'B-STREET_ADDRESS', 'I-STREET_ADDRESS', 'I-STREET_ADDRESS', 'I-STREET_ADDRESS', 'I-STREET_ADDRESS', 'I-STREET_ADDRESS', 'I-STREET_ADDRESS', 'I-STREET_ADDRESS', 'O', 'O', 'O', 'B-STREET_ADDRESS', 'I-STREET_ADDRESS', 'I-STREET_ADDRESS', 'O', 'O', 'O', 'O', 'O', 'O', 'O', 'O', 'O', 'O', 'O', 'O', 'O', 'O', 'O', 'O', 'O', 'O', 'O', 'O', 'O', 'O', 'O', 'O', 'O', 'O', 'O', 'O', 'O', 'O', 'O', 'O', 'O', 'O', 'O', 'O', 'O', 'O', 'O', 'O', 'O', 'O', 'O', 'O', 'O', 'O', 'O', 'O', 'O', 'O', 'O', 'O', 'O', 'O', 'O', 'O', 'O', 'O', 'O', 'O', 'O', 'O', 'O', 'O', 'O', 'O', 'O', 'O', 'O', 'O', 'O', 'O', 'O', 'O', 'O', 'O', 'O', 'O', 'O', 'O', 'O', 'O', 'O', 'O', 'O', 'O', 'O', 'O', 'O', 'O', 'O', 'O', 'O', 'O', 'O', 'O', 'O', 'O', 'O', 'O', 'O', 'O', 'O', 'O', 'O', 'O', 'O', 'O', 'O', 'O', 'O', 'O', 'O', 'O', 'O', 'O', 'O', 'O', 'O', 'O', 'O', 'O', 'O', 'O', 'B-STREET_ADDRESS', 'I-STREET_ADDRESS', 'O', 'O', 'O', 'O', 'O', 'O', 'O', 'O', 'O', 'O', 'O', 'O', 'O', 'O', 'O', 'O', 'O', 'O', 'O', 'O', 'O', 'O', 'O', 'O', 'O', 'O', 'O', 'O', 'O', 'O', 'O', 'O', 'O', 'O', 'O', 'O', 'O', 'O', 'O', 'O', 'O', 'O', 'O', 'O', 'O', 'O', 'O', 'O', 'O', 'O', 'O', 'O', 'O', 'O', 'O', 'O', 'O', 'O', 'O', 'O', 'O', 'O', 'O', 'O', 'O', 'O', 'O', 'O', 'O', 'O', 'O', 'O', 'O', 'O', 'O', 'O', 'O', 'O', 'O', 'O', 'O', 'O', 'O', 'O', 'O', 'O', 'O', 'O', 'O', 'O', 'O', 'O', 'O', 'O', 'O', 'O', 'O', 'O', 'O', 'O', 'O', 'O', 'O', 'O', 'O', 'O', 'O', 'O', 'O', 'O', 'O', 'O', 'O', 'O', 'O', 'O', 'O', 'O', 'O', 'O', 'O', 'O', 'O', 'O', 'O', 'O', 'O', 'O', 'O', 'O', 'O', 'O', 'O', 'O', 'O', 'O', 'O', 'O', 'O', 'O', 'O', 'O', 'O', 'O', 'O', 'O', 'O', 'O', 'O', 'O', 'O', 'O', 'O', 'O', 'O', 'O', 'O', 'O', 'O', 'O', 'O', 'O', 'O', 'O', 'O', 'O', 'O', 'O', 'O', 'O', 'O', 'O', 'O', 'O', 'O', 'O', 'O', 'O', 'O', 'O', 'O', 'O', 'O', 'O', 'O', 'O', 'O', 'O', 'O', 'O', 'B-STREET_ADDRESS', 'I-STREET_ADDRESS', 'I-STREET_ADDRESS', 'I-STREET_ADDRESS', 'I-STREET_ADDRESS', 'I-STREET_ADDRESS', 'I-STREET_ADDRESS', 'I-STREET_ADDRESS', 'O', 'O', 'O', 'O', 'O', 'O', 'O', 'O', 'O', 'O', 'O', 'O', 'O', 'O', 'O', 'O', 'O', 'O', 'O', 'O', 'O', 'O', 'O', 'O', 'O', 'O', 'O', 'O', 'O', 'O', 'O', 'O', 'O', 'O', 'O', 'O', 'O', 'O', 'O', 'O', 'O', 'O', 'O'], 'document': 'vw_1', 'source': 'vw03'}\n"
     ]
    }
   ],
   "source": [
    "data = []\n",
    "for filepath in val_files:\n",
    "    with open(str(filepath)) as f:\n",
    "        tmp = json.load(f)\n",
    "        filename = filepath.stem\n",
    "        for row in tmp:\n",
    "            row[\"source\"] = filename\n",
    "        data += tmp\n",
    "        print(f\"{filename}={len(tmp):,}\")\n",
    "val = data\n",
    "print(f\"len(val)={len(val):,}\\nval[0]={val[0]}\")"
   ]
  },
  {
   "cell_type": "code",
   "execution_count": 5,
   "id": "6885fd1e-e2ed-4344-b6e0-26761a09cc41",
   "metadata": {},
   "outputs": [
    {
     "name": "stdout",
     "output_type": "stream",
     "text": [
      "len(dids)=19,446, len(tra)=19,446\n"
     ]
    }
   ],
   "source": [
    "dids = set()\n",
    "for row in tra:\n",
    "    dids.add(str(row[\"document\"]))\n",
    "print(f\"len(dids)={len(dids):,}, len(tra)={len(tra):,}\")\n",
    "assert len(dids)==len(tra)"
   ]
  },
  {
   "cell_type": "code",
   "execution_count": 6,
   "id": "e5f821db-4576-4b0e-9652-35e0c91e8c7b",
   "metadata": {},
   "outputs": [
    {
     "data": {
      "text/html": [
       "<div>\n",
       "<style scoped>\n",
       "    .dataframe tbody tr th:only-of-type {\n",
       "        vertical-align: middle;\n",
       "    }\n",
       "\n",
       "    .dataframe tbody tr th {\n",
       "        vertical-align: top;\n",
       "    }\n",
       "\n",
       "    .dataframe thead th {\n",
       "        text-align: right;\n",
       "    }\n",
       "</style>\n",
       "<table border=\"1\" class=\"dataframe\">\n",
       "  <thead>\n",
       "    <tr style=\"text-align: right;\">\n",
       "      <th></th>\n",
       "      <th>count</th>\n",
       "      <th>percent</th>\n",
       "    </tr>\n",
       "  </thead>\n",
       "  <tbody>\n",
       "    <tr>\n",
       "      <th>0_train</th>\n",
       "      <td>5862</td>\n",
       "      <td>0.301450</td>\n",
       "    </tr>\n",
       "    <tr>\n",
       "      <th>3_moth12</th>\n",
       "      <td>4202</td>\n",
       "      <td>0.216086</td>\n",
       "    </tr>\n",
       "    <tr>\n",
       "      <th>3_nb01</th>\n",
       "      <td>2333</td>\n",
       "      <td>0.119973</td>\n",
       "    </tr>\n",
       "    <tr>\n",
       "      <th>3_pjm12</th>\n",
       "      <td>1995</td>\n",
       "      <td>0.102592</td>\n",
       "    </tr>\n",
       "    <tr>\n",
       "      <th>3_mandri02</th>\n",
       "      <td>1669</td>\n",
       "      <td>0.085827</td>\n",
       "    </tr>\n",
       "    <tr>\n",
       "      <th>2_tonrob01</th>\n",
       "      <td>1109</td>\n",
       "      <td>0.057030</td>\n",
       "    </tr>\n",
       "    <tr>\n",
       "      <th>2_train</th>\n",
       "      <td>850</td>\n",
       "      <td>0.043711</td>\n",
       "    </tr>\n",
       "    <tr>\n",
       "      <th>3_tonrob01</th>\n",
       "      <td>741</td>\n",
       "      <td>0.038106</td>\n",
       "    </tr>\n",
       "    <tr>\n",
       "      <th>2_moth12</th>\n",
       "      <td>188</td>\n",
       "      <td>0.009668</td>\n",
       "    </tr>\n",
       "    <tr>\n",
       "      <th>1_mandri02</th>\n",
       "      <td>161</td>\n",
       "      <td>0.008279</td>\n",
       "    </tr>\n",
       "    <tr>\n",
       "      <th>2_mandri02</th>\n",
       "      <td>152</td>\n",
       "      <td>0.007817</td>\n",
       "    </tr>\n",
       "    <tr>\n",
       "      <th>3_train</th>\n",
       "      <td>48</td>\n",
       "      <td>0.002468</td>\n",
       "    </tr>\n",
       "    <tr>\n",
       "      <th>1_train</th>\n",
       "      <td>47</td>\n",
       "      <td>0.002417</td>\n",
       "    </tr>\n",
       "    <tr>\n",
       "      <th>1_moth12</th>\n",
       "      <td>35</td>\n",
       "      <td>0.001800</td>\n",
       "    </tr>\n",
       "    <tr>\n",
       "      <th>2_nb01</th>\n",
       "      <td>22</td>\n",
       "      <td>0.001131</td>\n",
       "    </tr>\n",
       "    <tr>\n",
       "      <th>0_mandri02</th>\n",
       "      <td>18</td>\n",
       "      <td>0.000926</td>\n",
       "    </tr>\n",
       "    <tr>\n",
       "      <th>0_moth12</th>\n",
       "      <td>9</td>\n",
       "      <td>0.000463</td>\n",
       "    </tr>\n",
       "    <tr>\n",
       "      <th>2_pjm12</th>\n",
       "      <td>3</td>\n",
       "      <td>0.000154</td>\n",
       "    </tr>\n",
       "    <tr>\n",
       "      <th>0_pjm12</th>\n",
       "      <td>1</td>\n",
       "      <td>0.000051</td>\n",
       "    </tr>\n",
       "    <tr>\n",
       "      <th>1_pjm12</th>\n",
       "      <td>1</td>\n",
       "      <td>0.000051</td>\n",
       "    </tr>\n",
       "  </tbody>\n",
       "</table>\n",
       "</div>"
      ],
      "text/plain": [
       "            count   percent\n",
       "0_train      5862  0.301450\n",
       "3_moth12     4202  0.216086\n",
       "3_nb01       2333  0.119973\n",
       "3_pjm12      1995  0.102592\n",
       "3_mandri02   1669  0.085827\n",
       "2_tonrob01   1109  0.057030\n",
       "2_train       850  0.043711\n",
       "3_tonrob01    741  0.038106\n",
       "2_moth12      188  0.009668\n",
       "1_mandri02    161  0.008279\n",
       "2_mandri02    152  0.007817\n",
       "3_train        48  0.002468\n",
       "1_train        47  0.002417\n",
       "1_moth12       35  0.001800\n",
       "2_nb01         22  0.001131\n",
       "0_mandri02     18  0.000926\n",
       "0_moth12        9  0.000463\n",
       "2_pjm12         3  0.000154\n",
       "0_pjm12         1  0.000051\n",
       "1_pjm12         1  0.000051"
      ]
     },
     "metadata": {},
     "output_type": "display_data"
    },
    {
     "data": {
      "text/html": [
       "<div>\n",
       "<style scoped>\n",
       "    .dataframe tbody tr th:only-of-type {\n",
       "        vertical-align: middle;\n",
       "    }\n",
       "\n",
       "    .dataframe tbody tr th {\n",
       "        vertical-align: top;\n",
       "    }\n",
       "\n",
       "    .dataframe thead th {\n",
       "        text-align: right;\n",
       "    }\n",
       "</style>\n",
       "<table border=\"1\" class=\"dataframe\">\n",
       "  <thead>\n",
       "    <tr style=\"text-align: right;\">\n",
       "      <th></th>\n",
       "      <th>count</th>\n",
       "      <th>percent</th>\n",
       "    </tr>\n",
       "  </thead>\n",
       "  <tbody>\n",
       "    <tr>\n",
       "      <th>2_vw03</th>\n",
       "      <td>1925</td>\n",
       "      <td>0.440806</td>\n",
       "    </tr>\n",
       "    <tr>\n",
       "      <th>3_vw03</th>\n",
       "      <td>989</td>\n",
       "      <td>0.226471</td>\n",
       "    </tr>\n",
       "    <tr>\n",
       "      <th>1_vw03</th>\n",
       "      <td>987</td>\n",
       "      <td>0.226013</td>\n",
       "    </tr>\n",
       "    <tr>\n",
       "      <th>0_vw03</th>\n",
       "      <td>466</td>\n",
       "      <td>0.106709</td>\n",
       "    </tr>\n",
       "  </tbody>\n",
       "</table>\n",
       "</div>"
      ],
      "text/plain": [
       "        count   percent\n",
       "2_vw03   1925  0.440806\n",
       "3_vw03    989  0.226471\n",
       "1_vw03    987  0.226013\n",
       "0_vw03    466  0.106709"
      ]
     },
     "metadata": {},
     "output_type": "display_data"
    }
   ],
   "source": [
    "for fold in [tra, val]:\n",
    "    stratification_groups=[]\n",
    "    for row in fold:\n",
    "        easy,medium,hard=False,False,False\n",
    "        if stratification_strategy==\"hes\":\n",
    "            medium=True\n",
    "        for label in row[\"labels\"]:\n",
    "            if easy and medium and hard:\n",
    "                break\n",
    "            if label in easy_classes:\n",
    "                easy=True\n",
    "            elif label in medium_classes:\n",
    "                medium=True\n",
    "            elif label in hard_classes:\n",
    "                hard=True\n",
    "        if stratification_strategy==\"hme\":\n",
    "            stratification_groups.append(NerDataset.stratification_group(easy=easy, medium=medium, hard=hard))\n",
    "        elif stratification_strategy==\"hes\":\n",
    "            stratification_groups.append(NerDataset.stratification_group_hes(easy=easy, hard=hard, data_source_name=row[\"source\"]))\n",
    "    display(pdx.value_counts(pd.Series(stratification_groups)))"
   ]
  },
  {
   "cell_type": "code",
   "execution_count": 7,
   "id": "a9eac98f-f9dc-4d30-a7ae-1ada04ed53d2",
   "metadata": {},
   "outputs": [],
   "source": [
    "# 1. hard=0, medium=0, easy=1\n",
    "# 2. hard=0, medium=1, easy=0\n",
    "# 3. hard=0, medium=1, easy=1\n",
    "# 4. hard=1, medium=0, easy=0\n",
    "# 5. hard=1, medium=0, easy=1\n",
    "# 6. hard=1, medium=1, easy=0\n",
    "# 7. hard=1, medium=1, easy=1\n",
    "#pdx.value_counts(pd.Series(stratification_groups))"
   ]
  },
  {
   "cell_type": "code",
   "execution_count": 8,
   "id": "1c0fec7c-84ea-4233-b556-6fa2fbfb590d",
   "metadata": {},
   "outputs": [
    {
     "name": "stdout",
     "output_type": "stream",
     "text": [
      "len(tra)=19,446, len(val)=4,367\n"
     ]
    }
   ],
   "source": [
    "with open(f\"output/tra_{version}.json\", \"w\") as f:\n",
    "    json.dump(tra,f)\n",
    "with open(f\"output/val_{version}.json\", \"w\") as f:\n",
    "    json.dump(val,f)\n",
    "print(f\"len(tra)={len(tra):,}, len(val)={len(val):,}\")"
   ]
  },
  {
   "cell_type": "code",
   "execution_count": 9,
   "id": "41b140d4-ca3d-4c45-9a22-861cc9e92423",
   "metadata": {},
   "outputs": [
    {
     "name": "stdout",
     "output_type": "stream",
     "text": [
      "Total time taken 0:00:06.709409\n"
     ]
    }
   ],
   "source": [
    "tim.stop()\n",
    "print(f\"Total time taken {str(tim.elapsed)}\")"
   ]
  }
 ],
 "metadata": {
  "kernelspec": {
   "display_name": "Python 3 (ipykernel)",
   "language": "python",
   "name": "python3"
  },
  "language_info": {
   "codemirror_mode": {
    "name": "ipython",
    "version": 3
   },
   "file_extension": ".py",
   "mimetype": "text/x-python",
   "name": "python",
   "nbconvert_exporter": "python",
   "pygments_lexer": "ipython3",
   "version": "3.12.1"
  }
 },
 "nbformat": 4,
 "nbformat_minor": 5
}
