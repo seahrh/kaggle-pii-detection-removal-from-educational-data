{
 "cells": [
  {
   "cell_type": "code",
   "execution_count": 1,
   "id": "7b4d1d55",
   "metadata": {},
   "outputs": [],
   "source": [
    "from pathlib import Path\n",
    "import os\n",
    "import sys\n",
    "import gc\n",
    "import shutil\n",
    "import json\n",
    "import math\n",
    "from collections import defaultdict\n",
    "import numpy as np\n",
    "import pandas as pd\n",
    "import torch\n",
    "from tqdm import tqdm\n",
    "import matplotlib.pyplot as plt\n",
    "from typing import Dict, List, Tuple, NamedTuple, Callable, Iterable, Set, Optional, Any\n",
    "import scml\n",
    "from mylib.datageneration import Prompter"
   ]
  },
  {
   "cell_type": "code",
   "execution_count": 2,
   "id": "e197c9ae",
   "metadata": {},
   "outputs": [
    {
     "name": "stdout",
     "output_type": "stream",
     "text": [
      "device=0, NVIDIA GeForce RTX 4070 Ti SUPER\n",
      "Mem Allocated: 0.0 GB\n",
      "Mem Cached:    0.0 GB\n",
      "device=1, NVIDIA GeForce RTX 4070 Ti SUPER\n",
      "Mem Allocated: 0.0 GB\n",
      "Mem Cached:    0.0 GB\n"
     ]
    }
   ],
   "source": [
    "tim = scml.Timer()\n",
    "tim.start()\n",
    "percentiles=[.01, .05, .1, .2, .3, .4, .5, .6, .7, .8, .9, .95, .99]\n",
    "os.environ[\"TOKENIZERS_PARALLELISM\"] = \"false\"\n",
    "pd.set_option(\"max_info_columns\", 9999)\n",
    "pd.set_option(\"display.max_columns\", 9999)\n",
    "pd.set_option(\"display.max_rows\", 9999)\n",
    "pd.set_option('max_colwidth', 9999)\n",
    "tqdm.pandas()\n",
    "device = torch.device(\"cpu\")\n",
    "if torch.cuda.is_available():\n",
    "    device = torch.device(\"cuda\")\n",
    "    for i in range(torch.cuda.device_count()):\n",
    "        print(f\"device={i}, {torch.cuda.get_device_name(i)}\")\n",
    "        print('Mem Allocated:', round(torch.cuda.memory_allocated(i)/1024**3,1), 'GB')\n",
    "        print('Mem Cached:   ', round(torch.cuda.memory_reserved(i)/1024**3,1), 'GB')\n",
    "else:\n",
    "    print(\"cpu\")"
   ]
  },
  {
   "cell_type": "code",
   "execution_count": 3,
   "id": "75a2772b",
   "metadata": {},
   "outputs": [],
   "source": [
    "target_size = 100\n",
    "model_dir = Path(\"/mnt/c/huggingface/mistralai/Mixtral-8x7B-Instruct-v0.1\")"
   ]
  },
  {
   "cell_type": "code",
   "execution_count": 5,
   "id": "06b64fa3-bc66-4aa0-ac36-7ddba1598aba",
   "metadata": {},
   "outputs": [
    {
     "name": "stdout",
     "output_type": "stream",
     "text": [
      "<class 'pandas.core.frame.DataFrame'>\n",
      "RangeIndex: 100 entries, 0 to 99\n",
      "Data columns (total 7 columns):\n",
      " #   Column          Non-Null Count  Dtype \n",
      "---  ------          --------------  ----- \n",
      " 0   text            100 non-null    object\n",
      " 1   prompt          100 non-null    object\n",
      " 2   street_address  100 non-null    object\n",
      " 3   student_name    100 non-null    object\n",
      " 4   username        100 non-null    object\n",
      " 5   personal_url    100 non-null    object\n",
      " 6   model           100 non-null    object\n",
      "dtypes: object(7)\n",
      "memory usage: 5.6+ KB\n"
     ]
    }
   ],
   "source": [
    "df = pd.read_parquet(\"input/part00.parquet\")\n",
    "df.info()"
   ]
  },
  {
   "cell_type": "code",
   "execution_count": 6,
   "id": "6efe748b-2f3f-4366-bc77-7de716298c6a",
   "metadata": {},
   "outputs": [
    {
     "data": {
      "text/html": [
       "<div>\n",
       "<style scoped>\n",
       "    .dataframe tbody tr th:only-of-type {\n",
       "        vertical-align: middle;\n",
       "    }\n",
       "\n",
       "    .dataframe tbody tr th {\n",
       "        vertical-align: top;\n",
       "    }\n",
       "\n",
       "    .dataframe thead th {\n",
       "        text-align: right;\n",
       "    }\n",
       "</style>\n",
       "<table border=\"1\" class=\"dataframe\">\n",
       "  <thead>\n",
       "    <tr style=\"text-align: right;\">\n",
       "      <th></th>\n",
       "      <th>text</th>\n",
       "      <th>prompt</th>\n",
       "      <th>street_address</th>\n",
       "      <th>student_name</th>\n",
       "      <th>username</th>\n",
       "      <th>personal_url</th>\n",
       "      <th>model</th>\n",
       "    </tr>\n",
       "  </thead>\n",
       "  <tbody>\n",
       "    <tr>\n",
       "      <th>18</th>\n",
       "      <td>\\n        \\nIn transportation planning and logistics, integrating a mind mapping tool within the design thinking process can significantly enhance creative idea generation and insight development. Mind mapping is a visual representation of ideas and concepts that enables individuals to organize, analyze, and comprehend complex information more effectively. This technique has been increasingly used in various fields, including transportation planning, to stimulate creativity, foster collaboration, and facilitate decision-making.\\n\\nTo begin with, mind mapping can play a critical role in research, which is the first step of the design thinking process. In transportation planning, conducting thorough research is necessary to identify challenges, opportunities, and potential solutions. For instance, suppose Diane Trombetta, a transportation planner, was working on a project near Hans Bogbindersvej 6</td>\n",
       "      <td>[INST] Write a short essay on the following topic:\\n        In Transportation Planning and Logistics, how can the integration of a mind mapping tool within the design thinking process enhance creative idea generation and insight development? Discuss the role of mind mapping in research, idea refinement, and fostering collaboration among stakeholders.\\n        Intersperse the following information in different parts of the essay:\\n        1. Give an example that occurred near Hans Bogbindersvej 65 2273 Idestrup, at a village frequented by Diane Trombetta\\n        2. Give an example that involved someone named __3012__david__xxx__weber__iam__\\n        3. Give an example that involved smarturl.it/sophieiampalumboxxx [/INST]\\n</td>\n",
       "      <td>Hans Bogbindersvej 65 2273 Idestrup</td>\n",
       "      <td>Diane Trombetta</td>\n",
       "      <td>__3012__david__xxx__weber__iam__</td>\n",
       "      <td>smarturl.it/sophieiampalumboxxx</td>\n",
       "      <td>Mixtral-8x7B-Instruct-v0.1</td>\n",
       "    </tr>\n",
       "    <tr>\n",
       "      <th>25</th>\n",
       "      <td>\\n        Transportation planning and logistics involve complex processes that require innovative and creative solutions to address various challenges. Design thinking is a user-centered approach that fosters innovation and creativity in these activities. It is a non-linear, iterative process that involves empathizing with users, defining problems, ideating solutions, prototyping, and testing.\\n\\n</td>\n",
       "      <td>[INST] Write a short essay on the following topic:\\n        In Transportation Planning and Logistics, how does the design thinking process foster innovation and creativity within various activities? Explore the role of brainstorming, prototyping, and research in developing innovative ideas and approaches. Discuss how the design thinking process differs from traditional problem-solving methods.\\n        Intersperse the following information in different parts of the essay:\\n        1. Give an example that occurred near Urbanización de Federico Salinas 336 Ceuta, 09374, at a train station frequented by Karl-Ernst Stanton\\n        2. Give an example that involved someone named __xxx__christina__xxx__upadhyay__the__\\n        3. Give an example that involved instagram.com/-the-malik-iam-toscanini-the- [/INST]\\n</td>\n",
       "      <td>Urbanización de Federico Salinas 336 Ceuta, 09374</td>\n",
       "      <td>Karl-Ernst Stanton</td>\n",
       "      <td>__xxx__christina__xxx__upadhyay__the__</td>\n",
       "      <td>instagram.com/-the-malik-iam-toscanini-the-</td>\n",
       "      <td>Mixtral-8x7B-Instruct-v0.1</td>\n",
       "    </tr>\n",
       "    <tr>\n",
       "      <th>4</th>\n",
       "      <td>\\n        \\nIn disaster management and emergency response, the use of storytelling within the design thinking process can play a crucial role in overcoming challenges and enhancing understanding across the whole organization. Storytelling is a powerful tool for conveying experiences, engaging audiences, and fostering insight. By incorporating storytelling into the different stages of the design thinking process, organizations can better understand the needs and perspectives of their stakeholders, identify innovative solutions to complex problems, and communicate those solutions effectively to all members of the organization.\\n\\nOne example of how storytelling can be used in disaster management and emergency response occurred near Frederiksberg Allé 94 7197 Bevtoft, at a shopping mall frequented by Borja Löchel. A severe storm caused significant damage to the mall, and the management team needed to quickly develop a plan to repair the building and ensure the safety of its customers and employees. To do this, they turned to storytelling as a way to understand the experiences of those affected by the storm. They collected stories from shoppers, retailers, and first responders, which helped them identify key areas of concern and develop targeted solutions. By sharing these stories with the entire organization, they were able to build empathy and engagement around the recovery efforts, leading to a more efficient and effective response.\\n\\nAnother example involves someone named xxxmarsito_official_camacho_the_, who was involved in a disaster response effort in a remote community. Despite having access to detailed data and reports about the situation, xxxmarsito struggled to fully understand the challenges facing the community. However, when he began collecting stories from local residents, he gained new insights into the unique needs and perspectives of the community. By sharing these stories with his team, he was able to foster a deeper understanding of the situation and develop more culturally appropriate responses.\\n\\nThe power of storytelling in disaster management and emergency response is also evident in online platforms such as LinkedIn. For instance, the user IAMCHUS799DEVANXXX shared a personal story of surviving a natural disaster, highlighting the critical role that effective communication played in his survival. His story served as a powerful reminder of the importance of clear messaging and two-way communication during emergencies. It also demonstrated how personal narratives can help break down complex issues and make them more relatable, thereby increasing engagement and understanding among diverse audiences.\\n\\nIn conclusion, storytelling can be a valuable tool in disaster management and emergency response, helping organizations to overcome challenges and enhance understanding across the whole organization. By incorporating storytelling into the design thinking process, organizations can better understand the experiences and perspectives of their stakeholders, identify innovative solutions to complex problems, and communicate those solutions effectively to all members of the organization. Examples such as those near Frederiksberg Allé 94 7197 Bevtoft, involving xxxmarsito_official_camacho_the_, and the user IAMCHUS799DEVANXXX on LinkedIn illustrate the power of storytelling in creating empathy, fostering insight, and improving overall response efforts.</td>\n",
       "      <td>[INST] Write a short essay on the following topic:\\n        In Disaster Management and Emergency Response, how can the use of storytelling within the design thinking process overcome challenges and enhance understanding across the whole organisation? Discuss the role of storytelling in conveying experiences, engaging audiences, and fostering insight.\\n        Intersperse the following information in different parts of the essay:\\n        1. Give an example that occurred near Frederiksberg Allé 94 7197 Bevtoft, at a shopping mall frequented by Borja Löchel\\n        2. Give an example that involved someone named _xxx_marsito_official_camacho_the_\\n        3. Give an example that involved linkedin.com/IAMCHUS799DEVANXXX [/INST]\\n</td>\n",
       "      <td>Frederiksberg Allé 94 7197 Bevtoft</td>\n",
       "      <td>Borja Löchel</td>\n",
       "      <td>_xxx_marsito_official_camacho_the_</td>\n",
       "      <td>linkedin.com/IAMCHUS799DEVANXXX</td>\n",
       "      <td>Mixtral-8x7B-Instruct-v0.1</td>\n",
       "    </tr>\n",
       "    <tr>\n",
       "      <th>66</th>\n",
       "      <td>\\n        \\nIn the fields of Maritime Engineering and Naval Architecture, the integration of a mind mapping tool within the design thinking process can significantly enhance creative idea generation and insight development. Mind mapping is a visual technique that allows individuals to organize their thoughts and ideas in a way that promotes creativity and innovation. By incorporating this method into the design thinking process, engineers and architects can generate more diverse and dynamic solutions to complex problems.\\n\\nOne example of the benefits of using mind mapping in maritime engineering and naval architecture can be seen in a situation that occurred near Stretto Badoglio, 789 00063, Campagnano Di Roma (RM) at a train station frequently used by Shayak Turner. In this case, a team of engineers were tasked with designing a new type of vessel that could navigate the narrow and winding waterways of the region while also being able to transport large numbers of passengers. By using a mind map, the team was able to brainstorm and organize their ideas in a way that allowed them to see connections and relationships between different concepts. This resulted in the creation of a unique and innovative vessel design that was able to meet the needs of the local community.\\n\\nAnother example of the benefits of mind mapping can be seen in a scenario involving someone named -iam-laure-3252-dara-the-. In this case, -iam-laure-3252-dara-the- was working on a project to design a new type of offshore drilling platform. By using a mind map, they were able to gather and organize all of the relevant research and data in one place, making it easier to identify patterns and trends. This ultimately led to the development of a more efficient and sustainable drilling platform design.\\n\\nThe use of mind mapping tools can also foster collaboration among stakeholders in the maritime engineering and naval architecture field. For instance, at github.com/xxxliliaxxxbonattiiam, a group of engineers were able to use a mind mapping tool to collaborate on the design of a new cargo ship. The tool allowed them to easily share and build upon each other's ideas, resulting in a final design that incorporated the best ideas from all members of the team.\\n\\nMoreover, mind mapping plays a crucial role in the research phase of the design thinking process. It helps engineers and architects to gather, organize and understand large amounts of information quickly and efficiently. For example, a team of engineers working on a project to design a new type of submarine might use a mind map to organize all of the research they have gathered on different materials, propulsion systems, and navigation technologies. This makes it easier for them to identify the most promising avenues of research and focus their efforts accordingly.\\n\\nOnce the research phase is complete, mind mapping can also be used to refine and develop ideas. By visually representing the different elements of a design, engineers and architects can better understand how they fit together and how they can be improved. In addition, mind maps can help teams to identify gaps in their knowledge or areas where further research is needed.\\n\\nIn conclusion, the integration of a mind mapping tool within the design thinking process in Maritime Engineering and Naval Architecture can greatly enhance creative idea generation and insight development. It can play a crucial role in research, idea refinement, and fostering collaboration among stakeholders. Whether it's near Stretto Badoglio, 789 00063, Campagnano Di Roma (RM), or github.com/xxxliliaxxxbonattiiam, mind mapping can be a valuable tool in helping engineers and architects to create</td>\n",
       "      <td>[INST] Write a short essay on the following topic:\\n        In Maritime Engineering and Naval Architecture, how can the integration of a mind mapping tool within the design thinking process enhance creative idea generation and insight development? Discuss the role of mind mapping in research, idea refinement, and fostering collaboration among stakeholders.\\n        Intersperse the following information in different parts of the essay:\\n        1. Give an example that occurred near Stretto Badoglio, 789 00063, Campagnano Di Roma (RM), at a train station frequented by Shayak Turner\\n        2. Give an example that involved someone named -iam-laure-3252-dara-the-\\n        3. Give an example that involved github.com/xxxliliaxxxbonattiiam [/INST]\\n</td>\n",
       "      <td>Stretto Badoglio, 789 00063, Campagnano Di Roma (RM)</td>\n",
       "      <td>Shayak Turner</td>\n",
       "      <td>-iam-laure-3252-dara-the-</td>\n",
       "      <td>github.com/xxxliliaxxxbonattiiam</td>\n",
       "      <td>Mixtral-8x7B-Instruct-v0.1</td>\n",
       "    </tr>\n",
       "    <tr>\n",
       "      <th>50</th>\n",
       "      <td>\\n        \\nEnvironmental planning and sustainability are critical areas of focus for communities worldwide as they seek to balance growth with responsible stewardship of natural resources. One promising approach to enhancing this process involves integrating a learning launch tool into the design thinking process. This methodology combines the iterative and human-centered aspects of design thinking with the real-world experimentation and feedback loops inherent in learning launches.\\n\\nAt a school frequented by Krish Avogadro near Jl. Merdeka No. 27 Pangkalpinang, Kalimantan Timur 01683, a team of educators sought to reduce plastic waste generated during lunchtime. By employing a learning launch tool during the design thinking process, they were able to test multiple prototypes and gather feedback from students and staff. For instance, they introduced reusable containers, compostable utensils, and recycling stations in various combinations and locations around the school. By tracking data and gathering frequent feedback, they identified which interventions had the greatest impact and adjusted their strategies accordingly. Ultimately, they reduced plastic waste by 50%, demonstrating the power of learning launches to refine and amplify positive environmental outcomes.\\n\\nA key benefit of using a learning launch tool in the design thinking process is its ability to address the launch challenge—namely, bridging the gap between pilot projects and scaled implementation. Too often, promising initiatives fail to expand beyond initial pilots due to insufficient testing or adaptation. A learning launch tool helps overcome this hurdle by incorporating continuous feedback and iteration during each phase of the design thinking process. By involving stakeholders in the development of prototypes and sharing early successes and failures, the initiative builds momentum, buy-in, and capacity to scale effectively.\\n\\nThe experience of __iam__Keith____Guicciardini____ underscores this point. Faced with water conservation challenges in his community, Keith integrated a learning launch tool into every stage of the design thinking process. After creating prototypes of residential rainwater collection systems, he engaged community members in testing the prototypes and sharing insights. As a result, he not only improved the overall design of the rainwater collection system but also expanded it to include public buildings and parks. His successful launch was directly attributed to the inclusive and adaptive nature of the learning launch tool he employed throughout the process.\\n\\nAnother significant advantage of incorporating a learning launch tool into the design thinking process is its ability to engage and facilitate learning among diverse stakeholders. The process fosters cross-disciplinary collaboration, creative problem solving, and shared ownership of the final product. By incorporating a wide range of perspectives, teams increase the likelihood of identifying innovative solutions to complex problems. Blogging platforms like blogspot.me/--official--micha--4181--green--xxx-- provide a space for stakeholders to share progress, ask questions, and celebrate accomplishments, further encouraging participation and continuous learning.\\n\\nIn conclusion, the integration of a learning launch tool into the design thinking process offers significant benefits in enhancing the development and testing of ideas, prototypes, and products in environmental planning and sustainability. Through addressing the launch challenge, engaging stakeholders, and facilitating learning, these tools help ensure that sustainable solutions not only meet immediate needs but also create robust frameworks for ongoing improvement and expansion. By embracing this approach, practitioners like Krish Avogadro, Keith Guicciardini, and Micha can foster more vibrant, resilient, and equitable communities both now and in the future.</td>\n",
       "      <td>[INST] Write a short essay on the following topic:\\n        In Environmental Planning and Sustainability, how can the integration of a learning launch tool within the design thinking process enhance the development and testing of ideas, prototypes, and products? Discuss how this approach can address the launch challenge, involve stakeholders, and facilitate learning throughout the project development process.\\n        Intersperse the following information in different parts of the essay:\\n        1. Give an example that occurred near Jl. Merdeka No. 27 Pangkalpinang, Kalimantan Timur 01683, at a school frequented by Krish Avogadro\\n        2. Give an example that involved someone named __iam__Keith____Guicciardini____\\n        3. Give an example that involved blogspot.me/--official--micha--4181--green--xxx-- [/INST]\\n</td>\n",
       "      <td>Jl. Merdeka No. 27 Pangkalpinang, Kalimantan Timur 01683</td>\n",
       "      <td>Krish Avogadro</td>\n",
       "      <td>__iam__Keith____Guicciardini____</td>\n",
       "      <td>blogspot.me/--official--micha--4181--green--xxx--</td>\n",
       "      <td>Mixtral-8x7B-Instruct-v0.1</td>\n",
       "    </tr>\n",
       "  </tbody>\n",
       "</table>\n",
       "</div>"
      ],
      "text/plain": [
       "                                                                                                                                                                                                                                                                                                                                                                                                                                                                                                                                                                                                                                                                                                                                                                                                                                                                                                                                                                                                                                                                                                                                                                                                                                                                                                                                                                                                                                                                                                                                                                                                                                                                                                                                                                                                                                                                                                                                                                                                                                                                                                                                                                                                                                                                                                                                                                                                                                                                                                                                                                                                                                                                                                                                                                                                                                                                                                                                                                                                                                                                                                                                                                                                                                                                                                                                                                                                                                                                                                                                                                                                                                                                                                                                                                                                                                                                                                                                                                                                                                                                                                    text  \\\n",
       "18                                                                                                                                                                                                                                                                                                                                                                                                                                                                                                                                                                                                                                                                                                                                                                                                                                                                                                                                                                                                                                                                                                                                                                                                                                                                                                                                                                                                                                                                                                                                                                                                                                                                                                                                                                                                                                                                                                                                                                                                                                                                                                                                                                                                                                                                                                                                                                                                                                                                                                                                                                                                                                                                                                                                                                                                                                                                                                                                                                                                                                                                                                                                                          \\n        \\nIn transportation planning and logistics, integrating a mind mapping tool within the design thinking process can significantly enhance creative idea generation and insight development. Mind mapping is a visual representation of ideas and concepts that enables individuals to organize, analyze, and comprehend complex information more effectively. This technique has been increasingly used in various fields, including transportation planning, to stimulate creativity, foster collaboration, and facilitate decision-making.\\n\\nTo begin with, mind mapping can play a critical role in research, which is the first step of the design thinking process. In transportation planning, conducting thorough research is necessary to identify challenges, opportunities, and potential solutions. For instance, suppose Diane Trombetta, a transportation planner, was working on a project near Hans Bogbindersvej 6   \n",
       "25                                                                                                                                                                                                                                                                                                                                                                                                                                                                                                                                                                                                                                                                                                                                                                                                                                                                                                                                                                                                                                                                                                                                                                                                                                                                                                                                                                                                                                                                                                                                                                                                                                                                                                                                                                                                                                                                                                                                                                                                                                                                                                                                                                                                                                                                                                                                                                                                                                                                                                                                                                                                                                                                                                                                                                                                                                                                                                                                                                                                                                                                                                                                                                                                                                                                                                                                                                                                                                                                                                                                                                                                                                                                                      \\n        Transportation planning and logistics involve complex processes that require innovative and creative solutions to address various challenges. Design thinking is a user-centered approach that fosters innovation and creativity in these activities. It is a non-linear, iterative process that involves empathizing with users, defining problems, ideating solutions, prototyping, and testing.\\n\\n   \n",
       "4                                                                                                                                                                                                                                                                                                                                                                                                                                                                                                                                      \\n        \\nIn disaster management and emergency response, the use of storytelling within the design thinking process can play a crucial role in overcoming challenges and enhancing understanding across the whole organization. Storytelling is a powerful tool for conveying experiences, engaging audiences, and fostering insight. By incorporating storytelling into the different stages of the design thinking process, organizations can better understand the needs and perspectives of their stakeholders, identify innovative solutions to complex problems, and communicate those solutions effectively to all members of the organization.\\n\\nOne example of how storytelling can be used in disaster management and emergency response occurred near Frederiksberg Allé 94 7197 Bevtoft, at a shopping mall frequented by Borja Löchel. A severe storm caused significant damage to the mall, and the management team needed to quickly develop a plan to repair the building and ensure the safety of its customers and employees. To do this, they turned to storytelling as a way to understand the experiences of those affected by the storm. They collected stories from shoppers, retailers, and first responders, which helped them identify key areas of concern and develop targeted solutions. By sharing these stories with the entire organization, they were able to build empathy and engagement around the recovery efforts, leading to a more efficient and effective response.\\n\\nAnother example involves someone named xxxmarsito_official_camacho_the_, who was involved in a disaster response effort in a remote community. Despite having access to detailed data and reports about the situation, xxxmarsito struggled to fully understand the challenges facing the community. However, when he began collecting stories from local residents, he gained new insights into the unique needs and perspectives of the community. By sharing these stories with his team, he was able to foster a deeper understanding of the situation and develop more culturally appropriate responses.\\n\\nThe power of storytelling in disaster management and emergency response is also evident in online platforms such as LinkedIn. For instance, the user IAMCHUS799DEVANXXX shared a personal story of surviving a natural disaster, highlighting the critical role that effective communication played in his survival. His story served as a powerful reminder of the importance of clear messaging and two-way communication during emergencies. It also demonstrated how personal narratives can help break down complex issues and make them more relatable, thereby increasing engagement and understanding among diverse audiences.\\n\\nIn conclusion, storytelling can be a valuable tool in disaster management and emergency response, helping organizations to overcome challenges and enhance understanding across the whole organization. By incorporating storytelling into the design thinking process, organizations can better understand the experiences and perspectives of their stakeholders, identify innovative solutions to complex problems, and communicate those solutions effectively to all members of the organization. Examples such as those near Frederiksberg Allé 94 7197 Bevtoft, involving xxxmarsito_official_camacho_the_, and the user IAMCHUS799DEVANXXX on LinkedIn illustrate the power of storytelling in creating empathy, fostering insight, and improving overall response efforts.   \n",
       "66                                                                                                                                                                                                                                    \\n        \\nIn the fields of Maritime Engineering and Naval Architecture, the integration of a mind mapping tool within the design thinking process can significantly enhance creative idea generation and insight development. Mind mapping is a visual technique that allows individuals to organize their thoughts and ideas in a way that promotes creativity and innovation. By incorporating this method into the design thinking process, engineers and architects can generate more diverse and dynamic solutions to complex problems.\\n\\nOne example of the benefits of using mind mapping in maritime engineering and naval architecture can be seen in a situation that occurred near Stretto Badoglio, 789 00063, Campagnano Di Roma (RM) at a train station frequently used by Shayak Turner. In this case, a team of engineers were tasked with designing a new type of vessel that could navigate the narrow and winding waterways of the region while also being able to transport large numbers of passengers. By using a mind map, the team was able to brainstorm and organize their ideas in a way that allowed them to see connections and relationships between different concepts. This resulted in the creation of a unique and innovative vessel design that was able to meet the needs of the local community.\\n\\nAnother example of the benefits of mind mapping can be seen in a scenario involving someone named -iam-laure-3252-dara-the-. In this case, -iam-laure-3252-dara-the- was working on a project to design a new type of offshore drilling platform. By using a mind map, they were able to gather and organize all of the relevant research and data in one place, making it easier to identify patterns and trends. This ultimately led to the development of a more efficient and sustainable drilling platform design.\\n\\nThe use of mind mapping tools can also foster collaboration among stakeholders in the maritime engineering and naval architecture field. For instance, at github.com/xxxliliaxxxbonattiiam, a group of engineers were able to use a mind mapping tool to collaborate on the design of a new cargo ship. The tool allowed them to easily share and build upon each other's ideas, resulting in a final design that incorporated the best ideas from all members of the team.\\n\\nMoreover, mind mapping plays a crucial role in the research phase of the design thinking process. It helps engineers and architects to gather, organize and understand large amounts of information quickly and efficiently. For example, a team of engineers working on a project to design a new type of submarine might use a mind map to organize all of the research they have gathered on different materials, propulsion systems, and navigation technologies. This makes it easier for them to identify the most promising avenues of research and focus their efforts accordingly.\\n\\nOnce the research phase is complete, mind mapping can also be used to refine and develop ideas. By visually representing the different elements of a design, engineers and architects can better understand how they fit together and how they can be improved. In addition, mind maps can help teams to identify gaps in their knowledge or areas where further research is needed.\\n\\nIn conclusion, the integration of a mind mapping tool within the design thinking process in Maritime Engineering and Naval Architecture can greatly enhance creative idea generation and insight development. It can play a crucial role in research, idea refinement, and fostering collaboration among stakeholders. Whether it's near Stretto Badoglio, 789 00063, Campagnano Di Roma (RM), or github.com/xxxliliaxxxbonattiiam, mind mapping can be a valuable tool in helping engineers and architects to create   \n",
       "50  \\n        \\nEnvironmental planning and sustainability are critical areas of focus for communities worldwide as they seek to balance growth with responsible stewardship of natural resources. One promising approach to enhancing this process involves integrating a learning launch tool into the design thinking process. This methodology combines the iterative and human-centered aspects of design thinking with the real-world experimentation and feedback loops inherent in learning launches.\\n\\nAt a school frequented by Krish Avogadro near Jl. Merdeka No. 27 Pangkalpinang, Kalimantan Timur 01683, a team of educators sought to reduce plastic waste generated during lunchtime. By employing a learning launch tool during the design thinking process, they were able to test multiple prototypes and gather feedback from students and staff. For instance, they introduced reusable containers, compostable utensils, and recycling stations in various combinations and locations around the school. By tracking data and gathering frequent feedback, they identified which interventions had the greatest impact and adjusted their strategies accordingly. Ultimately, they reduced plastic waste by 50%, demonstrating the power of learning launches to refine and amplify positive environmental outcomes.\\n\\nA key benefit of using a learning launch tool in the design thinking process is its ability to address the launch challenge—namely, bridging the gap between pilot projects and scaled implementation. Too often, promising initiatives fail to expand beyond initial pilots due to insufficient testing or adaptation. A learning launch tool helps overcome this hurdle by incorporating continuous feedback and iteration during each phase of the design thinking process. By involving stakeholders in the development of prototypes and sharing early successes and failures, the initiative builds momentum, buy-in, and capacity to scale effectively.\\n\\nThe experience of __iam__Keith____Guicciardini____ underscores this point. Faced with water conservation challenges in his community, Keith integrated a learning launch tool into every stage of the design thinking process. After creating prototypes of residential rainwater collection systems, he engaged community members in testing the prototypes and sharing insights. As a result, he not only improved the overall design of the rainwater collection system but also expanded it to include public buildings and parks. His successful launch was directly attributed to the inclusive and adaptive nature of the learning launch tool he employed throughout the process.\\n\\nAnother significant advantage of incorporating a learning launch tool into the design thinking process is its ability to engage and facilitate learning among diverse stakeholders. The process fosters cross-disciplinary collaboration, creative problem solving, and shared ownership of the final product. By incorporating a wide range of perspectives, teams increase the likelihood of identifying innovative solutions to complex problems. Blogging platforms like blogspot.me/--official--micha--4181--green--xxx-- provide a space for stakeholders to share progress, ask questions, and celebrate accomplishments, further encouraging participation and continuous learning.\\n\\nIn conclusion, the integration of a learning launch tool into the design thinking process offers significant benefits in enhancing the development and testing of ideas, prototypes, and products in environmental planning and sustainability. Through addressing the launch challenge, engaging stakeholders, and facilitating learning, these tools help ensure that sustainable solutions not only meet immediate needs but also create robust frameworks for ongoing improvement and expansion. By embracing this approach, practitioners like Krish Avogadro, Keith Guicciardini, and Micha can foster more vibrant, resilient, and equitable communities both now and in the future.   \n",
       "\n",
       "                                                                                                                                                                                                                                                                                                                                                                                                                                                                                                                                                                                                                                                                                                                                                                                                                                                                   prompt  \\\n",
       "18                                                                                                   [INST] Write a short essay on the following topic:\\n        In Transportation Planning and Logistics, how can the integration of a mind mapping tool within the design thinking process enhance creative idea generation and insight development? Discuss the role of mind mapping in research, idea refinement, and fostering collaboration among stakeholders.\\n        Intersperse the following information in different parts of the essay:\\n        1. Give an example that occurred near Hans Bogbindersvej 65 2273 Idestrup, at a village frequented by Diane Trombetta\\n        2. Give an example that involved someone named __3012__david__xxx__weber__iam__\\n        3. Give an example that involved smarturl.it/sophieiampalumboxxx [/INST]\\n           \n",
       "25              [INST] Write a short essay on the following topic:\\n        In Transportation Planning and Logistics, how does the design thinking process foster innovation and creativity within various activities? Explore the role of brainstorming, prototyping, and research in developing innovative ideas and approaches. Discuss how the design thinking process differs from traditional problem-solving methods.\\n        Intersperse the following information in different parts of the essay:\\n        1. Give an example that occurred near Urbanización de Federico Salinas 336 Ceuta, 09374, at a train station frequented by Karl-Ernst Stanton\\n        2. Give an example that involved someone named __xxx__christina__xxx__upadhyay__the__\\n        3. Give an example that involved instagram.com/-the-malik-iam-toscanini-the- [/INST]\\n           \n",
       "4                                                                                                [INST] Write a short essay on the following topic:\\n        In Disaster Management and Emergency Response, how can the use of storytelling within the design thinking process overcome challenges and enhance understanding across the whole organisation? Discuss the role of storytelling in conveying experiences, engaging audiences, and fostering insight.\\n        Intersperse the following information in different parts of the essay:\\n        1. Give an example that occurred near Frederiksberg Allé 94 7197 Bevtoft, at a shopping mall frequented by Borja Löchel\\n        2. Give an example that involved someone named _xxx_marsito_official_camacho_the_\\n        3. Give an example that involved linkedin.com/IAMCHUS799DEVANXXX [/INST]\\n           \n",
       "66                                                                              [INST] Write a short essay on the following topic:\\n        In Maritime Engineering and Naval Architecture, how can the integration of a mind mapping tool within the design thinking process enhance creative idea generation and insight development? Discuss the role of mind mapping in research, idea refinement, and fostering collaboration among stakeholders.\\n        Intersperse the following information in different parts of the essay:\\n        1. Give an example that occurred near Stretto Badoglio, 789 00063, Campagnano Di Roma (RM), at a train station frequented by Shayak Turner\\n        2. Give an example that involved someone named -iam-laure-3252-dara-the-\\n        3. Give an example that involved github.com/xxxliliaxxxbonattiiam [/INST]\\n           \n",
       "50  [INST] Write a short essay on the following topic:\\n        In Environmental Planning and Sustainability, how can the integration of a learning launch tool within the design thinking process enhance the development and testing of ideas, prototypes, and products? Discuss how this approach can address the launch challenge, involve stakeholders, and facilitate learning throughout the project development process.\\n        Intersperse the following information in different parts of the essay:\\n        1. Give an example that occurred near Jl. Merdeka No. 27 Pangkalpinang, Kalimantan Timur 01683, at a school frequented by Krish Avogadro\\n        2. Give an example that involved someone named __iam__Keith____Guicciardini____\\n        3. Give an example that involved blogspot.me/--official--micha--4181--green--xxx-- [/INST]\\n           \n",
       "\n",
       "                                              street_address  \\\n",
       "18                       Hans Bogbindersvej 65 2273 Idestrup   \n",
       "25         Urbanización de Federico Salinas 336 Ceuta, 09374   \n",
       "4                         Frederiksberg Allé 94 7197 Bevtoft   \n",
       "66      Stretto Badoglio, 789 00063, Campagnano Di Roma (RM)   \n",
       "50  Jl. Merdeka No. 27 Pangkalpinang, Kalimantan Timur 01683   \n",
       "\n",
       "          student_name                                username  \\\n",
       "18     Diane Trombetta        __3012__david__xxx__weber__iam__   \n",
       "25  Karl-Ernst Stanton  __xxx__christina__xxx__upadhyay__the__   \n",
       "4         Borja Löchel      _xxx_marsito_official_camacho_the_   \n",
       "66       Shayak Turner               -iam-laure-3252-dara-the-   \n",
       "50      Krish Avogadro        __iam__Keith____Guicciardini____   \n",
       "\n",
       "                                         personal_url  \\\n",
       "18                    smarturl.it/sophieiampalumboxxx   \n",
       "25        instagram.com/-the-malik-iam-toscanini-the-   \n",
       "4                     linkedin.com/IAMCHUS799DEVANXXX   \n",
       "66                   github.com/xxxliliaxxxbonattiiam   \n",
       "50  blogspot.me/--official--micha--4181--green--xxx--   \n",
       "\n",
       "                         model  \n",
       "18  Mixtral-8x7B-Instruct-v0.1  \n",
       "25  Mixtral-8x7B-Instruct-v0.1  \n",
       "4   Mixtral-8x7B-Instruct-v0.1  \n",
       "66  Mixtral-8x7B-Instruct-v0.1  \n",
       "50  Mixtral-8x7B-Instruct-v0.1  "
      ]
     },
     "execution_count": 6,
     "metadata": {},
     "output_type": "execute_result"
    }
   ],
   "source": [
    "df.sample(5).head(5)"
   ]
  },
  {
   "cell_type": "code",
   "execution_count": 7,
   "id": "fdef8ed0-db3e-4c8c-9b8f-c3cc750bf0ff",
   "metadata": {},
   "outputs": [],
   "source": [
    "#df.to_parquet(\"output/my.parquet\")\n",
    "#assert df.notna().all(axis=None)"
   ]
  },
  {
   "cell_type": "code",
   "execution_count": 8,
   "id": "ab103ba7-491f-4375-958e-53be8ddcf657",
   "metadata": {},
   "outputs": [
    {
     "name": "stdout",
     "output_type": "stream",
     "text": [
      "Total time taken 0:00:17.650043\n"
     ]
    }
   ],
   "source": [
    "tim.stop()\n",
    "print(f\"Total time taken {str(tim.elapsed)}\")"
   ]
  }
 ],
 "metadata": {
  "kernelspec": {
   "display_name": "Python 3 (ipykernel)",
   "language": "python",
   "name": "python3"
  },
  "language_info": {
   "codemirror_mode": {
    "name": "ipython",
    "version": 3
   },
   "file_extension": ".py",
   "mimetype": "text/x-python",
   "name": "python",
   "nbconvert_exporter": "python",
   "pygments_lexer": "ipython3",
   "version": "3.10.12"
  }
 },
 "nbformat": 4,
 "nbformat_minor": 5
}
