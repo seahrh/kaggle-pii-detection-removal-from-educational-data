{
 "cells": [
  {
   "cell_type": "code",
   "execution_count": 1,
   "id": "7b4d1d55",
   "metadata": {},
   "outputs": [],
   "source": [
    "from pathlib import Path\n",
    "import os\n",
    "import sys\n",
    "import gc\n",
    "import shutil\n",
    "import json\n",
    "import math\n",
    "import uuid\n",
    "from collections import defaultdict\n",
    "import numpy as np\n",
    "import pandas as pd\n",
    "import torch\n",
    "from tqdm import tqdm\n",
    "import matplotlib.pyplot as plt\n",
    "from typing import Dict, List, Tuple, NamedTuple, Callable, Iterable, Set, Optional, Any\n",
    "import scml\n",
    "from mylib.preprocess.en import BasicPreprocessor, labels"
   ]
  },
  {
   "cell_type": "code",
   "execution_count": 2,
   "id": "e197c9ae",
   "metadata": {},
   "outputs": [
    {
     "name": "stdout",
     "output_type": "stream",
     "text": [
      "device=0, NVIDIA GeForce RTX 4070 Ti SUPER\n",
      "Mem Allocated: 0.0 GB\n",
      "Mem Cached:    0.0 GB\n",
      "device=1, NVIDIA GeForce RTX 4070 Ti SUPER\n",
      "Mem Allocated: 0.0 GB\n",
      "Mem Cached:    0.0 GB\n"
     ]
    }
   ],
   "source": [
    "tim = scml.Timer()\n",
    "tim.start()\n",
    "percentiles=[.01, .05, .1, .2, .3, .4, .5, .6, .7, .8, .9, .95, .99]\n",
    "os.environ[\"TOKENIZERS_PARALLELISM\"] = \"false\"\n",
    "pd.set_option(\"max_info_columns\", 9999)\n",
    "pd.set_option(\"display.max_columns\", 9999)\n",
    "pd.set_option(\"display.max_rows\", 9999)\n",
    "pd.set_option('max_colwidth', 9999)\n",
    "tqdm.pandas()\n",
    "scml.seed_everything()\n",
    "device = torch.device(\"cpu\")\n",
    "if torch.cuda.is_available():\n",
    "    device = torch.device(\"cuda\")\n",
    "    for i in range(torch.cuda.device_count()):\n",
    "        print(f\"device={i}, {torch.cuda.get_device_name(i)}\")\n",
    "        print('Mem Allocated:', round(torch.cuda.memory_allocated(i)/1024**3,1), 'GB')\n",
    "        print('Mem Cached:   ', round(torch.cuda.memory_reserved(i)/1024**3,1), 'GB')\n",
    "else:\n",
    "    print(\"cpu\")"
   ]
  },
  {
   "cell_type": "code",
   "execution_count": 3,
   "id": "75a2772b",
   "metadata": {},
   "outputs": [],
   "source": [
    "#target_size = 100"
   ]
  },
  {
   "cell_type": "code",
   "execution_count": 4,
   "id": "06b64fa3-bc66-4aa0-ac36-7ddba1598aba",
   "metadata": {},
   "outputs": [
    {
     "name": "stdout",
     "output_type": "stream",
     "text": [
      "<class 'pandas.core.frame.DataFrame'>\n",
      "RangeIndex: 100 entries, 0 to 99\n",
      "Data columns (total 7 columns):\n",
      " #   Column          Non-Null Count  Dtype \n",
      "---  ------          --------------  ----- \n",
      " 0   text            100 non-null    object\n",
      " 1   prompt          100 non-null    object\n",
      " 2   street_address  100 non-null    object\n",
      " 3   student_name    100 non-null    object\n",
      " 4   username        100 non-null    object\n",
      " 5   personal_url    100 non-null    object\n",
      " 6   model           100 non-null    object\n",
      "dtypes: object(7)\n",
      "memory usage: 5.6+ KB\n"
     ]
    }
   ],
   "source": [
    "df = pd.read_parquet(\"input/part00.parquet\")\n",
    "df.info()"
   ]
  },
  {
   "cell_type": "code",
   "execution_count": 5,
   "id": "6efe748b-2f3f-4366-bc77-7de716298c6a",
   "metadata": {},
   "outputs": [
    {
     "data": {
      "text/html": [
       "<div>\n",
       "<style scoped>\n",
       "    .dataframe tbody tr th:only-of-type {\n",
       "        vertical-align: middle;\n",
       "    }\n",
       "\n",
       "    .dataframe tbody tr th {\n",
       "        vertical-align: top;\n",
       "    }\n",
       "\n",
       "    .dataframe thead th {\n",
       "        text-align: right;\n",
       "    }\n",
       "</style>\n",
       "<table border=\"1\" class=\"dataframe\">\n",
       "  <thead>\n",
       "    <tr style=\"text-align: right;\">\n",
       "      <th></th>\n",
       "      <th>text</th>\n",
       "      <th>prompt</th>\n",
       "      <th>street_address</th>\n",
       "      <th>student_name</th>\n",
       "      <th>username</th>\n",
       "      <th>personal_url</th>\n",
       "      <th>model</th>\n",
       "    </tr>\n",
       "  </thead>\n",
       "  <tbody>\n",
       "    <tr>\n",
       "      <th>17</th>\n",
       "      <td>\\n        \\nDesign thinking is a problem-solving approach that fosters innovation and creativity in maritime engineering and naval architecture. This process encourages engineers to think outside the box and develop unique solutions to complex challenges. The design thinking process involves several stages, including brainstorming, prototyping, and research.\\n\\nOne example of design thinking in action occurred at an office frequented by Amber Samra, located near 71 Justin squares South Deantown WR2E 2HP. Engineers were tasked with designing a more efficient cargo ship for transporting goods across the ocean. Using the design thinking process, they began by conducting extensive research into existing ships and their weaknesses. Through this research, they discovered that many cargo ships had inefficient hull shapes that created drag and wasted fuel.\\n\\nTo address this issue, the team moved on to the brainstorming stage of the design thinking process. During this stage, they generated numerous ideas for improving the hull shape and reducing drag. One engineer suggested incorporating air bubble technology to reduce friction between the ship and the water. Another proposed using a computer algorithm to optimize the hull shape based on hydrodynamic principles.\\n\\nAfter selecting the best ideas from their brainstorming session, the team moved on to prototyping. They constructed a small-scale model of the ship with the new hull shape and conducted experiments in a wave tank. These experiments allowed them to test the effectiveness of their design and make any necessary adjustments before building a full-scale prototype.\\n\\nThe final step in the design thinking process was to evaluate the success of the project. The team found that their new hull shape significantly reduced drag and improved fuel efficiency, resulting in substantial cost savings for shipping companies.\\n\\nAnother example of design thinking in action involved a marine engineer named ___aarush__xxx__thomas__official__ who worked on a project related to Facebook.com/--shannon-4931-friis-official-. The challenge was to create a more eco-friendly way for cruise ships to generate electricity while at sea.\\n\\nUsing the design thinking process, ___aarush__xxx__thomas__official__ first conducted extensive research into alternative energy sources and the specific needs of cruise ships. He then moved on to brainstorming, where he generated ideas such as installing wind turbines or using solar panels. However, these ideas proved impractical due to space constraints and weather conditions.\\n\\nIn the end, ___aarush__xxx__thomas__official__ decided to explore the possibility of using wave energy converters (WECs). WECs convert the motion of ocean waves into electricity, making them an ideal solution for generating power at sea. After creating a prototype and testing it extensively, ___aarush__xxx__thomas__official__ successfully implemented the WEC system on a cruise ship, providing a renewable source of energy and reducing carbon emissions.\\n\\nThe design thinking process differs from traditional problem-solving methods by focusing on empathy, ideation, and experimentation rather than relying solely on analytical techniques. By incorporating brainstorming, prototyping, and research into each project, designers are able to approach problems in a more holistic way, leading to innovative and creative solutions. The examples above demonstrate how the design thinking process can be applied in maritime engineering and naval architecture to tackle complex challenges and promote sustainability.</td>\n",
       "      <td>[INST] Write a short essay on the following topic:\\n        In Maritime Engineering and Naval Architecture, how does the design thinking process foster innovation and creativity within various activities? Explore the role of brainstorming, prototyping, and research in developing innovative ideas and approaches. Discuss how the design thinking process differs from traditional problem-solving methods.\\n        Intersperse the following information in different parts of the essay:\\n        1. Give an example that occurred near 71 Justin squares South Deantown WR2E 2HP, at a office frequented by Amber Samra\\n        2. Give an example that involved someone named ____aarush__xxx__thomas__official__\\n        3. Give an example that involved facebook.com/--shannon-4931-friis-official- [/INST]\\n</td>\n",
       "      <td>71 Justin squares South Deantown WR2E 2HP</td>\n",
       "      <td>Amber Samra</td>\n",
       "      <td>____aarush__xxx__thomas__official__</td>\n",
       "      <td>facebook.com/--shannon-4931-friis-official-</td>\n",
       "      <td>Mixtral-8x7B-Instruct-v0.1</td>\n",
       "    </tr>\n",
       "    <tr>\n",
       "      <th>33</th>\n",
       "      <td>\\n        \\nIn public administration and governance, the integration of a learning launch tool within the design thinking process can significantly enhance the development and testing of ideas, prototypes, and products. The design thinking process is a human-centered approach to innovation that integrates the needs of people, the possibilities of technology, and the requirements for business success. A learning launch tool can help to streamline this process by enabling teams to quickly and easily test and iterate on their ideas.\\n\\nOne example where a learning launch tool could have been beneficial occurred near Rotonda Mattia, 1 Appartamento 51 86016, Riccia (CB), at a subway station frequented by Raden Puga. In this scenario, imagine that the local government was looking to improve the flow of foot traffic through the station during peak hours. By using a learning launch tool, they could have created multiple prototypes of potential solutions and tested them with real users in a low-stakes environment. For instance, they might have tried out different layouts for signage or reconfigured the placement of turnstiles. By gathering feedback from users and analyzing the data collected through the learning launch tool, the team could then refine their prototype and implement it on a larger scale.\\n\\nAnother example where a learning launch tool could be useful involves someone named \"official\\_jens\\_xxx\\_wason\\_the\". Imagine that official\\_jens\\_xxx\\_wason\\_the is part of a team working on a new product for their government agency. By incorporating a learning launch tool into their design thinking process, official\\_jens\\_xxx\\_wason\\_the and their team would be able to quickly create and test prototypes, getting valuable feedback from stakeholders early and often. This approach can help to ensure that the final product meets the needs of its intended users and aligns with the goals of the agency.\\n\\nFinally, consider an example involving instagram.com/&lt;Thomas\\_the\\_Harper\\_7837&gt;. Suppose that Thomas the Harper is a member of a team responsible for promoting a new city initiative on social media. By using a learning launch tool as part of their design thinking process, Thomas the Harper and his colleagues could experiment with different messaging strategies and visual elements to see what resonates most with their audience. The data gathered through the learning launch tool could then be used to optimize their campaign and maximize engagement.\\n\\nIntegrating a learning launch tool within the design thinking process also helps to address the launch challenge, which is the difficulty of successfully bringing a new idea or product to market. By testing and iterating on prototypes before launch, teams can reduce the risk of failure and increase their chances of success. Additionally, involving stakeholders throughout the project development process can help to build buy-in and ensure that the final product meets their needs and expectations.\\n\\nFurthermore, using a learning launch tool facilitates learning throughout the project development process. Teams can use the data collected through the tool to identify patterns, make informed decisions, and continuously improve their work. This approach is especially important in public administration and governance, where the stakes are high and the need for effective, efficient, and equitable solutions is critical.\\n\\nIn conclusion, the integration of a learning launch tool within the design thinking process can greatly enhance the development and testing of ideas, prototypes, and products in public administration and governance. By allowing teams to quickly and easily test and iterate on their ideas, this approach can help to ensure that the final product meets the needs of its intended users and aligns with the goals of the agency. Furthermore, involving stakeholders and</td>\n",
       "      <td>[INST] Write a short essay on the following topic:\\n        In Public Administration and Governance, how can the integration of a learning launch tool within the design thinking process enhance the development and testing of ideas, prototypes, and products? Discuss how this approach can address the launch challenge, involve stakeholders, and facilitate learning throughout the project development process.\\n        Intersperse the following information in different parts of the essay:\\n        1. Give an example that occurred near Rotonda Mattia, 1 Appartamento 51 86016, Riccia (CB), at a subway station frequented by Raden Puga\\n        2. Give an example that involved someone named __official__jens__xxx__wason__the__\\n        3. Give an example that involved instagram.com/____Thomas__the__Harper__7837__ [/INST]\\n</td>\n",
       "      <td>Rotonda Mattia, 1 Appartamento 51 86016, Riccia (CB)</td>\n",
       "      <td>Raden Puga</td>\n",
       "      <td>__official__jens__xxx__wason__the__</td>\n",
       "      <td>instagram.com/____Thomas__the__Harper__7837__</td>\n",
       "      <td>Mixtral-8x7B-Instruct-v0.1</td>\n",
       "    </tr>\n",
       "    <tr>\n",
       "      <th>76</th>\n",
       "      <td>\\n        \\nHealthcare policy and reform are complex issues that affect every member of an organization, from frontline staff to top executives. With so many stakeholders and perspectives to consider, finding a way to communicate and understand each other is essential for successful policy development and implementation. Storytelling, as part of the design thinking process, offers a powerful tool for overcoming challenges and enhancing understanding across the entire organization.\\n\\nOne way storytelling accomplishes this is through its ability to convey experiences. For example, imagine a healthcare provider working near Tømmergravs Allé 34 5560 Snedsted, where Darmaji Lorenzo frequently visits. By sharing their personal experiences with Darmaji, this healthcare provider can help others better understand the unique challenges he faces in accessing care. This kind of first-person narrative creates empathy and a deeper connection to the issue, motivating team members to find solutions that meet his needs.\\n\\nStorytelling also plays a crucial role in engaging audiences. Take, for instance, --7336--kenneth--xxx--collin--iam-- who struggled to make sense of new regulations being implemented at their healthcare facility. Rather than presenting a dense document filled with bureaucratic jargon, --7336--kenneth--xxx--collin--iam-- used storytelling techniques to create narratives around these changes, making them easier to comprehend and discuss with colleagues. As a result, staff members were more invested in understanding and applying the policies effectively.\\n\\nMoreover, using github.com/xxxliliaxxxbonattiiam as an illustration, we can see how storytelling facilitates collaboration and idea generation. At the core of this platform is a community-driven approach that allows users to share code snippets, collaborate on projects, and provide feedback. The storytelling element arises when developers describe their processes, successes, and failures – humanizing technical concepts and allowing others to learn from their experiences. Through this interactive format, teams become empowered to build upon each other's work and generate innovative ideas together.\\n\\nFinally, storytelling is instrumental in fostering insights. By examining individual stories and patterns that emerge across various narratives, organizations can identify underlying themes and unmet needs. This systematic analysis helps drive data-driven decisions and prioritize interventions that have the most significant impact on patients, families, and staff. Ultimately, storytelling within the design thinking process enables healthcare systems to function more cohesively, driving sustainable change and fostering improved outcomes throughout the organization.\\n\\nIn conclusion, storytelling serves as a powerful tool in overcoming challenges and enhancing understanding in healthcare policy and reform. By incorporating storytelling into the design thinking process, organizations create opportunities for experiential learning, audience engagement, cross-functional collaboration, and insight generation. Whether it be near Tømmergravs Allé 34 5560 Snedsted or across the globe, stories resonate with us all and offer vital pathways towards developing compassionate and effective policies.</td>\n",
       "      <td>[INST] Write a short essay on the following topic:\\n        In Healthcare Policy and Reform, how can the use of storytelling within the design thinking process overcome challenges and enhance understanding across the whole organisation? Discuss the role of storytelling in conveying experiences, engaging audiences, and fostering insight.\\n        Intersperse the following information in different parts of the essay:\\n        1. Give an example that occurred near Tømmergravs Allé 34 5560 Snedsted, at a village frequented by Darmaji Lorenzo\\n        2. Give an example that involved someone named --7336--kenneth--xxx--collin--iam--\\n        3. Give an example that involved github.com/xxxliliaxxxbonattiiam [/INST]\\n</td>\n",
       "      <td>Tømmergravs Allé 34 5560 Snedsted</td>\n",
       "      <td>Darmaji Lorenzo</td>\n",
       "      <td>--7336--kenneth--xxx--collin--iam--</td>\n",
       "      <td>github.com/xxxliliaxxxbonattiiam</td>\n",
       "      <td>Mixtral-8x7B-Instruct-v0.1</td>\n",
       "    </tr>\n",
       "    <tr>\n",
       "      <th>3</th>\n",
       "      <td>\\n         Economic development and policy are crucial areas that significantly impact communities and individuals. Therefore, it is essential to have an effective problem-solving approach that considers all stakeholders' perspectives and addresses complex challenges. Design thinking is one such methodology that prioritizes empathy, experimentation, and iteration to create innovative solutions that meet people's needs. Reflection plays a critical role in preventing misrepresentation in the design thinking process, and this essay will explore its significance using three examples.\\n\\n         Firstly, let us consider the case of a subway station frequented by Rosario Roach in the Allan Valleys Kaymouth BS4P 1BZ area. The local authorities planned to install new ticket machines and security cameras but realized that elderly residents found them challenging to use and were uncomfortable with constant surveillance. Through reflection, the team identified their assumptions about the community's needs and recognized that they had overlooked the importance of accessibility and privacy. By involving elderly residents in the design thinking process, they created a prototype that was intuitive and respectful of their concerns, preventing misrepresentation and ensuring economic development policies catered to everyone's needs.\\n\\n          Secondly, reflecting on the actions of official\\_Bradley\\_3592\\_Correr\\_iam can illustrate another aspect of preventing misrepresentation. Suppose official\\_Bradley\\_3592\\_Correr\\_iam had made decisions without considering diverse perspectives or data analysis. In that case, their policy proposals could suffer from biases and misconceptions. Thus, through reflection, they would recognize these limitations and engage in deeper research and collaboration, using methods such as surveys, interviews, or workshops to gather insights. This participatory approach validates various viewpoints, leading to better-informed decisions and promoting economic growth for a broader segment of society.\\n\\n         Lastly, online platforms like Instagram play a significant role in shaping public discourse and economic development policymaking. For instance, influencers like xxxBrettofficialGayxxx may express opinions that sway their followers' perceptions. However, if these influencers fail to reflect on potential misrepresentations due to narrow perspectives or lack of expertise, their messaging can perpetuate inaccuracies and cause harm. To avoid this, visualization, mapping, and other tools can help provide context, highlight trends, and facilitate clear communication. For instance, infographics or diagrams can effectively convey complex data, enabling influencers, decision-makers, and the general public to grasp key concepts and make informed choices.\\n\\n         In conclusion, reflection contributes significantly to preventing misrepresentation in the design thinking process, particularly when developing economic policies. By contemplating previous experiences, acknowledging biases, and incorporating various perspectives, we ensure that the final solutions address real needs and foster equitable economic growth. Visualization and mapping techniques can further aid in accurately representing information and ideas, facilitating meaningful conversations between diverse actors. Utilizing tools such as these ensures that online platforms like Instagram act as bridges connecting communities instead of echo chambers perpetuating inaccuracies and misunderstandings.</td>\n",
       "      <td>[INST] Write a short essay on the following topic:\\n        In Economic Development and Policy, how does reflection contribute to preventing misrepresentation in the design thinking process? Discuss how the design thinking approach aids in gathering insights and tackling challenges. Explore the role of visualization, mapping, and other visual tools in accurately representing information and ideas.\\n        Intersperse the following information in different parts of the essay:\\n        1. Give an example that occurred near Studio 59s Allan valleys Kaymouth BS4P 1BZ, at a subway station frequented by Rosario Roach\\n        2. Give an example that involved someone named _official_Bradley_3592_Correr_iam_\\n        3. Give an example that involved instagram.com/xxxBrettofficialGayxxx [/INST]\\n</td>\n",
       "      <td>Studio 59s Allan valleys Kaymouth BS4P 1BZ</td>\n",
       "      <td>Rosario Roach</td>\n",
       "      <td>_official_Bradley_3592_Correr_iam_</td>\n",
       "      <td>instagram.com/xxxBrettofficialGayxxx</td>\n",
       "      <td>Mixtral-8x7B-Instruct-v0.1</td>\n",
       "    </tr>\n",
       "    <tr>\n",
       "      <th>56</th>\n",
       "      <td>\\n         In the field of Economic Development and Policy, creativity and innovation are essential for the generation of new ideas and insights that can lead to improved outcomes and sustainable growth. One approach that has gained popularity is the integration of mind mapping tools within the design thinking process. Mind mapping is a visual technique used to capture and organize ideas, enabling users to see connections and relationships between different concepts. By incorporating this tool into the various stages of the design thinking process – empathize, define, ideate, prototype, and test – practitioners can enhance their ability to generate creative ideas and develop deeper insights.\\n\\n         At the beginning of the process, during the empathize stage, it is crucial to understand the needs and challenges of those who will be affected by the policy or program. This can involve conducting interviews, observations, and surveys with stakeholders such as community members, business owners, and government officials. Mind mapping can be used to capture and analyze data from these sources, providing a clear picture of the issues at hand. For instance, at the bus stop near 0441 Rachel Locks Apt. 781 Wilsonhaven, NH 84297, frequent user Fabiana Vohra expressed concerns about the safety and cleanliness of the area, which were noted and mapped out visually.\\n\\n         During the define stage, the problem statement is developed based on the insights gathered during the empathize stage. Here, mind mapping plays a critical role in structuring and synthesizing the information collected. The central idea representing the problem can branch off into subtopics such as causes, effects, and potential solutions. As an example, when working with someone named -iam-laure-3252-dara-the-, who was interested in addressing economic inequality, mind mapping helped identify key drivers such as access to education, income disparities, and systemic bias, leading to a more nuanced understanding of the issue.\\n\\n         When moving onto the ideate stage, the goal is to generate a wide range of creative ideas to address the defined problem. Mind mapping excels in this phase as it facilitates non-linear thinking and encourages exploration of multiple angles and possibilities simultaneously. Users can add branches and nodes to their maps, connecting seemingly disparate ideas and building upon them to create innovative solutions. Smarturl.it/--iam--nicole--1029--valdés--636- utilized mind mapping techniques to brainstorm options for reducing poverty levels in her city, resulting in several original proposals that integrated existing resources and infrastructure in novel ways.\\n\\n         Prototyping and testing are the final steps in the design thinking process. Here, mind maps help in organizing ideas and communicating them effectively to relevant parties, ensuring smooth collaboration among stakeholders. Visual representations make it easier for individuals to grasp complex concepts, making mind mapping particularly useful in cross-functional teams and public engagement settings. Additionally, ongoing iterations of the map allow users to continuously refine and improve their ideas based on feedback and results from prototypes, supporting data-driven decision-making.\\n\\n         In conclusion, the integration of mind mapping tools within the design thinking process enhances creative idea generation and insight development in Economic Development and Policy. Through its use in research, ideation, and collaboration, mind mapping contributes to the development of innovative policies and programs that better meet the needs of communities and promote inclusive growth. Furthermore, as demonstrated through examples involving individuals such as Fabiana Vohra, -iam-laure-3252-dara-the-, and -iam-nicole--1029--valdés--636-, this approach transcends</td>\n",
       "      <td>[INST] Write a short essay on the following topic:\\n        In Economic Development and Policy, how can the integration of a mind mapping tool within the design thinking process enhance creative idea generation and insight development? Discuss the role of mind mapping in research, idea refinement, and fostering collaboration among stakeholders.\\n        Intersperse the following information in different parts of the essay:\\n        1. Give an example that occurred near 0441 Rachel Locks Apt. 781 Wilsonhaven, NH 84297, at a bus stop frequented by Fabiana Vohra\\n        2. Give an example that involved someone named -iam-laure-3252-dara-the-\\n        3. Give an example that involved smarturl.it/--iam--nicole--1029--valdés--636-- [/INST]\\n</td>\n",
       "      <td>0441 Rachel Locks Apt. 781 Wilsonhaven, NH 84297</td>\n",
       "      <td>Fabiana Vohra</td>\n",
       "      <td>-iam-laure-3252-dara-the-</td>\n",
       "      <td>smarturl.it/--iam--nicole--1029--valdés--636--</td>\n",
       "      <td>Mixtral-8x7B-Instruct-v0.1</td>\n",
       "    </tr>\n",
       "  </tbody>\n",
       "</table>\n",
       "</div>"
      ],
      "text/plain": [
       "                                                                                                                                                                                                                                                                                                                                                                                                                                                                                                                                                                                                                                                                                                                                                                                                                                                                                                                                                                                                                                                                                                                                                                                                                                                                                                                                                                                                                                                                                                                                                                                                                                                                                                                                                                                                                                                                                                                                                                                                                                                                                                                                                                                                                                                                                                                                                                                                                                                                                                                                                                                                                                                                                                                                                                                                                                                                                                                                                                                                                                                                                                                                                                                                                                                                                                                                                                                                                                                                                                                                                                                                                                                                                                                                                                                                                                                                                                                                                                                                                                               text  \\\n",
       "17                                                                                                                                                                                                                                                                                                     \\n        \\nDesign thinking is a problem-solving approach that fosters innovation and creativity in maritime engineering and naval architecture. This process encourages engineers to think outside the box and develop unique solutions to complex challenges. The design thinking process involves several stages, including brainstorming, prototyping, and research.\\n\\nOne example of design thinking in action occurred at an office frequented by Amber Samra, located near 71 Justin squares South Deantown WR2E 2HP. Engineers were tasked with designing a more efficient cargo ship for transporting goods across the ocean. Using the design thinking process, they began by conducting extensive research into existing ships and their weaknesses. Through this research, they discovered that many cargo ships had inefficient hull shapes that created drag and wasted fuel.\\n\\nTo address this issue, the team moved on to the brainstorming stage of the design thinking process. During this stage, they generated numerous ideas for improving the hull shape and reducing drag. One engineer suggested incorporating air bubble technology to reduce friction between the ship and the water. Another proposed using a computer algorithm to optimize the hull shape based on hydrodynamic principles.\\n\\nAfter selecting the best ideas from their brainstorming session, the team moved on to prototyping. They constructed a small-scale model of the ship with the new hull shape and conducted experiments in a wave tank. These experiments allowed them to test the effectiveness of their design and make any necessary adjustments before building a full-scale prototype.\\n\\nThe final step in the design thinking process was to evaluate the success of the project. The team found that their new hull shape significantly reduced drag and improved fuel efficiency, resulting in substantial cost savings for shipping companies.\\n\\nAnother example of design thinking in action involved a marine engineer named ___aarush__xxx__thomas__official__ who worked on a project related to Facebook.com/--shannon-4931-friis-official-. The challenge was to create a more eco-friendly way for cruise ships to generate electricity while at sea.\\n\\nUsing the design thinking process, ___aarush__xxx__thomas__official__ first conducted extensive research into alternative energy sources and the specific needs of cruise ships. He then moved on to brainstorming, where he generated ideas such as installing wind turbines or using solar panels. However, these ideas proved impractical due to space constraints and weather conditions.\\n\\nIn the end, ___aarush__xxx__thomas__official__ decided to explore the possibility of using wave energy converters (WECs). WECs convert the motion of ocean waves into electricity, making them an ideal solution for generating power at sea. After creating a prototype and testing it extensively, ___aarush__xxx__thomas__official__ successfully implemented the WEC system on a cruise ship, providing a renewable source of energy and reducing carbon emissions.\\n\\nThe design thinking process differs from traditional problem-solving methods by focusing on empathy, ideation, and experimentation rather than relying solely on analytical techniques. By incorporating brainstorming, prototyping, and research into each project, designers are able to approach problems in a more holistic way, leading to innovative and creative solutions. The examples above demonstrate how the design thinking process can be applied in maritime engineering and naval architecture to tackle complex challenges and promote sustainability.   \n",
       "33           \\n        \\nIn public administration and governance, the integration of a learning launch tool within the design thinking process can significantly enhance the development and testing of ideas, prototypes, and products. The design thinking process is a human-centered approach to innovation that integrates the needs of people, the possibilities of technology, and the requirements for business success. A learning launch tool can help to streamline this process by enabling teams to quickly and easily test and iterate on their ideas.\\n\\nOne example where a learning launch tool could have been beneficial occurred near Rotonda Mattia, 1 Appartamento 51 86016, Riccia (CB), at a subway station frequented by Raden Puga. In this scenario, imagine that the local government was looking to improve the flow of foot traffic through the station during peak hours. By using a learning launch tool, they could have created multiple prototypes of potential solutions and tested them with real users in a low-stakes environment. For instance, they might have tried out different layouts for signage or reconfigured the placement of turnstiles. By gathering feedback from users and analyzing the data collected through the learning launch tool, the team could then refine their prototype and implement it on a larger scale.\\n\\nAnother example where a learning launch tool could be useful involves someone named \"official\\_jens\\_xxx\\_wason\\_the\". Imagine that official\\_jens\\_xxx\\_wason\\_the is part of a team working on a new product for their government agency. By incorporating a learning launch tool into their design thinking process, official\\_jens\\_xxx\\_wason\\_the and their team would be able to quickly create and test prototypes, getting valuable feedback from stakeholders early and often. This approach can help to ensure that the final product meets the needs of its intended users and aligns with the goals of the agency.\\n\\nFinally, consider an example involving instagram.com/<Thomas\\_the\\_Harper\\_7837>. Suppose that Thomas the Harper is a member of a team responsible for promoting a new city initiative on social media. By using a learning launch tool as part of their design thinking process, Thomas the Harper and his colleagues could experiment with different messaging strategies and visual elements to see what resonates most with their audience. The data gathered through the learning launch tool could then be used to optimize their campaign and maximize engagement.\\n\\nIntegrating a learning launch tool within the design thinking process also helps to address the launch challenge, which is the difficulty of successfully bringing a new idea or product to market. By testing and iterating on prototypes before launch, teams can reduce the risk of failure and increase their chances of success. Additionally, involving stakeholders throughout the project development process can help to build buy-in and ensure that the final product meets their needs and expectations.\\n\\nFurthermore, using a learning launch tool facilitates learning throughout the project development process. Teams can use the data collected through the tool to identify patterns, make informed decisions, and continuously improve their work. This approach is especially important in public administration and governance, where the stakes are high and the need for effective, efficient, and equitable solutions is critical.\\n\\nIn conclusion, the integration of a learning launch tool within the design thinking process can greatly enhance the development and testing of ideas, prototypes, and products in public administration and governance. By allowing teams to quickly and easily test and iterate on their ideas, this approach can help to ensure that the final product meets the needs of its intended users and aligns with the goals of the agency. Furthermore, involving stakeholders and   \n",
       "76                                                                                                                                                                                                                                                                                                                                                                                                                                                                                                                                                                                                                     \\n        \\nHealthcare policy and reform are complex issues that affect every member of an organization, from frontline staff to top executives. With so many stakeholders and perspectives to consider, finding a way to communicate and understand each other is essential for successful policy development and implementation. Storytelling, as part of the design thinking process, offers a powerful tool for overcoming challenges and enhancing understanding across the entire organization.\\n\\nOne way storytelling accomplishes this is through its ability to convey experiences. For example, imagine a healthcare provider working near Tømmergravs Allé 34 5560 Snedsted, where Darmaji Lorenzo frequently visits. By sharing their personal experiences with Darmaji, this healthcare provider can help others better understand the unique challenges he faces in accessing care. This kind of first-person narrative creates empathy and a deeper connection to the issue, motivating team members to find solutions that meet his needs.\\n\\nStorytelling also plays a crucial role in engaging audiences. Take, for instance, --7336--kenneth--xxx--collin--iam-- who struggled to make sense of new regulations being implemented at their healthcare facility. Rather than presenting a dense document filled with bureaucratic jargon, --7336--kenneth--xxx--collin--iam-- used storytelling techniques to create narratives around these changes, making them easier to comprehend and discuss with colleagues. As a result, staff members were more invested in understanding and applying the policies effectively.\\n\\nMoreover, using github.com/xxxliliaxxxbonattiiam as an illustration, we can see how storytelling facilitates collaboration and idea generation. At the core of this platform is a community-driven approach that allows users to share code snippets, collaborate on projects, and provide feedback. The storytelling element arises when developers describe their processes, successes, and failures – humanizing technical concepts and allowing others to learn from their experiences. Through this interactive format, teams become empowered to build upon each other's work and generate innovative ideas together.\\n\\nFinally, storytelling is instrumental in fostering insights. By examining individual stories and patterns that emerge across various narratives, organizations can identify underlying themes and unmet needs. This systematic analysis helps drive data-driven decisions and prioritize interventions that have the most significant impact on patients, families, and staff. Ultimately, storytelling within the design thinking process enables healthcare systems to function more cohesively, driving sustainable change and fostering improved outcomes throughout the organization.\\n\\nIn conclusion, storytelling serves as a powerful tool in overcoming challenges and enhancing understanding in healthcare policy and reform. By incorporating storytelling into the design thinking process, organizations create opportunities for experiential learning, audience engagement, cross-functional collaboration, and insight generation. Whether it be near Tømmergravs Allé 34 5560 Snedsted or across the globe, stories resonate with us all and offer vital pathways towards developing compassionate and effective policies.   \n",
       "3                                                                                                                                                                                                                                                                                                                                                                       \\n         Economic development and policy are crucial areas that significantly impact communities and individuals. Therefore, it is essential to have an effective problem-solving approach that considers all stakeholders' perspectives and addresses complex challenges. Design thinking is one such methodology that prioritizes empathy, experimentation, and iteration to create innovative solutions that meet people's needs. Reflection plays a critical role in preventing misrepresentation in the design thinking process, and this essay will explore its significance using three examples.\\n\\n         Firstly, let us consider the case of a subway station frequented by Rosario Roach in the Allan Valleys Kaymouth BS4P 1BZ area. The local authorities planned to install new ticket machines and security cameras but realized that elderly residents found them challenging to use and were uncomfortable with constant surveillance. Through reflection, the team identified their assumptions about the community's needs and recognized that they had overlooked the importance of accessibility and privacy. By involving elderly residents in the design thinking process, they created a prototype that was intuitive and respectful of their concerns, preventing misrepresentation and ensuring economic development policies catered to everyone's needs.\\n\\n          Secondly, reflecting on the actions of official\\_Bradley\\_3592\\_Correr\\_iam can illustrate another aspect of preventing misrepresentation. Suppose official\\_Bradley\\_3592\\_Correr\\_iam had made decisions without considering diverse perspectives or data analysis. In that case, their policy proposals could suffer from biases and misconceptions. Thus, through reflection, they would recognize these limitations and engage in deeper research and collaboration, using methods such as surveys, interviews, or workshops to gather insights. This participatory approach validates various viewpoints, leading to better-informed decisions and promoting economic growth for a broader segment of society.\\n\\n         Lastly, online platforms like Instagram play a significant role in shaping public discourse and economic development policymaking. For instance, influencers like xxxBrettofficialGayxxx may express opinions that sway their followers' perceptions. However, if these influencers fail to reflect on potential misrepresentations due to narrow perspectives or lack of expertise, their messaging can perpetuate inaccuracies and cause harm. To avoid this, visualization, mapping, and other tools can help provide context, highlight trends, and facilitate clear communication. For instance, infographics or diagrams can effectively convey complex data, enabling influencers, decision-makers, and the general public to grasp key concepts and make informed choices.\\n\\n         In conclusion, reflection contributes significantly to preventing misrepresentation in the design thinking process, particularly when developing economic policies. By contemplating previous experiences, acknowledging biases, and incorporating various perspectives, we ensure that the final solutions address real needs and foster equitable economic growth. Visualization and mapping techniques can further aid in accurately representing information and ideas, facilitating meaningful conversations between diverse actors. Utilizing tools such as these ensures that online platforms like Instagram act as bridges connecting communities instead of echo chambers perpetuating inaccuracies and misunderstandings.   \n",
       "56  \\n         In the field of Economic Development and Policy, creativity and innovation are essential for the generation of new ideas and insights that can lead to improved outcomes and sustainable growth. One approach that has gained popularity is the integration of mind mapping tools within the design thinking process. Mind mapping is a visual technique used to capture and organize ideas, enabling users to see connections and relationships between different concepts. By incorporating this tool into the various stages of the design thinking process – empathize, define, ideate, prototype, and test – practitioners can enhance their ability to generate creative ideas and develop deeper insights.\\n\\n         At the beginning of the process, during the empathize stage, it is crucial to understand the needs and challenges of those who will be affected by the policy or program. This can involve conducting interviews, observations, and surveys with stakeholders such as community members, business owners, and government officials. Mind mapping can be used to capture and analyze data from these sources, providing a clear picture of the issues at hand. For instance, at the bus stop near 0441 Rachel Locks Apt. 781 Wilsonhaven, NH 84297, frequent user Fabiana Vohra expressed concerns about the safety and cleanliness of the area, which were noted and mapped out visually.\\n\\n         During the define stage, the problem statement is developed based on the insights gathered during the empathize stage. Here, mind mapping plays a critical role in structuring and synthesizing the information collected. The central idea representing the problem can branch off into subtopics such as causes, effects, and potential solutions. As an example, when working with someone named -iam-laure-3252-dara-the-, who was interested in addressing economic inequality, mind mapping helped identify key drivers such as access to education, income disparities, and systemic bias, leading to a more nuanced understanding of the issue.\\n\\n         When moving onto the ideate stage, the goal is to generate a wide range of creative ideas to address the defined problem. Mind mapping excels in this phase as it facilitates non-linear thinking and encourages exploration of multiple angles and possibilities simultaneously. Users can add branches and nodes to their maps, connecting seemingly disparate ideas and building upon them to create innovative solutions. Smarturl.it/--iam--nicole--1029--valdés--636- utilized mind mapping techniques to brainstorm options for reducing poverty levels in her city, resulting in several original proposals that integrated existing resources and infrastructure in novel ways.\\n\\n         Prototyping and testing are the final steps in the design thinking process. Here, mind maps help in organizing ideas and communicating them effectively to relevant parties, ensuring smooth collaboration among stakeholders. Visual representations make it easier for individuals to grasp complex concepts, making mind mapping particularly useful in cross-functional teams and public engagement settings. Additionally, ongoing iterations of the map allow users to continuously refine and improve their ideas based on feedback and results from prototypes, supporting data-driven decision-making.\\n\\n         In conclusion, the integration of mind mapping tools within the design thinking process enhances creative idea generation and insight development in Economic Development and Policy. Through its use in research, ideation, and collaboration, mind mapping contributes to the development of innovative policies and programs that better meet the needs of communities and promote inclusive growth. Furthermore, as demonstrated through examples involving individuals such as Fabiana Vohra, -iam-laure-3252-dara-the-, and -iam-nicole--1029--valdés--636-, this approach transcends   \n",
       "\n",
       "                                                                                                                                                                                                                                                                                                                                                                                                                                                                                                                                                                                                                                                                                                                                                                                                                                                             prompt  \\\n",
       "17                           [INST] Write a short essay on the following topic:\\n        In Maritime Engineering and Naval Architecture, how does the design thinking process foster innovation and creativity within various activities? Explore the role of brainstorming, prototyping, and research in developing innovative ideas and approaches. Discuss how the design thinking process differs from traditional problem-solving methods.\\n        Intersperse the following information in different parts of the essay:\\n        1. Give an example that occurred near 71 Justin squares South Deantown WR2E 2HP, at a office frequented by Amber Samra\\n        2. Give an example that involved someone named ____aarush__xxx__thomas__official__\\n        3. Give an example that involved facebook.com/--shannon-4931-friis-official- [/INST]\\n           \n",
       "33  [INST] Write a short essay on the following topic:\\n        In Public Administration and Governance, how can the integration of a learning launch tool within the design thinking process enhance the development and testing of ideas, prototypes, and products? Discuss how this approach can address the launch challenge, involve stakeholders, and facilitate learning throughout the project development process.\\n        Intersperse the following information in different parts of the essay:\\n        1. Give an example that occurred near Rotonda Mattia, 1 Appartamento 51 86016, Riccia (CB), at a subway station frequented by Raden Puga\\n        2. Give an example that involved someone named __official__jens__xxx__wason__the__\\n        3. Give an example that involved instagram.com/____Thomas__the__Harper__7837__ [/INST]\\n           \n",
       "76                                                                                                         [INST] Write a short essay on the following topic:\\n        In Healthcare Policy and Reform, how can the use of storytelling within the design thinking process overcome challenges and enhance understanding across the whole organisation? Discuss the role of storytelling in conveying experiences, engaging audiences, and fostering insight.\\n        Intersperse the following information in different parts of the essay:\\n        1. Give an example that occurred near Tømmergravs Allé 34 5560 Snedsted, at a village frequented by Darmaji Lorenzo\\n        2. Give an example that involved someone named --7336--kenneth--xxx--collin--iam--\\n        3. Give an example that involved github.com/xxxliliaxxxbonattiiam [/INST]\\n           \n",
       "3                           [INST] Write a short essay on the following topic:\\n        In Economic Development and Policy, how does reflection contribute to preventing misrepresentation in the design thinking process? Discuss how the design thinking approach aids in gathering insights and tackling challenges. Explore the role of visualization, mapping, and other visual tools in accurately representing information and ideas.\\n        Intersperse the following information in different parts of the essay:\\n        1. Give an example that occurred near Studio 59s Allan valleys Kaymouth BS4P 1BZ, at a subway station frequented by Rosario Roach\\n        2. Give an example that involved someone named _official_Bradley_3592_Correr_iam_\\n        3. Give an example that involved instagram.com/xxxBrettofficialGayxxx [/INST]\\n           \n",
       "56                                                                               [INST] Write a short essay on the following topic:\\n        In Economic Development and Policy, how can the integration of a mind mapping tool within the design thinking process enhance creative idea generation and insight development? Discuss the role of mind mapping in research, idea refinement, and fostering collaboration among stakeholders.\\n        Intersperse the following information in different parts of the essay:\\n        1. Give an example that occurred near 0441 Rachel Locks Apt. 781 Wilsonhaven, NH 84297, at a bus stop frequented by Fabiana Vohra\\n        2. Give an example that involved someone named -iam-laure-3252-dara-the-\\n        3. Give an example that involved smarturl.it/--iam--nicole--1029--valdés--636-- [/INST]\\n           \n",
       "\n",
       "                                          street_address     student_name  \\\n",
       "17             71 Justin squares South Deantown WR2E 2HP      Amber Samra   \n",
       "33  Rotonda Mattia, 1 Appartamento 51 86016, Riccia (CB)       Raden Puga   \n",
       "76                     Tømmergravs Allé 34 5560 Snedsted  Darmaji Lorenzo   \n",
       "3             Studio 59s Allan valleys Kaymouth BS4P 1BZ    Rosario Roach   \n",
       "56      0441 Rachel Locks Apt. 781 Wilsonhaven, NH 84297    Fabiana Vohra   \n",
       "\n",
       "                               username  \\\n",
       "17  ____aarush__xxx__thomas__official__   \n",
       "33  __official__jens__xxx__wason__the__   \n",
       "76  --7336--kenneth--xxx--collin--iam--   \n",
       "3    _official_Bradley_3592_Correr_iam_   \n",
       "56            -iam-laure-3252-dara-the-   \n",
       "\n",
       "                                      personal_url                       model  \n",
       "17     facebook.com/--shannon-4931-friis-official-  Mixtral-8x7B-Instruct-v0.1  \n",
       "33   instagram.com/____Thomas__the__Harper__7837__  Mixtral-8x7B-Instruct-v0.1  \n",
       "76                github.com/xxxliliaxxxbonattiiam  Mixtral-8x7B-Instruct-v0.1  \n",
       "3             instagram.com/xxxBrettofficialGayxxx  Mixtral-8x7B-Instruct-v0.1  \n",
       "56  smarturl.it/--iam--nicole--1029--valdés--636--  Mixtral-8x7B-Instruct-v0.1  "
      ]
     },
     "execution_count": 5,
     "metadata": {},
     "output_type": "execute_result"
    }
   ],
   "source": [
    "df.sample(5).head(5)"
   ]
  },
  {
   "cell_type": "code",
   "execution_count": 6,
   "id": "fdef8ed0-db3e-4c8c-9b8f-c3cc750bf0ff",
   "metadata": {},
   "outputs": [
    {
     "name": "stderr",
     "output_type": "stream",
     "text": [
      "100it [00:00, 399.34it/s]\n"
     ]
    }
   ],
   "source": [
    "pre = BasicPreprocessor()\n",
    "rows = []\n",
    "for t in tqdm(df.itertuples()):\n",
    "    street_address = str(getattr(t, \"street_address\")),\n",
    "    student_name = str(getattr(t, \"student_name\")),\n",
    "    username = str(getattr(t, \"username\")),\n",
    "    personal_url = str(getattr(t, \"personal_url\")),\n",
    "    text = pre(getattr(t, \"text\"))\n",
    "    tokens, trailing_whitespace = pre.tokenize(text)\n",
    "    rows.append({\n",
    "        \"document\": f\"rh_{uuid.uuid4().hex}\",\n",
    "        \"full_text\": text,\n",
    "        \"tokens\": tokens,\n",
    "        \"trailing_whitespace\": trailing_whitespace,\n",
    "        \"labels\": labels(text=text, tokens=tokens, ),\n",
    "        \"street_address\": street_address,\n",
    "        \"student_name\": student_name,\n",
    "        \"username\": username,\n",
    "        \"personal_url\": personal_url,\n",
    "    })\n"
   ]
  },
  {
   "cell_type": "code",
   "execution_count": 7,
   "id": "425b7c9a-2850-42b2-99bb-0ca924e13536",
   "metadata": {},
   "outputs": [
    {
     "name": "stdout",
     "output_type": "stream",
     "text": [
      "CPU times: user 15 ms, sys: 4.06 ms, total: 19.1 ms\n",
      "Wall time: 31.2 ms\n"
     ]
    }
   ],
   "source": [
    "%%time\n",
    "with open(\"output/rh01.json\", \"w\") as f:\n",
    "    json.dump(rows, f)"
   ]
  },
  {
   "cell_type": "code",
   "execution_count": 8,
   "id": "ab103ba7-491f-4375-958e-53be8ddcf657",
   "metadata": {},
   "outputs": [
    {
     "name": "stdout",
     "output_type": "stream",
     "text": [
      "Total time taken 0:00:00.530536\n"
     ]
    }
   ],
   "source": [
    "tim.stop()\n",
    "print(f\"Total time taken {str(tim.elapsed)}\")"
   ]
  }
 ],
 "metadata": {
  "kernelspec": {
   "display_name": "Python 3 (ipykernel)",
   "language": "python",
   "name": "python3"
  },
  "language_info": {
   "codemirror_mode": {
    "name": "ipython",
    "version": 3
   },
   "file_extension": ".py",
   "mimetype": "text/x-python",
   "name": "python",
   "nbconvert_exporter": "python",
   "pygments_lexer": "ipython3",
   "version": "3.10.12"
  }
 },
 "nbformat": 4,
 "nbformat_minor": 5
}
