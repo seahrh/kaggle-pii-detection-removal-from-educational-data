{
 "cells": [
  {
   "cell_type": "code",
   "execution_count": 1,
   "id": "805a4b2c",
   "metadata": {
    "_cell_guid": "b1076dfc-b9ad-4769-8c92-a6c4dae69d19",
    "_uuid": "8f2839f25d086af736a60e9eeb907d3b93b6e0e5",
    "execution": {
     "iopub.execute_input": "2024-04-23T23:29:04.351174Z",
     "iopub.status.busy": "2024-04-23T23:29:04.350791Z",
     "iopub.status.idle": "2024-04-23T23:29:16.240430Z",
     "shell.execute_reply": "2024-04-23T23:29:16.239335Z"
    },
    "papermill": {
     "duration": 11.902132,
     "end_time": "2024-04-23T23:29:16.243090",
     "exception": false,
     "start_time": "2024-04-23T23:29:04.340958",
     "status": "completed"
    },
    "tags": []
   },
   "outputs": [],
   "source": [
    "from pathlib import Path\n",
    "import os\n",
    "import sys\n",
    "import gc\n",
    "import shutil\n",
    "import json\n",
    "import math\n",
    "from collections import defaultdict\n",
    "import numpy as np\n",
    "import pandas as pd\n",
    "from spacy.lang.en import English\n",
    "import torch\n",
    "from torch.utils.data import Dataset, DataLoader\n",
    "from transformers import AutoTokenizer, AutoModelForTokenClassification\n",
    "from tqdm import tqdm\n",
    "import matplotlib.pyplot as plt\n",
    "from typing import Dict, List, Tuple, NamedTuple, Callable, Iterable, Set, Optional, Any"
   ]
  },
  {
   "cell_type": "code",
   "execution_count": 2,
   "id": "8a4468c3",
   "metadata": {
    "execution": {
     "iopub.execute_input": "2024-04-23T23:29:16.255939Z",
     "iopub.status.busy": "2024-04-23T23:29:16.255390Z",
     "iopub.status.idle": "2024-04-23T23:29:16.266935Z",
     "shell.execute_reply": "2024-04-23T23:29:16.265963Z"
    },
    "papermill": {
     "duration": 0.020726,
     "end_time": "2024-04-23T23:29:16.269652",
     "exception": false,
     "start_time": "2024-04-23T23:29:16.248926",
     "status": "completed"
    },
    "tags": []
   },
   "outputs": [
    {
     "name": "stdout",
     "output_type": "stream",
     "text": [
      "Conf(debug=False, input_dir=PosixPath('/kaggle/input'), comp_dir=PosixPath('/kaggle/input/pii-detection-removal-from-educational-data'), temp_dir=PosixPath('/kaggle/temp'), working_dir=PosixPath('/kaggle/working'), resource_dir=PosixPath('/kaggle/input/libtlalpii/tlal-pii-0.1'), data_dir=PosixPath('/kaggle/input/libtlalpii/tlal-pii-0.1/input'), models=[ModelConf(name='deberta_v3_base', directory=PosixPath('/kaggle/input/libtlalpii/tlal-pii-0.1/models/ner/deberta_v3_base/20240424_062422'), model_max_length=512, batch_size=32, weight=1, model_class='CustomDebertaV2ForTokenClassification')], window_length=512, window_stride=256, outside_label_threshold=0.7, duplicate_dt_strategy='first', postprocess_email=False, postprocess_url=False, postprocess_phone=False)\n"
     ]
    }
   ],
   "source": [
    "class ModelConf(NamedTuple):\n",
    "    name: str\n",
    "    directory: Path\n",
    "    model_max_length: int=512\n",
    "    batch_size: int=16\n",
    "    weight: float=1\n",
    "    model_class: str=\"auto\"\n",
    "        \n",
    "\n",
    "class Conf(NamedTuple):\n",
    "    debug: bool = False  \n",
    "    input_dir: Path = Path(\"/kaggle/input\")\n",
    "    comp_dir: Path = input_dir / \"pii-detection-removal-from-educational-data\"\n",
    "    temp_dir: Path = Path('/kaggle/temp')\n",
    "    # write up to 20GB to the current directory (/kaggle/working/) that gets preserved as output when you create a version using \"Save & Run All\" \n",
    "    working_dir: Path = Path('/kaggle/working')\n",
    "    resource_dir: Path = input_dir / \"libtlalpii/tlal-pii-0.1\"\n",
    "    data_dir: Path = resource_dir / \"input\"\n",
    "    models: List[ModelConf] = [\n",
    "        ModelConf(\n",
    "            name=\"deberta_v3_base\",\n",
    "            directory=Path(resource_dir) / \"models/ner/deberta_v3_base/20240424_062422\",\n",
    "            model_max_length=512,\n",
    "            batch_size=32,\n",
    "            weight=1,\n",
    "            model_class=\"CustomDebertaV2ForTokenClassification\",\n",
    "        ),\n",
    "    ]\n",
    "    window_length: int = 512\n",
    "    window_stride: int = 256\n",
    "    outside_label_threshold: float = 0.70\n",
    "    duplicate_dt_strategy: str = \"first\"  # first, mean, min_outside_proba \n",
    "    postprocess_email: bool = False\n",
    "    postprocess_url: bool = False\n",
    "    postprocess_phone: bool = False\n",
    "        \n",
    "\n",
    "conf = Conf()\n",
    "print(conf)"
   ]
  },
  {
   "cell_type": "code",
   "execution_count": 3,
   "id": "072f0c81",
   "metadata": {
    "execution": {
     "iopub.execute_input": "2024-04-23T23:29:16.282153Z",
     "iopub.status.busy": "2024-04-23T23:29:16.281821Z",
     "iopub.status.idle": "2024-04-23T23:29:16.292724Z",
     "shell.execute_reply": "2024-04-23T23:29:16.291667Z"
    },
    "papermill": {
     "duration": 0.019776,
     "end_time": "2024-04-23T23:29:16.294917",
     "exception": false,
     "start_time": "2024-04-23T23:29:16.275141",
     "status": "completed"
    },
    "tags": []
   },
   "outputs": [
    {
     "name": "stdout",
     "output_type": "stream",
     "text": [
      "device=0, Tesla P100-PCIE-16GB\n",
      "Mem Allocated: 0.0 GB\n",
      "Mem Cached:    0.0 GB\n"
     ]
    }
   ],
   "source": [
    "device = torch.device(\"cpu\")\n",
    "if torch.cuda.is_available():\n",
    "    device = torch.device(\"cuda\")\n",
    "    for i in range(torch.cuda.device_count()):\n",
    "        print(f\"device={i}, {torch.cuda.get_device_name(i)}\")\n",
    "        print('Mem Allocated:', round(torch.cuda.memory_allocated(i)/1024**3,1), 'GB')\n",
    "        print('Mem Cached:   ', round(torch.cuda.memory_reserved(i)/1024**3,1), 'GB')\n",
    "else:\n",
    "    print(\"cpu\")"
   ]
  },
  {
   "cell_type": "code",
   "execution_count": 4,
   "id": "aeaf6b2a",
   "metadata": {
    "execution": {
     "iopub.execute_input": "2024-04-23T23:29:16.308776Z",
     "iopub.status.busy": "2024-04-23T23:29:16.308406Z",
     "iopub.status.idle": "2024-04-23T23:29:21.262292Z",
     "shell.execute_reply": "2024-04-23T23:29:21.261082Z"
    },
    "papermill": {
     "duration": 4.963689,
     "end_time": "2024-04-23T23:29:21.264754",
     "exception": false,
     "start_time": "2024-04-23T23:29:16.301065",
     "status": "completed"
    },
    "tags": []
   },
   "outputs": [],
   "source": [
    "percentiles=[.01, .05, .1, .2, .3, .4, .5, .6, .7, .8, .9, .95, .99]\n",
    "os.environ[\"TOKENIZERS_PARALLELISM\"] = \"false\"\n",
    "pd.set_option(\"max_info_columns\", 9999)\n",
    "pd.set_option(\"display.max_columns\", 9999)\n",
    "pd.set_option(\"display.max_rows\", 9999)\n",
    "pd.set_option('max_colwidth', 9999)\n",
    "tqdm.pandas()\n",
    "sys.path.append(str(conf.input_dir / \"sgcharts-ml/src\"))\n",
    "sys.path.append(str(conf.resource_dir / \"src\"))\n",
    "import scml\n",
    "from scml import nlp as snlp\n",
    "from scml import pandasx as pdx\n",
    "from mylib.ner import predict_ner_proba, NerDataset, blend_predictions, CustomDebertaV2ForTokenClassification\n",
    "from warnings import simplefilter \n",
    "simplefilter(action=\"ignore\", category=pd.errors.PerformanceWarning)\n",
    "scml.seed_everything()"
   ]
  },
  {
   "cell_type": "code",
   "execution_count": 5,
   "id": "fdd3938c",
   "metadata": {
    "execution": {
     "iopub.execute_input": "2024-04-23T23:29:21.277901Z",
     "iopub.status.busy": "2024-04-23T23:29:21.277241Z",
     "iopub.status.idle": "2024-04-23T23:29:21.290470Z",
     "shell.execute_reply": "2024-04-23T23:29:21.289500Z"
    },
    "papermill": {
     "duration": 0.022516,
     "end_time": "2024-04-23T23:29:21.292777",
     "exception": false,
     "start_time": "2024-04-23T23:29:21.270261",
     "status": "completed"
    },
    "tags": []
   },
   "outputs": [
    {
     "name": "stdout",
     "output_type": "stream",
     "text": [
      "len(data)=10\n"
     ]
    }
   ],
   "source": [
    "fp = conf.comp_dir / \"test.json\"\n",
    "if conf.debug:\n",
    "    fp = conf.comp_dir / \"train.json\"\n",
    "with open(str(fp)) as f:\n",
    "    data = json.load(f)\n",
    "print(f\"len(data)={len(data)}\")\n",
    "texts: List[List[str]] = []\n",
    "dids: List[str] = []\n",
    "for row in data:\n",
    "    texts.append(row[\"tokens\"])\n",
    "    dids.append(str(row[\"document\"]))"
   ]
  },
  {
   "cell_type": "markdown",
   "id": "807793dd",
   "metadata": {
    "papermill": {
     "duration": 0.005246,
     "end_time": "2024-04-23T23:29:21.303478",
     "exception": false,
     "start_time": "2024-04-23T23:29:21.298232",
     "status": "completed"
    },
    "tags": []
   },
   "source": [
    "# Model Inference"
   ]
  },
  {
   "cell_type": "code",
   "execution_count": 6,
   "id": "23bf7927",
   "metadata": {
    "execution": {
     "iopub.execute_input": "2024-04-23T23:29:21.315804Z",
     "iopub.status.busy": "2024-04-23T23:29:21.315149Z",
     "iopub.status.idle": "2024-04-23T23:29:29.276651Z",
     "shell.execute_reply": "2024-04-23T23:29:29.275565Z"
    },
    "papermill": {
     "duration": 7.970174,
     "end_time": "2024-04-23T23:29:29.278885",
     "exception": false,
     "start_time": "2024-04-23T23:29:21.308711",
     "status": "completed"
    },
    "tags": []
   },
   "outputs": [
    {
     "name": "stdout",
     "output_type": "stream",
     "text": [
      "deberta_v3_base\n"
     ]
    },
    {
     "name": "stderr",
     "output_type": "stream",
     "text": [
      "/opt/conda/lib/python3.10/site-packages/transformers/convert_slow_tokenizer.py:515: UserWarning: The sentencepiece tokenizer that you are converting to a fast tokenizer uses the byte fallback option which is not implemented in the fast tokenizers. In practice this means that the fast version of the tokenizer can produce unknown tokens whereas the sentencepiece version would have converted these unknown tokens into a sequence of byte tokens matching the original piece of text.\n",
      "  warnings.warn(\n"
     ]
    },
    {
     "name": "stdout",
     "output_type": "stream",
     "text": [
      "(38, 512, 15) y_proba[0][0]=[0.0730754  0.06579716 0.08677855 0.06226376 0.05844414 0.07046641\n",
      " 0.07404029 0.05362616 0.06816988 0.04697222 0.08053344 0.0478453\n",
      " 0.10761833 0.05604679 0.0483222 ]\n"
     ]
    }
   ],
   "source": [
    "ds = NerDataset(\n",
    "    tokenizer=None,\n",
    "    texts=texts,\n",
    "    document_ids=dids,\n",
    "    window_length=conf.window_length,\n",
    "    window_stride=conf.window_stride,\n",
    ")\n",
    "dwm_map=defaultdict(list)\n",
    "for m, mc in enumerate(conf.models):\n",
    "    print(mc.name)\n",
    "    tokenizer = AutoTokenizer.from_pretrained(\n",
    "        str(mc.directory),\n",
    "        model_max_length=mc.model_max_length,\n",
    "    )\n",
    "    ds.tokenizer = tokenizer\n",
    "    if mc.model_class==\"CustomDebertaV2ForTokenClassification\":\n",
    "        model = CustomDebertaV2ForTokenClassification.from_pretrained(str(mc.directory))\n",
    "    else:\n",
    "        model = AutoModelForTokenClassification.from_pretrained(str(mc.directory))\n",
    "    # (seqs, sequence length in tokens, classes)\n",
    "    y_proba = predict_ner_proba(\n",
    "        ds=ds,\n",
    "        model=model,\n",
    "        batch_size=mc.batch_size,\n",
    "        device=device,\n",
    "    )\n",
    "    print(f\"{y_proba.shape} y_proba[0][0]={y_proba[0][0]}\")\n",
    "    # token-to-word mapping (document, word): (models, classes)\n",
    "    for i in range(len(y_proba)):\n",
    "        d=int(ds.document_ids[i])\n",
    "        for j in range(len(y_proba[i])):\n",
    "            w = ds.word_ids[i][j]\n",
    "            if w is None:\n",
    "                continue\n",
    "            w+=ds.word_ranges[i][0]\n",
    "            # collect all predictions including duplicate doc-word pairs\n",
    "            if conf.duplicate_dt_strategy==\"first\" and len(dwm_map[(d,w,m)])!=0:\n",
    "                continue\n",
    "            dwm_map[(d,w,m)].append(y_proba[i][j])\n",
    "dw_map=defaultdict(list)\n",
    "for k,v in dwm_map.items():\n",
    "    d,w,m = k\n",
    "    if conf.duplicate_dt_strategy==\"min_outside_proba\":\n",
    "        i = np.argmin(v, axis=0)[0]  # `Outside` label at index 0\n",
    "        dw_map[(d,w)].append(v[i].flatten().tolist())\n",
    "    else:\n",
    "        dw_map[(d,w)].append(np.mean(v, axis=0).flatten().tolist()) "
   ]
  },
  {
   "cell_type": "code",
   "execution_count": 7,
   "id": "8e9a8de3",
   "metadata": {
    "execution": {
     "iopub.execute_input": "2024-04-23T23:29:29.291150Z",
     "iopub.status.busy": "2024-04-23T23:29:29.290833Z",
     "iopub.status.idle": "2024-04-23T23:29:29.648238Z",
     "shell.execute_reply": "2024-04-23T23:29:29.647126Z"
    },
    "papermill": {
     "duration": 0.365843,
     "end_time": "2024-04-23T23:29:29.650496",
     "exception": false,
     "start_time": "2024-04-23T23:29:29.284653",
     "status": "completed"
    },
    "tags": []
   },
   "outputs": [
    {
     "data": {
      "text/plain": [
       "120"
      ]
     },
     "execution_count": 7,
     "metadata": {},
     "output_type": "execute_result"
    }
   ],
   "source": [
    "del texts, dids, ds, model, tokenizer, dwm_map\n",
    "gc.collect()"
   ]
  },
  {
   "cell_type": "code",
   "execution_count": 8,
   "id": "6c03333c",
   "metadata": {
    "execution": {
     "iopub.execute_input": "2024-04-23T23:29:29.664256Z",
     "iopub.status.busy": "2024-04-23T23:29:29.663903Z",
     "iopub.status.idle": "2024-04-23T23:29:29.785107Z",
     "shell.execute_reply": "2024-04-23T23:29:29.783927Z"
    },
    "papermill": {
     "duration": 0.131351,
     "end_time": "2024-04-23T23:29:29.788044",
     "exception": false,
     "start_time": "2024-04-23T23:29:29.656693",
     "status": "completed"
    },
    "tags": []
   },
   "outputs": [],
   "source": [
    "sub = blend_predictions(\n",
    "    weights=np.array([[mc.weight for mc in conf.models]], dtype=np.float32),\n",
    "    dw_map=dw_map,\n",
    "    outside_label_threshold=conf.outside_label_threshold,\n",
    ")"
   ]
  },
  {
   "cell_type": "markdown",
   "id": "09d55fd1",
   "metadata": {
    "papermill": {
     "duration": 0.00606,
     "end_time": "2024-04-23T23:29:29.800694",
     "exception": false,
     "start_time": "2024-04-23T23:29:29.794634",
     "status": "completed"
    },
    "tags": []
   },
   "source": [
    "# Postprocess"
   ]
  },
  {
   "cell_type": "code",
   "execution_count": 9,
   "id": "733ebb08",
   "metadata": {
    "execution": {
     "iopub.execute_input": "2024-04-23T23:29:29.814519Z",
     "iopub.status.busy": "2024-04-23T23:29:29.814141Z",
     "iopub.status.idle": "2024-04-23T23:29:29.827120Z",
     "shell.execute_reply": "2024-04-23T23:29:29.826187Z"
    },
    "papermill": {
     "duration": 0.022582,
     "end_time": "2024-04-23T23:29:29.829344",
     "exception": false,
     "start_time": "2024-04-23T23:29:29.806762",
     "status": "completed"
    },
    "tags": []
   },
   "outputs": [],
   "source": [
    "if conf.postprocess_phone or conf.postprocess_email or conf.postprocess_url:\n",
    "    dw_map={}\n",
    "    for t in sub.itertuples():\n",
    "        document = int(getattr(t, \"document\"))\n",
    "        token = int(getattr(t, \"token\"))\n",
    "        dw_map[(document,token)] = str(getattr(t, \"label\"))\n",
    "    sp_tokenizer = English().tokenizer\n",
    "\n",
    "\n",
    "    def postprocess_regex(label, fn) -> None:\n",
    "        for row in data:\n",
    "            did = row[\"document\"]\n",
    "            text = row[\"full_text\"]\n",
    "            ms = fn(text)\n",
    "            if len(ms)==0:\n",
    "                continue\n",
    "            sp_tokens = sp_tokenizer(text)\n",
    "            for m in ms:\n",
    "                beginning = True\n",
    "                j = 0\n",
    "                while j < len(sp_tokens):\n",
    "                    k = (did, j)\n",
    "                    # do not alter model predictions. Only add new (doc,token) pairs. \n",
    "                    if m.start <= sp_tokens[j].idx < m.end and k not in dw_map:\n",
    "                        if beginning:\n",
    "                            dw_map[k] = f\"B-{label}\"\n",
    "                            beginning = False\n",
    "                        else:\n",
    "                            dw_map[k] = f\"I-{label}\"\n",
    "                    j += 1\n",
    "                \n",
    "    \n",
    "    \n",
    "    \n",
    "    if conf.postprocess_phone:\n",
    "        print(\"postprocess_phone\")\n",
    "        postprocess_regex(label=\"PHONE_NUM\", fn=snlp.find_phone_number)\n",
    "    if conf.postprocess_email:\n",
    "        print(\"postprocess_email\")\n",
    "        postprocess_regex(label=\"EMAIL\", fn=snlp.find_email)\n",
    "    if conf.postprocess_url:\n",
    "        print(\"postprocess_url\")\n",
    "        postprocess_regex(label=\"URL_PERSONAL\", fn=snlp.find_url)\n",
    "    rows = []\n",
    "    for k,v in dw_map.items():\n",
    "        rows.append({\"document\": k[0], \"token\": k[1], \"label\": v})\n",
    "    sub = pd.DataFrame.from_records(rows)\n",
    "    sub[\"row_id\"]=sub.index"
   ]
  },
  {
   "cell_type": "code",
   "execution_count": 10,
   "id": "11f3b228",
   "metadata": {
    "execution": {
     "iopub.execute_input": "2024-04-23T23:29:29.843089Z",
     "iopub.status.busy": "2024-04-23T23:29:29.842749Z",
     "iopub.status.idle": "2024-04-23T23:29:29.870648Z",
     "shell.execute_reply": "2024-04-23T23:29:29.869451Z"
    },
    "papermill": {
     "duration": 0.037628,
     "end_time": "2024-04-23T23:29:29.873192",
     "exception": false,
     "start_time": "2024-04-23T23:29:29.835564",
     "status": "completed"
    },
    "tags": []
   },
   "outputs": [
    {
     "name": "stdout",
     "output_type": "stream",
     "text": [
      "<class 'pandas.core.frame.DataFrame'>\n",
      "RangeIndex: 53 entries, 0 to 52\n",
      "Data columns (total 4 columns):\n",
      " #   Column    Non-Null Count  Dtype \n",
      "---  ------    --------------  ----- \n",
      " 0   document  53 non-null     int64 \n",
      " 1   token     53 non-null     int64 \n",
      " 2   label     53 non-null     object\n",
      " 3   row_id    53 non-null     int64 \n",
      "dtypes: int64(3), object(1)\n",
      "memory usage: 1.8+ KB\n"
     ]
    }
   ],
   "source": [
    "sub.to_csv(\"submission.csv\", index=False)\n",
    "sub.info()"
   ]
  },
  {
   "cell_type": "code",
   "execution_count": 11,
   "id": "809722ae",
   "metadata": {
    "execution": {
     "iopub.execute_input": "2024-04-23T23:29:29.888436Z",
     "iopub.status.busy": "2024-04-23T23:29:29.888076Z",
     "iopub.status.idle": "2024-04-23T23:29:29.901625Z",
     "shell.execute_reply": "2024-04-23T23:29:29.900679Z"
    },
    "papermill": {
     "duration": 0.023789,
     "end_time": "2024-04-23T23:29:29.903691",
     "exception": false,
     "start_time": "2024-04-23T23:29:29.879902",
     "status": "completed"
    },
    "tags": []
   },
   "outputs": [
    {
     "data": {
      "text/html": [
       "<div>\n",
       "<style scoped>\n",
       "    .dataframe tbody tr th:only-of-type {\n",
       "        vertical-align: middle;\n",
       "    }\n",
       "\n",
       "    .dataframe tbody tr th {\n",
       "        vertical-align: top;\n",
       "    }\n",
       "\n",
       "    .dataframe thead th {\n",
       "        text-align: right;\n",
       "    }\n",
       "</style>\n",
       "<table border=\"1\" class=\"dataframe\">\n",
       "  <thead>\n",
       "    <tr style=\"text-align: right;\">\n",
       "      <th></th>\n",
       "      <th>document</th>\n",
       "      <th>token</th>\n",
       "      <th>label</th>\n",
       "      <th>row_id</th>\n",
       "    </tr>\n",
       "  </thead>\n",
       "  <tbody>\n",
       "    <tr>\n",
       "      <th>0</th>\n",
       "      <td>7</td>\n",
       "      <td>6</td>\n",
       "      <td>B-STREET_ADDRESS</td>\n",
       "      <td>0</td>\n",
       "    </tr>\n",
       "    <tr>\n",
       "      <th>1</th>\n",
       "      <td>7</td>\n",
       "      <td>9</td>\n",
       "      <td>B-NAME_STUDENT</td>\n",
       "      <td>1</td>\n",
       "    </tr>\n",
       "    <tr>\n",
       "      <th>2</th>\n",
       "      <td>7</td>\n",
       "      <td>10</td>\n",
       "      <td>I-NAME_STUDENT</td>\n",
       "      <td>2</td>\n",
       "    </tr>\n",
       "    <tr>\n",
       "      <th>3</th>\n",
       "      <td>7</td>\n",
       "      <td>479</td>\n",
       "      <td>B-STREET_ADDRESS</td>\n",
       "      <td>3</td>\n",
       "    </tr>\n",
       "    <tr>\n",
       "      <th>4</th>\n",
       "      <td>7</td>\n",
       "      <td>482</td>\n",
       "      <td>B-NAME_STUDENT</td>\n",
       "      <td>4</td>\n",
       "    </tr>\n",
       "    <tr>\n",
       "      <th>5</th>\n",
       "      <td>7</td>\n",
       "      <td>483</td>\n",
       "      <td>I-NAME_STUDENT</td>\n",
       "      <td>5</td>\n",
       "    </tr>\n",
       "    <tr>\n",
       "      <th>6</th>\n",
       "      <td>7</td>\n",
       "      <td>610</td>\n",
       "      <td>I-PHONE_NUM</td>\n",
       "      <td>6</td>\n",
       "    </tr>\n",
       "    <tr>\n",
       "      <th>7</th>\n",
       "      <td>7</td>\n",
       "      <td>738</td>\n",
       "      <td>B-USERNAME</td>\n",
       "      <td>7</td>\n",
       "    </tr>\n",
       "    <tr>\n",
       "      <th>8</th>\n",
       "      <td>7</td>\n",
       "      <td>741</td>\n",
       "      <td>B-NAME_STUDENT</td>\n",
       "      <td>8</td>\n",
       "    </tr>\n",
       "    <tr>\n",
       "      <th>9</th>\n",
       "      <td>7</td>\n",
       "      <td>742</td>\n",
       "      <td>I-NAME_STUDENT</td>\n",
       "      <td>9</td>\n",
       "    </tr>\n",
       "  </tbody>\n",
       "</table>\n",
       "</div>"
      ],
      "text/plain": [
       "   document  token             label  row_id\n",
       "0         7      6  B-STREET_ADDRESS       0\n",
       "1         7      9    B-NAME_STUDENT       1\n",
       "2         7     10    I-NAME_STUDENT       2\n",
       "3         7    479  B-STREET_ADDRESS       3\n",
       "4         7    482    B-NAME_STUDENT       4\n",
       "5         7    483    I-NAME_STUDENT       5\n",
       "6         7    610       I-PHONE_NUM       6\n",
       "7         7    738        B-USERNAME       7\n",
       "8         7    741    B-NAME_STUDENT       8\n",
       "9         7    742    I-NAME_STUDENT       9"
      ]
     },
     "execution_count": 11,
     "metadata": {},
     "output_type": "execute_result"
    }
   ],
   "source": [
    "sub.head(10)"
   ]
  },
  {
   "cell_type": "markdown",
   "id": "b0647605",
   "metadata": {
    "papermill": {
     "duration": 0.005632,
     "end_time": "2024-04-23T23:29:29.915213",
     "exception": false,
     "start_time": "2024-04-23T23:29:29.909581",
     "status": "completed"
    },
    "tags": []
   },
   "source": [
    "# Debug"
   ]
  },
  {
   "cell_type": "code",
   "execution_count": 12,
   "id": "69f3ce7a",
   "metadata": {
    "execution": {
     "iopub.execute_input": "2024-04-23T23:29:29.928057Z",
     "iopub.status.busy": "2024-04-23T23:29:29.927783Z",
     "iopub.status.idle": "2024-04-23T23:29:29.931804Z",
     "shell.execute_reply": "2024-04-23T23:29:29.930836Z"
    },
    "papermill": {
     "duration": 0.012924,
     "end_time": "2024-04-23T23:29:29.933917",
     "exception": false,
     "start_time": "2024-04-23T23:29:29.920993",
     "status": "completed"
    },
    "tags": []
   },
   "outputs": [],
   "source": [
    "#!python -V && which python\n",
    "#!pip list"
   ]
  }
 ],
 "metadata": {
  "kaggle": {
   "accelerator": "gpu",
   "dataSources": [
    {
     "databundleVersionId": 7500999,
     "sourceId": 66653,
     "sourceType": "competition"
    },
    {
     "datasetId": 960933,
     "sourceId": 8181414,
     "sourceType": "datasetVersion"
    },
    {
     "datasetId": 4463009,
     "sourceId": 8210202,
     "sourceType": "datasetVersion"
    }
   ],
   "dockerImageVersionId": 30648,
   "isGpuEnabled": true,
   "isInternetEnabled": false,
   "language": "python",
   "sourceType": "notebook"
  },
  "kernelspec": {
   "display_name": "Python 3",
   "language": "python",
   "name": "python3"
  },
  "language_info": {
   "codemirror_mode": {
    "name": "ipython",
    "version": 3
   },
   "file_extension": ".py",
   "mimetype": "text/x-python",
   "name": "python",
   "nbconvert_exporter": "python",
   "pygments_lexer": "ipython3",
   "version": "3.10.13"
  },
  "papermill": {
   "default_parameters": {},
   "duration": 31.25709,
   "end_time": "2024-04-23T23:29:32.633591",
   "environment_variables": {},
   "exception": null,
   "input_path": "__notebook__.ipynb",
   "output_path": "__notebook__.ipynb",
   "parameters": {},
   "start_time": "2024-04-23T23:29:01.376501",
   "version": "2.5.0"
  }
 },
 "nbformat": 4,
 "nbformat_minor": 5
}
