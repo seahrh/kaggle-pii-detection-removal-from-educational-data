{
 "cells": [
  {
   "cell_type": "code",
   "execution_count": 7,
   "id": "24651777-410e-4d73-9c61-65147cbb4924",
   "metadata": {},
   "outputs": [
    {
     "name": "stdout",
     "output_type": "stream",
     "text": [
      "int16, min=-32768, max=32767\n"
     ]
    }
   ],
   "source": [
    "import os\n",
    "import json\n",
    "import gc\n",
    "from datetime import datetime\n",
    "from pathlib import Path\n",
    "import numpy as np\n",
    "import pandas as pd\n",
    "from sklearn.model_selection import StratifiedKFold\n",
    "from tqdm import tqdm\n",
    "from typing import Dict, List, Set, Tuple, NamedTuple, Callable\n",
    "import scml\n",
    "from scml import pandasx as pdx\n",
    "from mylib.ner import NerDataset\n",
    "tim = scml.Timer()\n",
    "tim.start()\n",
    "os.environ[\"TOKENIZERS_PARALLELISM\"] = \"false\"\n",
    "percentiles=[.01, .05, .1, .2, .3, .4, .5, .6, .7, .8, .9, .95, .99]\n",
    "pd.set_option(\"max_info_columns\", 9999)\n",
    "pd.set_option(\"display.max_columns\", 9999)\n",
    "pd.set_option(\"display.max_rows\", 9999)\n",
    "pd.set_option('max_colwidth', 9999)\n",
    "tqdm.pandas()\n",
    "scml.seed_everything()\n",
    "info = np.iinfo(np.int16)\n",
    "print(f\"int16, min={info.min}, max={info.max}\")"
   ]
  },
  {
   "cell_type": "code",
   "execution_count": 8,
   "id": "ad5032da-c7f5-4836-9993-c832b286db0a",
   "metadata": {},
   "outputs": [
    {
     "name": "stdout",
     "output_type": "stream",
     "text": [
      "len(data)=4,367\n",
      "data[0]={'tokens': [' ', 'Title', ':', 'Home', 'at', '958', 'Ryan', 'Ports', ',', 'Jamesstad', ',', 'FL', '88807', '\\r\\n\\r\\n', 'Living', 'at', '958', 'Ryan', 'Ports', 'in', 'the', 'quaint', 'and', 'picturesque', 'community', 'of', 'Jamesstad', ',', 'Florida', ',', 'is', 'an', 'experience', 'that', 'I', 'cherish', 'every', 'day', '.', 'Nestled', 'amidst', 'lush', 'greenery', 'and', 'tranquil', 'surroundings', ',', 'this', 'address', 'offers', 'a', 'unique', 'blend', 'of', 'peace', ',', 'comfort', ',', 'and', 'convenience', 'that', 'I', 'have', 'grown', 'to', 'appreciate', '.', '\\r\\n\\r\\n', 'The', 'location', 'of', 'my', 'residence', 'is', 'one', 'of', 'its', 'most', 'significant', 'advantages', '.', 'Tucked', 'away', 'from', 'the', 'hustle', 'and', 'bustle', 'of', 'city', 'life', ',', 'Jamesstad', 'provides', 'a', 'serene', 'environment', 'where', 'I', 'can', 'unwind', 'and', 'rejuvenate', '.', 'The', 'soothing', 'sounds', 'of', 'nature', '-', 'birds', 'chirping', ',', 'leaves', 'rustling', 'in', 'the', 'wind', ',', 'and', 'the', 'gentle', 'flow', 'of', 'nearby', 'streams', '-', 'create', 'an', 'ambiance', 'that', 'is', 'both', 'calming', 'and', 'inspiring', '.', '\\r\\n\\r\\n', 'Moreover', ',', 'my', 'neighborhood', 'at', 'Ryan', 'Ports', 'offers', 'a', 'strong', 'sense', 'of', 'community', '.', 'Neighbors', 'are', 'friendly', 'and', 'always', 'ready', 'to', 'lend', 'a', 'helping', 'hand', '.', 'We', 'often', 'gather', 'for', 'neighborhood', 'events', ',', 'fostering', 'a', 'spirit', 'of', 'camaraderie', 'and', 'belonging', '.', 'These', 'connections', 'have', 'enriched', 'my', 'life', 'in', 'ways', 'I', 'could', 'never', 'have', 'imagined', '.', '\\r\\n\\r\\n', 'My', 'favorite', 'place', 'in', 'the', 'world', ',', 'however', ',', 'lies', 'far', 'beyond', 'Jamesstad', '-', 'it', 'is', 'the', 'Great', 'Barrier', 'Reef', 'in', 'Queensland', ',', 'Australia', '.', 'This', 'natural', 'wonder', 'is', 'a', 'testament', 'to', 'the', 'beauty', 'and', 'diversity', 'of', 'our', 'planet', '.', 'The', 'vibrant', 'colors', 'and', 'intricate', 'patterns', 'of', 'its', 'coral', 'formations', 'are', 'truly', 'breathtaking', '.', 'Swimming', 'among', 'the', 'myriad', 'of', 'fish', 'species', ',', 'each', 'with', 'their', 'unique', 'shapes', 'and', 'behaviors', ',', 'is', 'an', 'unforgettable', 'experience', '.', '\\r\\n\\r\\n', 'The', 'Great', 'Barrier', 'Reef', 'is', 'also', 'a', 'crucial', 'ecosystem', 'that', 'supports', 'various', 'marine', 'organisms', ',', 'providing', 'food', 'and', 'shelter', 'for', 'countless', 'creatures', '.', 'Its', 'preservation', 'is', 'essential', 'not', 'only', 'for', 'the', 'environment', 'but', 'also', 'for', 'future', 'generations', '.', 'Visiting', 'this', 'place', 'has', 'instilled', 'in', 'me', 'a', 'deep', 'appreciation', 'for', 'the', 'natural', 'world', 'and', 'my', 'role', 'in', 'protecting', 'it', '.', '\\r\\n\\r\\n', 'In', 'conclusion', ',', 'living', 'at', '958', 'Ryan', 'Ports', ',', 'Jamesstad', ',', 'FL', '88807', ',', 'offers', 'me', 'peace', ',', 'community', ',', 'and', 'comfort', '.', 'Meanwhile', ',', 'my', 'favorite', 'place', 'in', 'the', 'world', '-', 'the', 'Great', 'Barrier', 'Reef', '-', 'is', 'a', 'reminder', 'of', 'the', 'wonders', 'our', 'planet', 'holds', 'and', 'the', 'importance', 'of', 'preserving', 'them', 'for', 'future', 'generations', '.'], 'trailing_whitespace': [False, False, True, True, True, True, True, False, True, False, True, True, False, False, True, True, True, True, True, True, True, True, True, True, True, True, False, True, False, True, True, True, True, True, True, True, True, False, True, True, True, True, True, True, True, False, True, True, True, True, True, True, True, True, False, True, False, True, True, True, True, True, True, True, True, False, False, False, True, True, True, True, True, True, True, True, True, True, True, False, True, True, True, True, True, True, True, True, True, True, False, True, True, True, True, True, True, True, True, True, True, True, False, True, True, True, True, True, True, True, True, False, True, True, True, True, True, False, True, True, True, True, True, True, True, True, True, True, True, True, True, True, True, True, True, False, False, False, False, True, True, True, True, True, True, True, True, True, True, True, False, True, True, True, True, True, True, True, True, True, True, True, False, True, True, True, True, True, True, False, True, True, True, True, True, True, True, False, True, True, True, True, True, True, True, True, True, True, True, True, True, False, False, False, True, True, True, True, True, False, True, False, True, True, True, True, True, True, True, True, True, True, True, True, True, False, True, False, True, True, True, True, True, True, True, True, True, True, True, True, True, True, False, True, True, True, True, True, True, True, True, True, True, True, True, True, False, True, True, True, True, True, True, True, False, True, True, True, True, True, True, True, False, True, True, True, True, False, False, False, True, True, True, True, True, True, True, True, True, True, True, True, True, False, True, True, True, True, True, True, True, False, True, True, True, True, True, True, True, True, True, True, True, True, True, True, False, True, True, True, True, True, True, True, True, True, True, True, True, True, True, True, True, True, True, True, True, False, False, False, True, False, True, True, True, True, True, False, True, False, True, True, False, True, True, True, False, True, False, True, True, False, True, False, True, True, True, True, True, True, True, True, True, True, True, True, True, True, True, True, True, True, True, True, True, True, True, True, True, True, True, True, True, True, False, False], 'labels': ['O', 'O', 'O', 'O', 'O', 'B-STREET_ADDRESS', 'I-STREET_ADDRESS', 'I-STREET_ADDRESS', 'I-STREET_ADDRESS', 'I-STREET_ADDRESS', 'I-STREET_ADDRESS', 'I-STREET_ADDRESS', 'I-STREET_ADDRESS', 'O', 'O', 'O', 'B-STREET_ADDRESS', 'I-STREET_ADDRESS', 'I-STREET_ADDRESS', 'O', 'O', 'O', 'O', 'O', 'O', 'O', 'O', 'O', 'O', 'O', 'O', 'O', 'O', 'O', 'O', 'O', 'O', 'O', 'O', 'O', 'O', 'O', 'O', 'O', 'O', 'O', 'O', 'O', 'O', 'O', 'O', 'O', 'O', 'O', 'O', 'O', 'O', 'O', 'O', 'O', 'O', 'O', 'O', 'O', 'O', 'O', 'O', 'O', 'O', 'O', 'O', 'O', 'O', 'O', 'O', 'O', 'O', 'O', 'O', 'O', 'O', 'O', 'O', 'O', 'O', 'O', 'O', 'O', 'O', 'O', 'O', 'O', 'O', 'O', 'O', 'O', 'O', 'O', 'O', 'O', 'O', 'O', 'O', 'O', 'O', 'O', 'O', 'O', 'O', 'O', 'O', 'O', 'O', 'O', 'O', 'O', 'O', 'O', 'O', 'O', 'O', 'O', 'O', 'O', 'O', 'O', 'O', 'O', 'O', 'O', 'O', 'O', 'O', 'O', 'O', 'O', 'O', 'O', 'O', 'O', 'O', 'O', 'O', 'B-STREET_ADDRESS', 'I-STREET_ADDRESS', 'O', 'O', 'O', 'O', 'O', 'O', 'O', 'O', 'O', 'O', 'O', 'O', 'O', 'O', 'O', 'O', 'O', 'O', 'O', 'O', 'O', 'O', 'O', 'O', 'O', 'O', 'O', 'O', 'O', 'O', 'O', 'O', 'O', 'O', 'O', 'O', 'O', 'O', 'O', 'O', 'O', 'O', 'O', 'O', 'O', 'O', 'O', 'O', 'O', 'O', 'O', 'O', 'O', 'O', 'O', 'O', 'O', 'O', 'O', 'O', 'O', 'O', 'O', 'O', 'O', 'O', 'O', 'O', 'O', 'O', 'O', 'O', 'O', 'O', 'O', 'O', 'O', 'O', 'O', 'O', 'O', 'O', 'O', 'O', 'O', 'O', 'O', 'O', 'O', 'O', 'O', 'O', 'O', 'O', 'O', 'O', 'O', 'O', 'O', 'O', 'O', 'O', 'O', 'O', 'O', 'O', 'O', 'O', 'O', 'O', 'O', 'O', 'O', 'O', 'O', 'O', 'O', 'O', 'O', 'O', 'O', 'O', 'O', 'O', 'O', 'O', 'O', 'O', 'O', 'O', 'O', 'O', 'O', 'O', 'O', 'O', 'O', 'O', 'O', 'O', 'O', 'O', 'O', 'O', 'O', 'O', 'O', 'O', 'O', 'O', 'O', 'O', 'O', 'O', 'O', 'O', 'O', 'O', 'O', 'O', 'O', 'O', 'O', 'O', 'O', 'O', 'O', 'O', 'O', 'O', 'O', 'O', 'O', 'O', 'O', 'O', 'O', 'O', 'O', 'O', 'O', 'O', 'O', 'O', 'O', 'O', 'O', 'O', 'O', 'O', 'B-STREET_ADDRESS', 'I-STREET_ADDRESS', 'I-STREET_ADDRESS', 'I-STREET_ADDRESS', 'I-STREET_ADDRESS', 'I-STREET_ADDRESS', 'I-STREET_ADDRESS', 'I-STREET_ADDRESS', 'O', 'O', 'O', 'O', 'O', 'O', 'O', 'O', 'O', 'O', 'O', 'O', 'O', 'O', 'O', 'O', 'O', 'O', 'O', 'O', 'O', 'O', 'O', 'O', 'O', 'O', 'O', 'O', 'O', 'O', 'O', 'O', 'O', 'O', 'O', 'O', 'O', 'O', 'O', 'O', 'O', 'O', 'O']}\n"
     ]
    }
   ],
   "source": [
    "with open(\"input/valentinwerner/all_labels.json\") as f:\n",
    "    data = json.load(f)\n",
    "print(f\"len(data)={len(data):,}\\ndata[0]={data[0]}\")"
   ]
  },
  {
   "cell_type": "code",
   "execution_count": 9,
   "id": "63a8c225-1c60-4a14-a2fb-61a8794611d2",
   "metadata": {},
   "outputs": [],
   "source": [
    "for i, row in enumerate(data):\n",
    "    row[\"document\"]=f\"vw_{i+1}\"\n",
    "with open(\"output/vwv3.json\", \"w\") as f:\n",
    "    json.dump(data, f)"
   ]
  },
  {
   "cell_type": "code",
   "execution_count": 10,
   "id": "fcd213f4-2445-4613-9984-4db05763449e",
   "metadata": {},
   "outputs": [
    {
     "name": "stdout",
     "output_type": "stream",
     "text": [
      "Total time taken 0:00:00.690773\n"
     ]
    }
   ],
   "source": [
    "tim.stop()\n",
    "print(f\"Total time taken {str(tim.elapsed)}\")"
   ]
  }
 ],
 "metadata": {
  "kernelspec": {
   "display_name": "Python 3 (ipykernel)",
   "language": "python",
   "name": "python3"
  },
  "language_info": {
   "codemirror_mode": {
    "name": "ipython",
    "version": 3
   },
   "file_extension": ".py",
   "mimetype": "text/x-python",
   "name": "python",
   "nbconvert_exporter": "python",
   "pygments_lexer": "ipython3",
   "version": "3.12.1"
  }
 },
 "nbformat": 4,
 "nbformat_minor": 5
}
