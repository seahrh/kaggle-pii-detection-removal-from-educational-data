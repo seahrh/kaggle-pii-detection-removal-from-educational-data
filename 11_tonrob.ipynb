{
 "cells": [
  {
   "cell_type": "code",
   "execution_count": 4,
   "id": "24651777-410e-4d73-9c61-65147cbb4924",
   "metadata": {},
   "outputs": [
    {
     "name": "stdout",
     "output_type": "stream",
     "text": [
      "int16, min=-32768, max=32767\n"
     ]
    }
   ],
   "source": [
    "import os\n",
    "import json\n",
    "import gc\n",
    "from datetime import datetime\n",
    "from pathlib import Path\n",
    "import numpy as np\n",
    "import pandas as pd\n",
    "from sklearn.model_selection import StratifiedKFold\n",
    "from tqdm import tqdm\n",
    "from typing import Dict, List, Set, Tuple, NamedTuple, Callable\n",
    "import scml\n",
    "from scml import pandasx as pdx\n",
    "from mylib.ner import NerDataset\n",
    "tim = scml.Timer()\n",
    "tim.start()\n",
    "os.environ[\"TOKENIZERS_PARALLELISM\"] = \"false\"\n",
    "percentiles=[.01, .05, .1, .2, .3, .4, .5, .6, .7, .8, .9, .95, .99]\n",
    "pd.set_option(\"max_info_columns\", 9999)\n",
    "pd.set_option(\"display.max_columns\", 9999)\n",
    "pd.set_option(\"display.max_rows\", 9999)\n",
    "pd.set_option('max_colwidth', 9999)\n",
    "tqdm.pandas()\n",
    "scml.seed_everything()\n",
    "info = np.iinfo(np.int16)\n",
    "print(f\"int16, min={info.min}, max={info.max}\")"
   ]
  },
  {
   "cell_type": "code",
   "execution_count": 5,
   "id": "ad5032da-c7f5-4836-9993-c832b286db0a",
   "metadata": {},
   "outputs": [
    {
     "name": "stdout",
     "output_type": "stream",
     "text": [
      "len(data)=1,850\n",
      "data[0]={'document': 0, 'full_text': 'Leveraging Lean Methodology to Optimize Hospital Operations: A Case Study by Richard.\\n\\nAs a hospital administrator, I am constantly seeking ways to improve the efficiency and quality of care provided by my institution. With this goal in mind, I decided to implement Lean methodology, a data-driven approach to eliminating waste and optimizing processes, to address the complex challenge of reducing hospital wait times and improving patient satisfaction.\\n\\nThe first step in implementing Lean methodology was to identify the key stakeholders and assemble a cross-functional team. This team included representatives from nursing, medical staff, administration, and support services. Together, we mapped out the patient journey from admission to discharge, identifying areas of waste and inefficiency. This process involved direct observation of the value stream, as well as data analysis to quantify the impact of these inefficiencies.\\n\\nOne of the key insights gained from this process was the high degree of variability in patient flow. This variability was driven by a number of factors, including the acuity of patients, the availability of resources, and the unpredictable nature of medical emergencies. To address this variability, the team implemented a number of Lean tools and techniques, including standardized work, visual management, and continuous flow.\\n\\nStandardized work involved defining the most efficient and effective way to perform each task in the patient journey. This involved documenting the current state processes, identifying best practices, and creating standard work instructions. By implementing standardized work, we were able to reduce variability and ensure that all team members were following the same processes.\\n\\nVisual management involved creating visual controls to make the status of work visible to all team members. This included the use of andon boards, which allowed team members to signal when they needed assistance or when a process was blocked. By making the status of work visible, we were able to quickly identify and address issues, reducing delays and improving patient flow.\\n\\nContinuous flow involved reorganizing the physical layout of the hospital to facilitate the smooth movement of patients and staff. This involved creating dedicated work cells for specific tasks, such as triage, registration, and treatment. By creating dedicated work cells, we were able to reduce wait times and improve the overall patient experience.\\n\\nThroughout the implementation process, the team met regularly to review progress, identify areas for improvement, and adjust the implementation plan as needed. This iterative approach allowed us to continuously refine our processes, incorporating feedback from frontline staff and patients.\\n\\nThe results of the Lean implementation were striking. We were able to reduce hospital wait times by over 50%, resulting in improved patient satisfaction and increased throughput. Additionally, the standardized work and visual management tools helped to reduce variability and improve the consistency of care.\\n\\nHowever, there were also some potential limitations to the Lean approach. Lean methodology is highly dependent on data and measurement, which can be challenging in a dynamic and unpredictable environment like a hospital. Additionally, the focus on efficiency and standardization can sometimes overlook the importance of individualized care and patient needs.\\n\\nDespite these potential limitations, the Lean implementation was a resounding success. By working closely with frontline staff and patients, we were able to identify areas for improvement, implement data-driven solutions, and continuously refine our processes. Through this approach, we were able to significantly improve the efficiency and quality of care provided by our hospital, ultimately leading to better outcomes for our patients.\\n\\nIn conclusion, Lean methodology provides a powerful tool for addressing complex challenges in the healthcare industry. By focusing on data-driven solutions, standardization, and continuous improvement, hospital administrators can optimize processes, reduce waste, and improve patient outcomes. However, it is important to balance the focus on efficiency with the need for individualized care and patient needs. By working closely with frontline staff and patients, hospital administrators can ensure that Lean implementations are tailored to the unique needs of their institution, leading to sustainable and impactful improvements in care.\\n\\nRichard', 'tokens': ['Leveraging', 'Lean', 'Methodology', 'to', 'Optimize', 'Hospital', 'Operations', ':', 'A', 'Case', 'Study', 'by', 'Richard', '.', '\\n\\n', 'As', 'a', 'hospital', 'administrator', ',', 'I', 'am', 'constantly', 'seeking', 'ways', 'to', 'improve', 'the', 'efficiency', 'and', 'quality', 'of', 'care', 'provided', 'by', 'my', 'institution', '.', 'With', 'this', 'goal', 'in', 'mind', ',', 'I', 'decided', 'to', 'implement', 'Lean', 'methodology', ',', 'a', 'data', '-', 'driven', 'approach', 'to', 'eliminating', 'waste', 'and', 'optimizing', 'processes', ',', 'to', 'address', 'the', 'complex', 'challenge', 'of', 'reducing', 'hospital', 'wait', 'times', 'and', 'improving', 'patient', 'satisfaction', '.', '\\n\\n', 'The', 'first', 'step', 'in', 'implementing', 'Lean', 'methodology', 'was', 'to', 'identify', 'the', 'key', 'stakeholders', 'and', 'assemble', 'a', 'cross', '-', 'functional', 'team', '.', 'This', 'team', 'included', 'representatives', 'from', 'nursing', ',', 'medical', 'staff', ',', 'administration', ',', 'and', 'support', 'services', '.', 'Together', ',', 'we', 'mapped', 'out', 'the', 'patient', 'journey', 'from', 'admission', 'to', 'discharge', ',', 'identifying', 'areas', 'of', 'waste', 'and', 'inefficiency', '.', 'This', 'process', 'involved', 'direct', 'observation', 'of', 'the', 'value', 'stream', ',', 'as', 'well', 'as', 'data', 'analysis', 'to', 'quantify', 'the', 'impact', 'of', 'these', 'inefficiencies', '.', '\\n\\n', 'One', 'of', 'the', 'key', 'insights', 'gained', 'from', 'this', 'process', 'was', 'the', 'high', 'degree', 'of', 'variability', 'in', 'patient', 'flow', '.', 'This', 'variability', 'was', 'driven', 'by', 'a', 'number', 'of', 'factors', ',', 'including', 'the', 'acuity', 'of', 'patients', ',', 'the', 'availability', 'of', 'resources', ',', 'and', 'the', 'unpredictable', 'nature', 'of', 'medical', 'emergencies', '.', 'To', 'address', 'this', 'variability', ',', 'the', 'team', 'implemented', 'a', 'number', 'of', 'Lean', 'tools', 'and', 'techniques', ',', 'including', 'standardized', 'work', ',', 'visual', 'management', ',', 'and', 'continuous', 'flow', '.', '\\n\\n', 'Standardized', 'work', 'involved', 'defining', 'the', 'most', 'efficient', 'and', 'effective', 'way', 'to', 'perform', 'each', 'task', 'in', 'the', 'patient', 'journey', '.', 'This', 'involved', 'documenting', 'the', 'current', 'state', 'processes', ',', 'identifying', 'best', 'practices', ',', 'and', 'creating', 'standard', 'work', 'instructions', '.', 'By', 'implementing', 'standardized', 'work', ',', 'we', 'were', 'able', 'to', 'reduce', 'variability', 'and', 'ensure', 'that', 'all', 'team', 'members', 'were', 'following', 'the', 'same', 'processes', '.', '\\n\\n', 'Visual', 'management', 'involved', 'creating', 'visual', 'controls', 'to', 'make', 'the', 'status', 'of', 'work', 'visible', 'to', 'all', 'team', 'members', '.', 'This', 'included', 'the', 'use', 'of', 'andon', 'boards', ',', 'which', 'allowed', 'team', 'members', 'to', 'signal', 'when', 'they', 'needed', 'assistance', 'or', 'when', 'a', 'process', 'was', 'blocked', '.', 'By', 'making', 'the', 'status', 'of', 'work', 'visible', ',', 'we', 'were', 'able', 'to', 'quickly', 'identify', 'and', 'address', 'issues', ',', 'reducing', 'delays', 'and', 'improving', 'patient', 'flow', '.', '\\n\\n', 'Continuous', 'flow', 'involved', 'reorganizing', 'the', 'physical', 'layout', 'of', 'the', 'hospital', 'to', 'facilitate', 'the', 'smooth', 'movement', 'of', 'patients', 'and', 'staff', '.', 'This', 'involved', 'creating', 'dedicated', 'work', 'cells', 'for', 'specific', 'tasks', ',', 'such', 'as', 'triage', ',', 'registration', ',', 'and', 'treatment', '.', 'By', 'creating', 'dedicated', 'work', 'cells', ',', 'we', 'were', 'able', 'to', 'reduce', 'wait', 'times', 'and', 'improve', 'the', 'overall', 'patient', 'experience', '.', '\\n\\n', 'Throughout', 'the', 'implementation', 'process', ',', 'the', 'team', 'met', 'regularly', 'to', 'review', 'progress', ',', 'identify', 'areas', 'for', 'improvement', ',', 'and', 'adjust', 'the', 'implementation', 'plan', 'as', 'needed', '.', 'This', 'iterative', 'approach', 'allowed', 'us', 'to', 'continuously', 'refine', 'our', 'processes', ',', 'incorporating', 'feedback', 'from', 'frontline', 'staff', 'and', 'patients', '.', '\\n\\n', 'The', 'results', 'of', 'the', 'Lean', 'implementation', 'were', 'striking', '.', 'We', 'were', 'able', 'to', 'reduce', 'hospital', 'wait', 'times', 'by', 'over', '50', '%', ',', 'resulting', 'in', 'improved', 'patient', 'satisfaction', 'and', 'increased', 'throughput', '.', 'Additionally', ',', 'the', 'standardized', 'work', 'and', 'visual', 'management', 'tools', 'helped', 'to', 'reduce', 'variability', 'and', 'improve', 'the', 'consistency', 'of', 'care', '.', '\\n\\n', 'However', ',', 'there', 'were', 'also', 'some', 'potential', 'limitations', 'to', 'the', 'Lean', 'approach', '.', 'Lean', 'methodology', 'is', 'highly', 'dependent', 'on', 'data', 'and', 'measurement', ',', 'which', 'can', 'be', 'challenging', 'in', 'a', 'dynamic', 'and', 'unpredictable', 'environment', 'like', 'a', 'hospital', '.', 'Additionally', ',', 'the', 'focus', 'on', 'efficiency', 'and', 'standardization', 'can', 'sometimes', 'overlook', 'the', 'importance', 'of', 'individualized', 'care', 'and', 'patient', 'needs', '.', '\\n\\n', 'Despite', 'these', 'potential', 'limitations', ',', 'the', 'Lean', 'implementation', 'was', 'a', 'resounding', 'success', '.', 'By', 'working', 'closely', 'with', 'frontline', 'staff', 'and', 'patients', ',', 'we', 'were', 'able', 'to', 'identify', 'areas', 'for', 'improvement', ',', 'implement', 'data', '-', 'driven', 'solutions', ',', 'and', 'continuously', 'refine', 'our', 'processes', '.', 'Through', 'this', 'approach', ',', 'we', 'were', 'able', 'to', 'significantly', 'improve', 'the', 'efficiency', 'and', 'quality', 'of', 'care', 'provided', 'by', 'our', 'hospital', ',', 'ultimately', 'leading', 'to', 'better', 'outcomes', 'for', 'our', 'patients', '.', '\\n\\n', 'In', 'conclusion', ',', 'Lean', 'methodology', 'provides', 'a', 'powerful', 'tool', 'for', 'addressing', 'complex', 'challenges', 'in', 'the', 'healthcare', 'industry', '.', 'By', 'focusing', 'on', 'data', '-', 'driven', 'solutions', ',', 'standardization', ',', 'and', 'continuous', 'improvement', ',', 'hospital', 'administrators', 'can', 'optimize', 'processes', ',', 'reduce', 'waste', ',', 'and', 'improve', 'patient', 'outcomes', '.', 'However', ',', 'it', 'is', 'important', 'to', 'balance', 'the', 'focus', 'on', 'efficiency', 'with', 'the', 'need', 'for', 'individualized', 'care', 'and', 'patient', 'needs', '.', 'By', 'working', 'closely', 'with', 'frontline', 'staff', 'and', 'patients', ',', 'hospital', 'administrators', 'can', 'ensure', 'that', 'Lean', 'implementations', 'are', 'tailored', 'to', 'the', 'unique', 'needs', 'of', 'their', 'institution', ',', 'leading', 'to', 'sustainable', 'and', 'impactful', 'improvements', 'in', 'care', '.', '\\n\\n', 'Richard'], 'trailing_whitespace': [True, True, True, True, True, True, False, True, True, True, True, True, False, False, False, True, True, True, False, True, True, True, True, True, True, True, True, True, True, True, True, True, True, True, True, True, False, True, True, True, True, True, False, True, True, True, True, True, True, False, True, True, False, False, True, True, True, True, True, True, True, False, True, True, True, True, True, True, True, True, True, True, True, True, True, True, False, False, False, True, True, True, True, True, True, True, True, True, True, True, True, True, True, True, True, False, False, True, False, True, True, True, True, True, True, False, True, True, False, True, False, True, True, True, False, True, False, True, True, True, True, True, True, True, True, True, True, False, True, True, True, True, True, True, False, True, True, True, True, True, True, True, True, True, False, True, True, True, True, True, True, True, True, True, True, True, True, False, False, False, True, True, True, True, True, True, True, True, True, True, True, True, True, True, True, True, True, False, True, True, True, True, True, True, True, True, True, False, True, True, True, True, True, False, True, True, True, True, False, True, True, True, True, True, True, True, False, True, True, True, True, False, True, True, True, True, True, True, True, True, True, True, False, True, True, True, False, True, True, False, True, True, True, False, False, False, True, True, True, True, True, True, True, True, True, True, True, True, True, True, True, True, True, False, True, True, True, True, True, True, True, False, True, True, True, False, True, True, True, True, True, False, True, True, True, True, False, True, True, True, True, True, True, True, True, True, True, True, True, True, True, True, True, True, False, False, False, True, True, True, True, True, True, True, True, True, True, True, True, True, True, True, True, False, True, True, True, True, True, True, True, False, True, True, True, True, True, True, True, True, True, True, True, True, True, True, True, True, False, True, True, True, True, True, True, True, False, True, True, True, True, True, True, True, True, True, False, True, True, True, True, True, True, False, False, False, True, True, True, True, True, True, True, True, True, True, True, True, True, True, True, True, True, True, False, True, True, True, True, True, True, True, True, True, False, True, True, True, False, True, False, True, True, False, True, True, True, True, True, False, True, True, True, True, True, True, True, True, True, True, True, True, True, False, False, False, True, True, True, False, True, True, True, True, True, True, True, False, True, True, True, True, False, True, True, True, True, True, True, True, False, True, True, True, True, True, True, True, True, True, True, False, True, True, True, True, True, True, True, False, False, False, True, True, True, True, True, True, True, False, True, True, True, True, True, True, True, True, True, True, True, False, False, True, True, True, True, True, True, True, True, False, True, False, True, True, True, True, True, True, True, True, True, True, True, True, True, True, True, True, True, False, False, False, False, True, True, True, True, True, True, True, True, True, True, False, True, True, True, True, True, True, True, True, True, False, True, True, True, True, True, True, True, True, True, True, True, True, True, False, True, False, True, True, True, True, True, True, True, True, True, True, True, True, True, True, True, True, True, False, False, False, True, True, True, False, True, True, True, True, True, True, True, False, True, True, True, True, True, True, True, True, False, True, True, True, True, True, True, True, True, False, True, True, False, False, True, False, True, True, True, True, True, False, True, True, True, False, True, True, True, True, True, True, True, True, True, True, True, True, True, True, True, True, False, True, True, True, True, True, True, True, True, False, False, False, True, False, True, True, True, True, True, True, True, True, True, True, True, True, True, True, False, True, True, True, True, False, False, True, False, True, False, True, True, True, False, True, True, True, True, True, False, True, True, False, True, True, True, True, False, True, False, True, True, True, True, True, True, True, True, True, True, True, True, True, True, True, True, True, True, False, True, True, True, True, True, True, True, True, False, True, True, True, True, True, True, True, True, True, True, True, True, True, True, True, True, False, True, True, True, True, True, True, True, True, False, False, False, False], 'labels': ['O', 'O', 'O', 'O', 'O', 'O', 'O', 'O', 'O', 'O', 'O', 'O', 'B-NAME_STUDENT', 'O', 'O', 'O', 'O', 'O', 'O', 'O', 'O', 'O', 'O', 'O', 'O', 'O', 'O', 'O', 'O', 'O', 'O', 'O', 'O', 'O', 'O', 'O', 'O', 'O', 'O', 'O', 'O', 'O', 'O', 'O', 'O', 'O', 'O', 'O', 'O', 'O', 'O', 'O', 'O', 'O', 'O', 'O', 'O', 'O', 'O', 'O', 'O', 'O', 'O', 'O', 'O', 'O', 'O', 'O', 'O', 'O', 'O', 'O', 'O', 'O', 'O', 'O', 'O', 'O', 'O', 'O', 'O', 'O', 'O', 'O', 'O', 'O', 'O', 'O', 'O', 'O', 'O', 'O', 'O', 'O', 'O', 'O', 'O', 'O', 'O', 'O', 'O', 'O', 'O', 'O', 'O', 'O', 'O', 'O', 'O', 'O', 'O', 'O', 'O', 'O', 'O', 'O', 'O', 'O', 'O', 'O', 'O', 'O', 'O', 'O', 'O', 'O', 'O', 'O', 'O', 'O', 'O', 'O', 'O', 'O', 'O', 'O', 'O', 'O', 'O', 'O', 'O', 'O', 'O', 'O', 'O', 'O', 'O', 'O', 'O', 'O', 'O', 'O', 'O', 'O', 'O', 'O', 'O', 'O', 'O', 'O', 'O', 'O', 'O', 'O', 'O', 'O', 'O', 'O', 'O', 'O', 'O', 'O', 'O', 'O', 'O', 'O', 'O', 'O', 'O', 'O', 'O', 'O', 'O', 'O', 'O', 'O', 'O', 'O', 'O', 'O', 'O', 'O', 'O', 'O', 'O', 'O', 'O', 'O', 'O', 'O', 'O', 'O', 'O', 'O', 'O', 'O', 'O', 'O', 'O', 'O', 'O', 'O', 'O', 'O', 'O', 'O', 'O', 'O', 'O', 'O', 'O', 'O', 'O', 'O', 'O', 'O', 'O', 'O', 'O', 'O', 'O', 'O', 'O', 'O', 'O', 'O', 'O', 'O', 'O', 'O', 'O', 'O', 'O', 'O', 'O', 'O', 'O', 'O', 'O', 'O', 'O', 'O', 'O', 'O', 'O', 'O', 'O', 'O', 'O', 'O', 'O', 'O', 'O', 'O', 'O', 'O', 'O', 'O', 'O', 'O', 'O', 'O', 'O', 'O', 'O', 'O', 'O', 'O', 'O', 'O', 'O', 'O', 'O', 'O', 'O', 'O', 'O', 'O', 'O', 'O', 'O', 'O', 'O', 'O', 'O', 'O', 'O', 'O', 'O', 'O', 'O', 'O', 'O', 'O', 'O', 'O', 'O', 'O', 'O', 'O', 'O', 'O', 'O', 'O', 'O', 'O', 'O', 'O', 'O', 'O', 'O', 'O', 'O', 'O', 'O', 'O', 'O', 'O', 'O', 'O', 'O', 'O', 'O', 'O', 'O', 'O', 'O', 'O', 'O', 'O', 'O', 'O', 'O', 'O', 'O', 'O', 'O', 'O', 'O', 'O', 'O', 'O', 'O', 'O', 'O', 'O', 'O', 'O', 'O', 'O', 'O', 'O', 'O', 'O', 'O', 'O', 'O', 'O', 'O', 'O', 'O', 'O', 'O', 'O', 'O', 'O', 'O', 'O', 'O', 'O', 'O', 'O', 'O', 'O', 'O', 'O', 'O', 'O', 'O', 'O', 'O', 'O', 'O', 'O', 'O', 'O', 'O', 'O', 'O', 'O', 'O', 'O', 'O', 'O', 'O', 'O', 'O', 'O', 'O', 'O', 'O', 'O', 'O', 'O', 'O', 'O', 'O', 'O', 'O', 'O', 'O', 'O', 'O', 'O', 'O', 'O', 'O', 'O', 'O', 'O', 'O', 'O', 'O', 'O', 'O', 'O', 'O', 'O', 'O', 'O', 'O', 'O', 'O', 'O', 'O', 'O', 'O', 'O', 'O', 'O', 'O', 'O', 'O', 'O', 'O', 'O', 'O', 'O', 'O', 'O', 'O', 'O', 'O', 'O', 'O', 'O', 'O', 'O', 'O', 'O', 'O', 'O', 'O', 'O', 'O', 'O', 'O', 'O', 'O', 'O', 'O', 'O', 'O', 'O', 'O', 'O', 'O', 'O', 'O', 'O', 'O', 'O', 'O', 'O', 'O', 'O', 'O', 'O', 'O', 'O', 'O', 'O', 'O', 'O', 'O', 'O', 'O', 'O', 'O', 'O', 'O', 'O', 'O', 'O', 'O', 'O', 'O', 'O', 'O', 'O', 'O', 'O', 'O', 'O', 'O', 'O', 'O', 'O', 'O', 'O', 'O', 'O', 'O', 'O', 'O', 'O', 'O', 'O', 'O', 'O', 'O', 'O', 'O', 'O', 'O', 'O', 'O', 'O', 'O', 'O', 'O', 'O', 'O', 'O', 'O', 'O', 'O', 'O', 'O', 'O', 'O', 'O', 'O', 'O', 'O', 'O', 'O', 'O', 'O', 'O', 'O', 'O', 'O', 'O', 'O', 'O', 'O', 'O', 'O', 'O', 'O', 'O', 'O', 'O', 'O', 'O', 'O', 'O', 'O', 'O', 'O', 'O', 'O', 'O', 'O', 'O', 'O', 'O', 'O', 'O', 'O', 'O', 'O', 'O', 'O', 'O', 'O', 'O', 'O', 'O', 'O', 'O', 'O', 'O', 'O', 'O', 'O', 'O', 'O', 'O', 'O', 'O', 'O', 'O', 'O', 'O', 'O', 'O', 'O', 'O', 'O', 'O', 'O', 'O', 'O', 'O', 'O', 'O', 'O', 'O', 'O', 'O', 'O', 'O', 'O', 'O', 'O', 'O', 'O', 'O', 'O', 'O', 'O', 'O', 'O', 'O', 'O', 'O', 'O', 'O', 'O', 'O', 'O', 'O', 'O', 'O', 'O', 'O', 'O', 'O', 'O', 'O', 'O', 'O', 'O', 'O', 'O', 'O', 'O', 'O', 'O', 'O', 'O', 'O', 'O', 'O', 'O', 'O', 'O', 'O', 'O', 'O', 'O', 'O', 'O', 'O', 'O', 'O', 'O', 'O', 'O', 'O', 'O', 'O', 'O', 'O', 'O', 'O', 'O', 'O', 'O', 'O', 'O', 'O', 'O', 'O', 'O', 'O', 'O', 'O', 'O', 'O', 'O', 'O', 'O', 'O', 'O', 'O', 'O', 'O', 'O', 'O', 'O', 'O', 'O', 'O', 'O', 'O', 'O', 'O', 'O', 'O', 'O', 'O', 'O', 'O', 'O', 'O', 'O', 'O', 'O', 'O', 'O', 'O', 'O', 'O', 'O', 'O', 'O', 'B-NAME_STUDENT']}\n"
     ]
    }
   ],
   "source": [
    "with open(\"input/tonyarobertson/Fake_data_1850_218.json\") as f:\n",
    "    data = json.load(f)\n",
    "print(f\"len(data)={len(data):,}\\ndata[0]={data[0]}\")"
   ]
  },
  {
   "cell_type": "code",
   "execution_count": 6,
   "id": "63a8c225-1c60-4a14-a2fb-61a8794611d2",
   "metadata": {},
   "outputs": [],
   "source": [
    "dids=set()\n",
    "for row in data:\n",
    "    did=row[\"document\"]\n",
    "    did=f\"tonrob_{did}\"\n",
    "    if did in dids:\n",
    "        raise ValueError(f\"Duplicate document id={did}\")\n",
    "    row[\"document\"]=did\n",
    "    dids.add(did)\n",
    "with open(\"output/tonrob01.json\", \"w\") as f:\n",
    "    json.dump(data, f)"
   ]
  },
  {
   "cell_type": "code",
   "execution_count": 7,
   "id": "fcd213f4-2445-4613-9984-4db05763449e",
   "metadata": {},
   "outputs": [
    {
     "name": "stdout",
     "output_type": "stream",
     "text": [
      "Total time taken 0:00:00.724251\n"
     ]
    }
   ],
   "source": [
    "tim.stop()\n",
    "print(f\"Total time taken {str(tim.elapsed)}\")"
   ]
  }
 ],
 "metadata": {
  "kernelspec": {
   "display_name": "Python 3 (ipykernel)",
   "language": "python",
   "name": "python3"
  },
  "language_info": {
   "codemirror_mode": {
    "name": "ipython",
    "version": 3
   },
   "file_extension": ".py",
   "mimetype": "text/x-python",
   "name": "python",
   "nbconvert_exporter": "python",
   "pygments_lexer": "ipython3",
   "version": "3.12.1"
  }
 },
 "nbformat": 4,
 "nbformat_minor": 5
}
