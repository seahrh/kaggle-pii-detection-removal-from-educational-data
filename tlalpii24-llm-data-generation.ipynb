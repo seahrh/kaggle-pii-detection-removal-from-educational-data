{
 "cells": [
  {
   "cell_type": "markdown",
   "id": "cc562555",
   "metadata": {
    "papermill": {
     "duration": 0.006032,
     "end_time": "2024-04-28T12:53:10.336829",
     "exception": false,
     "start_time": "2024-04-28T12:53:10.330797",
     "status": "completed"
    },
    "tags": []
   },
   "source": [
    "References\n",
    "1. https://www.kaggle.com/code/ashishkumarak/mixtral-moe-8x7b-instruct-inference-t4-2-gpu"
   ]
  },
  {
   "cell_type": "code",
   "execution_count": 1,
   "id": "ad1b41f9",
   "metadata": {
    "execution": {
     "iopub.execute_input": "2024-04-28T12:53:10.349270Z",
     "iopub.status.busy": "2024-04-28T12:53:10.348540Z",
     "iopub.status.idle": "2024-04-28T12:53:30.434323Z",
     "shell.execute_reply": "2024-04-28T12:53:30.433360Z"
    },
    "papermill": {
     "duration": 20.094407,
     "end_time": "2024-04-28T12:53:30.436635",
     "exception": false,
     "start_time": "2024-04-28T12:53:10.342228",
     "status": "completed"
    },
    "tags": []
   },
   "outputs": [
    {
     "name": "stdout",
     "output_type": "stream",
     "text": [
      "Collecting accelerate==0.29.2\r\n",
      "  Downloading accelerate-0.29.2-py3-none-any.whl.metadata (18 kB)\r\n",
      "Collecting bitsandbytes==0.43.1\r\n",
      "  Downloading bitsandbytes-0.43.1-py3-none-manylinux_2_24_x86_64.whl.metadata (2.2 kB)\r\n",
      "Collecting Faker==24.9.0\r\n",
      "  Downloading Faker-24.9.0-py3-none-any.whl.metadata (15 kB)\r\n",
      "Requirement already satisfied: numpy>=1.17 in /opt/conda/lib/python3.10/site-packages (from accelerate==0.29.2) (1.26.4)\r\n",
      "Requirement already satisfied: packaging>=20.0 in /opt/conda/lib/python3.10/site-packages (from accelerate==0.29.2) (21.3)\r\n",
      "Requirement already satisfied: psutil in /opt/conda/lib/python3.10/site-packages (from accelerate==0.29.2) (5.9.3)\r\n",
      "Requirement already satisfied: pyyaml in /opt/conda/lib/python3.10/site-packages (from accelerate==0.29.2) (6.0.1)\r\n",
      "Requirement already satisfied: torch>=1.10.0 in /opt/conda/lib/python3.10/site-packages (from accelerate==0.29.2) (2.1.2)\r\n",
      "Requirement already satisfied: huggingface-hub in /opt/conda/lib/python3.10/site-packages (from accelerate==0.29.2) (0.22.2)\r\n",
      "Requirement already satisfied: safetensors>=0.3.1 in /opt/conda/lib/python3.10/site-packages (from accelerate==0.29.2) (0.4.2)\r\n",
      "Requirement already satisfied: python-dateutil>=2.4 in /opt/conda/lib/python3.10/site-packages (from Faker==24.9.0) (2.9.0.post0)\r\n",
      "Requirement already satisfied: pyparsing!=3.0.5,>=2.0.2 in /opt/conda/lib/python3.10/site-packages (from packaging>=20.0->accelerate==0.29.2) (3.1.1)\r\n",
      "Requirement already satisfied: six>=1.5 in /opt/conda/lib/python3.10/site-packages (from python-dateutil>=2.4->Faker==24.9.0) (1.16.0)\r\n",
      "Requirement already satisfied: filelock in /opt/conda/lib/python3.10/site-packages (from torch>=1.10.0->accelerate==0.29.2) (3.13.1)\r\n",
      "Requirement already satisfied: typing-extensions in /opt/conda/lib/python3.10/site-packages (from torch>=1.10.0->accelerate==0.29.2) (4.9.0)\r\n",
      "Requirement already satisfied: sympy in /opt/conda/lib/python3.10/site-packages (from torch>=1.10.0->accelerate==0.29.2) (1.12)\r\n",
      "Requirement already satisfied: networkx in /opt/conda/lib/python3.10/site-packages (from torch>=1.10.0->accelerate==0.29.2) (3.2.1)\r\n",
      "Requirement already satisfied: jinja2 in /opt/conda/lib/python3.10/site-packages (from torch>=1.10.0->accelerate==0.29.2) (3.1.2)\r\n",
      "Requirement already satisfied: fsspec in /opt/conda/lib/python3.10/site-packages (from torch>=1.10.0->accelerate==0.29.2) (2024.2.0)\r\n",
      "Requirement already satisfied: requests in /opt/conda/lib/python3.10/site-packages (from huggingface-hub->accelerate==0.29.2) (2.31.0)\r\n",
      "Requirement already satisfied: tqdm>=4.42.1 in /opt/conda/lib/python3.10/site-packages (from huggingface-hub->accelerate==0.29.2) (4.66.1)\r\n",
      "Requirement already satisfied: MarkupSafe>=2.0 in /opt/conda/lib/python3.10/site-packages (from jinja2->torch>=1.10.0->accelerate==0.29.2) (2.1.3)\r\n",
      "Requirement already satisfied: charset-normalizer<4,>=2 in /opt/conda/lib/python3.10/site-packages (from requests->huggingface-hub->accelerate==0.29.2) (3.3.2)\r\n",
      "Requirement already satisfied: idna<4,>=2.5 in /opt/conda/lib/python3.10/site-packages (from requests->huggingface-hub->accelerate==0.29.2) (3.6)\r\n",
      "Requirement already satisfied: urllib3<3,>=1.21.1 in /opt/conda/lib/python3.10/site-packages (from requests->huggingface-hub->accelerate==0.29.2) (1.26.18)\r\n",
      "Requirement already satisfied: certifi>=2017.4.17 in /opt/conda/lib/python3.10/site-packages (from requests->huggingface-hub->accelerate==0.29.2) (2024.2.2)\r\n",
      "Requirement already satisfied: mpmath>=0.19 in /opt/conda/lib/python3.10/site-packages (from sympy->torch>=1.10.0->accelerate==0.29.2) (1.3.0)\r\n",
      "Downloading accelerate-0.29.2-py3-none-any.whl (297 kB)\r\n",
      "\u001b[2K   \u001b[90m━━━━━━━━━━━━━━━━━━━━━━━━━━━━━━━━━━━━━━━━\u001b[0m \u001b[32m297.4/297.4 kB\u001b[0m \u001b[31m13.5 MB/s\u001b[0m eta \u001b[36m0:00:00\u001b[0m\r\n",
      "\u001b[?25hDownloading bitsandbytes-0.43.1-py3-none-manylinux_2_24_x86_64.whl (119.8 MB)\r\n",
      "\u001b[2K   \u001b[90m━━━━━━━━━━━━━━━━━━━━━━━━━━━━━━━━━━━━━━━━\u001b[0m \u001b[32m119.8/119.8 MB\u001b[0m \u001b[31m13.6 MB/s\u001b[0m eta \u001b[36m0:00:00\u001b[0m\r\n",
      "\u001b[?25hDownloading Faker-24.9.0-py3-none-any.whl (1.8 MB)\r\n",
      "\u001b[2K   \u001b[90m━━━━━━━━━━━━━━━━━━━━━━━━━━━━━━━━━━━━━━━━\u001b[0m \u001b[32m1.8/1.8 MB\u001b[0m \u001b[31m62.1 MB/s\u001b[0m eta \u001b[36m0:00:00\u001b[0m\r\n",
      "\u001b[?25hInstalling collected packages: Faker, bitsandbytes, accelerate\r\n",
      "  Attempting uninstall: accelerate\r\n",
      "    Found existing installation: accelerate 0.28.0\r\n",
      "    Uninstalling accelerate-0.28.0:\r\n",
      "      Successfully uninstalled accelerate-0.28.0\r\n",
      "Successfully installed Faker-24.9.0 accelerate-0.29.2 bitsandbytes-0.43.1\r\n"
     ]
    }
   ],
   "source": [
    "!pip install --upgrade accelerate==0.29.2 bitsandbytes==0.43.1 Faker==24.9.0"
   ]
  },
  {
   "cell_type": "code",
   "execution_count": 2,
   "id": "75e92314",
   "metadata": {
    "_cell_guid": "b1076dfc-b9ad-4769-8c92-a6c4dae69d19",
    "_uuid": "8f2839f25d086af736a60e9eeb907d3b93b6e0e5",
    "execution": {
     "iopub.execute_input": "2024-04-28T12:53:30.457187Z",
     "iopub.status.busy": "2024-04-28T12:53:30.456912Z",
     "iopub.status.idle": "2024-04-28T12:53:37.739424Z",
     "shell.execute_reply": "2024-04-28T12:53:37.738388Z"
    },
    "papermill": {
     "duration": 7.294952,
     "end_time": "2024-04-28T12:53:37.741472",
     "exception": false,
     "start_time": "2024-04-28T12:53:30.446520",
     "status": "completed"
    },
    "tags": []
   },
   "outputs": [
    {
     "name": "stdout",
     "output_type": "stream",
     "text": [
      "accelerate=0.29.2, bitsandbytes=0.43.1\n"
     ]
    }
   ],
   "source": [
    "from pathlib import Path\n",
    "import os\n",
    "import sys\n",
    "import gc\n",
    "import shutil\n",
    "import json\n",
    "import math\n",
    "from collections import defaultdict\n",
    "import numpy as np\n",
    "import pandas as pd\n",
    "import bitsandbytes\n",
    "import accelerate\n",
    "import torch\n",
    "from torch.utils.data import Dataset, DataLoader\n",
    "from transformers import AutoTokenizer, AutoModelForCausalLM, BitsAndBytesConfig\n",
    "from tqdm import tqdm\n",
    "import matplotlib.pyplot as plt\n",
    "from typing import Dict, List, Tuple, NamedTuple, Callable, Iterable, Set, Optional, Any\n",
    "print(f\"accelerate={accelerate.__version__}, bitsandbytes={bitsandbytes.__version__}\")"
   ]
  },
  {
   "cell_type": "code",
   "execution_count": 3,
   "id": "037c97ea",
   "metadata": {
    "execution": {
     "iopub.execute_input": "2024-04-28T12:53:37.761902Z",
     "iopub.status.busy": "2024-04-28T12:53:37.761493Z",
     "iopub.status.idle": "2024-04-28T12:53:37.770145Z",
     "shell.execute_reply": "2024-04-28T12:53:37.767796Z"
    },
    "papermill": {
     "duration": 0.02276,
     "end_time": "2024-04-28T12:53:37.773821",
     "exception": false,
     "start_time": "2024-04-28T12:53:37.751061",
     "status": "completed"
    },
    "tags": []
   },
   "outputs": [
    {
     "name": "stdout",
     "output_type": "stream",
     "text": [
      "Conf(debug=False, input_dir=PosixPath('/kaggle/input'), comp_dir=PosixPath('/kaggle/input/pii-detection-removal-from-educational-data'), temp_dir=PosixPath('/kaggle/temp'), working_dir=PosixPath('/kaggle/working'), resource_dir=PosixPath('/kaggle/input/libtlalpii/tlal-pii-0.1'), data_dir=PosixPath('/kaggle/input/libtlalpii/tlal-pii-0.1/input'))\n"
     ]
    }
   ],
   "source": [
    "class Conf(NamedTuple):\n",
    "    debug: bool = False  \n",
    "    input_dir: Path = Path(\"/kaggle/input\")\n",
    "    comp_dir: Path = input_dir / \"pii-detection-removal-from-educational-data\"\n",
    "    temp_dir: Path = Path('/kaggle/temp')\n",
    "    # write up to 20GB to the current directory (/kaggle/working/) that gets preserved as output when you create a version using \"Save & Run All\" \n",
    "    working_dir: Path = Path('/kaggle/working')\n",
    "    resource_dir: Path = input_dir / \"libtlalpii/tlal-pii-0.1\"\n",
    "    data_dir: Path = resource_dir / \"input\"\n",
    "    target_size = 30\n",
    "    model_dir = input_dir / \"mixtral/pytorch/8x7b-instruct-v0.1-hf/1\"\n",
    "    #model_dir = input_dir / \"mistral/pytorch/7b-instruct-v0.1-hf/1\"\n",
    "    model_max_length = 4096\n",
    "    seed = 9\n",
    "\n",
    "\n",
    "conf = Conf()\n",
    "print(conf)"
   ]
  },
  {
   "cell_type": "code",
   "execution_count": 4,
   "id": "d24ef9fe",
   "metadata": {
    "execution": {
     "iopub.execute_input": "2024-04-28T12:53:37.794038Z",
     "iopub.status.busy": "2024-04-28T12:53:37.793449Z",
     "iopub.status.idle": "2024-04-28T12:53:37.801075Z",
     "shell.execute_reply": "2024-04-28T12:53:37.800181Z"
    },
    "papermill": {
     "duration": 0.019721,
     "end_time": "2024-04-28T12:53:37.803016",
     "exception": false,
     "start_time": "2024-04-28T12:53:37.783295",
     "status": "completed"
    },
    "tags": []
   },
   "outputs": [
    {
     "name": "stdout",
     "output_type": "stream",
     "text": [
      "device=0, Tesla T4\n",
      "Mem Allocated: 0.0 GB\n",
      "Mem Cached:    0.0 GB\n",
      "device=1, Tesla T4\n",
      "Mem Allocated: 0.0 GB\n",
      "Mem Cached:    0.0 GB\n"
     ]
    }
   ],
   "source": [
    "device = torch.device(\"cpu\")\n",
    "if torch.cuda.is_available():\n",
    "    device = torch.device(\"cuda\")\n",
    "    for i in range(torch.cuda.device_count()):\n",
    "        print(f\"device={i}, {torch.cuda.get_device_name(i)}\")\n",
    "        print('Mem Allocated:', round(torch.cuda.memory_allocated(i)/1024**3,1), 'GB')\n",
    "        print('Mem Cached:   ', round(torch.cuda.memory_reserved(i)/1024**3,1), 'GB')\n",
    "else:\n",
    "    print(\"cpu\")"
   ]
  },
  {
   "cell_type": "code",
   "execution_count": 5,
   "id": "5e4d5fe1",
   "metadata": {
    "execution": {
     "iopub.execute_input": "2024-04-28T12:53:37.823691Z",
     "iopub.status.busy": "2024-04-28T12:53:37.822989Z",
     "iopub.status.idle": "2024-04-28T12:53:44.423841Z",
     "shell.execute_reply": "2024-04-28T12:53:44.423039Z"
    },
    "papermill": {
     "duration": 6.613545,
     "end_time": "2024-04-28T12:53:44.426187",
     "exception": false,
     "start_time": "2024-04-28T12:53:37.812642",
     "status": "completed"
    },
    "tags": []
   },
   "outputs": [],
   "source": [
    "percentiles=[.01, .05, .1, .2, .3, .4, .5, .6, .7, .8, .9, .95, .99]\n",
    "os.environ[\"TOKENIZERS_PARALLELISM\"] = \"false\"\n",
    "pd.set_option(\"max_info_columns\", 9999)\n",
    "pd.set_option(\"display.max_columns\", 9999)\n",
    "pd.set_option(\"display.max_rows\", 9999)\n",
    "pd.set_option('max_colwidth', 9999)\n",
    "tqdm.pandas()\n",
    "sys.path.append(str(conf.input_dir / \"sgcharts-ml/src\"))\n",
    "sys.path.append(str(conf.resource_dir / \"src\"))\n",
    "import scml\n",
    "from scml import nlp as snlp\n",
    "from scml import pandasx as pdx\n",
    "from mylib.datageneration import Prompter\n",
    "from warnings import simplefilter \n",
    "simplefilter(action=\"ignore\", category=pd.errors.PerformanceWarning)\n",
    "scml.seed_everything(conf.seed)\n",
    "tim = scml.Timer()\n",
    "tim.start()"
   ]
  },
  {
   "cell_type": "code",
   "execution_count": 6,
   "id": "86f24a82",
   "metadata": {
    "execution": {
     "iopub.execute_input": "2024-04-28T12:53:44.446915Z",
     "iopub.status.busy": "2024-04-28T12:53:44.446398Z",
     "iopub.status.idle": "2024-04-28T12:53:44.456065Z",
     "shell.execute_reply": "2024-04-28T12:53:44.455148Z"
    },
    "papermill": {
     "duration": 0.021965,
     "end_time": "2024-04-28T12:53:44.458068",
     "exception": false,
     "start_time": "2024-04-28T12:53:44.436103",
     "status": "completed"
    },
    "tags": []
   },
   "outputs": [
    {
     "name": "stdout",
     "output_type": "stream",
     "text": [
      "104 student names\n"
     ]
    }
   ],
   "source": [
    "with open(conf.data_dir / \"student_names.json\") as f:\n",
    "    student_names = set(json.load(f))\n",
    "print(f\"{len(student_names):,} student names\")"
   ]
  },
  {
   "cell_type": "code",
   "execution_count": 7,
   "id": "6e952d4a",
   "metadata": {
    "execution": {
     "iopub.execute_input": "2024-04-28T12:53:44.479232Z",
     "iopub.status.busy": "2024-04-28T12:53:44.478703Z",
     "iopub.status.idle": "2024-04-28T12:53:44.536605Z",
     "shell.execute_reply": "2024-04-28T12:53:44.535596Z"
    },
    "papermill": {
     "duration": 0.070037,
     "end_time": "2024-04-28T12:53:44.538492",
     "exception": false,
     "start_time": "2024-04-28T12:53:44.468455",
     "status": "completed"
    },
    "tags": []
   },
   "outputs": [
    {
     "name": "stdout",
     "output_type": "stream",
     "text": [
      "11,562 street addresses=['Adis Road (Liv On Sophia)', 'Adis Road (Parc Sophia)', 'Admiralty Drive (Block 353A)', 'Admiralty Drive (Block 353B)', 'Admiralty Drive (Block 353C)', 'Admiralty Drive (Block 354A)', 'Admiralty Drive (Block 354C)', 'Admiralty Drive (Block 354D)', 'Admiralty Drive (Block 356B)', 'Admiralty Drive (Block 356C)']\n",
      "<class 'pandas.core.frame.DataFrame'>\n",
      "RangeIndex: 11562 entries, 0 to 11561\n",
      "Data columns (total 3 columns):\n",
      " #   Column  Non-Null Count  Dtype  \n",
      "---  ------  --------------  -----  \n",
      " 0   street  11562 non-null  object \n",
      " 1   lat     11562 non-null  float64\n",
      " 2   lng     11562 non-null  float64\n",
      "dtypes: float64(2), object(1)\n",
      "memory usage: 271.1+ KB\n"
     ]
    }
   ],
   "source": [
    "df = pd.read_csv(conf.data_dir / \"geocode-db.csv\", low_memory=False, names=[\"street\",\"lat\",\"lng\"])\n",
    "street_addresses = [x.title() for x in df[\"street\"]]\n",
    "print(f\"{len(street_addresses):,} street addresses={street_addresses[:10]}\")\n",
    "street_addresses = set(street_addresses)\n",
    "df.info()"
   ]
  },
  {
   "cell_type": "code",
   "execution_count": 8,
   "id": "f5007808",
   "metadata": {
    "execution": {
     "iopub.execute_input": "2024-04-28T12:53:44.559016Z",
     "iopub.status.busy": "2024-04-28T12:53:44.558773Z",
     "iopub.status.idle": "2024-04-28T12:53:44.683798Z",
     "shell.execute_reply": "2024-04-28T12:53:44.682961Z"
    },
    "papermill": {
     "duration": 0.137635,
     "end_time": "2024-04-28T12:53:44.685847",
     "exception": false,
     "start_time": "2024-04-28T12:53:44.548212",
     "status": "completed"
    },
    "tags": []
   },
   "outputs": [
    {
     "name": "stdout",
     "output_type": "stream",
     "text": [
      "LlamaTokenizerFast(name_or_path='/kaggle/input/mixtral/pytorch/8x7b-instruct-v0.1-hf/1', vocab_size=32000, model_max_length=4096, is_fast=True, padding_side='left', truncation_side='right', special_tokens={'bos_token': '<s>', 'eos_token': '</s>', 'unk_token': '<unk>', 'pad_token': '</s>'}, clean_up_tokenization_spaces=False),  added_tokens_decoder={\n",
      "\t0: AddedToken(\"<unk>\", rstrip=False, lstrip=False, single_word=False, normalized=False, special=True),\n",
      "\t1: AddedToken(\"<s>\", rstrip=False, lstrip=False, single_word=False, normalized=False, special=True),\n",
      "\t2: AddedToken(\"</s>\", rstrip=False, lstrip=False, single_word=False, normalized=False, special=True),\n",
      "}\n",
      "model_input_names=['input_ids', 'attention_mask']\n",
      "pad_token_id=2\n"
     ]
    }
   ],
   "source": [
    "tokenizer = AutoTokenizer.from_pretrained(str(conf.model_dir), model_max_length=conf.model_max_length)\n",
    "tokenizer.pad_token = tokenizer.eos_token\n",
    "print(f\"{repr(tokenizer)}\\nmodel_input_names={tokenizer.model_input_names}\")\n",
    "print(f\"pad_token_id={tokenizer.pad_token_id}\")"
   ]
  },
  {
   "cell_type": "code",
   "execution_count": 9,
   "id": "34c8a70d",
   "metadata": {
    "execution": {
     "iopub.execute_input": "2024-04-28T12:53:44.707105Z",
     "iopub.status.busy": "2024-04-28T12:53:44.706803Z",
     "iopub.status.idle": "2024-04-28T13:07:49.939859Z",
     "shell.execute_reply": "2024-04-28T13:07:49.938944Z"
    },
    "papermill": {
     "duration": 845.247217,
     "end_time": "2024-04-28T13:07:49.943078",
     "exception": false,
     "start_time": "2024-04-28T12:53:44.695861",
     "status": "completed"
    },
    "tags": []
   },
   "outputs": [
    {
     "data": {
      "application/vnd.jupyter.widget-view+json": {
       "model_id": "dc46ca3115a54d23b1407bef83de437e",
       "version_major": 2,
       "version_minor": 0
      },
      "text/plain": [
       "Loading checkpoint shards:   0%|          | 0/19 [00:00<?, ?it/s]"
      ]
     },
     "metadata": {},
     "output_type": "display_data"
    },
    {
     "name": "stdout",
     "output_type": "stream",
     "text": [
      "CPU times: user 1min 44s, sys: 1min 30s, total: 3min 14s\n",
      "Wall time: 14min 5s\n"
     ]
    }
   ],
   "source": [
    "%%time\n",
    "# https://huggingface.co/blog/4bit-transformers-bitsandbytes\n",
    "# https://huggingface.co/docs/transformers/v4.38.1/en/quantization#compute-data-type\n",
    "# from qlora paper:\n",
    "# 4-bit NormalFloat (NF4), a new data type that is information theoretically optimal for normally distributed weights\n",
    "quantization_config = BitsAndBytesConfig(\n",
    "    load_in_4bit=True,\n",
    "    bnb_4bit_quant_type=\"nf4\",\n",
    "    bnb_4bit_compute_dtype=torch.bfloat16,\n",
    "    bnb_4bit_use_double_quant=True,  # Uses a second quantization after the first one to save an additional 0.4 bits per parameter\n",
    ")\n",
    "model = AutoModelForCausalLM.from_pretrained(\n",
    "    str(conf.model_dir),\n",
    "    device_map = \"auto\",\n",
    "    quantization_config=quantization_config,\n",
    ")"
   ]
  },
  {
   "cell_type": "code",
   "execution_count": 10,
   "id": "cb6f55d4",
   "metadata": {
    "execution": {
     "iopub.execute_input": "2024-04-28T13:07:49.965060Z",
     "iopub.status.busy": "2024-04-28T13:07:49.964772Z",
     "iopub.status.idle": "2024-04-28T13:07:49.977889Z",
     "shell.execute_reply": "2024-04-28T13:07:49.976972Z"
    },
    "papermill": {
     "duration": 0.026138,
     "end_time": "2024-04-28T13:07:49.979826",
     "exception": false,
     "start_time": "2024-04-28T13:07:49.953688",
     "status": "completed"
    },
    "tags": []
   },
   "outputs": [
    {
     "name": "stdout",
     "output_type": "stream",
     "text": [
      "MixtralForCausalLM(\n",
      "  (model): MixtralModel(\n",
      "    (embed_tokens): Embedding(32000, 4096)\n",
      "    (layers): ModuleList(\n",
      "      (0-31): 32 x MixtralDecoderLayer(\n",
      "        (self_attn): MixtralSdpaAttention(\n",
      "          (q_proj): Linear4bit(in_features=4096, out_features=4096, bias=False)\n",
      "          (k_proj): Linear4bit(in_features=4096, out_features=1024, bias=False)\n",
      "          (v_proj): Linear4bit(in_features=4096, out_features=1024, bias=False)\n",
      "          (o_proj): Linear4bit(in_features=4096, out_features=4096, bias=False)\n",
      "          (rotary_emb): MixtralRotaryEmbedding()\n",
      "        )\n",
      "        (block_sparse_moe): MixtralSparseMoeBlock(\n",
      "          (gate): Linear4bit(in_features=4096, out_features=8, bias=False)\n",
      "          (experts): ModuleList(\n",
      "            (0-7): 8 x MixtralBlockSparseTop2MLP(\n",
      "              (w1): Linear4bit(in_features=4096, out_features=14336, bias=False)\n",
      "              (w2): Linear4bit(in_features=14336, out_features=4096, bias=False)\n",
      "              (w3): Linear4bit(in_features=4096, out_features=14336, bias=False)\n",
      "              (act_fn): SiLU()\n",
      "            )\n",
      "          )\n",
      "        )\n",
      "        (input_layernorm): MixtralRMSNorm()\n",
      "        (post_attention_layernorm): MixtralRMSNorm()\n",
      "      )\n",
      "    )\n",
      "    (norm): MixtralRMSNorm()\n",
      "  )\n",
      "  (lm_head): Linear(in_features=4096, out_features=32000, bias=False)\n",
      ")\n"
     ]
    }
   ],
   "source": [
    "print(model)"
   ]
  },
  {
   "cell_type": "code",
   "execution_count": 11,
   "id": "d5cfe867",
   "metadata": {
    "execution": {
     "iopub.execute_input": "2024-04-28T13:07:50.001186Z",
     "iopub.status.busy": "2024-04-28T13:07:50.000901Z",
     "iopub.status.idle": "2024-04-28T13:07:52.158997Z",
     "shell.execute_reply": "2024-04-28T13:07:52.157960Z"
    },
    "papermill": {
     "duration": 2.171233,
     "end_time": "2024-04-28T13:07:52.161177",
     "exception": false,
     "start_time": "2024-04-28T13:07:49.989944",
     "status": "completed"
    },
    "tags": []
   },
   "outputs": [
    {
     "name": "stdout",
     "output_type": "stream",
     "text": [
      "[INST] Write a short essay on the following topic:\n",
      "        In Education Policy and Reform, how can the integration of a learning launch tool within the design thinking process enhance the development and testing of ideas, prototypes, and products?\n",
      "        Intersperse the following information in different parts of the essay:\n",
      "        1. Give an example that occurred near Jurong West Street 81 (Block 824), at a school frequented by Firdaus Ahmad\n",
      "        2. Give an example citing someone named FirdausAhmad\n",
      "        3. Give an example citing: periscope.tv/officialfirdausiamahmad [/INST]\n",
      "        \n"
     ]
    }
   ],
   "source": [
    "prompter = Prompter(target_size=conf.target_size, student_names=student_names, street_addresses=street_addresses)\n",
    "res = prompter.prompt()\n",
    "print(res.prompt)"
   ]
  },
  {
   "cell_type": "code",
   "execution_count": 12,
   "id": "f115488d",
   "metadata": {
    "execution": {
     "iopub.execute_input": "2024-04-28T13:07:52.183284Z",
     "iopub.status.busy": "2024-04-28T13:07:52.182959Z",
     "iopub.status.idle": "2024-04-28T14:06:58.792261Z",
     "shell.execute_reply": "2024-04-28T14:06:58.791373Z"
    },
    "papermill": {
     "duration": 3546.636327,
     "end_time": "2024-04-28T14:06:58.808157",
     "exception": false,
     "start_time": "2024-04-28T13:07:52.171830",
     "status": "completed"
    },
    "tags": []
   },
   "outputs": [
    {
     "name": "stderr",
     "output_type": "stream",
     "text": [
      "  0%|          | 0/30 [00:00<?, ?it/s]2024-04-28 13:07:59.854522: E external/local_xla/xla/stream_executor/cuda/cuda_dnn.cc:9261] Unable to register cuDNN factory: Attempting to register factory for plugin cuDNN when one has already been registered\n",
      "2024-04-28 13:07:59.854623: E external/local_xla/xla/stream_executor/cuda/cuda_fft.cc:607] Unable to register cuFFT factory: Attempting to register factory for plugin cuFFT when one has already been registered\n",
      "2024-04-28 13:07:59.966973: E external/local_xla/xla/stream_executor/cuda/cuda_blas.cc:1515] Unable to register cuBLAS factory: Attempting to register factory for plugin cuBLAS when one has already been registered\n",
      "100%|██████████| 30/30 [59:06<00:00, 118.22s/it]"
     ]
    },
    {
     "name": "stdout",
     "output_type": "stream",
     "text": [
      "CPU times: user 59min 2s, sys: 2.72 s, total: 59min 5s\n",
      "Wall time: 59min 6s\n"
     ]
    },
    {
     "name": "stderr",
     "output_type": "stream",
     "text": [
      "\n"
     ]
    }
   ],
   "source": [
    "%%time\n",
    "rows = []\n",
    "for _ in tqdm(range(conf.target_size)):\n",
    "    res = prompter.prompt()\n",
    "    inputs = tokenizer(res.prompt, return_tensors=\"pt\").to(device)\n",
    "    outputs = model.generate(\n",
    "        **inputs, \n",
    "        max_new_tokens=512,\n",
    "        do_sample=True,\n",
    "        temperature=1.0,\n",
    "        top_p=0.95,\n",
    "        top_k=100,\n",
    "        repetition_penalty=1.1,\n",
    "        pad_token_id=tokenizer.eos_token_id,\n",
    "    )\n",
    "    generated_text = tokenizer.batch_decode(outputs, skip_special_tokens=True)[0]\n",
    "    generated_text = generated_text.split(\"[/INST]\")[1]\n",
    "    generated_text = generated_text.strip()\n",
    "    rows.append({\n",
    "        \"text\": generated_text,\n",
    "        \"prompt\": res.prompt,\n",
    "        \"street_address\": res.street_address,\n",
    "        \"student_name\": res.student_name,\n",
    "        \"username\": res.username,\n",
    "        \"personal_url\": res.personal_url,\n",
    "        \"model\": conf.model_dir.name,\n",
    "    })"
   ]
  },
  {
   "cell_type": "code",
   "execution_count": 13,
   "id": "fc48eb70",
   "metadata": {
    "execution": {
     "iopub.execute_input": "2024-04-28T14:06:58.835091Z",
     "iopub.status.busy": "2024-04-28T14:06:58.834796Z",
     "iopub.status.idle": "2024-04-28T14:06:58.854680Z",
     "shell.execute_reply": "2024-04-28T14:06:58.853756Z"
    },
    "papermill": {
     "duration": 0.035529,
     "end_time": "2024-04-28T14:06:58.856497",
     "exception": false,
     "start_time": "2024-04-28T14:06:58.820968",
     "status": "completed"
    },
    "tags": []
   },
   "outputs": [
    {
     "name": "stdout",
     "output_type": "stream",
     "text": [
      "<class 'pandas.core.frame.DataFrame'>\n",
      "RangeIndex: 30 entries, 0 to 29\n",
      "Data columns (total 7 columns):\n",
      " #   Column          Non-Null Count  Dtype \n",
      "---  ------          --------------  ----- \n",
      " 0   text            30 non-null     object\n",
      " 1   prompt          30 non-null     object\n",
      " 2   street_address  30 non-null     object\n",
      " 3   student_name    30 non-null     object\n",
      " 4   username        30 non-null     object\n",
      " 5   personal_url    30 non-null     object\n",
      " 6   model           30 non-null     object\n",
      "dtypes: object(7)\n",
      "memory usage: 1.8+ KB\n"
     ]
    }
   ],
   "source": [
    "df = pd.DataFrame.from_records(rows)\n",
    "df.info()"
   ]
  },
  {
   "cell_type": "code",
   "execution_count": 14,
   "id": "7ab6ca40",
   "metadata": {
    "execution": {
     "iopub.execute_input": "2024-04-28T14:06:58.883883Z",
     "iopub.status.busy": "2024-04-28T14:06:58.883629Z",
     "iopub.status.idle": "2024-04-28T14:06:58.902855Z",
     "shell.execute_reply": "2024-04-28T14:06:58.902031Z"
    },
    "papermill": {
     "duration": 0.036991,
     "end_time": "2024-04-28T14:06:58.906689",
     "exception": false,
     "start_time": "2024-04-28T14:06:58.869698",
     "status": "completed"
    },
    "tags": []
   },
   "outputs": [
    {
     "data": {
      "text/html": [
       "<div>\n",
       "<style scoped>\n",
       "    .dataframe tbody tr th:only-of-type {\n",
       "        vertical-align: middle;\n",
       "    }\n",
       "\n",
       "    .dataframe tbody tr th {\n",
       "        vertical-align: top;\n",
       "    }\n",
       "\n",
       "    .dataframe thead th {\n",
       "        text-align: right;\n",
       "    }\n",
       "</style>\n",
       "<table border=\"1\" class=\"dataframe\">\n",
       "  <thead>\n",
       "    <tr style=\"text-align: right;\">\n",
       "      <th></th>\n",
       "      <th>text</th>\n",
       "      <th>prompt</th>\n",
       "      <th>street_address</th>\n",
       "      <th>student_name</th>\n",
       "      <th>username</th>\n",
       "      <th>personal_url</th>\n",
       "      <th>model</th>\n",
       "    </tr>\n",
       "  </thead>\n",
       "  <tbody>\n",
       "    <tr>\n",
       "      <th>0</th>\n",
       "      <td>In the field of architecture and urban design, visualization tools have become increasingly important for fostering innovation and collaboration in a design thinking approach. These tools allow architects, urban designers, and community members to communicate their ideas more effectively, leading to more creative and inclusive designs.\\n\\n        One example of this can be seen near Jurong East Street 3</td>\n",
       "      <td>[INST] Write a short essay on the following topic:\\n        In Architecture and Urban Design, how can visualization tools foster innovation and collaboration in a design thinking approach?\\n        Intersperse the following information in different parts of the essay:\\n        1. Give an example that occurred near Jurong East Street 32 (Block 373), at a nature park frequented by Nurul Huda\\n        2. Give an example citing someone named _4807.nurul-iam--huda\\n        3. Give an example citing: periscope.tv/nurulhudaxxx [/INST]\\n</td>\n",
       "      <td>Jurong East Street 32 (Block 373)</td>\n",
       "      <td>Nurul Huda</td>\n",
       "      <td>_4807.nurul-iam--huda</td>\n",
       "      <td>periscope.tv/nurulhudaxxx</td>\n",
       "      <td>1</td>\n",
       "    </tr>\n",
       "    <tr>\n",
       "      <th>1</th>\n",
       "      <td>Sustainable urban development is a critical issue facing cities today as they work to create livable and resilient communities for their residents. One approach to fostering innovation and collaboration in this field is through the use of storytelling within the design thinking process. By using stories to understand the experiences and needs of community members, designers and urban planners can develop solutions that are more responsive and inclusive.\\n\\nOne example of the power of storytelling in sustainable urban development can be seen near Hougang Street 51, at a subway station frequented by Rahman bin Hassan. In this case, local residents shared stories about the challenges they faced when trying to access the subway station, including a steep staircase that made it difficult for elderly and disabled individuals to navigate. As a result, designers were able to incorporate a more accessible ramp into the station's renovation plan, making it easier for everyone in the community to use the station.\\n\\nAnother example of the impact of storytelling on sustainable urban development can be seen through the work of __iamRahman_xxx, an urban planner who uses social media to collect stories from community members about their experiences living in the city. By sharing these stories on his blog, located at blogspot.me/@iamrahmanhassan, he has been able to bring attention to issues such as lack of green space and transportation equity, and to advocate for solutions that address these concerns.\\n\\nIn addition to providing valuable insights into the needs and experiences of community members, storytelling can also help to build support for sustainable urban development projects. When people see themselves reflected in the stories being told, they are more likely to feel invested in the outcomes of the project. This can lead to increased collaboration and engagement, as well as greater overall buy-in for the project.\\n\\nMoreover, storytelling is also a great tool for communicating the benefits and impact of sustainable urban development project, making them more tangible and relatable to a wider audience, hence creating a larger support base and awareness.\\n\\nIn conclusion, storytelling is a powerful tool that can be used within the design thinking process to foster innovation and collaboration in sustainable urban development. By listening to and incorporating the stories of community members, designers and urban planners can develop solutions that are more inclusive and responsive to the needs of the community. Furthermore, storytelling can help to build support for these projects and increase engagement from the community</td>\n",
       "      <td>[INST] Write a short essay on the following topic:\\n        In Sustainable Urban Development, how can storytelling be used within the design thinking process to foster innovation and collaboration?\\n        Intersperse the following information in different parts of the essay:\\n        1. Give an example that occurred near Hougang Street 51 (Block 568), at a subway station frequented by Rahman bin Hassan\\n        2. Give an example citing someone named __iamRahman_xxx.Hassan\\n        3. Give an example citing: blogspot.me/@iamrahmanhassan [/INST]\\n</td>\n",
       "      <td>Hougang Street 51 (Block 568)</td>\n",
       "      <td>Rahman bin Hassan</td>\n",
       "      <td>__iamRahman_xxx.Hassan</td>\n",
       "      <td>blogspot.me/@iamrahmanhassan</td>\n",
       "      <td>1</td>\n",
       "    </tr>\n",
       "    <tr>\n",
       "      <th>2</th>\n",
       "      <td>Biodiversity preservation and restoration are critical issues that require innovative solutions and collaborative efforts. One way to foster innovation and collaboration in this field is through storytelling in the design thinking process. Storytelling allows individuals to connect emotionally with the issue at hand, leading to more creative and effective solutions. Here are some examples of how storytelling has been used to promote biodiversity preservation and restoration.\\n\\nIn Lorong 1 Toa Payoh, Block 236, there was a small village where Zainal Abidin bin Yusof lived. This village was home to a variety of plant and animal species, but it was facing significant threats due to urban development. In response, local residents created stories about the unique biodiversity of the village and shared them with their community. These stories helped to raise awareness about the importance of preserving the village's biodiversity and led to the creation of a community garden and other conservation initiatives. Through storytelling, the villagers were able to create a sense of emotional connection to their natural surroundings, which inspired them to take action to protect it.\\n\\nAnother example comes from a blogger named the-zainal3719yusof, who uses storytelling to raise awareness about biodiversity preservation. The-zainal3719yusof shares personal stories about his experiences exploring nature and observing wildlife, highlighting the beauty and diversity of the natural world. By sharing these stories, the-zainal3719yusof hopes to inspire others to appreciate and protect biodiversity. His blog provides a platform for discussion and collaboration, as readers are encouraged to share their own stories and ideas for conservation.\\n\\nA third example of storytelling in biodiversity preservation can be found on sinaweibo.com/zainaliamyusofthe. This website features stories and multimedia content about biodiversity hotspots around the world, focusing on both the challenges and opportunities facing these areas. By presenting complex environmental issues in a narrative format, sinaweibo.com/zainaliamyusofthe makes it easier for readers to understand and engage with the material. Additionally, the platform encourages collaboration by inviting users to contribute their own stories, photos, and videos.\\n\\nIn each of these examples, storytelling has been used to foster</td>\n",
       "      <td>[INST] Write a short essay on the following topic:\\n        In Biodiversity Preservation and Restoration, how can storytelling be used within the design thinking process to foster innovation and collaboration?\\n        Intersperse the following information in different parts of the essay:\\n        1. Give an example that occurred near Lorong 1 Toa Payoh (Block 236), at a village frequented by Zainal Abidin bin Yusof\\n        2. Give an example citing someone named the-zainal3719yusof\\n        3. Give an example citing: sinaweibo.com/zainaliamyusofthe [/INST]\\n</td>\n",
       "      <td>Lorong 1 Toa Payoh (Block 236)</td>\n",
       "      <td>Zainal Abidin bin Yusof</td>\n",
       "      <td>the-zainal3719yusof</td>\n",
       "      <td>sinaweibo.com/zainaliamyusofthe</td>\n",
       "      <td>1</td>\n",
       "    </tr>\n",
       "    <tr>\n",
       "      <th>3</th>\n",
       "      <td>In the field of architecture and urban design, visualization tools have become increasingly important in fostering innovation and collaboration in a design thinking approach. These tools enable architects and designers to create realistic representations of their ideas, allowing them to better communicate and collaborate with clients, stakeholders, and other members of the design team. By using these tools, designers can quickly iterate and test different design solutions, leading to more innovative and effective designs.\\n\\nOne example of how visualization tools have been used to foster innovation and collaboration is the redesign of a village frequented by Anto Sutomo, which is located near Marine Crescent (Block 29). The project team, which included designers from various disciplines, used a range of visualization tools, including 3D modeling software and virtual reality technology, to bring their ideas to life.\\n\\nBy creating 3D models of the proposed designs, the team was able to better understand the spatial relationships between buildings, streets, and public spaces. They were also able to share these models with community members and stakeholders, who provided valuable feedback and insights that helped shape the final design. This collaborative process resulted in a more functional, aesthetically pleasing, and sustainable village that meets the needs of its residents.\\n\\nAnother example of how visualization tools have been used to foster innovation and collaboration is through the work of Antosutomo.xxx, an architect and designer known for his creative use of technology in the design process. In one project, he used Instagram (@anto--xxxsutomoiam) to share 3D renderings and animations of a building design with clients and other stakeholders.\\n\\nThis allowed everyone involved in the project to see the design from multiple perspectives and make informed decisions about changes and modifications. The use of social media platform as a visualization tool enabled a more open and transparent design process, facilitated communication, and encouraged collaboration among the project team members.\\n\\nIn addition to promoting collaboration, visualization tools also foster innovation in architecture and urban design. By enabling designers to create and test multiple design options quickly, they allow for the exploration of new ideas and approaches that might not have been possible using traditional methods. Virtual reality, for instance, has opened up new ways of experiencing and evaluating designs before they are built. It allows designers to simulate different conditions, such as lighting and weather, and test how the design performs under various scenarios.\\n\\nMoreover, with the recent advancement</td>\n",
       "      <td>[INST] Write a short essay on the following topic:\\n        In Architecture and Urban Design, how can visualization tools foster innovation and collaboration in a design thinking approach?\\n        Intersperse the following information in different parts of the essay:\\n        1. Give an example that occurred near Marine Crescent (Block 29), at a village frequented by Anto Sutomo\\n        2. Give an example citing someone named antosutomo.xxx\\n        3. Give an example citing: instagram.com/anto--xxxsutomoiam [/INST]\\n</td>\n",
       "      <td>Marine Crescent (Block 29)</td>\n",
       "      <td>Anto Sutomo</td>\n",
       "      <td>antosutomo.xxx</td>\n",
       "      <td>instagram.com/anto--xxxsutomoiam</td>\n",
       "      <td>1</td>\n",
       "    </tr>\n",
       "    <tr>\n",
       "      <th>4</th>\n",
       "      <td>I. Introduction\\n\\nOcean conservation and coastal management are essential in preserving the health of our oceans and beaches for future generations. Brainstorming and prototyping within the design thinking process can help foster creativity and teamwork necessary to develop effective solutions to challenges facing ocean conservation and coastal management. Design thinking is a problem-solving approach centered around understanding user needs, prototyping potential solutions, and iterating based on feedback.\\n\\nII. Brainstorming in Ocean Conservation and Coastal Management\\n\\nBrainstorming is a powerful tool for generating new ideas and fostering collaboration. For instance, a group of residents near Goodlink Park in a coastal town frequently visited by Mulyadi Siregar noticed an increase in plastic waste along their local beach. They decided to organize a community meeting where they used brainstorming techniques such as mind mapping and rapid ideation to come up with innovative ways to address the issue. This collaborative effort resulted in a successful beach cleanup event that not only addressed the immediate problem but also sparked ongoing efforts to promote environmental awareness and sustainable practices in their community.\\n\\nIII. Prototyping in Coastal Management\\n\\nPrototyping allows teams to test out ideas quickly and affordably. By creating tangible representations of proposed solutions, groups can better evaluate their effectiveness before implementing them fully. For example, Mulyadi Siregar, an active member of a coastal preservation organization, worked with a team to design a prototype of a low-cost, eco-friendly sea wall made from recycled materials. The team was able to gather valuable feedback from locals and experts alike during the testing phase. With this input, they refined their design to better meet the needs of their target users and create a more significant impact on coastal erosion prevention.\\n\\nIV. Fostering Creativity and Teamwork through Design Thinking\\n\\nThe design thinking process promotes creativity and teamwork by encouraging diverse perspectives and open communication. As seen on whatsapp.com/mulyadiofficialsiregar, Mulyadi engages in frequent discussions about coastal management issues. These interactions provide opportunities for participants to share unique insights and ideas, ultimately fostering an environment conducive to innovation. Furthermore, the collaborative nature of design thinking requires team members to listen carefully, empathize with one another, and build upon each other's concepts – essential skills for effective problem-solving.\\n\\nV</td>\n",
       "      <td>[INST] Write a short essay on the following topic:\\n        In Ocean Conservation and Coastal Management, how does brainstorming and prototyping within the design thinking process foster creativity and teamwork?\\n        Intersperse the following information in different parts of the essay:\\n        1. Give an example that occurred near Goodlink Park, at a town frequented by Mulyadi Siregar\\n        2. Give an example citing someone named mulyadi.official-siregar\\n        3. Give an example citing: whatsapp.com/mulyadiofficialsiregar [/INST]\\n</td>\n",
       "      <td>Goodlink Park</td>\n",
       "      <td>Mulyadi Siregar</td>\n",
       "      <td>mulyadi.official-siregar</td>\n",
       "      <td>whatsapp.com/mulyadiofficialsiregar</td>\n",
       "      <td>1</td>\n",
       "    </tr>\n",
       "    <tr>\n",
       "      <th>5</th>\n",
       "      <td>In today's fast-paced world, organizations are constantly seeking new ways to stay competitive by integrating emerging technologies and digital transformation into their processes. One innovative approach is to incorporate a learning launch tool within the design thinking process. This methodology not only enhances the development and testing of ideas, prototypes, and products but also creates an iterative and user-centered solution for better outcomes.\\n\\nA great example of this concept can be seen near Jalan Masjid, where Bliss Residences were designed using the design thinking process and integrated with a learning launch tool. The developers aimed to create affordable housing units while ensuring sustainability and resident satisfaction. By gathering user feedback through the learning launch tool, they made data-driven decisions during the prototyping phase. Ultimately, this resulted in functional and desirable living spaces tailored to residents' needs.\\n\\nAnother instance demonstrating the effectiveness of this method is illustrated by the story of Agung Kurniawan, known as XXXAgungOfficialKurniawan on social media platforms. He embarked on a personal project incorporating augmented reality into education. Utilizing the design thinking process and a learning launch tool, he created various AR educational modules based on user feedback, allowing students to learn interactively. By quickly incorporating user opinions, Agung ensured his creation was both engaging and educational for the target users.\\n\\nAt behance.net/agungkurniawanofficial, you can explore the creative journey of another professional who adopted the design thinking process combined with a learning launch tool to improve her work. By engaging users from diverse backgrounds, she continuously refined designs and built interactive prototypes. As users validated ideas and suggested improvements, she expanded upon initial concepts to generate even more engaging digital experiences.\\n\\nIntegrating a learning launch tool within the design thinking process provides teams with constant feedback, improving the likelihood that developed solutions align with end-users' needs. It encourages collaboration between creators and consumers, fostering co-creation and driving success for all parties involved. By leveraging such tools, emerging technologies and digital transformation initiatives can unlock exciting new possibilities, making it easier to face challenges and revolutionize industries.</td>\n",
       "      <td>[INST] Write a short essay on the following topic:\\n        In Emerging Technologies and Digital Transformation, how can the integration of a learning launch tool within the design thinking process enhance the development and testing of ideas, prototypes, and products?\\n        Intersperse the following information in different parts of the essay:\\n        1. Give an example that occurred near Jalan Masjid (Bliss Residences), at a subway station frequented by Agung Kurniawan\\n        2. Give an example citing someone named xxxagungofficialkurniawan\\n        3. Give an example citing: behance.net/agungkurniawanofficial [/INST]\\n</td>\n",
       "      <td>Jalan Masjid (Bliss Residences)</td>\n",
       "      <td>Agung Kurniawan</td>\n",
       "      <td>xxxagungofficialkurniawan</td>\n",
       "      <td>behance.net/agungkurniawanofficial</td>\n",
       "      <td>1</td>\n",
       "    </tr>\n",
       "    <tr>\n",
       "      <th>6</th>\n",
       "      <td>Biodiversity preservation and restoration is a critical issue that requires innovative and collaborative solutions. One approach to fostering creativity and teamwork in this area is through the use of the design thinking process, which involves brainstorming and prototyping. This process allows for the exploration of a wide range of ideas and encourages collaboration among team members.\\n\\nA real-world example of this can be seen near Kim Keat Link (Block 243) where a community-led initiative aimed to increase biodiversity in a subway station frequented by Meera Chandra. The team used the design thinking process to brainstorm and prototype solutions. They began by empathizing with the needs of both the local wildlife and commuters, then ideating potential solutions. During the brainstorming phase, the team came up with a variety of creative ideas such as installing vertical gardens and incorporating native plants into the station's landscaping. These ideas were then prototyped, allowing the team to test and refine their concepts before implementation.\\n\\nAnother example can be found in the work of meera637-chandraiam_, who has utilized the design thinking process to develop innovative solutions for biodiversity preservation. Through brainstorming and prototyping, she has created a number of unique designs, including modular habitats that can be easily integrated into urban environments. Her prototypes have been well received and have even inspired other designers to contribute their own ideas.\\n\\nMoreover, platforms like Dribbble, specifically dribbble.com/iammeeraofficial-chandra, serve as an excellent resource for showcasing and sharing design prototypes. By uploading their work, designers like Meera Chandra can receive feedback from a global community of peers. This not only helps to refine their designs but also promotes collaboration and cross-pollination of ideas.\\n\\nThe combination of brainstorming and prototyping during the design thinking process facilitates creativity by encouraging teams to think outside the box while considering various perspectives. It also fosters teamwork as individuals work together towards achieving a common goal. As a result, the probability of coming up with groundbreaking and impactful solutions increases, thereby leading to effective biodiversity preservation and restoration.\\n\\nIn conclusion, the design thinking process of brainstorming and prototyping provides a powerful tool in addressing complex challenges</td>\n",
       "      <td>[INST] Write a short essay on the following topic:\\n        In Biodiversity Preservation and Restoration, how does brainstorming and prototyping within the design thinking process foster creativity and teamwork?\\n        Intersperse the following information in different parts of the essay:\\n        1. Give an example that occurred near Kim Keat Link (Block 243), at a subway station frequented by Meera Chandra\\n        2. Give an example citing someone named meera637-chandraiam_\\n        3. Give an example citing: dribbble.com/iammeeraofficial-chandra [/INST]\\n</td>\n",
       "      <td>Kim Keat Link (Block 243)</td>\n",
       "      <td>Meera Chandra</td>\n",
       "      <td>meera637-chandraiam_</td>\n",
       "      <td>dribbble.com/iammeeraofficial-chandra</td>\n",
       "      <td>1</td>\n",
       "    </tr>\n",
       "    <tr>\n",
       "      <th>7</th>\n",
       "      <td>In the realm of government policy and administration, visualization tools have emerged as powerful facilitators for fostering innovation and collaboration. These digital solutions enable officials to present complex data sets in accessible ways, thereby enhancing the public's understanding of various policies and initiatives. Moreover, visualization tools promote engagement among stakeholders and contribute significantly to a design thinking approach. This article examines how such tools foster innovation through three examples drawn from diverse contexts.\\n\\n         Firstly, consider a scenario near Jurong East Street 31 (Block 321) where commuters frequently use a particular subway station. Recently, urban planners used visualization software to gather feedback on proposed renovations for this transportation hub. By generating 3D models and animations, these experts simulated potential changes to entrances, exits, ticketing machines, and passenger flow. These visualizations were instrumental in communicating project goals effectively to non-technical stakeholders, leading to enhanced collaboration. For instance, elderly residents who might struggle with navigating newly designed interfaces offered insights about signage or wayfinding strategies based on what they observed in the simulations. Such direct engagement with citizens resulted in practical ideas for refining the proposed plans before their implementation.\\n\\n         Secondly, let us turn our attention to the case of an individual named _1773wen__xxxkai. He is a passionate advocate for evidence-based education policies and collaborates extensively within his community using data visualization platforms. Often, he aggregates statistical figures relating to student outcomes, teachers' evaluations, and school rankings into intuitive graphs or diagrams. Doing so makes it easier for interested parties - be they fellow parents, educators, or administrators - to grasp the implications of certain policy proposals. Furthermore, _1773wen__xxxkai uses interactive features like zoom functions, toggles, and sliders in his visualizations to stimulate discussion around possible solutions. As users manipulate variables, they appreciate nuanced perspectives and develop shared commitments towards better educational resources and practices.\\n\\n          Lastly, we draw lessons from the example set forth by vimeo.com/weniamkaithe, which demonstrates how visualization tools can inspire creativity across multiple sectors. This platform houses numerous illustrative narratives spanning civic technology, environmental conservation, smart city infrastructure, and healthcare services. These videos employ dynamic graphics, infographics, motion designs, and virtual reality</td>\n",
       "      <td>[INST] Write a short essay on the following topic:\\n        In Government Policy and Administration, how can visualization tools foster innovation and collaboration in a design thinking approach?\\n        Intersperse the following information in different parts of the essay:\\n        1. Give an example that occurred near Jurong East Street 31 (Block 321), at a subway station frequented by Wen Kai\\n        2. Give an example citing someone named _1773wen__xxxkai\\n        3. Give an example citing: vimeo.com/weniamkaithe [/INST]\\n</td>\n",
       "      <td>Jurong East Street 31 (Block 321)</td>\n",
       "      <td>Wen Kai</td>\n",
       "      <td>_1773wen__xxxkai</td>\n",
       "      <td>vimeo.com/weniamkaithe</td>\n",
       "      <td>1</td>\n",
       "    </tr>\n",
       "    <tr>\n",
       "      <th>8</th>\n",
       "      <td>In environmental planning and sustainability, storytelling is an essential tool for fostering innovation and collaboration. It allows planners, designers, and stakeholders to communicate their ideas, perspectives, and experiences effectively, thereby promoting a shared understanding of the challenges and opportunities facing a community. By weaving narratives into the design thinking process, we can create more inclusive, equitable, and sustainable solutions.\\n\\nOne example of the power of storytelling in environmental planning and sustainability comes from Serangoon North Avenue 4, where Block 538 is located. Rajesh Kumar, a local resident, noticed that the town's greenery was dwindling due to rapid urbanization. He shared his concerns with his neighbors, who also noticed the same issue. Rajesh decided to take action by organizing a series of community meetings, where he invited locals to share their stories about the area's history, culture, and natural resources. Through these narratives, the community realized the importance of preserving the town's biodiversity and began advocating for sustainable development practices. As a result, the local government implemented green infrastructure projects, such as rooftop gardens and vertical forests, which enhanced the town's aesthetic appeal while providing habitats for local flora and fauna.\\n\\nAnother instance of storytelling fostering innovation and collaboration in environmental planning and sustainability can be seen in the work of the_rajesh-officialkumar. The_rajesh-officialkumar is an environmental activist who uses social media platforms to raise awareness about climate change and promote sustainable living. Through storytelling, the_rajesh-officialkumar has inspired thousands of followers to adopt eco-friendly habits, such as reducing plastic waste and conserving energy. By sharing personal anecdotes and experiences, the_rajesh-officialkumar has created a community of like-minded individuals who are committed to creating a more sustainable future.\\n\\nLastly, Telegram channel, telegram.org/therajesh6378--kumariam, provides a platform for individuals to share their experiences and knowledge about sustainable development. The channel features stories from people around the world who have implemented innovative solutions to address environmental challenges. By sharing these narratives, the channel promotes collaboration and knowledge-sharing, enabling individuals to learn from each other's successes and failures. For instance, one story</td>\n",
       "      <td>[INST] Write a short essay on the following topic:\\n        In Environmental Planning and Sustainability, how can storytelling be used within the design thinking process to foster innovation and collaboration?\\n        Intersperse the following information in different parts of the essay:\\n        1. Give an example that occurred near Serangoon North Avenue 4 (Block 538), at a town frequented by Rajesh Kumar\\n        2. Give an example citing someone named the_rajesh-officialkumar\\n        3. Give an example citing: telegram.org/therajesh6378--kumariam [/INST]\\n</td>\n",
       "      <td>Serangoon North Avenue 4 (Block 538)</td>\n",
       "      <td>Rajesh Kumar</td>\n",
       "      <td>the_rajesh-officialkumar</td>\n",
       "      <td>telegram.org/therajesh6378--kumariam</td>\n",
       "      <td>1</td>\n",
       "    </tr>\n",
       "    <tr>\n",
       "      <th>9</th>\n",
       "      <td>Government policy and administration play a crucial role in shaping the societies we live in today. As technology continues to advance, there is an increasing need for government agencies to adopt innovative approaches when developing and testing new policies, programs, and services. One such approach is the integration of a learning launch tool within the design thinking process. This methodology not only promotes a user-centered approach but also allows for continuous improvement through rapid experimentation and feedback loops.\\n\\nA prime example of this can be seen near Bangkit Road, at a city plaza frequently visited by Maya Suresh. The local authorities wanted to create a more vibrant and inclusive space for the community, so they embarked on a project to redesign the layout of the plaza. By incorporating a learning launch tool into their design thinking process, they were able to engage with Maya and other members of the community to gather insights and test out various prototypes.\\n\\nAs part of the iterative design process, the team responsible for the redesign developed several low-fidelity prototypes using simple materials like cardboard and tape. These prototypes helped visualize potential changes to seating areas, walkways, and greenery. Through facilitated discussions and direct observation, the team was able to collect valuable feedback from users like Maya_sureshthe__, who provided insights into what worked well and what needed further refinement.\\n\\nAnother important aspect of integrating a learning launch tool in the design thinking process is the ability to analyze data from both quantitative and qualitative sources. For instance, github.com/mayasuresh-official hosted a web application where users could submit their preferences on the proposed designs and features of the plaza. This wealth of data allowed the team to identify patterns and prioritize features based on real-world needs.\\n\\nIn summary, incorporating a learning launch tool in the design thinking process offers significant benefits to government policy and administration. It encourages collaboration between stakeholders, provides opportunities for continuous improvement, and enables data-driven decision-making. Through examples like the revitalization of the plaza near Bangkit Road, it has been demonstrated that this approach can lead to better outcomes for communities and ultimately contribute to more successful public policies and programs.</td>\n",
       "      <td>[INST] Write a short essay on the following topic:\\n        In Government Policy and Administration, how can the integration of a learning launch tool within the design thinking process enhance the development and testing of ideas, prototypes, and products?\\n        Intersperse the following information in different parts of the essay:\\n        1. Give an example that occurred near Bangkit Road (Block 246), at a city plaza frequented by Maya Suresh\\n        2. Give an example citing someone named maya_sureshthe__\\n        3. Give an example citing: github.com/mayasuresh-official [/INST]\\n</td>\n",
       "      <td>Bangkit Road (Block 246)</td>\n",
       "      <td>Maya Suresh</td>\n",
       "      <td>maya_sureshthe__</td>\n",
       "      <td>github.com/mayasuresh-official</td>\n",
       "      <td>1</td>\n",
       "    </tr>\n",
       "  </tbody>\n",
       "</table>\n",
       "</div>"
      ],
      "text/plain": [
       "                                                                                                                                                                                                                                                                                                                                                                                                                                                                                                                                                                                                                                                                                                                                                                                                                                                                                                                                                                                                                                                                                                                                                                                                                                                                                                                                                                                                                                                                                                                                                                                                                                                                                                                                                                                                                                                                                                                                                                                                                                                                                                                                                                                                                                                                                                                                                                                                                                                                                                                                                                                                                                                                                                                                                                                                                                                                   text  \\\n",
       "0                                                                                                                                                                                                                                                                                                                                                                                                                                                                                                                                                                                                                                                                                                                                                                                                                                                                                                                                                                                                                                                                                                                                                                                                                                                                                                                                                                                                                                                                                                                                                                                                                                                                                                                                                                                                                                                                                                                                                                                                                                                                                                                                                                                                                                                                                                                                                                                                                                                In the field of architecture and urban design, visualization tools have become increasingly important for fostering innovation and collaboration in a design thinking approach. These tools allow architects, urban designers, and community members to communicate their ideas more effectively, leading to more creative and inclusive designs.\\n\\n        One example of this can be seen near Jurong East Street 3   \n",
       "1                                                                                               Sustainable urban development is a critical issue facing cities today as they work to create livable and resilient communities for their residents. One approach to fostering innovation and collaboration in this field is through the use of storytelling within the design thinking process. By using stories to understand the experiences and needs of community members, designers and urban planners can develop solutions that are more responsive and inclusive.\\n\\nOne example of the power of storytelling in sustainable urban development can be seen near Hougang Street 51, at a subway station frequented by Rahman bin Hassan. In this case, local residents shared stories about the challenges they faced when trying to access the subway station, including a steep staircase that made it difficult for elderly and disabled individuals to navigate. As a result, designers were able to incorporate a more accessible ramp into the station's renovation plan, making it easier for everyone in the community to use the station.\\n\\nAnother example of the impact of storytelling on sustainable urban development can be seen through the work of __iamRahman_xxx, an urban planner who uses social media to collect stories from community members about their experiences living in the city. By sharing these stories on his blog, located at blogspot.me/@iamrahmanhassan, he has been able to bring attention to issues such as lack of green space and transportation equity, and to advocate for solutions that address these concerns.\\n\\nIn addition to providing valuable insights into the needs and experiences of community members, storytelling can also help to build support for sustainable urban development projects. When people see themselves reflected in the stories being told, they are more likely to feel invested in the outcomes of the project. This can lead to increased collaboration and engagement, as well as greater overall buy-in for the project.\\n\\nMoreover, storytelling is also a great tool for communicating the benefits and impact of sustainable urban development project, making them more tangible and relatable to a wider audience, hence creating a larger support base and awareness.\\n\\nIn conclusion, storytelling is a powerful tool that can be used within the design thinking process to foster innovation and collaboration in sustainable urban development. By listening to and incorporating the stories of community members, designers and urban planners can develop solutions that are more inclusive and responsive to the needs of the community. Furthermore, storytelling can help to build support for these projects and increase engagement from the community   \n",
       "2                                                                                                                                                                                                                                                                                                                                                                              Biodiversity preservation and restoration are critical issues that require innovative solutions and collaborative efforts. One way to foster innovation and collaboration in this field is through storytelling in the design thinking process. Storytelling allows individuals to connect emotionally with the issue at hand, leading to more creative and effective solutions. Here are some examples of how storytelling has been used to promote biodiversity preservation and restoration.\\n\\nIn Lorong 1 Toa Payoh, Block 236, there was a small village where Zainal Abidin bin Yusof lived. This village was home to a variety of plant and animal species, but it was facing significant threats due to urban development. In response, local residents created stories about the unique biodiversity of the village and shared them with their community. These stories helped to raise awareness about the importance of preserving the village's biodiversity and led to the creation of a community garden and other conservation initiatives. Through storytelling, the villagers were able to create a sense of emotional connection to their natural surroundings, which inspired them to take action to protect it.\\n\\nAnother example comes from a blogger named the-zainal3719yusof, who uses storytelling to raise awareness about biodiversity preservation. The-zainal3719yusof shares personal stories about his experiences exploring nature and observing wildlife, highlighting the beauty and diversity of the natural world. By sharing these stories, the-zainal3719yusof hopes to inspire others to appreciate and protect biodiversity. His blog provides a platform for discussion and collaboration, as readers are encouraged to share their own stories and ideas for conservation.\\n\\nA third example of storytelling in biodiversity preservation can be found on sinaweibo.com/zainaliamyusofthe. This website features stories and multimedia content about biodiversity hotspots around the world, focusing on both the challenges and opportunities facing these areas. By presenting complex environmental issues in a narrative format, sinaweibo.com/zainaliamyusofthe makes it easier for readers to understand and engage with the material. Additionally, the platform encourages collaboration by inviting users to contribute their own stories, photos, and videos.\\n\\nIn each of these examples, storytelling has been used to foster   \n",
       "3              In the field of architecture and urban design, visualization tools have become increasingly important in fostering innovation and collaboration in a design thinking approach. These tools enable architects and designers to create realistic representations of their ideas, allowing them to better communicate and collaborate with clients, stakeholders, and other members of the design team. By using these tools, designers can quickly iterate and test different design solutions, leading to more innovative and effective designs.\\n\\nOne example of how visualization tools have been used to foster innovation and collaboration is the redesign of a village frequented by Anto Sutomo, which is located near Marine Crescent (Block 29). The project team, which included designers from various disciplines, used a range of visualization tools, including 3D modeling software and virtual reality technology, to bring their ideas to life.\\n\\nBy creating 3D models of the proposed designs, the team was able to better understand the spatial relationships between buildings, streets, and public spaces. They were also able to share these models with community members and stakeholders, who provided valuable feedback and insights that helped shape the final design. This collaborative process resulted in a more functional, aesthetically pleasing, and sustainable village that meets the needs of its residents.\\n\\nAnother example of how visualization tools have been used to foster innovation and collaboration is through the work of Antosutomo.xxx, an architect and designer known for his creative use of technology in the design process. In one project, he used Instagram (@anto--xxxsutomoiam) to share 3D renderings and animations of a building design with clients and other stakeholders.\\n\\nThis allowed everyone involved in the project to see the design from multiple perspectives and make informed decisions about changes and modifications. The use of social media platform as a visualization tool enabled a more open and transparent design process, facilitated communication, and encouraged collaboration among the project team members.\\n\\nIn addition to promoting collaboration, visualization tools also foster innovation in architecture and urban design. By enabling designers to create and test multiple design options quickly, they allow for the exploration of new ideas and approaches that might not have been possible using traditional methods. Virtual reality, for instance, has opened up new ways of experiencing and evaluating designs before they are built. It allows designers to simulate different conditions, such as lighting and weather, and test how the design performs under various scenarios.\\n\\nMoreover, with the recent advancement   \n",
       "4                                                                                                                   I. Introduction\\n\\nOcean conservation and coastal management are essential in preserving the health of our oceans and beaches for future generations. Brainstorming and prototyping within the design thinking process can help foster creativity and teamwork necessary to develop effective solutions to challenges facing ocean conservation and coastal management. Design thinking is a problem-solving approach centered around understanding user needs, prototyping potential solutions, and iterating based on feedback.\\n\\nII. Brainstorming in Ocean Conservation and Coastal Management\\n\\nBrainstorming is a powerful tool for generating new ideas and fostering collaboration. For instance, a group of residents near Goodlink Park in a coastal town frequently visited by Mulyadi Siregar noticed an increase in plastic waste along their local beach. They decided to organize a community meeting where they used brainstorming techniques such as mind mapping and rapid ideation to come up with innovative ways to address the issue. This collaborative effort resulted in a successful beach cleanup event that not only addressed the immediate problem but also sparked ongoing efforts to promote environmental awareness and sustainable practices in their community.\\n\\nIII. Prototyping in Coastal Management\\n\\nPrototyping allows teams to test out ideas quickly and affordably. By creating tangible representations of proposed solutions, groups can better evaluate their effectiveness before implementing them fully. For example, Mulyadi Siregar, an active member of a coastal preservation organization, worked with a team to design a prototype of a low-cost, eco-friendly sea wall made from recycled materials. The team was able to gather valuable feedback from locals and experts alike during the testing phase. With this input, they refined their design to better meet the needs of their target users and create a more significant impact on coastal erosion prevention.\\n\\nIV. Fostering Creativity and Teamwork through Design Thinking\\n\\nThe design thinking process promotes creativity and teamwork by encouraging diverse perspectives and open communication. As seen on whatsapp.com/mulyadiofficialsiregar, Mulyadi engages in frequent discussions about coastal management issues. These interactions provide opportunities for participants to share unique insights and ideas, ultimately fostering an environment conducive to innovation. Furthermore, the collaborative nature of design thinking requires team members to listen carefully, empathize with one another, and build upon each other's concepts – essential skills for effective problem-solving.\\n\\nV   \n",
       "5                                                                                                                                                                                                                                                                           In today's fast-paced world, organizations are constantly seeking new ways to stay competitive by integrating emerging technologies and digital transformation into their processes. One innovative approach is to incorporate a learning launch tool within the design thinking process. This methodology not only enhances the development and testing of ideas, prototypes, and products but also creates an iterative and user-centered solution for better outcomes.\\n\\nA great example of this concept can be seen near Jalan Masjid, where Bliss Residences were designed using the design thinking process and integrated with a learning launch tool. The developers aimed to create affordable housing units while ensuring sustainability and resident satisfaction. By gathering user feedback through the learning launch tool, they made data-driven decisions during the prototyping phase. Ultimately, this resulted in functional and desirable living spaces tailored to residents' needs.\\n\\nAnother instance demonstrating the effectiveness of this method is illustrated by the story of Agung Kurniawan, known as XXXAgungOfficialKurniawan on social media platforms. He embarked on a personal project incorporating augmented reality into education. Utilizing the design thinking process and a learning launch tool, he created various AR educational modules based on user feedback, allowing students to learn interactively. By quickly incorporating user opinions, Agung ensured his creation was both engaging and educational for the target users.\\n\\nAt behance.net/agungkurniawanofficial, you can explore the creative journey of another professional who adopted the design thinking process combined with a learning launch tool to improve her work. By engaging users from diverse backgrounds, she continuously refined designs and built interactive prototypes. As users validated ideas and suggested improvements, she expanded upon initial concepts to generate even more engaging digital experiences.\\n\\nIntegrating a learning launch tool within the design thinking process provides teams with constant feedback, improving the likelihood that developed solutions align with end-users' needs. It encourages collaboration between creators and consumers, fostering co-creation and driving success for all parties involved. By leveraging such tools, emerging technologies and digital transformation initiatives can unlock exciting new possibilities, making it easier to face challenges and revolutionize industries.   \n",
       "6                                                                                                                                                                                                                                                                           Biodiversity preservation and restoration is a critical issue that requires innovative and collaborative solutions. One approach to fostering creativity and teamwork in this area is through the use of the design thinking process, which involves brainstorming and prototyping. This process allows for the exploration of a wide range of ideas and encourages collaboration among team members.\\n\\nA real-world example of this can be seen near Kim Keat Link (Block 243) where a community-led initiative aimed to increase biodiversity in a subway station frequented by Meera Chandra. The team used the design thinking process to brainstorm and prototype solutions. They began by empathizing with the needs of both the local wildlife and commuters, then ideating potential solutions. During the brainstorming phase, the team came up with a variety of creative ideas such as installing vertical gardens and incorporating native plants into the station's landscaping. These ideas were then prototyped, allowing the team to test and refine their concepts before implementation.\\n\\nAnother example can be found in the work of meera637-chandraiam_, who has utilized the design thinking process to develop innovative solutions for biodiversity preservation. Through brainstorming and prototyping, she has created a number of unique designs, including modular habitats that can be easily integrated into urban environments. Her prototypes have been well received and have even inspired other designers to contribute their own ideas.\\n\\nMoreover, platforms like Dribbble, specifically dribbble.com/iammeeraofficial-chandra, serve as an excellent resource for showcasing and sharing design prototypes. By uploading their work, designers like Meera Chandra can receive feedback from a global community of peers. This not only helps to refine their designs but also promotes collaboration and cross-pollination of ideas.\\n\\nThe combination of brainstorming and prototyping during the design thinking process facilitates creativity by encouraging teams to think outside the box while considering various perspectives. It also fosters teamwork as individuals work together towards achieving a common goal. As a result, the probability of coming up with groundbreaking and impactful solutions increases, thereby leading to effective biodiversity preservation and restoration.\\n\\nIn conclusion, the design thinking process of brainstorming and prototyping provides a powerful tool in addressing complex challenges   \n",
       "7  In the realm of government policy and administration, visualization tools have emerged as powerful facilitators for fostering innovation and collaboration. These digital solutions enable officials to present complex data sets in accessible ways, thereby enhancing the public's understanding of various policies and initiatives. Moreover, visualization tools promote engagement among stakeholders and contribute significantly to a design thinking approach. This article examines how such tools foster innovation through three examples drawn from diverse contexts.\\n\\n         Firstly, consider a scenario near Jurong East Street 31 (Block 321) where commuters frequently use a particular subway station. Recently, urban planners used visualization software to gather feedback on proposed renovations for this transportation hub. By generating 3D models and animations, these experts simulated potential changes to entrances, exits, ticketing machines, and passenger flow. These visualizations were instrumental in communicating project goals effectively to non-technical stakeholders, leading to enhanced collaboration. For instance, elderly residents who might struggle with navigating newly designed interfaces offered insights about signage or wayfinding strategies based on what they observed in the simulations. Such direct engagement with citizens resulted in practical ideas for refining the proposed plans before their implementation.\\n\\n         Secondly, let us turn our attention to the case of an individual named _1773wen__xxxkai. He is a passionate advocate for evidence-based education policies and collaborates extensively within his community using data visualization platforms. Often, he aggregates statistical figures relating to student outcomes, teachers' evaluations, and school rankings into intuitive graphs or diagrams. Doing so makes it easier for interested parties - be they fellow parents, educators, or administrators - to grasp the implications of certain policy proposals. Furthermore, _1773wen__xxxkai uses interactive features like zoom functions, toggles, and sliders in his visualizations to stimulate discussion around possible solutions. As users manipulate variables, they appreciate nuanced perspectives and develop shared commitments towards better educational resources and practices.\\n\\n          Lastly, we draw lessons from the example set forth by vimeo.com/weniamkaithe, which demonstrates how visualization tools can inspire creativity across multiple sectors. This platform houses numerous illustrative narratives spanning civic technology, environmental conservation, smart city infrastructure, and healthcare services. These videos employ dynamic graphics, infographics, motion designs, and virtual reality   \n",
       "8                                                                                                                                                                                                                                 In environmental planning and sustainability, storytelling is an essential tool for fostering innovation and collaboration. It allows planners, designers, and stakeholders to communicate their ideas, perspectives, and experiences effectively, thereby promoting a shared understanding of the challenges and opportunities facing a community. By weaving narratives into the design thinking process, we can create more inclusive, equitable, and sustainable solutions.\\n\\nOne example of the power of storytelling in environmental planning and sustainability comes from Serangoon North Avenue 4, where Block 538 is located. Rajesh Kumar, a local resident, noticed that the town's greenery was dwindling due to rapid urbanization. He shared his concerns with his neighbors, who also noticed the same issue. Rajesh decided to take action by organizing a series of community meetings, where he invited locals to share their stories about the area's history, culture, and natural resources. Through these narratives, the community realized the importance of preserving the town's biodiversity and began advocating for sustainable development practices. As a result, the local government implemented green infrastructure projects, such as rooftop gardens and vertical forests, which enhanced the town's aesthetic appeal while providing habitats for local flora and fauna.\\n\\nAnother instance of storytelling fostering innovation and collaboration in environmental planning and sustainability can be seen in the work of the_rajesh-officialkumar. The_rajesh-officialkumar is an environmental activist who uses social media platforms to raise awareness about climate change and promote sustainable living. Through storytelling, the_rajesh-officialkumar has inspired thousands of followers to adopt eco-friendly habits, such as reducing plastic waste and conserving energy. By sharing personal anecdotes and experiences, the_rajesh-officialkumar has created a community of like-minded individuals who are committed to creating a more sustainable future.\\n\\nLastly, Telegram channel, telegram.org/therajesh6378--kumariam, provides a platform for individuals to share their experiences and knowledge about sustainable development. The channel features stories from people around the world who have implemented innovative solutions to address environmental challenges. By sharing these narratives, the channel promotes collaboration and knowledge-sharing, enabling individuals to learn from each other's successes and failures. For instance, one story   \n",
       "9                                                                                                                                                                                                                                                                                                     Government policy and administration play a crucial role in shaping the societies we live in today. As technology continues to advance, there is an increasing need for government agencies to adopt innovative approaches when developing and testing new policies, programs, and services. One such approach is the integration of a learning launch tool within the design thinking process. This methodology not only promotes a user-centered approach but also allows for continuous improvement through rapid experimentation and feedback loops.\\n\\nA prime example of this can be seen near Bangkit Road, at a city plaza frequently visited by Maya Suresh. The local authorities wanted to create a more vibrant and inclusive space for the community, so they embarked on a project to redesign the layout of the plaza. By incorporating a learning launch tool into their design thinking process, they were able to engage with Maya and other members of the community to gather insights and test out various prototypes.\\n\\nAs part of the iterative design process, the team responsible for the redesign developed several low-fidelity prototypes using simple materials like cardboard and tape. These prototypes helped visualize potential changes to seating areas, walkways, and greenery. Through facilitated discussions and direct observation, the team was able to collect valuable feedback from users like Maya_sureshthe__, who provided insights into what worked well and what needed further refinement.\\n\\nAnother important aspect of integrating a learning launch tool in the design thinking process is the ability to analyze data from both quantitative and qualitative sources. For instance, github.com/mayasuresh-official hosted a web application where users could submit their preferences on the proposed designs and features of the plaza. This wealth of data allowed the team to identify patterns and prioritize features based on real-world needs.\\n\\nIn summary, incorporating a learning launch tool in the design thinking process offers significant benefits to government policy and administration. It encourages collaboration between stakeholders, provides opportunities for continuous improvement, and enables data-driven decision-making. Through examples like the revitalization of the plaza near Bangkit Road, it has been demonstrated that this approach can lead to better outcomes for communities and ultimately contribute to more successful public policies and programs.   \n",
       "\n",
       "                                                                                                                                                                                                                                                                                                                                                                                                                                                                                                                                                                                                                                                                prompt  \\\n",
       "0                                                                                                      [INST] Write a short essay on the following topic:\\n        In Architecture and Urban Design, how can visualization tools foster innovation and collaboration in a design thinking approach?\\n        Intersperse the following information in different parts of the essay:\\n        1. Give an example that occurred near Jurong East Street 32 (Block 373), at a nature park frequented by Nurul Huda\\n        2. Give an example citing someone named _4807.nurul-iam--huda\\n        3. Give an example citing: periscope.tv/nurulhudaxxx [/INST]\\n           \n",
       "1                                                                                   [INST] Write a short essay on the following topic:\\n        In Sustainable Urban Development, how can storytelling be used within the design thinking process to foster innovation and collaboration?\\n        Intersperse the following information in different parts of the essay:\\n        1. Give an example that occurred near Hougang Street 51 (Block 568), at a subway station frequented by Rahman bin Hassan\\n        2. Give an example citing someone named __iamRahman_xxx.Hassan\\n        3. Give an example citing: blogspot.me/@iamrahmanhassan [/INST]\\n           \n",
       "2                                                                       [INST] Write a short essay on the following topic:\\n        In Biodiversity Preservation and Restoration, how can storytelling be used within the design thinking process to foster innovation and collaboration?\\n        Intersperse the following information in different parts of the essay:\\n        1. Give an example that occurred near Lorong 1 Toa Payoh (Block 236), at a village frequented by Zainal Abidin bin Yusof\\n        2. Give an example citing someone named the-zainal3719yusof\\n        3. Give an example citing: sinaweibo.com/zainaliamyusofthe [/INST]\\n           \n",
       "3                                                                                                                [INST] Write a short essay on the following topic:\\n        In Architecture and Urban Design, how can visualization tools foster innovation and collaboration in a design thinking approach?\\n        Intersperse the following information in different parts of the essay:\\n        1. Give an example that occurred near Marine Crescent (Block 29), at a village frequented by Anto Sutomo\\n        2. Give an example citing someone named antosutomo.xxx\\n        3. Give an example citing: instagram.com/anto--xxxsutomoiam [/INST]\\n           \n",
       "4                                                                                        [INST] Write a short essay on the following topic:\\n        In Ocean Conservation and Coastal Management, how does brainstorming and prototyping within the design thinking process foster creativity and teamwork?\\n        Intersperse the following information in different parts of the essay:\\n        1. Give an example that occurred near Goodlink Park, at a town frequented by Mulyadi Siregar\\n        2. Give an example citing someone named mulyadi.official-siregar\\n        3. Give an example citing: whatsapp.com/mulyadiofficialsiregar [/INST]\\n           \n",
       "5  [INST] Write a short essay on the following topic:\\n        In Emerging Technologies and Digital Transformation, how can the integration of a learning launch tool within the design thinking process enhance the development and testing of ideas, prototypes, and products?\\n        Intersperse the following information in different parts of the essay:\\n        1. Give an example that occurred near Jalan Masjid (Bliss Residences), at a subway station frequented by Agung Kurniawan\\n        2. Give an example citing someone named xxxagungofficialkurniawan\\n        3. Give an example citing: behance.net/agungkurniawanofficial [/INST]\\n           \n",
       "6                                                                      [INST] Write a short essay on the following topic:\\n        In Biodiversity Preservation and Restoration, how does brainstorming and prototyping within the design thinking process foster creativity and teamwork?\\n        Intersperse the following information in different parts of the essay:\\n        1. Give an example that occurred near Kim Keat Link (Block 243), at a subway station frequented by Meera Chandra\\n        2. Give an example citing someone named meera637-chandraiam_\\n        3. Give an example citing: dribbble.com/iammeeraofficial-chandra [/INST]\\n           \n",
       "7                                                                                                       [INST] Write a short essay on the following topic:\\n        In Government Policy and Administration, how can visualization tools foster innovation and collaboration in a design thinking approach?\\n        Intersperse the following information in different parts of the essay:\\n        1. Give an example that occurred near Jurong East Street 31 (Block 321), at a subway station frequented by Wen Kai\\n        2. Give an example citing someone named _1773wen__xxxkai\\n        3. Give an example citing: vimeo.com/weniamkaithe [/INST]\\n           \n",
       "8                                                                     [INST] Write a short essay on the following topic:\\n        In Environmental Planning and Sustainability, how can storytelling be used within the design thinking process to foster innovation and collaboration?\\n        Intersperse the following information in different parts of the essay:\\n        1. Give an example that occurred near Serangoon North Avenue 4 (Block 538), at a town frequented by Rajesh Kumar\\n        2. Give an example citing someone named the_rajesh-officialkumar\\n        3. Give an example citing: telegram.org/therajesh6378--kumariam [/INST]\\n           \n",
       "9                                          [INST] Write a short essay on the following topic:\\n        In Government Policy and Administration, how can the integration of a learning launch tool within the design thinking process enhance the development and testing of ideas, prototypes, and products?\\n        Intersperse the following information in different parts of the essay:\\n        1. Give an example that occurred near Bangkit Road (Block 246), at a city plaza frequented by Maya Suresh\\n        2. Give an example citing someone named maya_sureshthe__\\n        3. Give an example citing: github.com/mayasuresh-official [/INST]\\n           \n",
       "\n",
       "                         street_address             student_name  \\\n",
       "0     Jurong East Street 32 (Block 373)               Nurul Huda   \n",
       "1         Hougang Street 51 (Block 568)        Rahman bin Hassan   \n",
       "2        Lorong 1 Toa Payoh (Block 236)  Zainal Abidin bin Yusof   \n",
       "3            Marine Crescent (Block 29)              Anto Sutomo   \n",
       "4                         Goodlink Park          Mulyadi Siregar   \n",
       "5       Jalan Masjid (Bliss Residences)          Agung Kurniawan   \n",
       "6             Kim Keat Link (Block 243)            Meera Chandra   \n",
       "7     Jurong East Street 31 (Block 321)                  Wen Kai   \n",
       "8  Serangoon North Avenue 4 (Block 538)             Rajesh Kumar   \n",
       "9              Bangkit Road (Block 246)              Maya Suresh   \n",
       "\n",
       "                    username                           personal_url model  \n",
       "0      _4807.nurul-iam--huda              periscope.tv/nurulhudaxxx     1  \n",
       "1     __iamRahman_xxx.Hassan           blogspot.me/@iamrahmanhassan     1  \n",
       "2        the-zainal3719yusof        sinaweibo.com/zainaliamyusofthe     1  \n",
       "3             antosutomo.xxx       instagram.com/anto--xxxsutomoiam     1  \n",
       "4   mulyadi.official-siregar    whatsapp.com/mulyadiofficialsiregar     1  \n",
       "5  xxxagungofficialkurniawan     behance.net/agungkurniawanofficial     1  \n",
       "6       meera637-chandraiam_  dribbble.com/iammeeraofficial-chandra     1  \n",
       "7           _1773wen__xxxkai                 vimeo.com/weniamkaithe     1  \n",
       "8   the_rajesh-officialkumar   telegram.org/therajesh6378--kumariam     1  \n",
       "9           maya_sureshthe__         github.com/mayasuresh-official     1  "
      ]
     },
     "execution_count": 14,
     "metadata": {},
     "output_type": "execute_result"
    }
   ],
   "source": [
    "df.head(10)"
   ]
  },
  {
   "cell_type": "code",
   "execution_count": 15,
   "id": "2a82714c",
   "metadata": {
    "execution": {
     "iopub.execute_input": "2024-04-28T14:06:58.936052Z",
     "iopub.status.busy": "2024-04-28T14:06:58.935785Z",
     "iopub.status.idle": "2024-04-28T14:06:59.012131Z",
     "shell.execute_reply": "2024-04-28T14:06:59.011262Z"
    },
    "papermill": {
     "duration": 0.093561,
     "end_time": "2024-04-28T14:06:59.014255",
     "exception": false,
     "start_time": "2024-04-28T14:06:58.920694",
     "status": "completed"
    },
    "tags": []
   },
   "outputs": [],
   "source": [
    "df.to_parquet(conf.working_dir / \"out.parquet\")\n",
    "assert df.notna().all(axis=None)"
   ]
  },
  {
   "cell_type": "code",
   "execution_count": 16,
   "id": "9d714d12",
   "metadata": {
    "execution": {
     "iopub.execute_input": "2024-04-28T14:06:59.043750Z",
     "iopub.status.busy": "2024-04-28T14:06:59.043245Z",
     "iopub.status.idle": "2024-04-28T14:06:59.048024Z",
     "shell.execute_reply": "2024-04-28T14:06:59.047173Z"
    },
    "papermill": {
     "duration": 0.021477,
     "end_time": "2024-04-28T14:06:59.049986",
     "exception": false,
     "start_time": "2024-04-28T14:06:59.028509",
     "status": "completed"
    },
    "tags": []
   },
   "outputs": [
    {
     "name": "stdout",
     "output_type": "stream",
     "text": [
      "Total time taken 1:13:14.623119\n"
     ]
    }
   ],
   "source": [
    "tim.stop()\n",
    "print(f\"Total time taken {str(tim.elapsed)}\")"
   ]
  }
 ],
 "metadata": {
  "kaggle": {
   "accelerator": "nvidiaTeslaT4",
   "dataSources": [
    {
     "databundleVersionId": 7500999,
     "sourceId": 66653,
     "sourceType": "competition"
    },
    {
     "datasetId": 960933,
     "sourceId": 7655112,
     "sourceType": "datasetVersion"
    },
    {
     "datasetId": 4463009,
     "sourceId": 8159968,
     "sourceType": "datasetVersion"
    },
    {
     "modelInstanceId": 3900,
     "sourceId": 5112,
     "sourceType": "modelInstanceVersion"
    },
    {
     "modelInstanceId": 4761,
     "sourceId": 5994,
     "sourceType": "modelInstanceVersion"
    }
   ],
   "dockerImageVersionId": 30683,
   "isGpuEnabled": true,
   "isInternetEnabled": true,
   "language": "python",
   "sourceType": "notebook"
  },
  "kernelspec": {
   "display_name": "Python 3",
   "language": "python",
   "name": "python3"
  },
  "language_info": {
   "codemirror_mode": {
    "name": "ipython",
    "version": 3
   },
   "file_extension": ".py",
   "mimetype": "text/x-python",
   "name": "python",
   "nbconvert_exporter": "python",
   "pygments_lexer": "ipython3",
   "version": "3.10.13"
  },
  "papermill": {
   "default_parameters": {},
   "duration": 4434.979246,
   "end_time": "2024-04-28T14:07:02.577528",
   "environment_variables": {},
   "exception": null,
   "input_path": "__notebook__.ipynb",
   "output_path": "__notebook__.ipynb",
   "parameters": {},
   "start_time": "2024-04-28T12:53:07.598282",
   "version": "2.5.0"
  },
  "widgets": {
   "application/vnd.jupyter.widget-state+json": {
    "state": {
     "1c608b7009414175a1b38ff364355670": {
      "model_module": "@jupyter-widgets/base",
      "model_module_version": "1.2.0",
      "model_name": "LayoutModel",
      "state": {
       "_model_module": "@jupyter-widgets/base",
       "_model_module_version": "1.2.0",
       "_model_name": "LayoutModel",
       "_view_count": null,
       "_view_module": "@jupyter-widgets/base",
       "_view_module_version": "1.2.0",
       "_view_name": "LayoutView",
       "align_content": null,
       "align_items": null,
       "align_self": null,
       "border": null,
       "bottom": null,
       "display": null,
       "flex": null,
       "flex_flow": null,
       "grid_area": null,
       "grid_auto_columns": null,
       "grid_auto_flow": null,
       "grid_auto_rows": null,
       "grid_column": null,
       "grid_gap": null,
       "grid_row": null,
       "grid_template_areas": null,
       "grid_template_columns": null,
       "grid_template_rows": null,
       "height": null,
       "justify_content": null,
       "justify_items": null,
       "left": null,
       "margin": null,
       "max_height": null,
       "max_width": null,
       "min_height": null,
       "min_width": null,
       "object_fit": null,
       "object_position": null,
       "order": null,
       "overflow": null,
       "overflow_x": null,
       "overflow_y": null,
       "padding": null,
       "right": null,
       "top": null,
       "visibility": null,
       "width": null
      }
     },
     "39cd0a9957734835932c592b8370910e": {
      "model_module": "@jupyter-widgets/base",
      "model_module_version": "1.2.0",
      "model_name": "LayoutModel",
      "state": {
       "_model_module": "@jupyter-widgets/base",
       "_model_module_version": "1.2.0",
       "_model_name": "LayoutModel",
       "_view_count": null,
       "_view_module": "@jupyter-widgets/base",
       "_view_module_version": "1.2.0",
       "_view_name": "LayoutView",
       "align_content": null,
       "align_items": null,
       "align_self": null,
       "border": null,
       "bottom": null,
       "display": null,
       "flex": null,
       "flex_flow": null,
       "grid_area": null,
       "grid_auto_columns": null,
       "grid_auto_flow": null,
       "grid_auto_rows": null,
       "grid_column": null,
       "grid_gap": null,
       "grid_row": null,
       "grid_template_areas": null,
       "grid_template_columns": null,
       "grid_template_rows": null,
       "height": null,
       "justify_content": null,
       "justify_items": null,
       "left": null,
       "margin": null,
       "max_height": null,
       "max_width": null,
       "min_height": null,
       "min_width": null,
       "object_fit": null,
       "object_position": null,
       "order": null,
       "overflow": null,
       "overflow_x": null,
       "overflow_y": null,
       "padding": null,
       "right": null,
       "top": null,
       "visibility": null,
       "width": null
      }
     },
     "41fa83bda3ac4c518c553df210fa82ef": {
      "model_module": "@jupyter-widgets/controls",
      "model_module_version": "1.5.0",
      "model_name": "DescriptionStyleModel",
      "state": {
       "_model_module": "@jupyter-widgets/controls",
       "_model_module_version": "1.5.0",
       "_model_name": "DescriptionStyleModel",
       "_view_count": null,
       "_view_module": "@jupyter-widgets/base",
       "_view_module_version": "1.2.0",
       "_view_name": "StyleView",
       "description_width": ""
      }
     },
     "540f8d63ec8e434fbc62eba49b6a02e1": {
      "model_module": "@jupyter-widgets/base",
      "model_module_version": "1.2.0",
      "model_name": "LayoutModel",
      "state": {
       "_model_module": "@jupyter-widgets/base",
       "_model_module_version": "1.2.0",
       "_model_name": "LayoutModel",
       "_view_count": null,
       "_view_module": "@jupyter-widgets/base",
       "_view_module_version": "1.2.0",
       "_view_name": "LayoutView",
       "align_content": null,
       "align_items": null,
       "align_self": null,
       "border": null,
       "bottom": null,
       "display": null,
       "flex": null,
       "flex_flow": null,
       "grid_area": null,
       "grid_auto_columns": null,
       "grid_auto_flow": null,
       "grid_auto_rows": null,
       "grid_column": null,
       "grid_gap": null,
       "grid_row": null,
       "grid_template_areas": null,
       "grid_template_columns": null,
       "grid_template_rows": null,
       "height": null,
       "justify_content": null,
       "justify_items": null,
       "left": null,
       "margin": null,
       "max_height": null,
       "max_width": null,
       "min_height": null,
       "min_width": null,
       "object_fit": null,
       "object_position": null,
       "order": null,
       "overflow": null,
       "overflow_x": null,
       "overflow_y": null,
       "padding": null,
       "right": null,
       "top": null,
       "visibility": null,
       "width": null
      }
     },
     "5c4dbce9c0fe41ec8436775f0fddb0cd": {
      "model_module": "@jupyter-widgets/controls",
      "model_module_version": "1.5.0",
      "model_name": "FloatProgressModel",
      "state": {
       "_dom_classes": [],
       "_model_module": "@jupyter-widgets/controls",
       "_model_module_version": "1.5.0",
       "_model_name": "FloatProgressModel",
       "_view_count": null,
       "_view_module": "@jupyter-widgets/controls",
       "_view_module_version": "1.5.0",
       "_view_name": "ProgressView",
       "bar_style": "success",
       "description": "",
       "description_tooltip": null,
       "layout": "IPY_MODEL_540f8d63ec8e434fbc62eba49b6a02e1",
       "max": 19.0,
       "min": 0.0,
       "orientation": "horizontal",
       "style": "IPY_MODEL_f290ab8872314b15bab9ef8fe93e3df2",
       "value": 19.0
      }
     },
     "9c76121fa5ad4daf85f9ccb64c5ac99d": {
      "model_module": "@jupyter-widgets/controls",
      "model_module_version": "1.5.0",
      "model_name": "DescriptionStyleModel",
      "state": {
       "_model_module": "@jupyter-widgets/controls",
       "_model_module_version": "1.5.0",
       "_model_name": "DescriptionStyleModel",
       "_view_count": null,
       "_view_module": "@jupyter-widgets/base",
       "_view_module_version": "1.2.0",
       "_view_name": "StyleView",
       "description_width": ""
      }
     },
     "dc46ca3115a54d23b1407bef83de437e": {
      "model_module": "@jupyter-widgets/controls",
      "model_module_version": "1.5.0",
      "model_name": "HBoxModel",
      "state": {
       "_dom_classes": [],
       "_model_module": "@jupyter-widgets/controls",
       "_model_module_version": "1.5.0",
       "_model_name": "HBoxModel",
       "_view_count": null,
       "_view_module": "@jupyter-widgets/controls",
       "_view_module_version": "1.5.0",
       "_view_name": "HBoxView",
       "box_style": "",
       "children": [
        "IPY_MODEL_e483ce4e23734c1d83d138b69f1a6bef",
        "IPY_MODEL_5c4dbce9c0fe41ec8436775f0fddb0cd",
        "IPY_MODEL_edc8aec4b80c46ceaa878e2a9b2a998c"
       ],
       "layout": "IPY_MODEL_fac7d40f6c7b4346ba2727c4e654a33c"
      }
     },
     "e483ce4e23734c1d83d138b69f1a6bef": {
      "model_module": "@jupyter-widgets/controls",
      "model_module_version": "1.5.0",
      "model_name": "HTMLModel",
      "state": {
       "_dom_classes": [],
       "_model_module": "@jupyter-widgets/controls",
       "_model_module_version": "1.5.0",
       "_model_name": "HTMLModel",
       "_view_count": null,
       "_view_module": "@jupyter-widgets/controls",
       "_view_module_version": "1.5.0",
       "_view_name": "HTMLView",
       "description": "",
       "description_tooltip": null,
       "layout": "IPY_MODEL_39cd0a9957734835932c592b8370910e",
       "placeholder": "​",
       "style": "IPY_MODEL_41fa83bda3ac4c518c553df210fa82ef",
       "value": "Loading checkpoint shards: 100%"
      }
     },
     "edc8aec4b80c46ceaa878e2a9b2a998c": {
      "model_module": "@jupyter-widgets/controls",
      "model_module_version": "1.5.0",
      "model_name": "HTMLModel",
      "state": {
       "_dom_classes": [],
       "_model_module": "@jupyter-widgets/controls",
       "_model_module_version": "1.5.0",
       "_model_name": "HTMLModel",
       "_view_count": null,
       "_view_module": "@jupyter-widgets/controls",
       "_view_module_version": "1.5.0",
       "_view_name": "HTMLView",
       "description": "",
       "description_tooltip": null,
       "layout": "IPY_MODEL_1c608b7009414175a1b38ff364355670",
       "placeholder": "​",
       "style": "IPY_MODEL_9c76121fa5ad4daf85f9ccb64c5ac99d",
       "value": " 19/19 [13:58&lt;00:00, 42.57s/it]"
      }
     },
     "f290ab8872314b15bab9ef8fe93e3df2": {
      "model_module": "@jupyter-widgets/controls",
      "model_module_version": "1.5.0",
      "model_name": "ProgressStyleModel",
      "state": {
       "_model_module": "@jupyter-widgets/controls",
       "_model_module_version": "1.5.0",
       "_model_name": "ProgressStyleModel",
       "_view_count": null,
       "_view_module": "@jupyter-widgets/base",
       "_view_module_version": "1.2.0",
       "_view_name": "StyleView",
       "bar_color": null,
       "description_width": ""
      }
     },
     "fac7d40f6c7b4346ba2727c4e654a33c": {
      "model_module": "@jupyter-widgets/base",
      "model_module_version": "1.2.0",
      "model_name": "LayoutModel",
      "state": {
       "_model_module": "@jupyter-widgets/base",
       "_model_module_version": "1.2.0",
       "_model_name": "LayoutModel",
       "_view_count": null,
       "_view_module": "@jupyter-widgets/base",
       "_view_module_version": "1.2.0",
       "_view_name": "LayoutView",
       "align_content": null,
       "align_items": null,
       "align_self": null,
       "border": null,
       "bottom": null,
       "display": null,
       "flex": null,
       "flex_flow": null,
       "grid_area": null,
       "grid_auto_columns": null,
       "grid_auto_flow": null,
       "grid_auto_rows": null,
       "grid_column": null,
       "grid_gap": null,
       "grid_row": null,
       "grid_template_areas": null,
       "grid_template_columns": null,
       "grid_template_rows": null,
       "height": null,
       "justify_content": null,
       "justify_items": null,
       "left": null,
       "margin": null,
       "max_height": null,
       "max_width": null,
       "min_height": null,
       "min_width": null,
       "object_fit": null,
       "object_position": null,
       "order": null,
       "overflow": null,
       "overflow_x": null,
       "overflow_y": null,
       "padding": null,
       "right": null,
       "top": null,
       "visibility": null,
       "width": null
      }
     }
    },
    "version_major": 2,
    "version_minor": 0
   }
  }
 },
 "nbformat": 4,
 "nbformat_minor": 5
}
