{
 "cells": [
  {
   "cell_type": "code",
   "execution_count": 9,
   "id": "24651777-410e-4d73-9c61-65147cbb4924",
   "metadata": {},
   "outputs": [
    {
     "name": "stdout",
     "output_type": "stream",
     "text": [
      "int16, min=-32768, max=32767\n"
     ]
    }
   ],
   "source": [
    "import os\n",
    "import json\n",
    "import gc\n",
    "from datetime import datetime\n",
    "from pathlib import Path\n",
    "import numpy as np\n",
    "import pandas as pd\n",
    "from sklearn.model_selection import StratifiedKFold\n",
    "from tqdm import tqdm\n",
    "from typing import Dict, List, Set, Tuple, NamedTuple, Callable\n",
    "import scml\n",
    "from scml import pandasx as pdx\n",
    "from mylib.ner import NerDataset\n",
    "tim = scml.Timer()\n",
    "tim.start()\n",
    "os.environ[\"TOKENIZERS_PARALLELISM\"] = \"false\"\n",
    "percentiles=[.01, .05, .1, .2, .3, .4, .5, .6, .7, .8, .9, .95, .99]\n",
    "pd.set_option(\"max_info_columns\", 9999)\n",
    "pd.set_option(\"display.max_columns\", 9999)\n",
    "pd.set_option(\"display.max_rows\", 9999)\n",
    "pd.set_option('max_colwidth', 9999)\n",
    "tqdm.pandas()\n",
    "scml.seed_everything()\n",
    "info = np.iinfo(np.int16)\n",
    "print(f\"int16, min={info.min}, max={info.max}\")"
   ]
  },
  {
   "cell_type": "code",
   "execution_count": 10,
   "id": "ad5032da-c7f5-4836-9993-c832b286db0a",
   "metadata": {},
   "outputs": [
    {
     "name": "stdout",
     "output_type": "stream",
     "text": [
      "len(data)=5\n",
      "data.keys=dict_keys(['document', 'full_text', 'tokens', 'trailing_whitespace', 'labels'])\n"
     ]
    }
   ],
   "source": [
    "with open(\"input/mandrilator/pii_dataset_Mistral_2k_v2.json\") as f:\n",
    "    data = json.load(f)\n",
    "print(f\"len(data)={len(data):,}\\ndata.keys={data.keys()}\")"
   ]
  },
  {
   "cell_type": "code",
   "execution_count": 11,
   "id": "63a8c225-1c60-4a14-a2fb-61a8794611d2",
   "metadata": {},
   "outputs": [
    {
     "name": "stdout",
     "output_type": "stream",
     "text": [
      "len(rows)=2000\n"
     ]
    }
   ],
   "source": [
    "dids=set()\n",
    "rows=[]\n",
    "for i in range(len(data[\"document\"])):\n",
    "    k=str(i)\n",
    "    did=data[\"document\"][k]\n",
    "    did=f\"mandri_{did}\"\n",
    "    if did in dids:\n",
    "        raise ValueError(f\"Duplicate document id={did}\")\n",
    "    dids.add(did)\n",
    "    rows.append({\n",
    "        \"document\": did,\n",
    "        \"full_text\": data[\"full_text\"][k],\n",
    "        \"tokens\": data[\"tokens\"][k],\n",
    "        \"trailing_whitespace\": data[\"trailing_whitespace\"][k],\n",
    "        \"labels\": data[\"labels\"][k],\n",
    "    })\n",
    "print(f\"len(rows)={len(rows)}\")\n",
    "with open(\"output/mandri02.json\", \"w\") as f:\n",
    "    json.dump(rows, f)"
   ]
  },
  {
   "cell_type": "code",
   "execution_count": 12,
   "id": "fcd213f4-2445-4613-9984-4db05763449e",
   "metadata": {},
   "outputs": [
    {
     "name": "stdout",
     "output_type": "stream",
     "text": [
      "Total time taken 0:00:00.926140\n"
     ]
    }
   ],
   "source": [
    "tim.stop()\n",
    "print(f\"Total time taken {str(tim.elapsed)}\")"
   ]
  }
 ],
 "metadata": {
  "kernelspec": {
   "display_name": "Python 3 (ipykernel)",
   "language": "python",
   "name": "python3"
  },
  "language_info": {
   "codemirror_mode": {
    "name": "ipython",
    "version": 3
   },
   "file_extension": ".py",
   "mimetype": "text/x-python",
   "name": "python",
   "nbconvert_exporter": "python",
   "pygments_lexer": "ipython3",
   "version": "3.12.1"
  }
 },
 "nbformat": 4,
 "nbformat_minor": 5
}
