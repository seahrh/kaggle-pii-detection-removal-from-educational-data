{
 "cells": [
  {
   "cell_type": "code",
   "execution_count": 1,
   "id": "c0946722-5035-4bc1-96df-67678ca3241d",
   "metadata": {},
   "outputs": [
    {
     "name": "stdout",
     "output_type": "stream",
     "text": [
      "int16, min=-32768, max=32767\n"
     ]
    }
   ],
   "source": [
    "import os\n",
    "import json\n",
    "import gc\n",
    "from pathlib import Path\n",
    "import numpy as np\n",
    "import pandas as pd\n",
    "from tqdm import tqdm\n",
    "import torch\n",
    "from transformers import AutoTokenizer\n",
    "from typing import Dict, List, Set, Tuple, NamedTuple, Callable\n",
    "import scipy\n",
    "import scml\n",
    "from scml import pandasx as pdx\n",
    "#from daigt.preprocess import en as pen\n",
    "tim = scml.Timer()\n",
    "tim.start()\n",
    "os.environ[\"TOKENIZERS_PARALLELISM\"] = \"false\"\n",
    "percentiles=[.01, .05, .1, .2, .3, .4, .5, .6, .7, .8, .9, .95, .99]\n",
    "pd.set_option(\"max_info_columns\", 9999)\n",
    "pd.set_option(\"display.max_columns\", 9999)\n",
    "pd.set_option(\"display.max_rows\", 9999)\n",
    "pd.set_option('max_colwidth', 9999)\n",
    "tqdm.pandas()\n",
    "scml.seed_everything()\n",
    "info = np.iinfo(np.int16)\n",
    "print(f\"int16, min={info.min}, max={info.max}\")"
   ]
  },
  {
   "cell_type": "code",
   "execution_count": 2,
   "id": "8f488fda-6f64-4a2d-afdf-a22fb4cbd1c5",
   "metadata": {},
   "outputs": [
    {
     "name": "stdout",
     "output_type": "stream",
     "text": [
      "DebertaV2TokenizerFast(name_or_path='huggingface/microsoft/deberta-v3-base', vocab_size=128000, model_max_length=1000000000000000019884624838656, is_fast=True, padding_side='right', truncation_side='right', special_tokens={'bos_token': '[CLS]', 'eos_token': '[SEP]', 'unk_token': '[UNK]', 'sep_token': '[SEP]', 'pad_token': '[PAD]', 'cls_token': '[CLS]', 'mask_token': '[MASK]'}, clean_up_tokenization_spaces=True),  added_tokens_decoder={\n",
      "\t0: AddedToken(\"[PAD]\", rstrip=False, lstrip=False, single_word=False, normalized=False, special=True),\n",
      "\t1: AddedToken(\"[CLS]\", rstrip=False, lstrip=False, single_word=False, normalized=False, special=True),\n",
      "\t2: AddedToken(\"[SEP]\", rstrip=False, lstrip=False, single_word=False, normalized=False, special=True),\n",
      "\t3: AddedToken(\"[UNK]\", rstrip=False, lstrip=False, single_word=False, normalized=True, special=True),\n",
      "\t128000: AddedToken(\"[MASK]\", rstrip=False, lstrip=False, single_word=False, normalized=False, special=True),\n",
      "}\n",
      "model_input_names=['input_ids', 'token_type_ids', 'attention_mask']\n"
     ]
    },
    {
     "name": "stderr",
     "output_type": "stream",
     "text": [
      "/Users/ruhong/github/seahrh/kaggle-pii-detection-removal-from-educational-data/venv/lib/python3.12/site-packages/transformers/convert_slow_tokenizer.py:515: UserWarning: The sentencepiece tokenizer that you are converting to a fast tokenizer uses the byte fallback option which is not implemented in the fast tokenizers. In practice this means that the fast version of the tokenizer can produce unknown tokens whereas the sentencepiece version would have converted these unknown tokens into a sequence of byte tokens matching the original piece of text.\n",
      "  warnings.warn(\n"
     ]
    }
   ],
   "source": [
    "tokenizer = AutoTokenizer.from_pretrained(\"huggingface/microsoft/deberta-v3-base\", is_fast=True)\n",
    "print(f\"{repr(tokenizer)}\\nmodel_input_names={tokenizer.model_input_names}\")"
   ]
  },
  {
   "cell_type": "code",
   "execution_count": 3,
   "id": "593295cc-2ca5-4558-aff4-a812cda386c8",
   "metadata": {},
   "outputs": [
    {
     "name": "stdout",
     "output_type": "stream",
     "text": [
      "dict_keys(['input_ids', 'token_type_ids', 'attention_mask', 'overflow_to_sample_mapping'])\n",
      "overflow_to_sample_mapping=[0, 0, 0, 0, 1, 1, 1, 1, 1]\n",
      "s[0]\n",
      "[1, 262, 1538, 3258, 2]\n",
      "['[CLS]', '▁the', '▁quick', '▁brown', '[SEP]']\n",
      "word_ids=[None, 0, 1, 2, None]\n",
      "s[1]\n",
      "[1, 3258, 16123, 14929, 2]\n",
      "['[CLS]', '▁brown', '▁fox', '▁jumps', '[SEP]']\n",
      "word_ids=[None, 2, 3, 4, None]\n",
      "s[2]\n",
      "[1, 14929, 360, 262, 2]\n",
      "['[CLS]', '▁jumps', '▁over', '▁the', '[SEP]']\n",
      "word_ids=[None, 4, 5, 6, None]\n",
      "s[3]\n",
      "[1, 262, 9118, 1560, 2]\n",
      "['[CLS]', '▁the', '▁lazy', '▁dog', '[SEP]']\n",
      "word_ids=[None, 6, 7, 8, None]\n",
      "s[4]\n",
      "[1, 262, 3638, 297, 2]\n",
      "['[CLS]', '▁the', '▁r', 't', '[SEP]']\n",
      "word_ids=[None, 0, 1, 1, None]\n",
      "s[5]\n",
      "[1, 297, 982, 1297, 2]\n",
      "['[CLS]', 't', 'x', '▁40', '[SEP]']\n",
      "word_ids=[None, 1, 1, 2, None]\n",
      "s[6]\n",
      "[1, 1297, 4285, 269, 2]\n",
      "['[CLS]', '▁40', '70', '▁is', '[SEP]']\n",
      "word_ids=[None, 2, 2, 3, None]\n",
      "s[7]\n",
      "[1, 269, 266, 10704, 2]\n",
      "['[CLS]', '▁is', '▁a', '▁token', '[SEP]']\n",
      "word_ids=[None, 3, 4, 5, None]\n",
      "s[8]\n",
      "[1, 10704, 4820, 738, 2]\n",
      "['[CLS]', '▁token', 'ization', '▁example', '[SEP]']\n",
      "word_ids=[None, 5, 5, 6, None]\n"
     ]
    }
   ],
   "source": [
    "examples = [\n",
    "    \"the quick brown fox jumps over the lazy dog\",\n",
    "    \"the rtx 4070 is a tokenization example\",\n",
    "]\n",
    "x = tokenizer(\n",
    "    examples, \n",
    "    truncation=True,\n",
    "    max_length=5,\n",
    "    padding=\"max_length\",\n",
    "    stride=1,\n",
    "    add_special_tokens=True, \n",
    "    return_overflowing_tokens=True\n",
    ")\n",
    "print(x.keys())\n",
    "overflow_to_sample_mapping = x.pop(\"overflow_to_sample_mapping\")\n",
    "print(f\"overflow_to_sample_mapping={overflow_to_sample_mapping}\")\n",
    "for i, input_ids in enumerate(x[\"input_ids\"]):\n",
    "    print(f\"s[{i}]\")\n",
    "    print(input_ids)\n",
    "    print(tokenizer.convert_ids_to_tokens(input_ids))\n",
    "    print(f\"word_ids={x.word_ids(i)}\")"
   ]
  },
  {
   "cell_type": "code",
   "execution_count": 4,
   "id": "7fb1d6da-0009-4502-915f-99afea1429c4",
   "metadata": {},
   "outputs": [
    {
     "name": "stdout",
     "output_type": "stream",
     "text": [
      "[(1, 2), (2, 3), (3, 4)]\n"
     ]
    }
   ],
   "source": [
    "desired_output = []\n",
    "#BatchEncoding.word_ids returns a list mapping words to tokens\n",
    "for wid in x.word_ids():\n",
    "    #BatchEncoding.word_to_tokens tells us which and how many tokens are used for the specific word\n",
    "    if wid is None:\n",
    "        continue\n",
    "    start, end = x.word_to_tokens(wid)\n",
    "    desired_output.append((start,end))\n",
    "print(desired_output)"
   ]
  },
  {
   "cell_type": "code",
   "execution_count": 5,
   "id": "5eb5e583-a7dd-46e2-9ec0-2788262d7462",
   "metadata": {},
   "outputs": [
    {
     "name": "stdout",
     "output_type": "stream",
     "text": [
      "Total time taken 0:00:00.767160\n"
     ]
    }
   ],
   "source": [
    "tim.stop()\n",
    "print(f\"Total time taken {str(tim.elapsed)}\")"
   ]
  }
 ],
 "metadata": {
  "kernelspec": {
   "display_name": "Python 3 (ipykernel)",
   "language": "python",
   "name": "python3"
  },
  "language_info": {
   "codemirror_mode": {
    "name": "ipython",
    "version": 3
   },
   "file_extension": ".py",
   "mimetype": "text/x-python",
   "name": "python",
   "nbconvert_exporter": "python",
   "pygments_lexer": "ipython3",
   "version": "3.12.1"
  }
 },
 "nbformat": 4,
 "nbformat_minor": 5
}
