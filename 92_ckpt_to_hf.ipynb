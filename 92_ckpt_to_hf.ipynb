{
 "cells": [
  {
   "cell_type": "code",
   "execution_count": 1,
   "id": "7482808b-c292-4843-9dae-951ff5560b66",
   "metadata": {},
   "outputs": [
    {
     "name": "stdout",
     "output_type": "stream",
     "text": [
      "int16, min=-32768, max=32767\n",
      "device=0, NVIDIA GeForce RTX 4070 Ti SUPER\n",
      "Mem Allocated: 0.0 GB\n",
      "Mem Cached:    0.0 GB\n",
      "device=1, NVIDIA GeForce RTX 4070 Ti SUPER\n",
      "Mem Allocated: 0.0 GB\n",
      "Mem Cached:    0.0 GB\n"
     ]
    }
   ],
   "source": [
    "import os\n",
    "from pathlib import Path\n",
    "import numpy as np\n",
    "import pandas as pd\n",
    "import torch\n",
    "from tqdm import tqdm\n",
    "import scml\n",
    "from scml import pandasx as pdx\n",
    "from mylib.ner import NerModel\n",
    "tim = scml.Timer()\n",
    "tim.start()\n",
    "os.environ[\"TOKENIZERS_PARALLELISM\"] = \"false\"\n",
    "percentiles=[.01, .05, .1, .2, .3, .4, .5, .6, .7, .8, .9, .95, .99]\n",
    "pd.set_option(\"max_info_columns\", 9999)\n",
    "pd.set_option(\"display.max_columns\", 9999)\n",
    "pd.set_option(\"display.max_rows\", 9999)\n",
    "pd.set_option('max_colwidth', 9999)\n",
    "tqdm.pandas()\n",
    "scml.seed_everything()\n",
    "info = np.iinfo(np.int16)\n",
    "print(f\"int16, min={info.min}, max={info.max}\")\n",
    "device = torch.device(\"cpu\")\n",
    "if torch.cuda.is_available():\n",
    "    device = torch.device(\"cuda:1\")\n",
    "    for i in range(torch.cuda.device_count()):\n",
    "        print(f\"device={i}, {torch.cuda.get_device_name(i)}\")\n",
    "        print('Mem Allocated:', round(torch.cuda.memory_allocated(i)/1024**3,1), 'GB')\n",
    "        print('Mem Cached:   ', round(torch.cuda.memory_reserved(i)/1024**3,1), 'GB')\n",
    "else:\n",
    "    print(\"cpu\")"
   ]
  },
  {
   "cell_type": "code",
   "execution_count": 2,
   "id": "d76be417-30e7-48e2-ae52-5ccd7cd8c0dc",
   "metadata": {},
   "outputs": [
    {
     "name": "stdout",
     "output_type": "stream",
     "text": [
      "dict_keys(['epoch', 'global_step', 'pytorch-lightning_version', 'state_dict', 'loops', 'callbacks', 'optimizer_states', 'lr_schedulers', 'hparams_name', 'hyper_parameters'])\n"
     ]
    }
   ],
   "source": [
    "dst_path = Path(\"models/ner/deberta_v3_base/20240409_053545\")\n",
    "ckpt_path = dst_path / \"lightning_logs/version_0/checkpoints/epoch=0-step=1001-val_loss=0.02627.ckpt\"\n",
    "checkpoint = torch.load(ckpt_path)\n",
    "print(checkpoint.keys())"
   ]
  },
  {
   "cell_type": "code",
   "execution_count": 3,
   "id": "da7bcd1d-6684-4633-8d1a-67c1f3c6732f",
   "metadata": {},
   "outputs": [
    {
     "name": "stdout",
     "output_type": "stream",
     "text": [
      "odict_keys(['model.deberta.embeddings.word_embeddings.weight', 'model.deberta.embeddings.LayerNorm.weight', 'model.deberta.embeddings.LayerNorm.bias', 'model.deberta.encoder.layer.0.attention.self.query_proj.weight', 'model.deberta.encoder.layer.0.attention.self.query_proj.bias', 'model.deberta.encoder.layer.0.attention.self.key_proj.weight', 'model.deberta.encoder.layer.0.attention.self.key_proj.bias', 'model.deberta.encoder.layer.0.attention.self.value_proj.weight', 'model.deberta.encoder.layer.0.attention.self.value_proj.bias', 'model.deberta.encoder.layer.0.attention.output.dense.weight', 'model.deberta.encoder.layer.0.attention.output.dense.bias', 'model.deberta.encoder.layer.0.attention.output.LayerNorm.weight', 'model.deberta.encoder.layer.0.attention.output.LayerNorm.bias', 'model.deberta.encoder.layer.0.intermediate.dense.weight', 'model.deberta.encoder.layer.0.intermediate.dense.bias', 'model.deberta.encoder.layer.0.output.dense.weight', 'model.deberta.encoder.layer.0.output.dense.bias', 'model.deberta.encoder.layer.0.output.LayerNorm.weight', 'model.deberta.encoder.layer.0.output.LayerNorm.bias', 'model.deberta.encoder.layer.1.attention.self.query_proj.weight', 'model.deberta.encoder.layer.1.attention.self.query_proj.bias', 'model.deberta.encoder.layer.1.attention.self.key_proj.weight', 'model.deberta.encoder.layer.1.attention.self.key_proj.bias', 'model.deberta.encoder.layer.1.attention.self.value_proj.weight', 'model.deberta.encoder.layer.1.attention.self.value_proj.bias', 'model.deberta.encoder.layer.1.attention.output.dense.weight', 'model.deberta.encoder.layer.1.attention.output.dense.bias', 'model.deberta.encoder.layer.1.attention.output.LayerNorm.weight', 'model.deberta.encoder.layer.1.attention.output.LayerNorm.bias', 'model.deberta.encoder.layer.1.intermediate.dense.weight', 'model.deberta.encoder.layer.1.intermediate.dense.bias', 'model.deberta.encoder.layer.1.output.dense.weight', 'model.deberta.encoder.layer.1.output.dense.bias', 'model.deberta.encoder.layer.1.output.LayerNorm.weight', 'model.deberta.encoder.layer.1.output.LayerNorm.bias', 'model.deberta.encoder.layer.2.attention.self.query_proj.weight', 'model.deberta.encoder.layer.2.attention.self.query_proj.bias', 'model.deberta.encoder.layer.2.attention.self.key_proj.weight', 'model.deberta.encoder.layer.2.attention.self.key_proj.bias', 'model.deberta.encoder.layer.2.attention.self.value_proj.weight', 'model.deberta.encoder.layer.2.attention.self.value_proj.bias', 'model.deberta.encoder.layer.2.attention.output.dense.weight', 'model.deberta.encoder.layer.2.attention.output.dense.bias', 'model.deberta.encoder.layer.2.attention.output.LayerNorm.weight', 'model.deberta.encoder.layer.2.attention.output.LayerNorm.bias', 'model.deberta.encoder.layer.2.intermediate.dense.weight', 'model.deberta.encoder.layer.2.intermediate.dense.bias', 'model.deberta.encoder.layer.2.output.dense.weight', 'model.deberta.encoder.layer.2.output.dense.bias', 'model.deberta.encoder.layer.2.output.LayerNorm.weight', 'model.deberta.encoder.layer.2.output.LayerNorm.bias', 'model.deberta.encoder.layer.3.attention.self.query_proj.weight', 'model.deberta.encoder.layer.3.attention.self.query_proj.bias', 'model.deberta.encoder.layer.3.attention.self.key_proj.weight', 'model.deberta.encoder.layer.3.attention.self.key_proj.bias', 'model.deberta.encoder.layer.3.attention.self.value_proj.weight', 'model.deberta.encoder.layer.3.attention.self.value_proj.bias', 'model.deberta.encoder.layer.3.attention.output.dense.weight', 'model.deberta.encoder.layer.3.attention.output.dense.bias', 'model.deberta.encoder.layer.3.attention.output.LayerNorm.weight', 'model.deberta.encoder.layer.3.attention.output.LayerNorm.bias', 'model.deberta.encoder.layer.3.intermediate.dense.weight', 'model.deberta.encoder.layer.3.intermediate.dense.bias', 'model.deberta.encoder.layer.3.output.dense.weight', 'model.deberta.encoder.layer.3.output.dense.bias', 'model.deberta.encoder.layer.3.output.LayerNorm.weight', 'model.deberta.encoder.layer.3.output.LayerNorm.bias', 'model.deberta.encoder.layer.4.attention.self.query_proj.weight', 'model.deberta.encoder.layer.4.attention.self.query_proj.bias', 'model.deberta.encoder.layer.4.attention.self.key_proj.weight', 'model.deberta.encoder.layer.4.attention.self.key_proj.bias', 'model.deberta.encoder.layer.4.attention.self.value_proj.weight', 'model.deberta.encoder.layer.4.attention.self.value_proj.bias', 'model.deberta.encoder.layer.4.attention.output.dense.weight', 'model.deberta.encoder.layer.4.attention.output.dense.bias', 'model.deberta.encoder.layer.4.attention.output.LayerNorm.weight', 'model.deberta.encoder.layer.4.attention.output.LayerNorm.bias', 'model.deberta.encoder.layer.4.intermediate.dense.weight', 'model.deberta.encoder.layer.4.intermediate.dense.bias', 'model.deberta.encoder.layer.4.output.dense.weight', 'model.deberta.encoder.layer.4.output.dense.bias', 'model.deberta.encoder.layer.4.output.LayerNorm.weight', 'model.deberta.encoder.layer.4.output.LayerNorm.bias', 'model.deberta.encoder.layer.5.attention.self.query_proj.weight', 'model.deberta.encoder.layer.5.attention.self.query_proj.bias', 'model.deberta.encoder.layer.5.attention.self.key_proj.weight', 'model.deberta.encoder.layer.5.attention.self.key_proj.bias', 'model.deberta.encoder.layer.5.attention.self.value_proj.weight', 'model.deberta.encoder.layer.5.attention.self.value_proj.bias', 'model.deberta.encoder.layer.5.attention.output.dense.weight', 'model.deberta.encoder.layer.5.attention.output.dense.bias', 'model.deberta.encoder.layer.5.attention.output.LayerNorm.weight', 'model.deberta.encoder.layer.5.attention.output.LayerNorm.bias', 'model.deberta.encoder.layer.5.intermediate.dense.weight', 'model.deberta.encoder.layer.5.intermediate.dense.bias', 'model.deberta.encoder.layer.5.output.dense.weight', 'model.deberta.encoder.layer.5.output.dense.bias', 'model.deberta.encoder.layer.5.output.LayerNorm.weight', 'model.deberta.encoder.layer.5.output.LayerNorm.bias', 'model.deberta.encoder.layer.6.attention.self.query_proj.weight', 'model.deberta.encoder.layer.6.attention.self.query_proj.bias', 'model.deberta.encoder.layer.6.attention.self.key_proj.weight', 'model.deberta.encoder.layer.6.attention.self.key_proj.bias', 'model.deberta.encoder.layer.6.attention.self.value_proj.weight', 'model.deberta.encoder.layer.6.attention.self.value_proj.bias', 'model.deberta.encoder.layer.6.attention.output.dense.weight', 'model.deberta.encoder.layer.6.attention.output.dense.bias', 'model.deberta.encoder.layer.6.attention.output.LayerNorm.weight', 'model.deberta.encoder.layer.6.attention.output.LayerNorm.bias', 'model.deberta.encoder.layer.6.intermediate.dense.weight', 'model.deberta.encoder.layer.6.intermediate.dense.bias', 'model.deberta.encoder.layer.6.output.dense.weight', 'model.deberta.encoder.layer.6.output.dense.bias', 'model.deberta.encoder.layer.6.output.LayerNorm.weight', 'model.deberta.encoder.layer.6.output.LayerNorm.bias', 'model.deberta.encoder.layer.7.attention.self.query_proj.weight', 'model.deberta.encoder.layer.7.attention.self.query_proj.bias', 'model.deberta.encoder.layer.7.attention.self.key_proj.weight', 'model.deberta.encoder.layer.7.attention.self.key_proj.bias', 'model.deberta.encoder.layer.7.attention.self.value_proj.weight', 'model.deberta.encoder.layer.7.attention.self.value_proj.bias', 'model.deberta.encoder.layer.7.attention.output.dense.weight', 'model.deberta.encoder.layer.7.attention.output.dense.bias', 'model.deberta.encoder.layer.7.attention.output.LayerNorm.weight', 'model.deberta.encoder.layer.7.attention.output.LayerNorm.bias', 'model.deberta.encoder.layer.7.intermediate.dense.weight', 'model.deberta.encoder.layer.7.intermediate.dense.bias', 'model.deberta.encoder.layer.7.output.dense.weight', 'model.deberta.encoder.layer.7.output.dense.bias', 'model.deberta.encoder.layer.7.output.LayerNorm.weight', 'model.deberta.encoder.layer.7.output.LayerNorm.bias', 'model.deberta.encoder.layer.8.attention.self.query_proj.weight', 'model.deberta.encoder.layer.8.attention.self.query_proj.bias', 'model.deberta.encoder.layer.8.attention.self.key_proj.weight', 'model.deberta.encoder.layer.8.attention.self.key_proj.bias', 'model.deberta.encoder.layer.8.attention.self.value_proj.weight', 'model.deberta.encoder.layer.8.attention.self.value_proj.bias', 'model.deberta.encoder.layer.8.attention.output.dense.weight', 'model.deberta.encoder.layer.8.attention.output.dense.bias', 'model.deberta.encoder.layer.8.attention.output.LayerNorm.weight', 'model.deberta.encoder.layer.8.attention.output.LayerNorm.bias', 'model.deberta.encoder.layer.8.intermediate.dense.weight', 'model.deberta.encoder.layer.8.intermediate.dense.bias', 'model.deberta.encoder.layer.8.output.dense.weight', 'model.deberta.encoder.layer.8.output.dense.bias', 'model.deberta.encoder.layer.8.output.LayerNorm.weight', 'model.deberta.encoder.layer.8.output.LayerNorm.bias', 'model.deberta.encoder.layer.9.attention.self.query_proj.weight', 'model.deberta.encoder.layer.9.attention.self.query_proj.bias', 'model.deberta.encoder.layer.9.attention.self.key_proj.weight', 'model.deberta.encoder.layer.9.attention.self.key_proj.bias', 'model.deberta.encoder.layer.9.attention.self.value_proj.weight', 'model.deberta.encoder.layer.9.attention.self.value_proj.bias', 'model.deberta.encoder.layer.9.attention.output.dense.weight', 'model.deberta.encoder.layer.9.attention.output.dense.bias', 'model.deberta.encoder.layer.9.attention.output.LayerNorm.weight', 'model.deberta.encoder.layer.9.attention.output.LayerNorm.bias', 'model.deberta.encoder.layer.9.intermediate.dense.weight', 'model.deberta.encoder.layer.9.intermediate.dense.bias', 'model.deberta.encoder.layer.9.output.dense.weight', 'model.deberta.encoder.layer.9.output.dense.bias', 'model.deberta.encoder.layer.9.output.LayerNorm.weight', 'model.deberta.encoder.layer.9.output.LayerNorm.bias', 'model.deberta.encoder.layer.10.attention.self.query_proj.weight', 'model.deberta.encoder.layer.10.attention.self.query_proj.bias', 'model.deberta.encoder.layer.10.attention.self.key_proj.weight', 'model.deberta.encoder.layer.10.attention.self.key_proj.bias', 'model.deberta.encoder.layer.10.attention.self.value_proj.weight', 'model.deberta.encoder.layer.10.attention.self.value_proj.bias', 'model.deberta.encoder.layer.10.attention.output.dense.weight', 'model.deberta.encoder.layer.10.attention.output.dense.bias', 'model.deberta.encoder.layer.10.attention.output.LayerNorm.weight', 'model.deberta.encoder.layer.10.attention.output.LayerNorm.bias', 'model.deberta.encoder.layer.10.intermediate.dense.weight', 'model.deberta.encoder.layer.10.intermediate.dense.bias', 'model.deberta.encoder.layer.10.output.dense.weight', 'model.deberta.encoder.layer.10.output.dense.bias', 'model.deberta.encoder.layer.10.output.LayerNorm.weight', 'model.deberta.encoder.layer.10.output.LayerNorm.bias', 'model.deberta.encoder.layer.11.attention.self.query_proj.weight', 'model.deberta.encoder.layer.11.attention.self.query_proj.bias', 'model.deberta.encoder.layer.11.attention.self.key_proj.weight', 'model.deberta.encoder.layer.11.attention.self.key_proj.bias', 'model.deberta.encoder.layer.11.attention.self.value_proj.weight', 'model.deberta.encoder.layer.11.attention.self.value_proj.bias', 'model.deberta.encoder.layer.11.attention.output.dense.weight', 'model.deberta.encoder.layer.11.attention.output.dense.bias', 'model.deberta.encoder.layer.11.attention.output.LayerNorm.weight', 'model.deberta.encoder.layer.11.attention.output.LayerNorm.bias', 'model.deberta.encoder.layer.11.intermediate.dense.weight', 'model.deberta.encoder.layer.11.intermediate.dense.bias', 'model.deberta.encoder.layer.11.output.dense.weight', 'model.deberta.encoder.layer.11.output.dense.bias', 'model.deberta.encoder.layer.11.output.LayerNorm.weight', 'model.deberta.encoder.layer.11.output.LayerNorm.bias', 'model.deberta.encoder.rel_embeddings.weight', 'model.deberta.encoder.LayerNorm.weight', 'model.deberta.encoder.LayerNorm.bias', 'model.classifier.weight', 'model.classifier.bias'])\n"
     ]
    }
   ],
   "source": [
    "print(checkpoint[\"state_dict\"].keys())"
   ]
  },
  {
   "cell_type": "code",
   "execution_count": 4,
   "id": "787be70c-d2e0-4d62-b27b-c12efb83e25a",
   "metadata": {},
   "outputs": [
    {
     "name": "stdout",
     "output_type": "stream",
     "text": [
      "[INFO|ner.py:413] 2024-04-10 15:48:08,064 >> config.to_diff_dict={\n",
      "  \"id2label\": {\n",
      "    \"0\": \"O\",\n",
      "    \"1\": \"B-NAME_STUDENT\",\n",
      "    \"2\": \"I-NAME_STUDENT\",\n",
      "    \"3\": \"B-URL_PERSONAL\",\n",
      "    \"4\": \"I-URL_PERSONAL\",\n",
      "    \"5\": \"B-ID_NUM\",\n",
      "    \"6\": \"I-ID_NUM\",\n",
      "    \"7\": \"B-EMAIL\",\n",
      "    \"8\": \"I-EMAIL\",\n",
      "    \"9\": \"B-USERNAME\",\n",
      "    \"10\": \"I-USERNAME\",\n",
      "    \"11\": \"B-PHONE_NUM\",\n",
      "    \"12\": \"I-PHONE_NUM\",\n",
      "    \"13\": \"B-STREET_ADDRESS\",\n",
      "    \"14\": \"I-STREET_ADDRESS\"\n",
      "  },\n",
      "  \"label2id\": {\n",
      "    \"O\": 0,\n",
      "    \"B-NAME_STUDENT\": 1,\n",
      "    \"I-NAME_STUDENT\": 2,\n",
      "    \"B-URL_PERSONAL\": 3,\n",
      "    \"I-URL_PERSONAL\": 4,\n",
      "    \"B-ID_NUM\": 5,\n",
      "    \"I-ID_NUM\": 6,\n",
      "    \"B-EMAIL\": 7,\n",
      "    \"I-EMAIL\": 8,\n",
      "    \"B-USERNAME\": 9,\n",
      "    \"I-USERNAME\": 10,\n",
      "    \"B-PHONE_NUM\": 11,\n",
      "    \"I-PHONE_NUM\": 12,\n",
      "    \"B-STREET_ADDRESS\": 13,\n",
      "    \"I-STREET_ADDRESS\": 14\n",
      "  },\n",
      "  \"pad_token_id\": 0,\n",
      "  \"problem_type\": \"single_label_classification\",\n",
      "  \"_name_or_path\": \"/mnt/c/huggingface/microsoft/deberta-v3-base\",\n",
      "  \"transformers_version\": \"4.37.0\",\n",
      "  \"model_type\": \"deberta-v2\",\n",
      "  \"position_buckets\": 256,\n",
      "  \"norm_rel_ebd\": \"layer_norm\",\n",
      "  \"share_att_key\": true,\n",
      "  \"hidden_size\": 768,\n",
      "  \"num_hidden_layers\": 12,\n",
      "  \"num_attention_heads\": 12,\n",
      "  \"intermediate_size\": 3072,\n",
      "  \"hidden_act\": \"gelu\",\n",
      "  \"hidden_dropout_prob\": 0.1,\n",
      "  \"attention_probs_dropout_prob\": 0.1,\n",
      "  \"max_position_embeddings\": 512,\n",
      "  \"type_vocab_size\": 0,\n",
      "  \"initializer_range\": 0.02,\n",
      "  \"relative_attention\": true,\n",
      "  \"max_relative_positions\": -1,\n",
      "  \"position_biased_input\": false,\n",
      "  \"pos_att_type\": [\n",
      "    \"p2c\",\n",
      "    \"c2p\"\n",
      "  ],\n",
      "  \"vocab_size\": 128100,\n",
      "  \"layer_norm_eps\": 1e-07,\n",
      "  \"pooler_hidden_size\": 768,\n",
      "  \"pooler_dropout\": 0,\n",
      "  \"pooler_hidden_act\": \"gelu\",\n",
      "  \"gradient_checkpointing\": false\n",
      "}\n",
      "[INFO|ner.py:413] 2024-04-10 15:48:08,064 >> config.to_diff_dict={\n",
      "  \"id2label\": {\n",
      "    \"0\": \"O\",\n",
      "    \"1\": \"B-NAME_STUDENT\",\n",
      "    \"2\": \"I-NAME_STUDENT\",\n",
      "    \"3\": \"B-URL_PERSONAL\",\n",
      "    \"4\": \"I-URL_PERSONAL\",\n",
      "    \"5\": \"B-ID_NUM\",\n",
      "    \"6\": \"I-ID_NUM\",\n",
      "    \"7\": \"B-EMAIL\",\n",
      "    \"8\": \"I-EMAIL\",\n",
      "    \"9\": \"B-USERNAME\",\n",
      "    \"10\": \"I-USERNAME\",\n",
      "    \"11\": \"B-PHONE_NUM\",\n",
      "    \"12\": \"I-PHONE_NUM\",\n",
      "    \"13\": \"B-STREET_ADDRESS\",\n",
      "    \"14\": \"I-STREET_ADDRESS\"\n",
      "  },\n",
      "  \"label2id\": {\n",
      "    \"O\": 0,\n",
      "    \"B-NAME_STUDENT\": 1,\n",
      "    \"I-NAME_STUDENT\": 2,\n",
      "    \"B-URL_PERSONAL\": 3,\n",
      "    \"I-URL_PERSONAL\": 4,\n",
      "    \"B-ID_NUM\": 5,\n",
      "    \"I-ID_NUM\": 6,\n",
      "    \"B-EMAIL\": 7,\n",
      "    \"I-EMAIL\": 8,\n",
      "    \"B-USERNAME\": 9,\n",
      "    \"I-USERNAME\": 10,\n",
      "    \"B-PHONE_NUM\": 11,\n",
      "    \"I-PHONE_NUM\": 12,\n",
      "    \"B-STREET_ADDRESS\": 13,\n",
      "    \"I-STREET_ADDRESS\": 14\n",
      "  },\n",
      "  \"pad_token_id\": 0,\n",
      "  \"problem_type\": \"single_label_classification\",\n",
      "  \"_name_or_path\": \"/mnt/c/huggingface/microsoft/deberta-v3-base\",\n",
      "  \"transformers_version\": \"4.37.0\",\n",
      "  \"model_type\": \"deberta-v2\",\n",
      "  \"position_buckets\": 256,\n",
      "  \"norm_rel_ebd\": \"layer_norm\",\n",
      "  \"share_att_key\": true,\n",
      "  \"hidden_size\": 768,\n",
      "  \"num_hidden_layers\": 12,\n",
      "  \"num_attention_heads\": 12,\n",
      "  \"intermediate_size\": 3072,\n",
      "  \"hidden_act\": \"gelu\",\n",
      "  \"hidden_dropout_prob\": 0.1,\n",
      "  \"attention_probs_dropout_prob\": 0.1,\n",
      "  \"max_position_embeddings\": 512,\n",
      "  \"type_vocab_size\": 0,\n",
      "  \"initializer_range\": 0.02,\n",
      "  \"relative_attention\": true,\n",
      "  \"max_relative_positions\": -1,\n",
      "  \"position_biased_input\": false,\n",
      "  \"pos_att_type\": [\n",
      "    \"p2c\",\n",
      "    \"c2p\"\n",
      "  ],\n",
      "  \"vocab_size\": 128100,\n",
      "  \"layer_norm_eps\": 1e-07,\n",
      "  \"pooler_hidden_size\": 768,\n",
      "  \"pooler_dropout\": 0,\n",
      "  \"pooler_hidden_act\": \"gelu\",\n",
      "  \"gradient_checkpointing\": false\n",
      "}\n"
     ]
    },
    {
     "name": "stderr",
     "output_type": "stream",
     "text": [
      "Some weights of DebertaV2ForTokenClassification were not initialized from the model checkpoint at /mnt/c/huggingface/microsoft/deberta-v3-base and are newly initialized: ['classifier.bias', 'classifier.weight']\n",
      "You should probably TRAIN this model on a down-stream task to be able to use it for predictions and inference.\n"
     ]
    },
    {
     "name": "stdout",
     "output_type": "stream",
     "text": [
      "CPU times: user 11 s, sys: 1.3 s, total: 12.3 s\n",
      "Wall time: 14.5 s\n"
     ]
    }
   ],
   "source": [
    "%%time\n",
    "model = NerModel.load_from_checkpoint(ckpt_path)"
   ]
  },
  {
   "cell_type": "code",
   "execution_count": 5,
   "id": "25fb6425-7dd8-4442-b491-37a67661af5e",
   "metadata": {},
   "outputs": [
    {
     "name": "stdout",
     "output_type": "stream",
     "text": [
      "CPU times: user 923 ms, sys: 164 ms, total: 1.09 s\n",
      "Wall time: 3.26 s\n"
     ]
    }
   ],
   "source": [
    "%%time\n",
    "model.model.save_pretrained(str(dst_path))"
   ]
  },
  {
   "cell_type": "code",
   "execution_count": 6,
   "id": "c363b3f8-51b7-42f8-a917-b654fe2a3d39",
   "metadata": {},
   "outputs": [
    {
     "name": "stdout",
     "output_type": "stream",
     "text": [
      "Total time taken 0:00:29.252839\n"
     ]
    }
   ],
   "source": [
    "tim.stop()\n",
    "print(f\"Total time taken {str(tim.elapsed)}\")"
   ]
  }
 ],
 "metadata": {
  "kernelspec": {
   "display_name": "Python 3 (ipykernel)",
   "language": "python",
   "name": "python3"
  },
  "language_info": {
   "codemirror_mode": {
    "name": "ipython",
    "version": 3
   },
   "file_extension": ".py",
   "mimetype": "text/x-python",
   "name": "python",
   "nbconvert_exporter": "python",
   "pygments_lexer": "ipython3",
   "version": "3.10.12"
  }
 },
 "nbformat": 4,
 "nbformat_minor": 5
}
