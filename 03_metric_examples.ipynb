{
 "cells": [
  {
   "cell_type": "code",
   "execution_count": 9,
   "id": "a8d88189-eec7-49cb-814a-459c1178847d",
   "metadata": {},
   "outputs": [],
   "source": [
    "from sklearn.metrics import fbeta_score, precision_score, recall_score"
   ]
  },
  {
   "cell_type": "code",
   "execution_count": 10,
   "id": "a4e7150a-3c8f-4f39-af8d-8a6dd1b66bd1",
   "metadata": {},
   "outputs": [
    {
     "name": "stdout",
     "output_type": "stream",
     "text": [
      "f5=[0.         0.40944882 0.50980392]\n",
      "recall=0.42857142857142855\n",
      "precision=0.42857142857142855\n"
     ]
    }
   ],
   "source": [
    "label_y_true = [1, 2, 1, 2, 1, 1, 1]\n",
    "label_y_pred = [1, 0, 1, 2, 0, 0, 0]\n",
    "f5 = fbeta_score(\n",
    "    y_true=label_y_true,\n",
    "    y_pred=label_y_pred,\n",
    "    beta=5,\n",
    "    average=None,\n",
    "    labels=[0,1,2],\n",
    ")\n",
    "recall = recall_score(\n",
    "    y_true=label_y_true, y_pred=label_y_pred, average=\"micro\"\n",
    ")\n",
    "precision = precision_score(\n",
    "    y_true=label_y_true, y_pred=label_y_pred, average=\"micro\"\n",
    ")\n",
    "print(f\"f5={f5}\\nrecall={recall}\\nprecision={precision}\")"
   ]
  }
 ],
 "metadata": {
  "kernelspec": {
   "display_name": "Python 3 (ipykernel)",
   "language": "python",
   "name": "python3"
  },
  "language_info": {
   "codemirror_mode": {
    "name": "ipython",
    "version": 3
   },
   "file_extension": ".py",
   "mimetype": "text/x-python",
   "name": "python",
   "nbconvert_exporter": "python",
   "pygments_lexer": "ipython3",
   "version": "3.12.1"
  }
 },
 "nbformat": 4,
 "nbformat_minor": 5
}
