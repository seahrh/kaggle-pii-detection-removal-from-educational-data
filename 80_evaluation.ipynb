{
 "cells": [
  {
   "cell_type": "code",
   "execution_count": 1,
   "id": "7482808b-c292-4843-9dae-951ff5560b66",
   "metadata": {},
   "outputs": [
    {
     "name": "stdout",
     "output_type": "stream",
     "text": [
      "int16, min=-32768, max=32767\n"
     ]
    }
   ],
   "source": [
    "import os\n",
    "import json\n",
    "from pathlib import Path\n",
    "import numpy as np\n",
    "import pandas as pd\n",
    "import torch\n",
    "from tqdm import tqdm\n",
    "from transformers import AutoModelForTokenClassification\n",
    "import scml\n",
    "from scml import pandasx as pdx\n",
    "from mylib.ner import NerDataset, evaluation\n",
    "tim = scml.Timer()\n",
    "tim.start()\n",
    "os.environ[\"TOKENIZERS_PARALLELISM\"] = \"false\"\n",
    "percentiles=[.01, .05, .1, .2, .3, .4, .5, .6, .7, .8, .9, .95, .99]\n",
    "pd.set_option(\"max_info_columns\", 9999)\n",
    "pd.set_option(\"display.max_columns\", 9999)\n",
    "pd.set_option(\"display.max_rows\", 9999)\n",
    "pd.set_option('max_colwidth', 9999)\n",
    "tqdm.pandas()\n",
    "scml.seed_everything()\n",
    "info = np.iinfo(np.int16)\n",
    "print(f\"int16, min={info.min}, max={info.max}\")\n",
    "device = torch.device(\"cpu\")\n",
    "if torch.backends.mps.is_available():\n",
    "    device = torch.device(\"mps\")\n",
    "    batch_size = 128\n",
    "    print(\"mps\")\n",
    "elif torch.cuda.is_available():\n",
    "    device = torch.device(\"cuda:1\")\n",
    "    for i in range(torch.cuda.device_count()):\n",
    "        print(f\"device={i}, {torch.cuda.get_device_name(i)}\")\n",
    "        print('Mem Allocated:', round(torch.cuda.memory_allocated(i)/1024**3,1), 'GB')\n",
    "        print('Mem Cached:   ', round(torch.cuda.memory_reserved(i)/1024**3,1), 'GB')\n",
    "else:\n",
    "    print(\"cpu\")"
   ]
  },
  {
   "cell_type": "code",
   "execution_count": 2,
   "id": "d76be417-30e7-48e2-ae52-5ccd7cd8c0dc",
   "metadata": {},
   "outputs": [],
   "source": [
    "model_dir = Path(\"models/ner/deberta_v3_base/20240325_143353\")\n",
    "validation_data_file = Path(\"input/val_240102.json\")\n",
    "model_max_length = 1024\n",
    "window_length = 1024\n",
    "window_stride = 256\n",
    "batch_size = 32"
   ]
  },
  {
   "cell_type": "code",
   "execution_count": 4,
   "id": "1d307f62-cc21-49c2-b14e-91681ba85928",
   "metadata": {},
   "outputs": [
    {
     "name": "stdout",
     "output_type": "stream",
     "text": [
      "len(ds)=1,011\n",
      "ds[0]={'input_ids': tensor([    1,  2169, 12103,  ...,     0,     0,     0]), 'token_type_ids': tensor([0, 0, 0,  ..., 0, 0, 0]), 'attention_mask': tensor([1, 1, 1,  ..., 0, 0, 0]), 'labels': tensor([-100,    0,    0,  ..., -100, -100, -100])}\n"
     ]
    },
    {
     "name": "stderr",
     "output_type": "stream",
     "text": [
      "/Users/ruhong/github/seahrh/kaggle-pii-detection-removal-from-educational-data/venv/lib/python3.12/site-packages/transformers/convert_slow_tokenizer.py:515: UserWarning: The sentencepiece tokenizer that you are converting to a fast tokenizer uses the byte fallback option which is not implemented in the fast tokenizers. In practice this means that the fast version of the tokenizer can produce unknown tokens whereas the sentencepiece version would have converted these unknown tokens into a sequence of byte tokens matching the original piece of text.\n",
      "  warnings.warn(\n"
     ]
    }
   ],
   "source": [
    "ds = NerDataset.from_json(\n",
    "    filepath=str(validation_data_file),\n",
    "    tokenizer_directory=model_dir,\n",
    "    model_max_length=model_max_length,\n",
    "    window_length=window_length,\n",
    "    window_stride=window_stride,\n",
    ")\n",
    "print(f\"len(ds)={len(ds):,}\\nds[0]={ds[0]}\")"
   ]
  },
  {
   "cell_type": "code",
   "execution_count": 5,
   "id": "75e2f77c-cc43-4255-b6eb-25695f073741",
   "metadata": {},
   "outputs": [
    {
     "name": "stdout",
     "output_type": "stream",
     "text": [
      "DebertaV2ForTokenClassification(\n",
      "  (deberta): DebertaV2Model(\n",
      "    (embeddings): DebertaV2Embeddings(\n",
      "      (word_embeddings): Embedding(128100, 768, padding_idx=0)\n",
      "      (LayerNorm): LayerNorm((768,), eps=1e-07, elementwise_affine=True)\n",
      "      (dropout): StableDropout()\n",
      "    )\n",
      "    (encoder): DebertaV2Encoder(\n",
      "      (layer): ModuleList(\n",
      "        (0-11): 12 x DebertaV2Layer(\n",
      "          (attention): DebertaV2Attention(\n",
      "            (self): DisentangledSelfAttention(\n",
      "              (query_proj): Linear(in_features=768, out_features=768, bias=True)\n",
      "              (key_proj): Linear(in_features=768, out_features=768, bias=True)\n",
      "              (value_proj): Linear(in_features=768, out_features=768, bias=True)\n",
      "              (pos_dropout): StableDropout()\n",
      "              (dropout): StableDropout()\n",
      "            )\n",
      "            (output): DebertaV2SelfOutput(\n",
      "              (dense): Linear(in_features=768, out_features=768, bias=True)\n",
      "              (LayerNorm): LayerNorm((768,), eps=1e-07, elementwise_affine=True)\n",
      "              (dropout): StableDropout()\n",
      "            )\n",
      "          )\n",
      "          (intermediate): DebertaV2Intermediate(\n",
      "            (dense): Linear(in_features=768, out_features=3072, bias=True)\n",
      "            (intermediate_act_fn): GELUActivation()\n",
      "          )\n",
      "          (output): DebertaV2Output(\n",
      "            (dense): Linear(in_features=3072, out_features=768, bias=True)\n",
      "            (LayerNorm): LayerNorm((768,), eps=1e-07, elementwise_affine=True)\n",
      "            (dropout): StableDropout()\n",
      "          )\n",
      "        )\n",
      "      )\n",
      "      (rel_embeddings): Embedding(512, 768)\n",
      "      (LayerNorm): LayerNorm((768,), eps=1e-07, elementwise_affine=True)\n",
      "    )\n",
      "  )\n",
      "  (dropout): Dropout(p=0.1, inplace=False)\n",
      "  (classifier): Linear(in_features=768, out_features=15, bias=True)\n",
      ")\n",
      "CPU times: user 168 ms, sys: 747 ms, total: 916 ms\n",
      "Wall time: 133 ms\n"
     ]
    }
   ],
   "source": [
    "%%time\n",
    "model = AutoModelForTokenClassification.from_pretrained(model_dir)\n",
    "print(model)"
   ]
  },
  {
   "cell_type": "code",
   "execution_count": 6,
   "id": "db8ca36c-874d-49f8-99ac-7ed0e5b16568",
   "metadata": {},
   "outputs": [
    {
     "name": "stderr",
     "output_type": "stream",
     "text": [
      "predict ner: 100%|████████████████████████████████████████████████████████████████████████████████████████████████████████████████████████████████████████████████████████████████████████████████████| 8/8 [14:37<00:00, 109.69s/it]\n"
     ]
    },
    {
     "name": "stdout",
     "output_type": "stream",
     "text": [
      "CPU times: user 5.5 s, sys: 7min 47s, total: 7min 52s\n",
      "Wall time: 14min 39s\n"
     ]
    },
    {
     "name": "stderr",
     "output_type": "stream",
     "text": [
      "/Users/ruhong/github/seahrh/kaggle-pii-detection-removal-from-educational-data/venv/lib/python3.12/site-packages/sklearn/metrics/_classification.py:1609: UndefinedMetricWarning: F-score is ill-defined and being set to 0.0 in labels with no true nor predicted samples. Use `zero_division` parameter to control this behavior.\n",
      "  _warn_prf(average, \"true nor predicted\", \"F-score is\", len(true_sum))\n",
      "/Users/ruhong/github/seahrh/kaggle-pii-detection-removal-from-educational-data/venv/lib/python3.12/site-packages/sklearn/metrics/_classification.py:1344: UndefinedMetricWarning: Recall is ill-defined and being set to 0.0 in labels with no true samples. Use `zero_division` parameter to control this behavior.\n",
      "  _warn_prf(average, modifier, msg_start, len(result))\n",
      "/Users/ruhong/github/seahrh/kaggle-pii-detection-removal-from-educational-data/venv/lib/python3.12/site-packages/sklearn/metrics/_classification.py:1344: UndefinedMetricWarning: Precision is ill-defined and being set to 0.0 in labels with no predicted samples. Use `zero_division` parameter to control this behavior.\n",
      "  _warn_prf(average, modifier, msg_start, len(result))\n"
     ]
    }
   ],
   "source": [
    "%%time\n",
    "res = evaluation(\n",
    "    ds=ds,\n",
    "    model=model,\n",
    "    batch_size=batch_size,\n",
    "    device=device,\n",
    ")"
   ]
  },
  {
   "cell_type": "code",
   "execution_count": 7,
   "id": "1d055977-5d9a-4ab5-91fa-373497a30342",
   "metadata": {},
   "outputs": [
    {
     "name": "stdout",
     "output_type": "stream",
     "text": [
      "{\n",
      "  \"micro_f5\": 0.19801190522507103,\n",
      "  \"recall\": 0.19186473903455037,\n",
      "  \"precision\": 0.9949174078780177,\n",
      "  \"labels\": {\n",
      "    \"I-URL_PERSONAL\": {\n",
      "      \"micro_f5\": 0.0,\n",
      "      \"recall\": 0.0,\n",
      "      \"precision\": 0.0\n",
      "    },\n",
      "    \"I-EMAIL\": {\n",
      "      \"micro_f5\": 0.0,\n",
      "      \"recall\": 0.0,\n",
      "      \"precision\": 0.0\n",
      "    },\n",
      "    \"I-USERNAME\": {\n",
      "      \"micro_f5\": 0.0,\n",
      "      \"recall\": 0.0,\n",
      "      \"precision\": 0.0\n",
      "    },\n",
      "    \"B-STREET_ADDRESS\": {\n",
      "      \"micro_f5\": 0.13095002962670355,\n",
      "      \"recall\": 0.12655086848635236,\n",
      "      \"precision\": 1.0\n",
      "    },\n",
      "    \"I-STREET_ADDRESS\": {\n",
      "      \"micro_f5\": 0.17114370069212528,\n",
      "      \"recall\": 0.1656516443361754,\n",
      "      \"precision\": 1.0\n",
      "    },\n",
      "    \"B-USERNAME\": {\n",
      "      \"micro_f5\": 0.17844626168224298,\n",
      "      \"recall\": 0.17279411764705882,\n",
      "      \"precision\": 0.9791666666666666\n",
      "    },\n",
      "    \"B-ID_NUM\": {\n",
      "      \"micro_f5\": 0.1853360488798371,\n",
      "      \"recall\": 0.1794871794871795,\n",
      "      \"precision\": 1.0\n",
      "    },\n",
      "    \"B-URL_PERSONAL\": {\n",
      "      \"micro_f5\": 0.1868680716287002,\n",
      "      \"recall\": 0.18098159509202455,\n",
      "      \"precision\": 1.0\n",
      "    },\n",
      "    \"B-EMAIL\": {\n",
      "      \"micro_f5\": 0.19334509705066805,\n",
      "      \"recall\": 0.1873015873015873,\n",
      "      \"precision\": 1.0\n",
      "    },\n",
      "    \"B-PHONE_NUM\": {\n",
      "      \"micro_f5\": 0.19548872180451127,\n",
      "      \"recall\": 0.1893939393939394,\n",
      "      \"precision\": 1.0\n",
      "    },\n",
      "    \"B-NAME_STUDENT\": {\n",
      "      \"micro_f5\": 0.1966517017935732,\n",
      "      \"recall\": 0.1905292479108635,\n",
      "      \"precision\": 1.0\n",
      "    },\n",
      "    \"I-ID_NUM\": {\n",
      "      \"micro_f5\": 0.2031667694838577,\n",
      "      \"recall\": 0.19689119170984457,\n",
      "      \"precision\": 1.0\n",
      "    },\n",
      "    \"I-PHONE_NUM\": {\n",
      "      \"micro_f5\": 0.22302322398138436,\n",
      "      \"recall\": 0.21634062140391255,\n",
      "      \"precision\": 0.9791666666666666\n",
      "    },\n",
      "    \"I-NAME_STUDENT\": {\n",
      "      \"micro_f5\": 0.2900795137587944,\n",
      "      \"recall\": 0.28210526315789475,\n",
      "      \"precision\": 0.988929889298893\n",
      "    }\n",
      "  }\n",
      "}\n"
     ]
    }
   ],
   "source": [
    "print(json.dumps(res, indent=2))"
   ]
  },
  {
   "cell_type": "code",
   "execution_count": 8,
   "id": "c363b3f8-51b7-42f8-a917-b654fe2a3d39",
   "metadata": {},
   "outputs": [
    {
     "name": "stdout",
     "output_type": "stream",
     "text": [
      "Total time taken 0:14:40.588606\n"
     ]
    }
   ],
   "source": [
    "tim.stop()\n",
    "print(f\"Total time taken {str(tim.elapsed)}\")"
   ]
  }
 ],
 "metadata": {
  "kernelspec": {
   "display_name": "Python 3 (ipykernel)",
   "language": "python",
   "name": "python3"
  },
  "language_info": {
   "codemirror_mode": {
    "name": "ipython",
    "version": 3
   },
   "file_extension": ".py",
   "mimetype": "text/x-python",
   "name": "python",
   "nbconvert_exporter": "python",
   "pygments_lexer": "ipython3",
   "version": "3.12.1"
  }
 },
 "nbformat": 4,
 "nbformat_minor": 5
}
