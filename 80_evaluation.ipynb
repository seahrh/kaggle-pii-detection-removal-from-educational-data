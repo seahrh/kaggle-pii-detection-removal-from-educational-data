{
 "cells": [
  {
   "cell_type": "code",
   "execution_count": 1,
   "id": "7482808b-c292-4843-9dae-951ff5560b66",
   "metadata": {},
   "outputs": [
    {
     "name": "stdout",
     "output_type": "stream",
     "text": [
      "int16, min=-32768, max=32767\n"
     ]
    }
   ],
   "source": [
    "import os\n",
    "import json\n",
    "from pathlib import Path\n",
    "import numpy as np\n",
    "import pandas as pd\n",
    "import torch\n",
    "from tqdm import tqdm\n",
    "from transformers import AutoModelForTokenClassification\n",
    "import scml\n",
    "from scml import pandasx as pdx\n",
    "from mylib.ner import NerDataset, evaluation\n",
    "tim = scml.Timer()\n",
    "tim.start()\n",
    "os.environ[\"TOKENIZERS_PARALLELISM\"] = \"false\"\n",
    "percentiles=[.01, .05, .1, .2, .3, .4, .5, .6, .7, .8, .9, .95, .99]\n",
    "pd.set_option(\"max_info_columns\", 9999)\n",
    "pd.set_option(\"display.max_columns\", 9999)\n",
    "pd.set_option(\"display.max_rows\", 9999)\n",
    "pd.set_option('max_colwidth', 9999)\n",
    "tqdm.pandas()\n",
    "scml.seed_everything()\n",
    "info = np.iinfo(np.int16)\n",
    "print(f\"int16, min={info.min}, max={info.max}\")"
   ]
  },
  {
   "cell_type": "code",
   "execution_count": 2,
   "id": "d76be417-30e7-48e2-ae52-5ccd7cd8c0dc",
   "metadata": {},
   "outputs": [],
   "source": [
    "model_dir = Path(\"models/ner/deberta_v3_base/20240325_143353\")\n",
    "validation_data_file = Path(\"input/val_240102.json\")\n",
    "model_max_length = 1024\n",
    "window_length = 1024\n",
    "window_stride = 256\n",
    "batch_size = 32"
   ]
  },
  {
   "cell_type": "code",
   "execution_count": 3,
   "id": "44916b07-d32e-4fb0-a869-76bddd1f86bc",
   "metadata": {},
   "outputs": [
    {
     "name": "stdout",
     "output_type": "stream",
     "text": [
      "mps\n"
     ]
    }
   ],
   "source": [
    "device = torch.device(\"cpu\")\n",
    "if torch.backends.mps.is_available():\n",
    "    device = torch.device(\"mps\")\n",
    "    batch_size = 128\n",
    "    print(\"mps\")\n",
    "elif torch.cuda.is_available():\n",
    "    device = torch.device(\"cuda:1\")\n",
    "    for i in range(torch.cuda.device_count()):\n",
    "        print(f\"device={i}, {torch.cuda.get_device_name(i)}\")\n",
    "        print('Mem Allocated:', round(torch.cuda.memory_allocated(i)/1024**3,1), 'GB')\n",
    "        print('Mem Cached:   ', round(torch.cuda.memory_reserved(i)/1024**3,1), 'GB')\n",
    "else:\n",
    "    print(\"cpu\")"
   ]
  },
  {
   "cell_type": "code",
   "execution_count": 4,
   "id": "1d307f62-cc21-49c2-b14e-91681ba85928",
   "metadata": {},
   "outputs": [
    {
     "name": "stdout",
     "output_type": "stream",
     "text": [
      "len(ds)=1,011\n",
      "ds[0]={'input_ids': tensor([    1,  2169, 12103,  ...,     0,     0,     0]), 'token_type_ids': tensor([0, 0, 0,  ..., 0, 0, 0]), 'attention_mask': tensor([1, 1, 1,  ..., 0, 0, 0]), 'labels': tensor([-100,    0,    0,  ..., -100, -100, -100])}\n"
     ]
    },
    {
     "name": "stderr",
     "output_type": "stream",
     "text": [
      "/Users/ruhong/github/seahrh/kaggle-pii-detection-removal-from-educational-data/venv/lib/python3.12/site-packages/transformers/convert_slow_tokenizer.py:515: UserWarning: The sentencepiece tokenizer that you are converting to a fast tokenizer uses the byte fallback option which is not implemented in the fast tokenizers. In practice this means that the fast version of the tokenizer can produce unknown tokens whereas the sentencepiece version would have converted these unknown tokens into a sequence of byte tokens matching the original piece of text.\n",
      "  warnings.warn(\n"
     ]
    }
   ],
   "source": [
    "ds = NerDataset.from_json(\n",
    "    filepath=str(validation_data_file),\n",
    "    tokenizer_directory=model_dir,\n",
    "    model_max_length=model_max_length,\n",
    "    window_length=window_length,\n",
    "    window_stride=window_stride,\n",
    ")\n",
    "print(f\"len(ds)={len(ds):,}\\nds[0]={ds[0]}\")"
   ]
  },
  {
   "cell_type": "code",
   "execution_count": 5,
   "id": "75e2f77c-cc43-4255-b6eb-25695f073741",
   "metadata": {},
   "outputs": [
    {
     "name": "stdout",
     "output_type": "stream",
     "text": [
      "DebertaV2ForTokenClassification(\n",
      "  (deberta): DebertaV2Model(\n",
      "    (embeddings): DebertaV2Embeddings(\n",
      "      (word_embeddings): Embedding(128100, 768, padding_idx=0)\n",
      "      (LayerNorm): LayerNorm((768,), eps=1e-07, elementwise_affine=True)\n",
      "      (dropout): StableDropout()\n",
      "    )\n",
      "    (encoder): DebertaV2Encoder(\n",
      "      (layer): ModuleList(\n",
      "        (0-11): 12 x DebertaV2Layer(\n",
      "          (attention): DebertaV2Attention(\n",
      "            (self): DisentangledSelfAttention(\n",
      "              (query_proj): Linear(in_features=768, out_features=768, bias=True)\n",
      "              (key_proj): Linear(in_features=768, out_features=768, bias=True)\n",
      "              (value_proj): Linear(in_features=768, out_features=768, bias=True)\n",
      "              (pos_dropout): StableDropout()\n",
      "              (dropout): StableDropout()\n",
      "            )\n",
      "            (output): DebertaV2SelfOutput(\n",
      "              (dense): Linear(in_features=768, out_features=768, bias=True)\n",
      "              (LayerNorm): LayerNorm((768,), eps=1e-07, elementwise_affine=True)\n",
      "              (dropout): StableDropout()\n",
      "            )\n",
      "          )\n",
      "          (intermediate): DebertaV2Intermediate(\n",
      "            (dense): Linear(in_features=768, out_features=3072, bias=True)\n",
      "            (intermediate_act_fn): GELUActivation()\n",
      "          )\n",
      "          (output): DebertaV2Output(\n",
      "            (dense): Linear(in_features=3072, out_features=768, bias=True)\n",
      "            (LayerNorm): LayerNorm((768,), eps=1e-07, elementwise_affine=True)\n",
      "            (dropout): StableDropout()\n",
      "          )\n",
      "        )\n",
      "      )\n",
      "      (rel_embeddings): Embedding(512, 768)\n",
      "      (LayerNorm): LayerNorm((768,), eps=1e-07, elementwise_affine=True)\n",
      "    )\n",
      "  )\n",
      "  (dropout): Dropout(p=0.1, inplace=False)\n",
      "  (classifier): Linear(in_features=768, out_features=15, bias=True)\n",
      ")\n",
      "CPU times: user 170 ms, sys: 615 ms, total: 785 ms\n",
      "Wall time: 118 ms\n"
     ]
    }
   ],
   "source": [
    "%%time\n",
    "model = AutoModelForTokenClassification.from_pretrained(model_dir)\n",
    "print(model)"
   ]
  },
  {
   "cell_type": "code",
   "execution_count": 6,
   "id": "db8ca36c-874d-49f8-99ac-7ed0e5b16568",
   "metadata": {},
   "outputs": [
    {
     "name": "stderr",
     "output_type": "stream",
     "text": [
      "predict ner: 100%|█████████████████████████████████████████████████████████████████████████████████████████████████████████████████████████████████████████████████████████████████████████████████████| 8/8 [12:27<00:00, 93.48s/it]\n"
     ]
    },
    {
     "name": "stdout",
     "output_type": "stream",
     "text": [
      "CPU times: user 5.55 s, sys: 6min 46s, total: 6min 52s\n",
      "Wall time: 12min 30s\n"
     ]
    },
    {
     "name": "stderr",
     "output_type": "stream",
     "text": [
      "/Users/ruhong/github/seahrh/kaggle-pii-detection-removal-from-educational-data/venv/lib/python3.12/site-packages/sklearn/metrics/_classification.py:1609: UndefinedMetricWarning: F-score is ill-defined and being set to 0.0 in labels with no true nor predicted samples. Use `zero_division` parameter to control this behavior.\n",
      "  _warn_prf(average, \"true nor predicted\", \"F-score is\", len(true_sum))\n",
      "/Users/ruhong/github/seahrh/kaggle-pii-detection-removal-from-educational-data/venv/lib/python3.12/site-packages/sklearn/metrics/_classification.py:1344: UndefinedMetricWarning: Recall is ill-defined and being set to 0.0 in labels with no true samples. Use `zero_division` parameter to control this behavior.\n",
      "  _warn_prf(average, modifier, msg_start, len(result))\n",
      "/Users/ruhong/github/seahrh/kaggle-pii-detection-removal-from-educational-data/venv/lib/python3.12/site-packages/sklearn/metrics/_classification.py:1344: UndefinedMetricWarning: Precision is ill-defined and being set to 0.0 in labels with no predicted samples. Use `zero_division` parameter to control this behavior.\n",
      "  _warn_prf(average, modifier, msg_start, len(result))\n"
     ]
    }
   ],
   "source": [
    "%%time\n",
    "res = evaluation(\n",
    "    ds=ds,\n",
    "    model=model,\n",
    "    batch_size=batch_size,\n",
    "    device=device,\n",
    ")"
   ]
  },
  {
   "cell_type": "code",
   "execution_count": 7,
   "id": "1d055977-5d9a-4ab5-91fa-373497a30342",
   "metadata": {},
   "outputs": [
    {
     "name": "stdout",
     "output_type": "stream",
     "text": [
      "{\n",
      "  \"micro_f5\": 0.0837859183494379,\n",
      "  \"recall\": 0.08098505268316589,\n",
      "  \"precision\": 0.6189138576779026,\n",
      "  \"labels\": {\n",
      "    \"I-URL_PERSONAL\": {\n",
      "      \"micro_f5\": 0.0,\n",
      "      \"recall\": 0.0,\n",
      "      \"precision\": 0.0\n",
      "    },\n",
      "    \"I-EMAIL\": {\n",
      "      \"micro_f5\": 0.0,\n",
      "      \"recall\": 0.0,\n",
      "      \"precision\": 0.0\n",
      "    },\n",
      "    \"I-USERNAME\": {\n",
      "      \"micro_f5\": 0.0,\n",
      "      \"recall\": 0.0,\n",
      "      \"precision\": 0.0\n",
      "    },\n",
      "    \"B-STREET_ADDRESS\": {\n",
      "      \"micro_f5\": 0.03596837944664032,\n",
      "      \"recall\": 0.034739454094292806,\n",
      "      \"precision\": 0.3111111111111111\n",
      "    },\n",
      "    \"I-STREET_ADDRESS\": {\n",
      "      \"micro_f5\": 0.04551938788743353,\n",
      "      \"recall\": 0.0438489646772229,\n",
      "      \"precision\": 0.9557522123893806\n",
      "    },\n",
      "    \"B-PHONE_NUM\": {\n",
      "      \"micro_f5\": 0.04711567502265177,\n",
      "      \"recall\": 0.045454545454545456,\n",
      "      \"precision\": 0.5454545454545454\n",
      "    },\n",
      "    \"B-EMAIL\": {\n",
      "      \"micro_f5\": 0.049429657794676805,\n",
      "      \"recall\": 0.047619047619047616,\n",
      "      \"precision\": 1.0\n",
      "    },\n",
      "    \"B-ID_NUM\": {\n",
      "      \"micro_f5\": 0.05980066445182725,\n",
      "      \"recall\": 0.057692307692307696,\n",
      "      \"precision\": 0.6923076923076923\n",
      "    },\n",
      "    \"I-ID_NUM\": {\n",
      "      \"micro_f5\": 0.08593265854162363,\n",
      "      \"recall\": 0.08290155440414508,\n",
      "      \"precision\": 1.0\n",
      "    },\n",
      "    \"B-URL_PERSONAL\": {\n",
      "      \"micro_f5\": 0.09533121486189196,\n",
      "      \"recall\": 0.09202453987730061,\n",
      "      \"precision\": 0.9375\n",
      "    },\n",
      "    \"I-NAME_STUDENT\": {\n",
      "      \"micro_f5\": 0.10356828378548366,\n",
      "      \"recall\": 0.1,\n",
      "      \"precision\": 0.9595959595959596\n",
      "    },\n",
      "    \"B-USERNAME\": {\n",
      "      \"micro_f5\": 0.10640163694826076,\n",
      "      \"recall\": 0.10294117647058823,\n",
      "      \"precision\": 0.6666666666666666\n",
      "    },\n",
      "    \"I-PHONE_NUM\": {\n",
      "      \"micro_f5\": 0.10921902524955962,\n",
      "      \"recall\": 0.10701956271576525,\n",
      "      \"precision\": 0.2246376811594203\n",
      "    },\n",
      "    \"B-NAME_STUDENT\": {\n",
      "      \"micro_f5\": 0.13369090627008579,\n",
      "      \"recall\": 0.12924791086350976,\n",
      "      \"precision\": 0.9508196721311475\n",
      "    }\n",
      "  }\n",
      "}\n"
     ]
    }
   ],
   "source": [
    "print(json.dumps(res, indent=2))"
   ]
  },
  {
   "cell_type": "code",
   "execution_count": 8,
   "id": "c363b3f8-51b7-42f8-a917-b654fe2a3d39",
   "metadata": {},
   "outputs": [
    {
     "name": "stdout",
     "output_type": "stream",
     "text": [
      "Total time taken 0:12:31.047169\n"
     ]
    }
   ],
   "source": [
    "tim.stop()\n",
    "print(f\"Total time taken {str(tim.elapsed)}\")"
   ]
  }
 ],
 "metadata": {
  "kernelspec": {
   "display_name": "Python 3 (ipykernel)",
   "language": "python",
   "name": "python3"
  },
  "language_info": {
   "codemirror_mode": {
    "name": "ipython",
    "version": 3
   },
   "file_extension": ".py",
   "mimetype": "text/x-python",
   "name": "python",
   "nbconvert_exporter": "python",
   "pygments_lexer": "ipython3",
   "version": "3.12.1"
  }
 },
 "nbformat": 4,
 "nbformat_minor": 5
}
